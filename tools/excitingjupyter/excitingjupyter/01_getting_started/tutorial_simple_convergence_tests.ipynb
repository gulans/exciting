{
 "cells": [
  {
   "cell_type": "markdown",
   "metadata": {},
   "source": [
    "# Simple Convergence Tests\n",
    "**by <span style=\"color:darkgreen\">Pablo Garcia Risueno</span> & <span style=\"color:darkgreen\">Pasquale Pavone</span>, for [<span style=\"color:darkgoldenrod\">exciting *fluorine*</span>](http://exciting.wikidot.com/fluorine)**\n",
    "\n",
    "<font size=\"2\">(Jupyter notebook by <span style=\"color:darkgreen\">Mara Voiculescu</span>)</font>\n",
    "<hr style=\"border:2px solid #DDD\"> </hr>"
   ]
  },
  {
   "cell_type": "markdown",
   "metadata": {},
   "source": [
    "**<span style=\"color:firebrick\">Purpose</span>**: In this tutorial, you will investigate how the choice of computational parameters can affect the result of an **`exciting`** calculation. The procedure which is used in this case is often called **convergence study** and allows to obtain the best value of such parameters. Explicit examples are presented for the convergence of the total energy of silver and diamond with respect to the choice for the **k**-points sampling (related to the parameter <code><span style=\"color:MediumBlue\">ngridk</span></code>) and the dimension of the basis set (related to the parameter <code><span style=\"color:MediumBlue\">rgkmax</span></code>).\n",
    "<hr style=\"border:2px solid #DDD\"> </hr>"
   ]
  },
  {
   "cell_type": "markdown",
   "metadata": {},
   "source": [
    "<div class=\"alert alert-block alert-warning\">\n",
    "\n",
    "**Table of Contents**\n",
    "\n",
    "[0. Before Starting](#0)\n",
    "    \n",
    "[1. Convergence of Total-Energy Calculations](#1)\n",
    "   - The mesh of k-points\n",
    "   - The basis-set size\n",
    "   - Scaling of the calculation time  \n",
    "    \n",
    "[2. Running Tests: Silver](#2)  \n",
    "   - Using scripts for checking convergence\n",
    "   - How to quantify convergence    \n",
    "\n",
    "[3. Running Tests: Diamond](#3)\n",
    "    \n",
    "[4. Final Questions](#4)\n",
    "</div>"
   ]
  },
  {
   "cell_type": "markdown",
   "metadata": {},
   "source": [
    "<a id='0'></a>\n",
    "<hr style=\"border:1px solid #DDD\"> </hr>\n",
    "\n",
    "### <span style=\"color:#15317E\">0. Before Starting</span>\n",
    "\n",
    "**<span style=\"color:firebrick\">Read the following paragraphs before starting with the rest of this tutorial!</span>**\n",
    "\n",
    "Before running any Jupyter tutorials, please refer to the **`00_before_starting.md`** document on how to correctly set up the environment. This only needs to be done once. After which, the **venv** can be (re)activated from exciting's root directory:\n",
    "\n",
    "<div style=\"background-color: rgb(224, 224, 224);\">\n",
    "\n",
    "```bash\n",
    "source tools/excitingjupyter/venv/excitingvenv/bin/activate\n",
    "```\n",
    "\n",
    "</div>\n",
    "\n"
   ]
  },
  {
   "cell_type": "markdown",
   "metadata": {},
   "source": [
    "As a first step, you may set the **exciting_root** directory and create a running directory for the notebook."
   ]
  },
  {
   "cell_type": "code",
   "execution_count": null,
   "metadata": {},
   "outputs": [],
   "source": [
    "import os\n",
    "from excitingjupyter.utilities import get_exciting_root, check_for_binary\n",
    "\n",
    "exciting_root = get_exciting_root()\n",
    "check_for_binary(exciting_root)\n",
    "exciting_species = os.path.join(exciting_root, \"species\")"
   ]
  },
  {
   "cell_type": "code",
   "execution_count": null,
   "metadata": {
    "scrolled": true
   },
   "outputs": [],
   "source": [
    "%%bash\n",
    "mkdir run_simple_convergence_tests"
   ]
  },
  {
   "cell_type": "markdown",
   "metadata": {},
   "source": [
    "<a id='1'></a>\n",
    "<hr style=\"border:1px solid #DDD\"> </hr>\n",
    "\n",
    "### <span style=\"color:#15317E\">1. Convergence of Total-Energy Calculations</span>\n",
    "A ground-state calculation using a **DFT** code like **`exciting`** fundamentally depends on 2 parameters\n",
    "\n",
    "- the mesh of **k**-points (<code><span style=\"color:green\">groundstate</span></code> attribute: <code><span style=\"color:mediumblue\">ngridk</span></code>);\n",
    "- the size of the basis set for expanding the wave function (<code><span style=\"color:green\">groundstate</span></code> attribute: <code><span style=\"color:mediumblue\">rgkmax</span></code>).\n",
    "\n",
    "In order to be able to rely on your calculation, you need to understand what these two parameters mean and what is the effect of a change of their values **<span style=\"color:firebrick\">on the physical quantities which are relevant for you</span>**. In this tutorial, we focus on the effect of such changes on the total energy of a crystal **<span style=\"color:firebrick\">only for pedagogical reasons</span>**. In the general case, this kind of analysis **<span style=\"color:firebrick\">must</span>** be made for all the properties of interest (*e.g.*, **lattice parameters**, **bulk modulus**, **equation of state**, **bandgap energies**, *etc.*).\n",
    "\n",
    "For more informations on these parameters, please expand the links below.\n",
    "<hr style=\"border:1px solid #DDD\"> </hr>\n",
    "<details>\n",
    "    \n",
    "<summary><strong><span style=\"color:firebrick\">$\\Rightarrow$ Read more on the mesh of k-points</span></strong></summary>\n",
    "    \n",
    "**<span style=\"color:#15317E\">The mesh of k-points</span>**\n",
    "    \n",
    "From basic considerations of solid-state theory, it can be shown that the Schrödinger (or, in our case, Kohn-Sham) equation for a periodic system has a bunch of solutions, where each solution is characterized by a vector **k** in reciprocal space. This **k**-vector is essentially related to the periodicity of the corresponding solution of the Schrödinger equation: Roughly speaking, the solution will have the same value at coordinates in real space that, along the direction of **k**, have a distance of 2$\\pi$/|**k**|.\n",
    "\n",
    "Many properties of a solid, including the total energy, are represented as integrals, performed over all possible **k**-vectors. Obviously, the direct calculation of these integrals is very demanding (one should calculate the solution of the Schrödinger equation for a **huge** number of **k**-points). Therefore, the integrals are approximated by sums performed on a set of **k**-points distributed on a finite grid. The **spacing** of the points on the grid is a measure of the accuracy of the calculation of the integrals which also depends on how fast the integrand (the solution of the Schrödinger equation) varies by changing k. The challenge is to find a good number of **k**-points: Large enough to capture the physical properties of your system well, but small enough to keep calculations as fast as possible.\n",
    "\n",
    "Some qualitative considerations:\n",
    "\n",
    "- The larger the unit cell, the smaller is the required **k**-point mesh.\n",
    "- Systems with longer-range interactions need larger k-point meshes.\n",
    "    - In **<span style=\"color:firebrick\">metals</span>** you need a large number of **k**-points, since the conduction electrons are delocalized over the whole system, i.e. the interactions are very long-ranged. Moreover, for a good description of the system it is important to know exactly where the conduction bands cross the Fermi level, which also requires a dense **k** mesh.\n",
    "    - In contrast, **<span style=\"color:firebrick\">semiconductors and insulators</span>** usually have much more localized electronic states, and a gap between valence and conduction bands. Thus, the number of **k**-points required for a good calculation is much smaller.\n",
    "    \n",
    "In **`exciting`** the parameter which is associated to the choiche of the mesh of **k**-points is <code><span style=\"color:mediumblue\">ngridk</span></code>, see [**<span style=\"color:#3366BB\">Input Reference</span>**](http://exciting.wikidot.com/ref:groundstate#attngridk) for further details.\n",
    "</details>\n",
    "<hr style=\"border:1px solid #DDD\"> </hr>\n",
    "<details>\n",
    " \n",
    "<summary><strong><span style=\"color:firebrick\">$\\Rightarrow$ Read more on the basis-set size </span></strong></summary>\n",
    "    \n",
    "**<span style=\"color:#15317E\">The basis-set size</span>**\n",
    "\n",
    "Most of the **DFT** codes solve the Kohn-Sham equation in reciprocal space, expanding the wavefunctions in terms of suitable periodic basis functions. In our case, the basis functions are the **linearized augmented plane waves (LAPW)**. The larger the size of the basis set, the more accurate is the calculation. The corresponding <code><span style=\"color:green\">groundstate</span></code> attribute in the exciting code is <code><span style=\"color:mediumblue\">rgkmax</span></code> (see [**<span style=\"color:#3366BB\">Input Reference</span>**](http://exciting.wikidot.com/ref:groundstate#attrgkmax)). The default value of <code><span style=\"color:mediumblue\">rgkmax</span></code> is 7.0. In some cases, (*e.g.*, for a good description of forces), larger values (8.0 — 9.0) may be necessary to get reliable results. In some other cases, (*e.g.*, for describing very light materials like hydrogen), already smaller values of <code><span style=\"color:mediumblue\">rgkmax</span></code> may be sufficient.\n",
    "</details>\n",
    "<hr style=\"border:1px solid #DDD\"> </hr>\n",
    "<details>\n",
    "    \n",
    "<summary><span style=\"color:firebrick\"><strong>$\\Rightarrow$ Read more on the scaling of the calculation time</strong></span></summary>\n",
    "    \n",
    "**<span style=\"color:#15317E\">Scaling of the calculation time</span>**\n",
    "    \n",
    "The calculation time scales\n",
    "- linearly with respect to the number of *k*-points;\n",
    "- as <code><span style=\"color:mediumblue\">rgkmax</span></code> to the power of **<span style=\"color:firebrick\">9</span>**.\n",
    "</details>"
   ]
  },
  {
   "cell_type": "markdown",
   "metadata": {},
   "source": [
    "<a id='2'></a>\n",
    "<hr style=\"border:1px solid #DDD\"> </hr>  \n",
    "\n",
    "### <span style=\"color:#15317E\">2. Running Tests: Silver</span>\n",
    "\n",
    "In this first example, we investigate the dependence of the total energy on the parameters <code><span style=\"color:mediumblue\">ngridk</span></code> and <code><span style=\"color:mediumblue\">rgkmax</span></code> for the Ag crystal.\n",
    "We start by creating an **`exciting`** (**xml**) input file called **input.xml** which should appear as the one below."
   ]
  },
  {
   "cell_type": "markdown",
   "metadata": {},
   "source": [
    "<span class=\"SILVER_CONVERGENCE_INPUT\"></span>\n",
    "```xml\n",
    "<input>\n",
    "\n",
    "   <title>Ag: Convergence test</title>\n",
    "\n",
    "   <structure speciespath=\"$EXCITINGROOT/species\">\n",
    "\n",
    "      <crystal scale=\"7.7201\">\n",
    "         <basevect>0.5 0.5 0.0</basevect>\n",
    "         <basevect>0.5 0.0 0.5</basevect>\n",
    "         <basevect>0.0 0.5 0.5</basevect>\n",
    "      </crystal>\n",
    "\n",
    "      <species speciesfile=\"Ag.xml\">\n",
    "         <atom coord=\"0.0  0.0  0.0\" />\n",
    "      </species>\n",
    "\n",
    "   </structure>\n",
    "\n",
    "   <groundstate\n",
    "      xctype=\"GGA_PBE_SOL\"\n",
    "      ngridk=\"4 4 4\"\n",
    "      rgkmax=\"5.0\">\n",
    "   </groundstate>\n",
    "\n",
    "</input>\n",
    "```"
   ]
  },
  {
   "cell_type": "markdown",
   "metadata": {},
   "source": [
    "The next step is writing the complete input as a string and saving it in your working directory as **input.xml**."
   ]
  },
  {
   "cell_type": "code",
   "execution_count": null,
   "metadata": {},
   "outputs": [],
   "source": [
    "from excitingjupyter.utilities import get_input_xml_from_notebook\n",
    "\n",
    "# Extract input file content from this notebook:\n",
    "input_str = get_input_xml_from_notebook(\"tutorial_simple_convergence_tests\", \"SILVER_CONVERGENCE_INPUT\")\n",
    "input_str = input_str.replace(\"$EXCITINGROOT/species\", exciting_species)\n",
    "\n",
    "# Write out the input as an XML file:\n",
    "with open(os.path.join(os.getcwd(), 'run_simple_convergence_tests/input.xml'), \"w\") as fid:\n",
    "    fid.write(input_str)"
   ]
  },
  {
   "cell_type": "markdown",
   "metadata": {},
   "source": [
    "In order to run **exciting** from the terminal, you simply need to execute the **exciting_smp** binary in the running directory. After a few seconds, the calculation should be finished.\n",
    "Here we used the <code>time</code> command before **exciting_smp** in order to get, at the end of the run, the elapsed time explicitly written on the screen."
   ]
  },
  {
   "cell_type": "code",
   "execution_count": null,
   "metadata": {},
   "outputs": [],
   "source": [
    "%%bash\n",
    "cd run_simple_convergence_tests\n",
    "time $EXCITINGROOT/bin/exciting_smp input.xml\n",
    "cd .."
   ]
  },
  {
   "cell_type": "markdown",
   "metadata": {},
   "source": [
    "After a few seconds, the calculation will be completed. Indeed, the calculation you have just performed uses very rough values for the parameters <code><span style=\"color:mediumblue\">ngridk</span></code> and <code><span style=\"color:mediumblue\">rgkmax</span></code>. The corresponding total energy (in Hartree) can be found as the last non empty line of the file **TOTENERGY.OUT**.\n",
    "\n",
    "```\n",
    "4  5.0  -5314.29682116   # ngridk rgkmax  total-energy\n",
    "```"
   ]
  },
  {
   "cell_type": "markdown",
   "metadata": {},
   "source": [
    "#### <span style=\"color:#15317E\">Checking Convergence</span>\n",
    "\n",
    "The convergence of your results can be checked inside the notebook. This can be done by varying the parameters <code><span style=\"color:mediumblue\">ngridk</span></code> and <code><span style=\"color:mediumblue\">rgkmax</span></code> in the input file, then running **exciting**, parsing the results and saving the value of the total energy for each case. Afterwards, you can plot the dependency of the energy on the parameters <code><span style=\"color:mediumblue\">rgkmax</span></code> and <code><span style=\"color:mediumblue\">ngridk</span></code>.\n",
    "\n",
    "In the example below, we are considering the convergence of the total energy as a function of <code><span style=\"color:mediumblue\">ngridk</span></code> at the constant value of <code><span style=\"color:mediumblue\">rgkmax</span></code> = **\"5\"**."
   ]
  },
  {
   "cell_type": "code",
   "execution_count": null,
   "metadata": {
    "pycharm": {
     "is_executing": true
    }
   },
   "outputs": [],
   "source": [
    "from excitingtools import parser_chooser\n",
    "\n",
    "total_energy_rgkmax_5 = []\n",
    "\n",
    "k_initial, k_final, dk = (4, 21, 2)\n",
    "for k in range(k_initial, k_final, dk):\n",
    "\n",
    "    # Create input string:\n",
    "    input_str_k = input_str.replace(\"4 4 4\", f\"{k} {k} {k}\")\n",
    "\n",
    "    # Write out input as an XML file:\n",
    "    with open(os.path.join(os.getcwd(), 'run_simple_convergence_tests/input.xml'), \"w\") as fid:\n",
    "        fid.write(input_str_k)\n",
    "\n",
    "    print(f'running exciting for rgkmax=\"5\" and ngridk=\"{k} {k} {k}\"')\n",
    "        \n",
    "    # Move into the run directory and run exciting:\n",
    "    ! cd run_simple_convergence_tests && time $EXCITINGROOT/bin/exciting_smp input.xml\n",
    "\n",
    "    # Parse results and append result for total energy:\n",
    "    results = parser_chooser(\"./run_simple_convergence_tests/INFO.OUT\")\n",
    "    max_scf = max([int(i) for i in results['scl'].keys()])\n",
    "    converged_results = results['scl'][str(max_scf)]\n",
    "    total_energy_rgkmax_5.append(converged_results['Total energy'])"
   ]
  },
  {
   "cell_type": "code",
   "execution_count": null,
   "metadata": {},
   "outputs": [],
   "source": [
    "import matplotlib.pyplot as plt\n",
    "import numpy as np\n",
    "\n",
    "plt.figure(figsize=(8,6))\n",
    "plt.xlabel(\"ngridk\", fontsize=18)\n",
    "plt.ylabel(\"Energy [Ha]\", fontsize=18)\n",
    "\n",
    "plt.xticks(fontsize=16)\n",
    "plt.yticks(fontsize=16)\n",
    "plt.tick_params(length=5,width=2)\n",
    "plt.rcParams[\"axes.linewidth\"] = 3\n",
    "\n",
    "k_grids = np.arange(k_initial, k_final, dk)\n",
    "plt.plot(k_grids, total_energy_rgkmax_5, color=\"red\", linewidth=2)\n",
    "plt.scatter(k_grids, total_energy_rgkmax_5, color=\"green\", label=\"rgkmax = 5.00\", linewidth=3, zorder=2)\n",
    "\n",
    "plt.legend(prop={\"size\":16})\n",
    "plt.grid(linestyle = '--', linewidth = 0.5)\n",
    "\n",
    "plt.show()"
   ]
  },
  {
   "cell_type": "markdown",
   "metadata": {},
   "source": [
    "Then, you can use this procedure to plot the convergence for the following examples.\n",
    "- **<span style=\"color:darkgreen\">Example 1</span>**: Run on  <code><span style=\"color:mediumblue\">ngridk</span></code> at fixed <code><span style=\"color:mediumblue\">rgkmax</span></code> = \"9\""
   ]
  },
  {
   "cell_type": "code",
   "execution_count": null,
   "metadata": {
    "pycharm": {
     "is_executing": true
    }
   },
   "outputs": [],
   "source": [
    "input_str_rgkmax_9 = input_str.replace(\"5.0\", \"9.0\")\n",
    "total_energy_rgkmax_9 = []\n",
    "\n",
    "for k in range(k_initial, k_final, dk):\n",
    "\n",
    "    input_str_k = input_str_rgkmax_9.replace(\"4 4 4\", f\"{k} {k} {k}\")\n",
    "    with open(os.path.join(os.getcwd(), 'run_simple_convergence_tests/input.xml'), \"w\") as fid:\n",
    "        fid.write(input_str_k)\n",
    "\n",
    "    print(f'running exciting for rgkmax=\"9\" and ngridk=\"{k} {k} {k}\"')\n",
    "        \n",
    "    ! cd run_simple_convergence_tests && time $EXCITINGROOT/bin/exciting_smp input.xml\n",
    "\n",
    "    results = parser_chooser(\"./run_simple_convergence_tests/INFO.OUT\")\n",
    "    max_scf = max([int(i) for i in results['scl'].keys()])\n",
    "    converged_results = results['scl'][str(max_scf)]\n",
    "    total_energy_rgkmax_9.append(converged_results['Total energy'])"
   ]
  },
  {
   "cell_type": "code",
   "execution_count": null,
   "metadata": {},
   "outputs": [],
   "source": [
    "plt.figure(figsize=(8,6))\n",
    "plt.xlabel(\"ngridk\", fontsize=18)\n",
    "plt.ylabel(\"Energy [Ha]\", fontsize=18)\n",
    "\n",
    "plt.xticks(fontsize=16)\n",
    "plt.yticks(fontsize=16)\n",
    "plt.tick_params(length=5,width=2)\n",
    "plt.rcParams[\"axes.linewidth\"] = 3\n",
    "\n",
    "plt.plot(k_grids, total_energy_rgkmax_9, color=\"red\", linewidth=2)\n",
    "plt.scatter(k_grids, total_energy_rgkmax_9, color=\"green\", label=\"rgkmax = 9.00\", linewidth=3, zorder=2)\n",
    "\n",
    "plt.legend(prop={\"size\":16})\n",
    "plt.grid( linestyle = '--', linewidth = 0.5)\n",
    "\n",
    "plt.show()"
   ]
  },
  {
   "cell_type": "markdown",
   "metadata": {},
   "source": [
    "- **<span style=\"color:darkgreen\">Example 2</span>**: Run on <code><span style=\"color:mediumblue\">rgkmax</span></code> at fixed  <code><span style=\"color:mediumblue\">ngridk</span></code> = \"12 12 12\""
   ]
  },
  {
   "cell_type": "code",
   "execution_count": null,
   "metadata": {
    "pycharm": {
     "is_executing": true
    }
   },
   "outputs": [],
   "source": [
    "input_str_ngridk_12 = input_str.replace(\"4 4 4\", \"12 12 12\")\n",
    "total_energy_ngridk_12 = []\n",
    "\n",
    "rgkmax_initial, rgkmax_final = (5, 10)\n",
    "for rgkmax in range(rgkmax_initial, rgkmax_final):\n",
    "\n",
    "    input_str_rgkmax = input_str_ngridk_12.replace(\"5.0\", f\"{rgkmax}\")\n",
    "    with open(os.path.join(os.getcwd(), 'run_simple_convergence_tests/input.xml'), \"w\") as fid:\n",
    "        fid.write(input_str_rgkmax)\n",
    "\n",
    "    print(f'running exciting for rgkmax=\"{rgkmax}\" and ngridk=\"12 12 12\"')\n",
    "        \n",
    "    ! cd run_simple_convergence_tests && time $EXCITINGROOT/bin/exciting_smp input.xml\n",
    "\n",
    "    results = parser_chooser(\"./run_simple_convergence_tests/INFO.OUT\")\n",
    "    max_scf = max([int(i) for i in results['scl'].keys()])\n",
    "    converged_results = results['scl'][str(max_scf)]\n",
    "    total_energy_ngridk_12.append(converged_results['Total energy'])"
   ]
  },
  {
   "cell_type": "code",
   "execution_count": null,
   "metadata": {},
   "outputs": [],
   "source": [
    "plt.figure(figsize=(8,6))\n",
    "plt.xlabel(\"rgkmax\", fontsize=18)\n",
    "plt.ylabel(\"Energy [Ha]\", fontsize=18)\n",
    "\n",
    "plt.xticks(fontsize=16)\n",
    "plt.yticks(fontsize=16)\n",
    "plt.tick_params(length=5,width=2)\n",
    "plt.rcParams[\"axes.linewidth\"] = 3\n",
    "\n",
    "rgkmax_range = np.arange(rgkmax_initial, rgkmax_final)\n",
    "plt.plot(rgkmax_range, total_energy_ngridk_12, color=\"red\", linewidth=2)\n",
    "plt.scatter(rgkmax_range, total_energy_ngridk_12, color=\"green\", label=\"ngridk = 12\", linewidth=3, zorder=2)\n",
    "\n",
    "plt.legend(prop={\"size\":16})\n",
    "plt.grid( linestyle = '--', linewidth = 0.5)\n",
    "\n",
    "plt.show()"
   ]
  },
  {
   "cell_type": "markdown",
   "metadata": {},
   "source": [
    "- **<span style=\"color:darkgreen\">Example 3</span>**: Two-dimentional run on both <code><span style=\"color:mediumblue\">rgkmax</span></code> and  <code><span style=\"color:mediumblue\">ngridk</span></code>"
   ]
  },
  {
   "cell_type": "code",
   "execution_count": null,
   "metadata": {
    "pycharm": {
     "is_executing": true
    }
   },
   "outputs": [],
   "source": [
    "total_energy_ngridk_rgkmax = np.empty([int((k_final - k_initial + 1) / dk), int(rgkmax_final - rgkmax_initial)])\n",
    "for i_k, k in enumerate(range(k_initial, k_final, dk)):\n",
    "\n",
    "    input_str_k = input_str.replace(\"4 4 4\", f\"{k} {k} {k}\")\n",
    "\n",
    "    for i_rgkmax, rgkmax in enumerate(range(rgkmax_initial, rgkmax_final)):\n",
    "\n",
    "        input_str_k_rgkmax = input_str_k.replace(\"5.0\", f\"{rgkmax}\")\n",
    "        with open(os.path.join(os.getcwd(), 'run_simple_convergence_tests/input.xml'), \"w\") as fid:\n",
    "            fid.write(input_str_k_rgkmax)\n",
    "\n",
    "        print(f'running exciting for rgkmax=\"{rgkmax}\" and ngridk=\"{k} {k} {k}\"')\n",
    "            \n",
    "        ! cd run_simple_convergence_tests && time $EXCITINGROOT/bin/exciting_smp input.xml\n",
    "\n",
    "        results = parser_chooser(\"./run_simple_convergence_tests/INFO.OUT\")\n",
    "        max_scf = max([int(i) for i in results['scl'].keys()])\n",
    "        converged_results = results['scl'][str(max_scf)]\n",
    "        total_energy_ngridk_rgkmax[i_k, i_rgkmax] = converged_results['Total energy']"
   ]
  },
  {
   "cell_type": "code",
   "execution_count": null,
   "metadata": {
    "ExecuteTime": {
     "end_time": "2022-09-28T09:37:08.928276Z",
     "start_time": "2022-09-28T09:37:08.540006Z"
    }
   },
   "outputs": [],
   "source": [
    "plt.figure(figsize=(12,10))\n",
    "ax = plt.axes(projection='3d')\n",
    "\n",
    "X, Y = np.meshgrid(rgkmax_range, k_grids)\n",
    "ax.plot_wireframe(X,Y, total_energy_ngridk_rgkmax, color='darkviolet')\n",
    "\n",
    "ax.set_title('Convergence Test for Ag', fontsize=18)\n",
    "ax.set_xlabel('rgkmax', fontsize=14)\n",
    "ax.set_ylabel('ngridk', fontsize=14)\n",
    "ax.set_zlabel(\"Energy [Ha]\", fontsize=14)\n",
    "ax.set_ylim(21, 3)\n",
    "ax.grid(False)\n",
    "\n",
    "plt.show()"
   ]
  },
  {
   "cell_type": "markdown",
   "metadata": {},
   "source": [
    "#### How to quantify convergence\n",
    "\n",
    "In this subsection we refer to the results of **<span style=\"color:darkgreen\">Example 1</span>**. In this case the results of the calculation are the following:"
   ]
  },
  {
   "cell_type": "code",
   "execution_count": null,
   "metadata": {},
   "outputs": [],
   "source": [
    "rgkmax = 9\n",
    "for i in range(len(total_energy_rgkmax_9)):\n",
    "    print(f'{k_grids[i]:2} {rgkmax} {total_energy_rgkmax_9[i]}')"
   ]
  },
  {
   "cell_type": "markdown",
   "metadata": {},
   "source": [
    "Due to the fact that the difference between energies in contiguous rows becomes (increasingly) smaller going to large values of  <code><span style=\"color:mediumblue\">ngridk</span></code>, this difference can be interpreted as a measure of the accuracy in the value of the calculated energy."
   ]
  },
  {
   "cell_type": "markdown",
   "metadata": {},
   "source": [
    "<hr style=\"border:1px solid #DDD\"> </hr>\n",
    "<a id='3'></a>\n",
    "\n",
    "### <span style=\"color:#15317E\">3. Running Tests: Diamond</span>\n",
    "\n",
    "Repeat what you have done in the previous section for diamond. In contrast to silver, which is a metal, diamond an insulator. The corresponding input for **exciting** (**input.xml**) could look like the following.\n",
    "\n",
    "```xml\n",
    "<input>\n",
    "\n",
    "   <title>Diamond: Convergence test</title>\n",
    "\n",
    "   <structure speciespath=\"$EXCITINGROOT/species\">\n",
    "\n",
    "      <crystal scale=\"6.719\">\n",
    "         <basevect>0.5 0.5 0.0</basevect>\n",
    "         <basevect>0.5 0.0 0.5</basevect>\n",
    "         <basevect>0.0 0.5 0.5</basevect>\n",
    "      </crystal>\n",
    "\n",
    "      <species speciesfile=\"C.xml\">\n",
    "         <atom coord=\"0.00 0.00 0.00\" />\n",
    "         <atom coord=\"0.25 0.25 0.25\" />\n",
    "      </species>\n",
    "\n",
    "   </structure>\n",
    "\n",
    "   <groundstate\n",
    "      xctype=\"GGA_PBE_SOL\"\n",
    "      ngridk=\"4 4 4\"\n",
    "      rgkmax=\"5.0\"\n",
    "      gmaxvr=\"14\">\n",
    "   </groundstate>\n",
    "\n",
    "</input>\n",
    "```\n",
    "\n",
    "Finally, on the basis of what you learned above, try to reproduce the results for Diamond displayed in the following."
   ]
  },
  {
   "cell_type": "code",
   "execution_count": null,
   "metadata": {},
   "outputs": [],
   "source": [
    "from reference_data_simple_convergence_tests import *\n",
    "\n",
    "# Plot for run on ngridk at fixed rgkmax = “5”:\n",
    "plt.figure(figsize=(8,6))\n",
    "plt.xlabel(\"ngridk\", fontsize=18)\n",
    "plt.ylabel(\"Energy [Ha]\", fontsize=18)\n",
    "\n",
    "plt.xticks(fontsize=16)\n",
    "plt.yticks(fontsize=16)\n",
    "plt.tick_params(length=5,width=2)\n",
    "plt.rcParams[\"axes.linewidth\"] = 3\n",
    "\n",
    "k_grids = np.arange(k_initial, k_final, dk)\n",
    "plt.plot(k_grids, ref_total_energy_rgkmax_5_Diamond, color=\"red\", linewidth=2)\n",
    "plt.scatter(k_grids, ref_total_energy_rgkmax_5_Diamond, color=\"green\", label=\"rgkmax = 5.00\", linewidth=3, zorder=2)\n",
    "\n",
    "plt.legend(prop={\"size\":16})\n",
    "plt.grid( linestyle = '--', linewidth = 0.5)\n",
    "\n",
    "# Plot for run on ngridk at fixed rgkmax = “9”:\n",
    "plt.figure(figsize=(8,6))\n",
    "plt.xlabel(\"ngridk\", fontsize=18)\n",
    "plt.ylabel(\"Energy [Ha]\", fontsize=18)\n",
    "\n",
    "plt.xticks(fontsize=16)\n",
    "plt.yticks(fontsize=16)\n",
    "plt.tick_params(length=5,width=2)\n",
    "plt.rcParams[\"axes.linewidth\"] = 3\n",
    "\n",
    "plt.plot(k_grids, ref_total_energy_rgkmax_9_Diamond, color=\"red\", linewidth=2)\n",
    "plt.scatter(k_grids, ref_total_energy_rgkmax_9_Diamond, color=\"green\", label=\"rgkmax = 9.00\", linewidth=3, zorder=2)\n",
    "\n",
    "plt.legend(prop={\"size\":16})\n",
    "plt.grid( linestyle = '--', linewidth = 0.5)\n",
    "\n",
    "# PLot for run on rgkmax at fixed ngridk = “12 12 12”:\n",
    "plt.figure(figsize=(8,6))\n",
    "plt.xlabel(\"rgkmax\", fontsize=18)\n",
    "plt.ylabel(\"Energy [Ha]\", fontsize=18)\n",
    "\n",
    "plt.xticks(fontsize=16)\n",
    "plt.yticks(fontsize=16)\n",
    "plt.tick_params(length=5,width=2)\n",
    "plt.rcParams[\"axes.linewidth\"] = 3\n",
    "\n",
    "rgkmax_range = np.arange(rgkmax_initial, rgkmax_final)\n",
    "plt.plot(rgkmax_range, ref_total_energy_ngridk_12_Diamond, color=\"red\", linewidth=2)\n",
    "plt.scatter(rgkmax_range, ref_total_energy_ngridk_12_Diamond, color=\"green\", label=\"ngridk = 12\", linewidth=3, zorder=2)\n",
    "\n",
    "plt.legend(prop={\"size\":16})\n",
    "plt.grid( linestyle = '--', linewidth = 0.5)\n",
    "\n",
    "# Plot for two-dimentional run on both rgkmax and ngridk:\n",
    "plt.figure(figsize=(12,10))\n",
    "ax = plt.axes(projection='3d')\n",
    "\n",
    "X, Y = np.meshgrid(rgkmax_range, k_grids)\n",
    "ax.plot_wireframe(X,Y, ref_total_energy_ngridk_rgkmax_Diamond, color='darkviolet')\n",
    "\n",
    "ax.set_title('Convergence Test for C', fontsize=18)\n",
    "ax.set_xlabel('rgkmax', fontsize=14)\n",
    "ax.set_ylabel('ngridk', fontsize=14)\n",
    "ax.set_zlabel(\"Energy [Ha]\", fontsize=14, labelpad=12)\n",
    "ax.set_ylim(21, 3)\n",
    "ax.grid(False)\n",
    "\n",
    "plt.show()"
   ]
  },
  {
   "cell_type": "markdown",
   "metadata": {},
   "source": [
    "<a id='4'></a>\n",
    "<hr style=\"border:1px solid #DDD\"> </hr> \n",
    "\n",
    "### <span style=\"color:#15317E\">4. Final Questions</span>\n",
    "\n",
    "- Is convergence with respect to the values of <code><span style=\"color:mediumblue\">ngridk</span></code> faster for silver or diamond? Why?\n",
    "- What about the convergence with respect to the values of <code><span style=\"color:mediumblue\">rgkmax</span></code>?\n",
    "\n",
    "<hr style=\"border:2px solid #DDD\"> </hr>"
   ]
  }
 ],
 "metadata": {
  "kernelspec": {
   "display_name": "excitingjupyter",
   "language": "python",
   "name": "excitingjupyter"
  },
  "language_info": {
   "codemirror_mode": {
    "name": "ipython",
    "version": 3
   },
   "file_extension": ".py",
   "mimetype": "text/x-python",
   "name": "python",
   "nbconvert_exporter": "python",
   "pygments_lexer": "ipython3",
   "version": "3.7.13"
  }
 },
 "nbformat": 4,
 "nbformat_minor": 1
}
