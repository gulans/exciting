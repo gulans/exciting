{
 "cells": [
  {
   "cell_type": "markdown",
   "metadata": {},
   "source": [
    "# Electronic Band-Structure and Density of States\n",
    "**by <span style=\"color:darkgreen\">Jürgen Spitaler</span>, <span style=\"color:darkgreen\">Lorenzo Pardini</span> & <span style=\"color:darkgreen\">Pasquale Pavone</span> for [<span style=\"color:darkgoldenrod\">exciting *fluorine*</span>](http://exciting.wikidot.com/fluorine)**\n",
    "\n",
    "<font size=\"2\">(Jupyter notebook by <span style=\"color:darkgreen\">Mara Voiculescu</span>)</font>\n",
    "<hr style=\"border:2px solid #DDD\"> </hr>"
   ]
  },
  {
   "cell_type": "markdown",
   "metadata": {},
   "source": [
    "**<span style=\"color:firebrick\">Purpose</span>**:  This tutorial gives a basic introduction into electronic-structure calculations. It explains how to set up and execute a simple **exciting** calculation, using elemental Ag as example. It is described how to prepare the input, how to run the calculation, and how to analyze the output. In addition, it is shown how basic properties like the density of states and the electronic band structure can be calculated.\n",
    "<hr style=\"border:2px solid #DDD\"> </hr>"
   ]
  },
  {
   "cell_type": "markdown",
   "metadata": {},
   "source": [
    "<div class=\"alert alert-block alert-warning\">\n",
    "\n",
    "**Table of Contents**\n",
    "\n",
    "[0. General Preparation](#0)\n",
    "    \n",
    "[1. Electronic Structure of Silver: Ground-State Calculation](#1)\n",
    "    \n",
    "[2. Electronic Structure of Silver: Density of States](#2)\n",
    "    \n",
    "[3. Electronic Structure of Silver: Band Structure](#3)\n",
    "\n",
    "</div>"
   ]
  },
  {
   "cell_type": "markdown",
   "metadata": {},
   "source": [
    "<a id='0'></a>\n",
    "<hr style=\"border:1px solid #DDD\"> </hr>\n",
    "\n",
    "### <span style=\"color:#15317E\">0. General Preparation</span>\n",
    "\n",
    "**<span style=\"color:firebrick\">Read the following paragraphs before starting with the rest of this tutorial!</span>**\n",
    "\n",
    "Before running any Jupyter tutorials, please refer to the **`00_before_starting.md`** document on how to correctly set up the environment. This only needs to be done once. After which, the **venv** can be (re)activated from **exciting**'s root directory:\n",
    "\n",
    "<div style=\"background-color: rgb(224, 224, 224);\">\n",
    "\n",
    "```bash\n",
    "source tools/excitingjupyter/venv/excitingvenv/bin/activate\n",
    "```\n",
    "\n",
    "</div>\n",
    "\n",
    "\n",
    "**<span style=\"color:#15317E\">Units in exciting</span>**\n",
    "\n",
    "By default, all quantities in the **exciting** code are given in atomic units: **<span style=\"color:firebrick\">Energies</span>** in **<span style=\"color:firebrick\">Hartree</span>**, **<span style=\"color:firebrick\">lengths</span>** in **<span style=\"color:firebrick\">Bohr</span>**, *etc.* (see **[Input Reference](http://exciting.wikidot.com/ref:input)**). In case other units are desirable, they can be converted using templates as a post-processing to **exciting**'s standard output.\n"
   ]
  },
  {
   "cell_type": "markdown",
   "metadata": {},
   "source": [
    "<a id='1'></a>\n",
    "<hr style=\"border:1px solid #DDD\"> </hr>\n",
    "\n",
    "### <span style=\"color:#15317E\">1. Electronic Structure of Silver: Ground-State Calculation</span>\n",
    "\n",
    "The first step of any density-functional calculation is the determination of the ground-state total energy and electron density.\n",
    "\n",
    "The starting point of a ground-state calculation is the crystal structure, only. At the beginning of a ground-state calculation, an initial electron density is generated, which is obtained from a superposition of atomic densities. Thus, this initial electron density lacks the interaction between atoms and is normally a rather crude approximation of the density.\n",
    "\n",
    "Then, the calculation iteratively goes through the following steps:\n",
    "\n",
    "   1. Determine the potential from the electron density.\n",
    "   2. Solve the Kohn-Sham (**KS**) equations to get the eigenfunctions and eigenvalues as well as the total energy.\n",
    "   3. Calculate the electron density from the **KS** eigenfunctions.\n",
    "   4. Create a new charge density, mixing the electron density from the current iteration with the ones of previous iteration (to ensure a good convergence behavior).\n",
    "   5. Start again with (1).\n",
    "\n",
    "Such a sequence of steps is usually called an **iteration**. The code will repeat such iterations, until the potential (or total energy, or charge density, …) obtained at the end of the last iteration is consistent with the one of the previous iterations. Thus, this kind of calculations is often called **self-consistent field** (**SCF**) calculation, and an iteration is often referred to as an **SCF cycle**.\n",
    "\n",
    "As a first step, you may set the **exciting_root** directory and create a running directory for the notebook."
   ]
  },
  {
   "cell_type": "code",
   "execution_count": null,
   "metadata": {
    "ExecuteTime": {
     "end_time": "2022-09-21T12:29:42.347396Z",
     "start_time": "2022-09-21T12:29:41.278973Z"
    }
   },
   "outputs": [],
   "source": [
    "import os\n",
    "from excitingjupyter.utilities import get_exciting_root, check_for_binary\n",
    "\n",
    "exciting_root = get_exciting_root()\n",
    "check_for_binary(exciting_root)\n",
    "exciting_species = os.path.join(exciting_root, \"species\")"
   ]
  },
  {
   "cell_type": "code",
   "execution_count": null,
   "metadata": {},
   "outputs": [],
   "source": [
    "%%bash\n",
    "mkdir run_bs_dos"
   ]
  },
  {
   "cell_type": "markdown",
   "metadata": {},
   "source": [
    "We start by creating an **exciting** (**xml**) input file called **input.xml** which should appear as the one below."
   ]
  },
  {
   "cell_type": "markdown",
   "metadata": {},
   "source": [
    "<span class=\"SILVER_ELECTRONIC_STRUCTURE\"></span>\n",
    "```xml\n",
    "<input>\n",
    "\n",
    "   <title>Electronic structure of silver</title>\n",
    "\n",
    "   <structure speciespath=\"$EXCITINGROOT/species\">\n",
    "      <crystal scale=\"7.7201\">\n",
    "         <basevect>0.5 0.5 0.0</basevect>\n",
    "         <basevect>0.5 0.0 0.5</basevect>\n",
    "         <basevect>0.0 0.5 0.5</basevect>\n",
    "      </crystal>\n",
    "      <species speciesfile=\"Ag.xml\" chemicalSymbol=\"Ag\">\n",
    "         <atom coord=\"0.0  0.0  0.0\" />\n",
    "      </species>\n",
    "   </structure>\n",
    "\n",
    "   <groundstate\n",
    "      ngridk=\"8  8  8\"\n",
    "      outputlevel=\"normal\"\n",
    "      xctype=\"GGA_PBE_SOL\">\n",
    "   </groundstate>\n",
    "\n",
    "</input>\n",
    "```"
   ]
  },
  {
   "cell_type": "markdown",
   "metadata": {},
   "source": [
    "The next step is writing the complete input as a string and saving it in your working directory as **input.xml**."
   ]
  },
  {
   "cell_type": "code",
   "execution_count": null,
   "metadata": {
    "ExecuteTime": {
     "end_time": "2022-09-21T12:30:42.320865Z",
     "start_time": "2022-09-21T12:30:42.283547Z"
    }
   },
   "outputs": [],
   "source": [
    "from excitingjupyter.utilities import get_input_xml_from_notebook   \n",
    "\n",
    "# Extract input file content from this notebook:\n",
    "input_str = get_input_xml_from_notebook(\"tutorial_electronic_band_structure_and_density_of_states\", \"SILVER_ELECTRONIC_STRUCTURE\")\n",
    "input_str = input_str.replace(\"$EXCITINGROOT/species\", exciting_species)\n",
    "\n",
    "# Write out the input as an XML file:\n",
    "with open(os.path.join(os.getcwd(), 'run_bs_dos/input.xml'), \"w\") as fid:\n",
    "    fid.write(input_str)"
   ]
  },
  {
   "cell_type": "markdown",
   "metadata": {},
   "source": [
    "In order to run **exciting** from the terminal, you simply need to execute the **exciting_smp** binary in the running directory. After a few seconds, the calculation should be finished. Here we used the <code>time</code> command before **exciting_smp** in order to get, at the end of the run, the elapsed time explicitly written on the screen."
   ]
  },
  {
   "cell_type": "code",
   "execution_count": null,
   "metadata": {
    "ExecuteTime": {
     "end_time": "2022-09-21T12:32:33.646601Z",
     "start_time": "2022-09-21T12:32:22.141470Z"
    }
   },
   "outputs": [],
   "source": [
    "%%bash\n",
    "cd run_bs_dos\n",
    "time $EXCITINGROOT/bin/exciting_smp input.xml\n",
    "cd .."
   ]
  },
  {
   "cell_type": "markdown",
   "metadata": {},
   "source": [
    "If you wish, you can follow the progress by displaying the output to **INFO.OUT** with the command\n",
    "\n",
    "<div style=\"background-color: rgb(224, 224, 224);\">\n",
    "\n",
    "```bash\n",
    "tail -f INFO.OUT\n",
    "```\n",
    "</div>\n",
    "\n",
    "which needs to be killed after **exciting** has stopped using **Ctrl+C**. The calculation should roughly take a few seconds. During the calculation, output files are created, which contain all kind of information on your material system and on the calculation. Some of the output files are already created at the beginning of the calculation and will not be changed anymore during the run. Output files created by **exciting** in a standard ground-state calculation are described in **<span style=\"color:#3366BB\">How to start an exciting calculation</span>**."
   ]
  },
  {
   "cell_type": "markdown",
   "metadata": {},
   "source": [
    "<a id='0'></a>\n",
    "<hr style=\"border:1px solid #DDD\"> </hr>\n",
    "\n",
    "### <span style=\"color:#15317E\">2. Electronic Structure of Silver: Density of States</span>\n",
    "\n",
    "After you have completed the ground-state run and have obtained the corresponding total energy, you can go for more properties of the system. One of the most fundamental ones is the density of states (**DOS**). The **DOS** gives you information on the energy levels in your system, or — more precisely — about how many electronic states there are at any given energy.\n",
    "\n",
    "To calculate it, you need to do the following simple modifications in **input.xml** (for more details, see **[Input Reference](http://exciting.wikidot.com/ref:input)**):\n",
    "\n",
    "   1. add the attribute <code><span style=\"color:mediumblue\">do</span>=<span style=\"color:firebrick\">\"skip\"</span></code> to the element <code><span style=\"color:green\">groundstate</span></code>;\n",
    "   2. add the element <code><span style=\"color:green\">properties</span></code> after the <code><span style=\"color:green\">groundstate</span></code> element;\n",
    "   3. insert the subelement <code><span style=\"color:green\">dos</span></code> into the element <code><span style=\"color:green\">properties</span></code>.\n",
    "   4. add some attributes to the element <code><span style=\"color:green\">dos</span></code> as shown below.\n",
    "\n",
    "The corresponding part of the **input.xml** should now look like this:\n",
    "\n",
    "```xml\n",
    "...\n",
    "   <groundstate\n",
    "      do=\"skip\"\n",
    "      ngridk=\"8  8  8\"\n",
    "      outputlevel=\"normal\"\n",
    "      xctype=\"GGA_PBE_SOL\">\n",
    "   </groundstate>\n",
    "\n",
    "   <properties>\n",
    "      <dos\n",
    "         nsmdos=\"2\"\n",
    "         ngrdos=\"300\"\n",
    "         nwdos=\"1000\"\n",
    "         winddos=\"-0.3 0.3\">\n",
    "      </dos>\n",
    "   </properties>\n",
    "...\n",
    "```\n",
    "Here, the attributes of the element <code><span style=\"color:green\">dos</span></code> have the following meaning (see **[<span style=\"color:firebrick\">here</span>](http://exciting.wikidot.com/ref:input)**) for more details):\n",
    "\n",
    "   1. <code><span style=\"color:mediumblue\">nsmdos</span></code> indicates the type of smearing for the resulting **DOS**.\n",
    "   2.  <code><span style=\"color:mediumblue\">ngrdos</span></code> is the effective **k**-point mesh size to be used for Brillouin-zone integration.\n",
    "   3.  <code><span style=\"color:mediumblue\">nwdos</span></code> is number of energy points in the **DOS**.\n",
    "   4.  <code><span style=\"color:mediumblue\">winddos</span></code> indicates the energy window, given in Hartree (Ha), for the **DOS** plot."
   ]
  },
  {
   "cell_type": "code",
   "execution_count": null,
   "metadata": {
    "ExecuteTime": {
     "end_time": "2022-09-21T12:34:05.366774Z",
     "start_time": "2022-09-21T12:34:05.353319Z"
    }
   },
   "outputs": [],
   "source": [
    "# The following lines modify the input.xml using Python\n",
    "dos_str = \"\"\"<properties>\n",
    "      <dos\n",
    "         nsmdos=\"2\"\n",
    "         ngrdos=\"300\"\n",
    "         nwdos=\"1000\"\n",
    "         winddos=\"-0.3 0.3\">\n",
    "      </dos>\n",
    "   </properties>\n",
    "\"\"\"\n",
    "\n",
    "do_skip = input_str.replace('fromscratch','skip')\n",
    "dos_input = do_skip.replace('</input>', '') + dos_str + \"</input>\"\n",
    "\n",
    "with open(os.path.join(os.getcwd(), 'run_bs_dos/input.xml'), \"w\") as fid:\n",
    "    fid.write(dos_input)"
   ]
  },
  {
   "cell_type": "markdown",
   "metadata": {},
   "source": [
    "If you wish to visualise the structure you can use  the visualization module of the Atomic Simulation Environment (**ASE**).\n",
    "\n",
    "Note, visualization requires **tkinter** needs to be installed. Instructions are provided **[here](https://tkdocs.com/tutorial/install.html)** if your OS is missing it."
   ]
  },
  {
   "cell_type": "code",
   "execution_count": null,
   "metadata": {
    "ExecuteTime": {
     "end_time": "2022-09-21T12:34:25.220219Z",
     "start_time": "2022-09-21T12:34:24.977144Z"
    }
   },
   "outputs": [],
   "source": [
    "import ase\n",
    "from ase.visualize import view\n",
    "\n",
    "atoms = ase.io.read(\"run_bs_dos/input.xml\", format=\"exciting\")\n",
    "\n",
    "view(atoms, viewer=\"nglview\")"
   ]
  },
  {
   "cell_type": "markdown",
   "metadata": {},
   "source": [
    "Then, run **exciting** again either from the terminal or in python:"
   ]
  },
  {
   "cell_type": "code",
   "execution_count": null,
   "metadata": {
    "ExecuteTime": {
     "end_time": "2022-09-21T12:35:25.852820Z",
     "start_time": "2022-09-21T12:35:11.226683Z"
    }
   },
   "outputs": [],
   "source": [
    "%%bash\n",
    "cd run_bs_dos\n",
    "time $EXCITINGROOT/bin/exciting_smp input.xml\n",
    "cd .."
   ]
  },
  {
   "cell_type": "markdown",
   "metadata": {},
   "source": [
    "This time, the program will produce the following files:\n",
    "\n",
    "filename|description\n",
    ":-----------|:--------------------------------\n",
    "**TDOS.OUT**|Total density of states.\n",
    "**dos.xml**|Total density of states stored in the XML format."
   ]
  },
  {
   "cell_type": "markdown",
   "metadata": {},
   "source": [
    "#### <span style=\"color:#15317E\">Plotting the DOS in python</span>\n",
    "\n",
    "To visualize the **DOS**, you can plot it inside the jupyter notebook. This can be done by parsing the **TDOS.OUT** output file by python.\n",
    "\n",
    "**<span style=\"color:firebrick\">Please note</span>**:\n",
    "\n",
    "Here, energies are relative to the Fermi energy, *i.e*., $E_F$ which corresponds to the energy zero.\n",
    "As a default, energies in this **DOS** plot are given in **<span style=\"color:firebrick\">electronvolts</span>** (eV) as it is used in most of the literature."
   ]
  },
  {
   "cell_type": "code",
   "execution_count": null,
   "metadata": {},
   "outputs": [],
   "source": [
    "from excitingtools.exciting_obj_parsers.gw_eigenvalues import parse_obj_gw_dos\n",
    "from scipy.constants import physical_constants\n",
    "\n",
    "dos_out = os.path.join(os.getcwd(), 'run_bs_dos/TDOS.OUT')\n",
    "dos_data = parse_obj_gw_dos(dos_out)\n",
    "\n",
    "ha_to_ev = physical_constants[\"hartree-electron volt relationship\"][0]\n",
    "dos_data.energy = dos_data.energy * ha_to_ev\n",
    "dos_data.dos = dos_data.dos / ha_to_ev"
   ]
  },
  {
   "cell_type": "code",
   "execution_count": null,
   "metadata": {},
   "outputs": [],
   "source": [
    "import matplotlib.pyplot as plt\n",
    "\n",
    "plt.figure(figsize=(8,5))\n",
    "plt.title(\"Electronic Structure of Silver\", fontsize=18)\n",
    "plt.xlabel(\"Energy - $\\mathregular{E_F}$ [eV]\", fontsize=16)\n",
    "plt.ylabel(\"DOS [states/eV/unit cell]\", fontsize=16)\n",
    "\n",
    "plt.ylim([0, 8])\n",
    "plt.xlim([-8,8])\n",
    "plt.xticks(fontsize=14)\n",
    "plt.yticks(fontsize=14)\n",
    "plt.tick_params(length=5,width=2)\n",
    "\n",
    "e_fermi = 0.0\n",
    "plt.axvline(x=e_fermi, color=\"black\", linestyle='--', linewidth=1.2)\n",
    "\n",
    "plt.rcParams[\"axes.linewidth\"] = 2\n",
    "\n",
    "plt.plot(dos_data.energy, dos_data.dos, color=\"mediumblue\")\n",
    "plt.fill_between(dos_data.energy, 0, dos_data.dos, color=\"cornflowerblue\")\n",
    "\n",
    "plt.show()"
   ]
  },
  {
   "cell_type": "markdown",
   "metadata": {},
   "source": [
    "<a id='3'></a>\n",
    "<hr style=\"border:1px solid #DDD\"> </hr>\n",
    "\n",
    "### <span style=\"color:#15317E\">3. Electronic Structure of Silver: Band Structure</span>\n",
    "\n",
    "Now, we are ready for a more detailed view on the electronic structure: The band structure. In addition to the energy of each state, the band structure shows the dependence of the energy eigenvalues on the coordinates in **k**-space.\n",
    "\n",
    "To calculate the band structure of silver, insert the subelement <code><span style=\"color:green\">bandstructure</span></code> in the element <code><span style=\"color:green\">properties</span></code> with the following specifications:\n",
    "\n",
    "```bash\n",
    "...\n",
    "   <properties>\n",
    "\n",
    "      <bandstructure>\n",
    "         <plot1d>\n",
    "            <path steps=\"100\">\n",
    "               <point coord=\"1.0     0.0     0.0\" label=\"Gamma\"/>\n",
    "               <point coord=\"0.625   0.375   0.0\" label=\"K\"/>\n",
    "               <point coord=\"0.5     0.5     0.0\" label=\"X\"/>\n",
    "               <point coord=\"0.0     0.0     0.0\" label=\"Gamma\"/>\n",
    "               <point coord=\"0.5     0.0     0.0\" label=\"L\"/>\n",
    "            </path>\n",
    "         </plot1d>\n",
    "      </bandstructure>\n",
    "\n",
    "   </properties>\n",
    "...\n",
    "```\n",
    "\n",
    "As you may have realized, we have removed the subelement <code><span style=\"color:green\">dos</span></code> now. The new element <code><span style=\"color:green\">bandstructure</span></code> allows for the calculation of energy eigenvalues as a function of **k**. Inside this element, the subelement <code><span style=\"color:green\">plot1d</span></code> creates a line plot where the abscissa is taken along a path consisting of straight lines joining the points defined by each element <code><span style=\"color:green\">point</span></code>. The coordinates of these points are given in terms of the basis vectors of the reciprocal lattice. The number of points along the full path, for which the ordinate(s) of the line plot (in this case the **KS** energies) are calculated, is established by the element <code><span style=\"color:green\">path</span></code>.\n",
    "\n",
    "Here, we choose a simple **path** containing the directions in reciprocal space with the highest symmetry. Standard paths in reciprocal space for general crystals can be found in **[Setyawan & Curtarolo, Comp. Mat. Sci. 49, 299-312 (2010)](http://materials.duke.edu/auro/AUROARTICULA/j.commatsci.2010.05.010.pdf)**. For a face-centered cubic crystal, as in the example of this tutorial, the path is visualized in the following figure.\n",
    "\n",
    "<div>\n",
    "<img src=\"tutorial3_images/standards.png\" width=\"500\" align=\"left\"/>\n",
    "</div>"
   ]
  },
  {
   "cell_type": "markdown",
   "metadata": {},
   "source": [
    "Now, write out the new input as an **XML** file and run the **exciting** code again."
   ]
  },
  {
   "cell_type": "code",
   "execution_count": null,
   "metadata": {},
   "outputs": [],
   "source": [
    "band_str = \"\"\"<properties>\n",
    "      <bandstructure>\n",
    "         <plot1d>\n",
    "            <path steps=\"100\">\n",
    "               <point coord=\"1.0     0.0     0.0\" label=\"Gamma\"/>\n",
    "               <point coord=\"0.625   0.375   0.0\" label=\"K\"/>\n",
    "               <point coord=\"0.5     0.5     0.0\" label=\"X\"/>\n",
    "               <point coord=\"0.0     0.0     0.0\" label=\"Gamma\"/>\n",
    "               <point coord=\"0.5     0.0     0.0\" label=\"L\"/>\n",
    "            </path>\n",
    "         </plot1d>\n",
    "      </bandstructure>\n",
    "   </properties>\n",
    "\"\"\"\n",
    "\n",
    "band_input = do_skip.replace('</input>', '') + band_str + \"</input>\"\n",
    "\n",
    "with open(os.path.join(os.getcwd(), 'run_bs_dos/input.xml'), \"w\") as fid:\n",
    "     fid.write(band_input)"
   ]
  },
  {
   "cell_type": "code",
   "execution_count": null,
   "metadata": {},
   "outputs": [],
   "source": [
    "%%bash\n",
    "cd run_bs_dos\n",
    "module load intel\n",
    "time $EXCITINGROOT/bin/exciting_smp input.xml\n",
    "cd .."
   ]
  },
  {
   "cell_type": "markdown",
   "metadata": {},
   "source": [
    "#### <span style=\"color:#15317E\">Plotting the Band Structure in python</span>\n",
    "\n",
    "Similarly to the case of the DOS, the band structure can also be plotted inside the jupyter notebook by parsing the **bandstructure.xml** output file:"
   ]
  },
  {
   "cell_type": "code",
   "execution_count": null,
   "metadata": {
    "ExecuteTime": {
     "end_time": "2022-09-21T13:07:37.658189Z",
     "start_time": "2022-09-21T13:07:37.636142Z"
    }
   },
   "outputs": [],
   "source": [
    "from excitingtools.exciting_obj_parsers.ks_band_structure import parse_band_structure\n",
    "\n",
    "bandstructure_xml = os.path.join(os.getcwd(), 'run_bs_dos/bandstructure.xml')\n",
    "band_data = parse_band_structure(bandstructure_xml)\n",
    "\n",
    "band_data.bands = band_data.bands * ha_to_ev\n",
    "band_data.e_fermi = 0.0\n",
    "vertices = band_data.band_path()[0]\n",
    "labels = band_data.band_path()[1]"
   ]
  },
  {
   "cell_type": "code",
   "execution_count": null,
   "metadata": {},
   "outputs": [],
   "source": [
    "import matplotlib.pyplot as plt\n",
    "\n",
    "plt.figure(figsize=(8,5))\n",
    "plt.title(\"Electronic Structure of Silver\", fontsize=18)\n",
    "plt.ylabel(\"Energy - $\\mathregular{E_F}$ [eV]\", fontsize=16)\n",
    "plt.ylim([-10, 20])\n",
    "plt.xlim([vertices[0],vertices[-1]])\n",
    "\n",
    "plt.xticks(ticks=vertices, labels=labels, fontsize=16)\n",
    "plt.yticks(fontsize=14)\n",
    "plt.tick_params(length=5,width=2)\n",
    "\n",
    "plt.axhline(y=band_data.e_fermi, color=\"black\", linestyle='--', linewidth=1.2)\n",
    "\n",
    "for i in range(len(band_data.vertices)):\n",
    "    plt.axvline(x=vertices[i], color=\"black\",linewidth=1)\n",
    "\n",
    "plt.rcParams[\"axes.linewidth\"] = 2\n",
    "\n",
    "plt.text(2.7, -0.6, \"$\\mathregular{E_F}$\", fontsize=16)\n",
    "\n",
    "plt.plot(band_data.flattened_k_points, band_data.bands, color=\"mediumblue\")\n",
    "\n",
    "plt.show()"
   ]
  }
 ],
 "metadata": {
  "kernelspec": {
   "display_name": "excitingjupyter",
   "language": "python",
   "name": "excitingjupyter"
  },
  "language_info": {
   "codemirror_mode": {
    "name": "ipython",
    "version": 3
   },
   "file_extension": ".py",
   "mimetype": "text/x-python",
   "name": "python",
   "nbconvert_exporter": "python",
   "pygments_lexer": "ipython3",
   "version": "3.7.13"
  }
 },
 "nbformat": 4,
 "nbformat_minor": 1
}
