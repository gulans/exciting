{
 "cells": [
  {
   "cell_type": "markdown",
   "metadata": {
    "collapsed": true
   },
   "source": [
    "# How to Start an exciting Calculation\n",
    "**by <span style=\"color:darkgreen\">Andris Gulans</span>, <span style=\"color:darkgreen\">Jürgen Spitaler</span>, & <span style=\"color:darkgreen\">Pasquale Pavone</span> for [<span style=\"color:darkgoldenrod\">exciting *fluorine*</span>](http://exciting.wikidot.com/fluorine)**\n",
    "\n",
    "<font size=\"2\">(Jupyter notebook by <span style=\"color:darkgreen\">Mara Voiculescu</span> & <span style=\"color:darkgreen\">Martin Kuban</span>)</font>\n",
    "<hr style=\"border:2px solid #DDD\"> </hr>"
   ]
  },
  {
   "cell_type": "markdown",
   "metadata": {},
   "source": [
    "**<span style=\"color:firebrick\">Purpose</span>**: In this tutorial you will learn how to make the first steps with **`exciting`**. In addition, we give here a description of the output files produced by an **`exciting`** calculation.\n",
    "<hr style=\"border:2px solid #DDD\"> </hr>"
   ]
  },
  {
   "cell_type": "markdown",
   "metadata": {},
   "source": [
    "<div class=\"alert alert-block alert-warning\">\n",
    "\n",
    "**Table of Contents**\n",
    "\n",
    "[0. Before Starting](#Before)  \n",
    "[1. Preparing Input](#PrepInput)  \n",
    "[2. Running exciting](#RunExciting)       \n",
    "[3. Reading INFO.OUT - The Main Output File](#INFOOUT)  \n",
    "[4. Output Files of an exciting Calculation](#Outputs)  \n",
    "\n",
    "</div>\n"
   ]
  },
  {
   "cell_type": "markdown",
   "metadata": {},
   "source": [
    "<a id=\"Before\"></a>"
   ]
  },
  {
   "cell_type": "markdown",
   "metadata": {},
   "source": [
    "<hr style=\"border:1px solid #DDD\"> </hr>\n",
    "\n",
    "### <span style=\"color:#15317E\">0. Before Starting</span>\n",
    "\n",
    "Before running any Jupyter tutorials, please refer to the **`00_before_starting.md`** document on how to correctly set up the environment. This only needs to be done once. After which, the **venv** can be (re)activated from **`exciting`**'s root directory:\n",
    "\n",
    "<div style=\"background-color: rgb(224, 224, 224);\">\n",
    "\n",
    "```bash\n",
    "source tools/excitingjupyter/venv/excitingvenv/bin/activate\n",
    "```\n",
    "\n",
    "</div>\n",
    "\n",
    "Before starting any tutorial, it is a good practice to create a subdirectory for each tutorial you are going to work on. For this tutorial the subdirectory could be called, *e.g.*, **run_tutorial_start_exciting_calculation**."
   ]
  },
  {
   "cell_type": "code",
   "execution_count": 1,
   "metadata": {},
   "outputs": [],
   "source": [
    "%%bash\n",
    "mkdir -p run_tutorial_start_exciting_calculation"
   ]
  },
  {
   "cell_type": "markdown",
   "metadata": {},
   "source": [
    "<a id=\"PrepInput\"></a>"
   ]
  },
  {
   "cell_type": "markdown",
   "metadata": {},
   "source": [
    "<hr style=\"border:1px solid #DDD\"> </hr>\n",
    "\n",
    "### <span style=\"color:#15317E\">1. Preparing Input</span>\n",
    "\n",
    "**<span style=\"color:#15317E\">i) Diamond</span>**\n",
    "\n",
    "<div style=\"text-align: justify\">\n",
    "\n",
    "For the very first **`exciting`** run, you will use an already prepared example of an input file that sets up a total-energy calculation of diamond. Input files for **`exciting`** are written in the **XML** format and are typically named **input.xml**. The **XML** format allows your data to be written in a structured way. Figuratively speaking, an **`exciting`** input is pretty much like an article with its sections and subsections. In case of **XML** data, sections and subsections are called <code><span style=\"color:green\">elements</span></code>."
   ]
  },
  {
   "cell_type": "markdown",
   "metadata": {},
   "source": [
    "<span class=\"DIAMOND_INPUT\"></span>\n",
    "```xml\n",
    "<input>\n",
    "\n",
    "   <title>Diamond</title>\n",
    "\n",
    "   <structure speciespath=\"$EXCITINGROOT/species\">\n",
    "\n",
    "      <crystal scale=\"6.7274\">\n",
    "         <basevect>0.0   0.5   0.5</basevect>\n",
    "         <basevect>0.5   0.0   0.5</basevect>\n",
    "         <basevect>0.5   0.5   0.0</basevect>\n",
    "      </crystal>\n",
    "\n",
    "      <species speciesfile=\"C.xml\">\n",
    "         <atom coord=\"0.00 0.00 0.00\"/>\n",
    "         <atom coord=\"0.25 0.25 0.25\"/>\n",
    "      </species>\n",
    "\n",
    "   </structure>\n",
    "\n",
    "   <groundstate\n",
    "      ngridk=\"4 4 4\"\n",
    "      outputlevel=\"normal\"\n",
    "      xctype=\"GGA_PBE_SOL\">\n",
    "   </groundstate>\n",
    "\n",
    "</input>\n",
    "\n",
    "```"
   ]
  },
  {
   "cell_type": "markdown",
   "metadata": {},
   "source": [
    "Let us examine this example bit-by-bit. The first thing to be said is that an **XML** is **<span style=\"color:firebrick\">not sensitive</span>** to line indentation. However, for the sake of clarity, line indentation is used in all examples of these tutorials to illustrate the hierarchy among elements. Now, let's come back to the **input.xml** shown above. The first and the last line indicate the beginning and the end of the input.\n",
    "\n",
    "```xml\n",
    "<input>\n",
    "...\n",
    "</input>\n",
    "```\n",
    "\n",
    "The element <code><span style=\"color:green\">title</span></code> contains some freely chosen text simply to describe the calculation.\n",
    "```xml\n",
    "<title>Diamond</title>\n",
    "```\n",
    "\n",
    "The next element, <code><span style=\"color:green\">structure</span></code>, describes the geometry and the chemical composition of a studied system. Notice that the declaration of the <code><span style=\"color:green\">structure</span></code> section contains as additional information the parameter <code><span style=\"color:mediumblue\">speciespath</span></code>.\n",
    "\n",
    "```xml\n",
    "<structure speciespath=\"$EXCITINGROOT/species/\">\n",
    "```\n",
    "\n",
    "Such parameters in the XML language are called <code><span style=\"color:mediumblue\">attributes</span></code>, and their values are always given in quotes regardless whether it is numerical, symbolic, or boolean information. In particular, the attribute <code><span style=\"color:mediumblue\">speciespath</span></code> defines the location, where the files with the data about chemical elements are stored. In the example above, the <code><span style=\"color:mediumblue\">speciespath</span></code> **<span style=\"color:firebrick\">must be changed</span>** explicitly by either inserting the path for the attribute <code><span style=\"color:mediumblue\">speciespath</span></code> by hand in the input file, or by running the script **excitingscripts.setup.excitingroot**, as shown in the code cells below.\n",
    "\n",
    "**<span style=\"color:firebrick\">Remark on the species files directory</span>** in **`exciting`**: Starting with the release of **<span style=\"color:darkgoldenrod\">exciting boron</span>**, **<span style=\"color:firebrick\">it is not possible</span>** to define the attribute <code><span style=\"color:mediumblue\">speciespath</span></code> (i.e., the directory containing the species files) by linking directly to the **`exciting`**-code site.\n",
    "\n",
    "The element <code><span style=\"color:green\">structure</span></code> contains subelements <code><span style=\"color:green\">crystal</span></code> and <code><span style=\"color:green\">species</span></code>. The element <code><span style=\"color:green\">crystal</span></code> is used for defining the Bravais lattice of the studied system. It contains three lattice vectors (each specified by an element <code><span style=\"color:green\">basevect</span></code>) in units of the attribute <code><span style=\"color:mediumblue\">scale</span></code> that **<span style=\"color:firebrick\">is given in Bohr</span>**. The element <code><span style=\"color:green\">species</span></code> describes the chemical composition of the studied system. Atomic coordinates are specified by the element <code><span style=\"color:green\">atom</span></code>. The primitive unit cell of diamond contains two carbon atoms, and their positions are given in the basis of the lattice vectors (**lattice coordinates**).\n",
    "\n",
    "```xml\n",
    "   <structure ...>\n",
    "\n",
    "      <crystal scale=\"6.7274\">\n",
    "         <basevect>0.0   0.5   0.5</basevect>\n",
    "         <basevect>0.5   0.0   0.5</basevect>\n",
    "         <basevect>0.5   0.5   0.0</basevect>\n",
    "      </crystal>\n",
    "\n",
    "      <species speciesfile=\"C.xml\">\n",
    "         <atom coord=\"0.00 0.00 0.00\" />\n",
    "         <atom coord=\"0.25 0.25 0.25\" />\n",
    "      </species>\n",
    "\n",
    "   </structure>\n",
    "```\n",
    "The next element, <code><span style=\"color:green\">groundstate</span></code>, contains attributes that define computational parameters. In particular, in calculations of periodic systems it is necessary to define how the Brillouin zone is sampled. It is done using the attribute <code><span style=\"color:mediumblue\">ngridk</span></code>. The calculation of some quantities, such as the electron density and the total energy, requires an integration over the Brillouin zone. In practice, the integration is replaced with a sum over equally-spaced points. The number of divisions of the Brillouin zone along each of the three directions of the primitive vectors of the reciprocal lattice is exactly what is specified in the attribute <code><span style=\"color:mediumblue\">ngridk</span></code>.\n",
    "\n",
    "\n",
    "```xml\n",
    "   <groundstate\n",
    "      ngridk=\"4 4 4\"\n",
    "      outputlevel=\"normal\"\n",
    "      xctype=\"GGA_PBE_SOL\">\n",
    "   </groundstate>\n",
    "```\n",
    "\n",
    "The attribute <code><span style=\"color:mediumblue\">outputlevel</span></code> of the <code><span style=\"color:green\">groundstate</span></code> element specifies the amount of information which is printed to output files. The attribute <code><span style=\"color:mediumblue\">xctype</span></code> specifies the type of exchange-correlation functional to be used.\n",
    "\n",
    "\n",
    "The next step is writing the complete input as a string and saving it  as **input.xml**. While for storage or archiving purposes you may choose any name for the input file, running the **`exciting`** code requires that specifically the file **input.xml** is present.\n",
    "\n",
    "</div>"
   ]
  },
  {
   "cell_type": "code",
   "execution_count": 2,
   "metadata": {},
   "outputs": [],
   "source": [
    "import os\n",
    "from excitingjupyter.utilities import get_input_xml_from_notebook\n",
    "\n",
    "input_str = get_input_xml_from_notebook(\"tutorial_how_to_start_an_exciting_calculation\", \"DIAMOND_INPUT\")\n",
    "\n",
    "# Write out the input as an XML file:\n",
    "with open(os.path.join(os.getcwd(), 'run_tutorial_start_exciting_calculation/input.xml'), \"w\") as fid:\n",
    "    fid.write(input_str)"
   ]
  },
  {
   "cell_type": "markdown",
   "metadata": {},
   "source": [
    "Now you can define the attribute <code><span style=\"color:mediumblue\">speciespath</span></code> by moving into your running directory and running the following script."
   ]
  },
  {
   "cell_type": "code",
   "execution_count": 3,
   "metadata": {},
   "outputs": [],
   "source": [
    "%%bash\n",
    "cd run_tutorial_start_exciting_calculation\n",
    "python3 -m excitingscripts.setup.excitingroot\n",
    "cd .."
   ]
  },
  {
   "cell_type": "markdown",
   "metadata": {},
   "source": [
    "**<span style=\"color:#15317E\">ii) Visualization of Structures</span>**\n",
    "\n",
    "You are ready to start a calculation, but it makes sense to visualize the structure defined in the input before running the code. If [**XCrySDen**](http://www.xcrysden.org/) is pre-installed, it can be configured for viewing **`exciting`** input files. To this purpose, before running **XCrySDen**, follow the instructions in [**XCrySDen Setup for exciting**](https://www.exciting-code.org/xcrysden-setup-for-exciting). After configuring **XcrySDen**, try to visualize the prepared input file."
   ]
  },
  {
   "cell_type": "code",
   "execution_count": 1,
   "metadata": {},
   "outputs": [],
   "source": [
    "%%bash\n",
    "cd run_tutorial_start_exciting_calculation\n",
    "xcrysden --exciting input.xml >/dev/null 2>&1 &\n",
    "cd .."
   ]
  },
  {
   "cell_type": "markdown",
   "metadata": {},
   "source": [
    "If everything is set up properly, this command will open a window as shown below.\n",
    "<br></br>\n",
    "<div>\n",
    "<img src=\"tutorial_images/xcrysden-snapshot.png\" width=\"500\" align=\"left\"/>\n",
    "</div>"
   ]
  },
  {
   "cell_type": "markdown",
   "metadata": {},
   "source": [
    "Now you can play a little bit with the visualization program to make sure that you see indeed the diamond structure. Remember that we have supplied the primitive unit cell and not the conventional unit cell. This explains why you do not see something similar to what is normally printed in textbooks for solid-state physics."
   ]
  },
  {
   "cell_type": "markdown",
   "metadata": {},
   "source": [
    "<a id=\"RunExciting\"></a>"
   ]
  },
  {
   "cell_type": "markdown",
   "metadata": {},
   "source": [
    "<hr style=\"border:1px solid #DDD\"> </hr>\n",
    "\n",
    "### <span style=\"color:#15317E\">2. Running Exciting</span>\n",
    "\n",
    "\n",
    "In order to run **`exciting`** from the terminal, you simply need to execute the **exciting_smp** binary in the running directory. After a few seconds, the calculation should be finished.\n",
    "    \n",
    "<div style=\"background-color: rgb(224, 224, 224);\">\n",
    "    \n",
    "```bash\n",
    "time exciting_smp\n",
    "```\n",
    "</div>  \n",
    "    \n",
    "Here we used the **time** command before **exciting_smp** in order to get, at the end of the run, the elapsed time explicitly written on the screen.\n"
   ]
  },
  {
   "cell_type": "code",
   "execution_count": 5,
   "metadata": {
    "pycharm": {
     "is_executing": true
    }
   },
   "outputs": [
    {
     "name": "stdout",
     "output_type": "stream",
     "text": [
      " ### Using specified input file: input.xml\n"
     ]
    },
    {
     "name": "stderr",
     "output_type": "stream",
     "text": [
      "   Elapsed time = 0m8s\n"
     ]
    }
   ],
   "source": [
    "%%bash\n",
    "cd run_tutorial_start_exciting_calculation\n",
    "time $EXCITINGROOT/bin/exciting_smp input.xml\n",
    "cd .."
   ]
  },
  {
   "cell_type": "markdown",
   "metadata": {},
   "source": [
    "<a id=\"INFOOUT\"></a>"
   ]
  },
  {
   "cell_type": "markdown",
   "metadata": {},
   "source": [
    "<hr style=\"border:1px solid #DDD\"> </hr>\n",
    "\n",
    "### <span style=\"color:#15317E\">3. Reading INFO.OUT, the Main Output File</span>\n",
    "\n",
    "<div style=\"text-align: justify\">\n",
    "<br>\n",
    "    \n",
    "The execution of **`exciting`** will produce a number of output files. More details about these files will be given in the next section. Here, we will focus on the **<span style=\"color:firebrick\">main output file</span>**, named **INFO.OUT**. It contains basic information about the calculation. Below, this file is discussed for the diamond example and for the default value (**\"normal\"**) of the attribute <code><span style=\"color:mediumblue\">outputlevel</span></code> of the <code><span style=\"color:green\">groundstate</span></code> element.\n",
    "\n",
    " - The output file starts with a self-explanatory header."
   ]
  },
  {
   "cell_type": "code",
   "execution_count": 6,
   "metadata": {},
   "outputs": [
    {
     "name": "stdout",
     "output_type": "stream",
     "text": [
      "================================================================================\r\n",
      "| EXCITING FLUORINE started                                                    =\r\n",
      "| version hash id: e0b8d6602d770e6e31060960f6367cab3cb17e71                    =\r\n",
      "|                                                                              =\r\n",
      "| compiler: ifort (IFORT) 2021.3.0 20210609                                    =\r\n",
      "|                                                                              =\r\n",
      "|                                                                              =\r\n",
      "| Date (DD-MM-YYYY) : 10-05-2023                                               =\r\n",
      "| Time (hh:mm:ss)   : 14:58:31                                                 =\r\n",
      "|                                                                              =\r\n",
      "| All units are atomic (Hartree, Bohr, etc.)                                   =\r\n",
      "================================================================================\r\n"
     ]
    }
   ],
   "source": [
    "!head -n 12 run_tutorial_start_exciting_calculation/INFO.OUT"
   ]
  },
  {
   "cell_type": "markdown",
   "metadata": {},
   "source": [
    "- The next lines give information on the initial density and tell us that the initialization has started."
   ]
  },
  {
   "cell_type": "code",
   "execution_count": 7,
   "metadata": {},
   "outputs": [
    {
     "name": "stdout",
     "output_type": "stream",
     "text": [
      "********************************************************************************\r\n",
      "* Ground-state run starting from atomic densities                              *\r\n",
      "********************************************************************************\r\n",
      " \r\n",
      "++++++++++++++++++++++++++++++++++++++++++++++++++++++++++++++++++++++++++++++++\r\n",
      "+ Starting initialization                                                      +\r\n",
      "++++++++++++++++++++++++++++++++++++++++++++++++++++++++++++++++++++++++++++++++\r\n"
     ]
    }
   ],
   "source": [
    "!head -n 20 run_tutorial_start_exciting_calculation/INFO.OUT | tail -n 7"
   ]
  },
  {
   "cell_type": "markdown",
   "metadata": {},
   "source": [
    "- The next section contains lattice parameters and derived quantities."
   ]
  },
  {
   "cell_type": "code",
   "execution_count": 8,
   "metadata": {},
   "outputs": [
    {
     "name": "stdout",
     "output_type": "stream",
     "text": [
      " Lattice vectors (cartesian) :\r\n",
      "      0.0000000000      3.3637000000      3.3637000000\r\n",
      "      3.3637000000      0.0000000000      3.3637000000\r\n",
      "      3.3637000000      3.3637000000      0.0000000000\r\n",
      " \r\n",
      " Reciprocal lattice vectors (cartesian) :\r\n",
      "     -0.9339693354      0.9339693354      0.9339693354\r\n",
      "      0.9339693354     -0.9339693354      0.9339693354\r\n",
      "      0.9339693354      0.9339693354     -0.9339693354\r\n",
      " \r\n",
      " Unit cell volume                           :      76.1170172117\r\n",
      " Brillouin zone volume                      :       3.2588010215\r\n"
     ]
    }
   ],
   "source": [
    "!head -n 33 run_tutorial_start_exciting_calculation/INFO.OUT | tail -n 12"
   ]
  },
  {
   "cell_type": "markdown",
   "metadata": {},
   "source": [
    "- The further bit contains the information about the chemical composition of the crystal."
   ]
  },
  {
   "cell_type": "code",
   "execution_count": 9,
   "metadata": {},
   "outputs": [
    {
     "name": "stdout",
     "output_type": "stream",
     "text": [
      " Species :    1 (C)\r\n",
      "     parameters loaded from                 :    C.xml\r\n",
      "     name                                   :    carbon\r\n",
      "     nuclear charge                         :      -6.00000000\r\n",
      "     electronic charge                      :       6.00000000\r\n",
      "     atomic mass                            :   21894.16673000\r\n",
      "     muffin-tin radius                      :       1.45000000\r\n",
      "     # of radial points in muffin-tin       :     250\r\n",
      " \r\n",
      "     atomic positions (lattice) :\r\n",
      "       1 :   0.00000000  0.00000000  0.00000000\r\n",
      "       2 :   0.25000000  0.25000000  0.25000000\r\n",
      " \r\n",
      " Total number of atoms per unit cell        :       2\r\n"
     ]
    }
   ],
   "source": [
    "!head -n 48 run_tutorial_start_exciting_calculation/INFO.OUT | tail -n 14"
   ]
  },
  {
   "cell_type": "markdown",
   "metadata": {},
   "source": [
    "- The next section tells whether the calculation is a spin-polarized one."
   ]
  },
  {
   "cell_type": "code",
   "execution_count": 10,
   "metadata": {},
   "outputs": [
    {
     "name": "stdout",
     "output_type": "stream",
     "text": [
      " Spin treatment                             :    spin-unpolarised\r\n"
     ]
    }
   ],
   "source": [
    "!head -n 50 run_tutorial_start_exciting_calculation/INFO.OUT | tail -n 1"
   ]
  },
  {
   "cell_type": "markdown",
   "metadata": {},
   "source": [
    "- The **`exciting`** code recognizes crystal symmetries automatically and reports what has been found."
   ]
  },
  {
   "cell_type": "code",
   "execution_count": 11,
   "metadata": {},
   "outputs": [
    {
     "name": "stdout",
     "output_type": "stream",
     "text": [
      " Number of Bravais lattice symmetries       :      48\r\n",
      " Number of crystal symmetries               :      48\r\n",
      " \r\n",
      " k-point grid                               :       4    4    4\r\n",
      " Total number of k-points                   :       8\r\n",
      " k-point set is reduced with crystal symmetries\r\n"
     ]
    }
   ],
   "source": [
    "!head -n 57 run_tutorial_start_exciting_calculation/INFO.OUT | tail -n 6"
   ]
  },
  {
   "cell_type": "markdown",
   "metadata": {},
   "source": [
    "- The basis set related information is printed in the next section. Note that **`exciting`** uses different basis sets for the Kohn-Sham orbitals and the effective potential."
   ]
  },
  {
   "cell_type": "code",
   "execution_count": 12,
   "metadata": {},
   "outputs": [
    {
     "name": "stdout",
     "output_type": "stream",
     "text": [
      " R^MT_min * |G+k|_max (rgkmax)              :       7.00000000\r\n",
      " Species with R^MT_min                      :       1 (C)\r\n",
      " Maximum |G+k| for APW functions            :       4.82758621\r\n",
      " Maximum |G| for potential and density      :      12.00000000\r\n",
      " \r\n",
      " G-vector grid sizes                        :      20    20    20\r\n",
      " Total number of G-vectors                  :    2229\r\n",
      " \r\n",
      " Maximum angular momentum used for\r\n",
      "     APW functions                          :       8\r\n",
      "     computing H and O matrix elements      :       8\r\n",
      "     potential and density                  :       8\r\n",
      "     inner part of muffin-tin               :       2\r\n"
     ]
    }
   ],
   "source": [
    "!head -n 71 run_tutorial_start_exciting_calculation/INFO.OUT | tail -n 13"
   ]
  },
  {
   "cell_type": "markdown",
   "metadata": {},
   "source": [
    "- Further computational details are printed below. The type of the exchange-correlation functional used in the calculation is among them."
   ]
  },
  {
   "cell_type": "code",
   "execution_count": 13,
   "metadata": {},
   "outputs": [
    {
     "name": "stdout",
     "output_type": "stream",
     "text": [
      " Total nuclear charge                       :     -12.00000000\r\n",
      " Total electronic charge                    :      12.00000000\r\n",
      " Total core charge                          :       4.00000000\r\n",
      " Total valence charge                       :       8.00000000\r\n",
      " \r\n",
      " Number of empty states                     :       5\r\n",
      " Total number of valence states             :      10\r\n",
      " \r\n",
      " Maximum Hamiltonian size                   :     158\r\n",
      " Maximum number of plane-waves              :     150\r\n",
      " Total number of local-orbitals             :       8\r\n",
      " \r\n",
      " Exchange-correlation type                  :      22\r\n",
      "     PBEsol, Phys. Rev. Lett. 100, 136406 (2008)\r\n",
      "     Generalised gradient approximation (GGA)\r\n",
      " \r\n",
      " Smearing scheme                            :    Gaussian\r\n",
      " Smearing width                             :       0.00100000\r\n",
      " \r\n",
      " Using multisecant Broyden potential mixing\r\n"
     ]
    }
   ],
   "source": [
    "!head -n 92 run_tutorial_start_exciting_calculation/INFO.OUT | tail -n 20"
   ]
  },
  {
   "cell_type": "markdown",
   "metadata": {},
   "source": [
    "- Further, intermediate results are printed after each iteration of the **SCF** (self-consistent field) loop."
   ]
  },
  {
   "cell_type": "code",
   "execution_count": 14,
   "metadata": {},
   "outputs": [
    {
     "name": "stdout",
     "output_type": "stream",
     "text": [
      "++++++++++++++++++++++++++++++++++++++++++++++++++++++++++++++++++++++++++++++++\r\n",
      "+ SCF iteration number :    1                                                  +\r\n",
      "++++++++++++++++++++++++++++++++++++++++++++++++++++++++++++++++++++++++++++++++\r\n",
      " Total energy                               :       -76.85604880\r\n",
      " _______________________________________________________________\r\n",
      " Fermi energy                               :         0.47006662\r\n",
      " Kinetic energy                             :        75.01766238\r\n",
      " Coulomb energy                             :      -141.28404834\r\n",
      " Exchange energy                            :       -10.09094085\r\n",
      " Correlation energy                         :        -0.49872199\r\n",
      " \r\n",
      " DOS at Fermi energy (states/Ha/cell)       :         0.00000000\r\n",
      " \r\n",
      " Electron charges :\r\n",
      "     core                                   :         4.00000000\r\n",
      "     core leakage                           :         0.00015896\r\n",
      "     valence                                :         8.00000000\r\n",
      "     interstitial                           :         2.95818803\r\n",
      "     charge in muffin-tin spheres :\r\n",
      "                  atom     1     C          :         4.52090598\r\n",
      "                  atom     2     C          :         4.52090598\r\n",
      "     total charge in muffin-tins            :         9.04181197\r\n",
      "     total charge                           :        12.00000000\r\n",
      " \r\n",
      " Estimated fundamental gap                  :         0.18549485\r\n",
      "        valence-band maximum at    1      0.0000  0.0000  0.0000\r\n",
      "     conduction-band minimum at    4      0.2500  0.2500  0.0000\r\n",
      " \r\n",
      " Wall time (seconds)                        :         1.10\r\n"
     ]
    }
   ],
   "source": [
    "!head -n 137 run_tutorial_start_exciting_calculation/INFO.OUT | tail -n 29"
   ]
  },
  {
   "cell_type": "markdown",
   "metadata": {},
   "source": [
    "- Actual values of the quantities which are relevant for self-consistency are displayed at each iteration (after the first one) and compared with convergence targets (shown in parentheses). If all self-consistency criteria are matched (values are smaller then targets) for the last 2 iterations the calculation has successfully ended."
   ]
  },
  {
   "cell_type": "code",
   "execution_count": 15,
   "metadata": {},
   "outputs": [
    {
     "name": "stdout",
     "output_type": "stream",
     "text": [
      " RMS change in effective potential (target) :   2.73381      ( 0.100000E-05)\r\n",
      " Absolute change in total energy   (target) :  0.329777      ( 0.100000E-05)\r\n",
      " Charge distance                   (target) :  0.752460E-02  ( 0.100000E-04)\r\n"
     ]
    }
   ],
   "source": [
    "!head -n 171 run_tutorial_start_exciting_calculation/INFO.OUT | tail -n 3"
   ]
  },
  {
   "cell_type": "markdown",
   "metadata": {},
   "source": [
    "- The final answer is reported at the last iteration."
   ]
  },
  {
   "cell_type": "code",
   "execution_count": 16,
   "metadata": {},
   "outputs": [
    {
     "name": "stdout",
     "output_type": "stream",
     "text": [
      "++++++++++++++++++++++++++++++++++++++++++++++++++++++++++++++++++++++++++++++++\r\n",
      "| Convergency criteria checked for the last 2 iterations                       +\r\n",
      "| Convergence targets achieved. Performing final SCF iteration                 +\r\n",
      "++++++++++++++++++++++++++++++++++++++++++++++++++++++++++++++++++++++++++++++++\r\n",
      " Total energy                               :       -75.88903685\r\n",
      " _______________________________________________________________\r\n",
      " Fermi energy                               :         0.50878170\r\n",
      " Kinetic energy                             :        75.54873162\r\n",
      " Coulomb energy                             :      -140.90113420\r\n",
      " Exchange energy                            :       -10.03412623\r\n",
      " Correlation energy                         :        -0.50250803\r\n",
      " \r\n",
      " DOS at Fermi energy (states/Ha/cell)       :         0.00000000\r\n",
      " \r\n",
      " Electron charges :\r\n",
      "     core                                   :         4.00000000\r\n",
      "     core leakage                           :         0.00016223\r\n",
      "     valence                                :         8.00000000\r\n",
      "     interstitial                           :         3.09358004\r\n",
      "     charge in muffin-tin spheres :\r\n",
      "                  atom     1     C          :         4.45320998\r\n",
      "                  atom     2     C          :         4.45320998\r\n",
      "     total charge in muffin-tins            :         8.90641996\r\n",
      "     total charge                           :        12.00000000\r\n",
      " \r\n",
      " Estimated fundamental gap                  :         0.15982903\r\n",
      "        valence-band maximum at    1      0.0000  0.0000  0.0000\r\n",
      "     conduction-band minimum at    4      0.2500  0.2500  0.0000\r\n"
     ]
    }
   ],
   "source": [
    "!tail -n 42 run_tutorial_start_exciting_calculation/INFO.OUT | head -n 28"
   ]
  },
  {
   "cell_type": "markdown",
   "metadata": {},
   "source": [
    "- The final lines of **INFO.OUT** tell how the execution has stopped and report the total time spent in the run."
   ]
  },
  {
   "cell_type": "code",
   "execution_count": 17,
   "metadata": {},
   "outputs": [
    {
     "name": "stdout",
     "output_type": "stream",
     "text": [
      "********************************************************************************\r\n",
      "* Groundstate module stopped                                                   *\r\n",
      "********************************************************************************\r\n",
      " \r\n",
      " Total time spent (seconds)                 :         8.15\r\n",
      "================================================================================\r\n",
      "| EXCITING FLUORINE stopped                                                    =\r\n",
      "================================================================================\r\n"
     ]
    }
   ],
   "source": [
    "!tail -n 8 run_tutorial_start_exciting_calculation/INFO.OUT"
   ]
  },
  {
   "cell_type": "markdown",
   "metadata": {},
   "source": [
    "Notice, that if a **CAUTION** message is present, it is worth to have a look at the file **WARNING.OUT**. The **CAUTION** message could look like the following.\n",
    "\n",
    "```\n",
    "********************************************************************************\n",
    "* Groundstate module stopped                                                   *\n",
    "********************************************************************************\n",
    "\n",
    " Total time spent (seconds)                 :        11.29\n",
    "\n",
    "--------------------------------------------------------------------------------\n",
    "| CAUTION! Warnings have been written in file WARNING.OUT !                    -\n",
    "--------------------------------------------------------------------------------\n",
    "\n",
    "================================================================================\n",
    "| EXCITING FLUORINE stopped                                                    =\n",
    "================================================================================\n",
    "```"
   ]
  },
  {
   "cell_type": "markdown",
   "metadata": {},
   "source": [
    "<hr style=\"border:1px solid #DDD\"> </hr>\n",
    "\n",
    "### <span style=\"color:#15317E\">4. Output Files of an exciting Calculation</span>\n",
    "\n",
    "\n",
    "- The main output file in **`exciting`** is **INFO.OUT**. A detailed description of the content of this file can be found in the previous section.\n",
    "\n",
    "filename|description\n",
    ":-----------|:--------------------------------\n",
    "**INFO.OUT**| Master output file containing the essential information on the material    system, parameters of the calculation, results (total energy, energy contributions, charge contributions, atomic forces, Fermi energy…) of each iteration, and more. The amount of information contained in this file can be triggered using the attribute <code><span style=\"color:mediumblue\">outputlevel</span></code> of the <code><span style=\"color:green\">groundstate</span></code> element.\n",
    "\n",
    "&nbsp;\n",
    "\n",
    "- Other relevant files which are updated or extended at each iteration contain information about the **SCF** calculation:\n",
    "\n",
    "filename|description\n",
    ":-----------|:--------------------------------\n",
    "**TOTENERGY.OUT**| Total energy in [Ha]; each line corresponds to one **SCF** iteration.\n",
    "**EFERMI.OUT**| Fermi energy in [Ha] at the last **SCF** iteration.\n",
    "**RMSDVEFF.OUT**| Root-mean-square deviation of the effective potential; each line corresponds to one **SCF** iteration, starting from the 2nd iteration and not considering the last **SCF** iteration.\n",
    "**DFSCFMAX.OUT**| Maximum variation of the non IBS part of the atomic forces; each line corresponds to one **SCF** iteration, starting from the 2nd iteration and not considering the last **SCF** iteration. Only written if forces are explicitly calculated (e.g., for atomic relaxation).\n",
    "**EIGVAL.OUT**| Eigenvalues (energies) of the valence bands, for each **k**-point and band.\n",
    "**EVALCORE.OUT**| Energy eigenvalues (energy levels) of the core states.\n",
    "**LINENGY.OUT**| Linearization energies as fixed in the species files (if <code><span style=\"color:mediumblue\">searchE</span></code> = **\"false\"** for the corresponding linearization energy in the **\"species\".xml** file) or determined by exciting (if <code><span style=\"color:mediumblue\">searchE</span></code> = **\"true\"** for the corresponding linearization energy in the **\"species\".xml** file).\n",
    "\n",
    "&nbsp;\n",
    "\n",
    "- Output files containing structural information, symmetries, *etc.*:\n",
    "\n",
    "filename|description\n",
    ":-----------|:--------------------------------\n",
    "**LATTICE.OUT**| Information on the lattice: Primitive lattice vectors, unit cell volume, reciprocal lattice vectors, *etc.*\n",
    "**SYMCRYS.OUT**| Information on the symmetry operations of the crystal; more symmetry information are found in the files **SYMT2.OUT**, **SYMSITE.OUT**, **SYMMULT.OUT**, **SYMLAT.OUT**, **SYMINV.OUT**, and **SYMGENR.OUT**.\n",
    "**KPOINTS.OUT**| List of **k**-points, their coordinates (in units of the reciprocal lattice vectors), weights, matrix size.\n",
    "**BONDLENGTH.OUT**| Interatomic distances; useful to check the correctness of an input file.\n",
    "**EQATOMS.OUT**| Information on equivalency of atoms due to the crystal symmetry.\n",
    "\n",
    "&nbsp;\n",
    "\n",
    "- Output files in **XML** format, useful for data storage, databases, *etc.*\n",
    "\n",
    "filename|description\n",
    ":-----------|:--------------------------------\n",
    "**atoms.xml**| The results of calculations performed for atoms in order to initialize the electron density.\n",
    "**info.xml**| The information contained in this file is similar to the one written in INFO.OUT, but displayed in the XML format.\n",
    "**geometry.xml**| Structural information on the system. This will often be identical to the element <code><span style=\"color:green\">structure</span></code> in your input file, but may differ for certain settings of the attributes in <code><span style=\"color:green\">structure</span></code>, *e.g*., if <code><span style=\"color:mediumblue\">primcell</span></code> = **\"true\"** or <code><span style=\"color:mediumblue\">tshift</span></code> = **\"true\"**\n",
    "\n",
    "&nbsp;\n",
    "\n",
    "- Some of the output files are not directly readable, because they are written as binary files. They are used by **`exciting`** for current storage of vectors and matrices. They are relevant when restarting or extending an existing calculation.\n",
    "\n",
    "\n",
    "filename|description\n",
    ":-----------|:--------------------------------\n",
    "**EVALFV.OUT**| First-variational eigenvalues.\n",
    "**EVALSV.OUT**| Second-variational eigenvalues.\n",
    "**EVECFV.OUT**| First-variational eigenvectors.\n",
    "**EVECSV.OUT**| Second-variational eigenvectors..\n",
    "**OCCSV.OUT** | Occupation of the second-variational states.\n",
    "**STATE.OUT**| Real-space distribution of the density and the potential"
   ]
  },
  {
   "cell_type": "markdown",
   "metadata": {},
   "source": [
    "- Both **<span style=\"color:firebrick\">initial</span>** (*e.g.*, **C.xml**) and **<span style=\"color:firebrick\">self-consistent</span>** (*e.g.*, **C_scf.xml**) **speciesfiles** are also saved, at the end of the run, in the working directory. These files specify which basis functions are used for each element in a calculation performed with **`exciting`**.\n",
    "\n",
    "<hr style=\"border:2px solid #DDD\"> </hr>"
   ]
  }
 ],
 "metadata": {
  "kernelspec": {
   "display_name": "excitingjupyter",
   "language": "python",
   "name": "excitingjupyter"
  },
  "language_info": {
   "codemirror_mode": {
    "name": "ipython",
    "version": 3
   },
   "file_extension": ".py",
   "mimetype": "text/x-python",
   "name": "python",
   "nbconvert_exporter": "python",
   "pygments_lexer": "ipython3",
   "version": "3.7.10"
  }
 },
 "nbformat": 4,
 "nbformat_minor": 1
}
