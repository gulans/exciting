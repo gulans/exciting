{
 "cells": [
  {
   "cell_type": "markdown",
   "metadata": {
    "collapsed": true
   },
   "source": [
    "# How to Start an exciting Calculation\n",
    "**by <span style=\"color:darkgreen\">Andris Gulans</span>, <span style=\"color:darkgreen\">Jürgen Spitaler</span>, & <span style=\"color:darkgreen\">Pasquale Pavone</span> for [<span style=\"color:darkgoldenrod\">exciting *neon*</span>](https://www.exciting-code.org/neon)**\n",
    "\n",
    "<font size=\"2\">(Jupyter notebook by <span style=\"color:darkgreen\">Mara Voiculescu</span> & <span style=\"color:darkgreen\">Martin Kuban</span>)</font>\n",
    "<hr style=\"border:2px solid #DDD\"> </hr>"
   ]
  },
  {
   "cell_type": "markdown",
   "metadata": {},
   "source": [
    "**<span style=\"color:firebrick\">Purpose</span>**: In this tutorial you will learn how to make the first steps with **`exciting`**. In addition, we give here a description of the output files produced by an **`exciting`** calculation.\n",
    "<hr style=\"border:2px solid #DDD\"> </hr>"
   ]
  },
  {
   "cell_type": "markdown",
   "metadata": {},
   "source": [
    "<div class=\"alert alert-block alert-warning\">\n",
    "\n",
    "**Table of Contents**\n",
    "\n",
    "[0. Before Starting](#Before)  \n",
    "[1. Preparing Input](#PrepInput)  \n",
    "[2. Running exciting](#RunExciting)       \n",
    "[3. Reading INFO.OUT - The Main Output File](#INFOOUT)  \n",
    "[4. Output Files of an exciting Calculation](#Outputs)  \n",
    "\n",
    "</div>\n"
   ]
  },
  {
   "cell_type": "markdown",
   "metadata": {},
   "source": [
    "<a id=\"Before\"></a>"
   ]
  },
  {
   "cell_type": "markdown",
   "metadata": {},
   "source": [
    "<hr style=\"border:1px solid #DDD\"> </hr>\n",
    "\n",
    "### <span style=\"color:#15317E\">0. Before Starting</span>\n",
    "\n",
    "Before running any Jupyter tutorials, please refer to the **`00_before_starting.md`** document on how to correctly set up the environment. This only needs to be done once. After which, the **venv** can be (re)activated from **`exciting`**'s root directory:\n",
    "\n",
    "<div style=\"background-color: rgb(224, 224, 224);\">\n",
    "\n",
    "```bash\n",
    "source tools/excitingjupyter/venv/excitingvenv/bin/activate\n",
    "```\n",
    "\n",
    "</div>\n",
    "\n",
    "Before starting any tutorial, it is a good practice to create a subdirectory for each tutorial you are going to work on. For this tutorial the subdirectory could be called, *e.g.*, **run_tutorial_start_exciting_calculation**."
   ]
  },
  {
   "cell_type": "code",
   "execution_count": 1,
   "metadata": {},
   "outputs": [],
   "source": [
    "%%bash\n",
    "mkdir -p run_tutorial_start_exciting_calculation"
   ]
  },
  {
   "cell_type": "markdown",
   "metadata": {},
   "source": [
    "<a id=\"PrepInput\"></a>"
   ]
  },
  {
   "cell_type": "markdown",
   "metadata": {},
   "source": [
    "<hr style=\"border:1px solid #DDD\"> </hr>\n",
    "\n",
    "### <span style=\"color:#15317E\">1. Preparing Input</span>\n",
    "\n",
    "**<span style=\"color:#15317E\">i) Diamond</span>**\n",
    "\n",
    "\n",
    "For the very first **`exciting`** run, you will use an already prepared example of an input file that sets up a total-energy calculation of diamond. Input files for **`exciting`** are written in the **XML** format and are typically named **input.xml**. The **XML** format allows your data to be written in a structured way. Figuratively speaking, an **`exciting`** input is pretty much like an article with its sections and subsections. In case of **XML** data, sections and subsections are called <code><span style=\"color:green\">elements</span></code>."
   ]
  },
  {
   "cell_type": "markdown",
   "metadata": {},
   "source": [
    "<span class=\"DIAMOND_INPUT\"></span>\n",
    "```xml\n",
    "<input>\n",
    "\n",
    "   <title>Diamond</title>\n",
    "\n",
    "   <structure speciespath=\"$EXCITINGROOT/species\">\n",
    "\n",
    "      <crystal scale=\"6.7274\">\n",
    "         <basevect>0.0   0.5   0.5</basevect>\n",
    "         <basevect>0.5   0.0   0.5</basevect>\n",
    "         <basevect>0.5   0.5   0.0</basevect>\n",
    "      </crystal>\n",
    "\n",
    "      <species speciesfile=\"C.xml\">\n",
    "         <atom coord=\"0.00 0.00 0.00\"/>\n",
    "         <atom coord=\"0.25 0.25 0.25\"/>\n",
    "      </species>\n",
    "\n",
    "   </structure>\n",
    "\n",
    "   <groundstate\n",
    "      ngridk=\"4 4 4\"\n",
    "      outputlevel=\"normal\"\n",
    "      xctype=\"GGA_PBE_SOL\">\n",
    "   </groundstate>\n",
    "\n",
    "</input>\n",
    "\n",
    "```"
   ]
  },
  {
   "cell_type": "markdown",
   "metadata": {},
   "source": [
    "Let us examine this example bit-by-bit. The first thing to be said is that an **XML** is **<span style=\"color:firebrick\">not sensitive</span>** to line indentation. However, for the sake of clarity, line indentation is used in all examples of these tutorials to illustrate the hierarchy among elements. Now, let's come back to the **input.xml** shown above. The first and the last line indicate the beginning and the end of the input.\n",
    "\n",
    "```xml\n",
    "<input>\n",
    "...\n",
    "</input>\n",
    "```\n",
    "\n",
    "The element <code><span style=\"color:green\">title</span></code> contains some freely chosen text simply to describe the calculation.\n",
    "```xml\n",
    "<title>Diamond</title>\n",
    "```\n",
    "\n",
    "The next element, <code><span style=\"color:green\">structure</span></code>, describes the geometry and the chemical composition of a studied system. Notice that the declaration of the <code><span style=\"color:green\">structure</span></code> section contains as additional information the parameter <code><span style=\"color:mediumblue\">speciespath</span></code>.\n",
    "\n",
    "```xml\n",
    "<structure speciespath=\"$EXCITINGROOT/species/\">\n",
    "```\n",
    "\n",
    "Such parameters in the XML language are called <code><span style=\"color:mediumblue\">attributes</span></code>, and their values are always given in quotes regardless whether it is numerical, symbolic, or boolean information. In particular, the attribute <code><span style=\"color:mediumblue\">speciespath</span></code> defines the location, where the files with the data about chemical elements are stored. In the example above, the <code><span style=\"color:mediumblue\">speciespath</span></code> **<span style=\"color:firebrick\">must be changed</span>** explicitly by either inserting the path for the attribute <code><span style=\"color:mediumblue\">speciespath</span></code> by hand in the input file, or by running the script **excitingscripts.setup.excitingroot**, as shown in the code cells below.\n",
    "\n",
    "**<span style=\"color:firebrick\">Remark on the species files directory</span>** in **`exciting`**: Starting with the release of **<span style=\"color:darkgoldenrod\">exciting boron</span>**, **<span style=\"color:firebrick\">it is not possible</span>** to define the attribute <code><span style=\"color:mediumblue\">speciespath</span></code> (i.e., the directory containing the species files) by linking directly to the **`exciting`**-code site.\n",
    "\n",
    "The element <code><span style=\"color:green\">structure</span></code> contains subelements <code><span style=\"color:green\">crystal</span></code> and <code><span style=\"color:green\">species</span></code>. The element <code><span style=\"color:green\">crystal</span></code> is used for defining the Bravais lattice of the studied system. It contains three lattice vectors (each specified by an element <code><span style=\"color:green\">basevect</span></code>) in units of the attribute <code><span style=\"color:mediumblue\">scale</span></code> that **<span style=\"color:firebrick\">is given in Bohr</span>**. The element <code><span style=\"color:green\">species</span></code> describes the chemical composition of the studied system. Atomic coordinates are specified by the element <code><span style=\"color:green\">atom</span></code>. The primitive unit cell of diamond contains two carbon atoms, and their positions are given in the basis of the lattice vectors (**lattice coordinates**).\n",
    "\n",
    "```xml\n",
    "   <structure ...>\n",
    "\n",
    "      <crystal scale=\"6.7274\">\n",
    "         <basevect>0.0   0.5   0.5</basevect>\n",
    "         <basevect>0.5   0.0   0.5</basevect>\n",
    "         <basevect>0.5   0.5   0.0</basevect>\n",
    "      </crystal>\n",
    "\n",
    "      <species speciesfile=\"C.xml\">\n",
    "         <atom coord=\"0.00 0.00 0.00\" />\n",
    "         <atom coord=\"0.25 0.25 0.25\" />\n",
    "      </species>\n",
    "\n",
    "   </structure>\n",
    "```\n",
    "The next element, <code><span style=\"color:green\">groundstate</span></code>, contains attributes that define computational parameters. In particular, in calculations of periodic systems it is necessary to define how the Brillouin zone is sampled. It is done using the attribute <code><span style=\"color:mediumblue\">ngridk</span></code>. The calculation of some quantities, such as the electron density and the total energy, requires an integration over the Brillouin zone. In practice, the integration is replaced with a sum over equally-spaced points. The number of divisions of the Brillouin zone along each of the three directions of the primitive vectors of the reciprocal lattice is exactly what is specified in the attribute <code><span style=\"color:mediumblue\">ngridk</span></code>.\n",
    "\n",
    "\n",
    "```xml\n",
    "   <groundstate\n",
    "      ngridk=\"4 4 4\"\n",
    "      outputlevel=\"normal\"\n",
    "      xctype=\"GGA_PBE_SOL\">\n",
    "   </groundstate>\n",
    "```\n",
    "\n",
    "The attribute <code><span style=\"color:mediumblue\">outputlevel</span></code> of the <code><span style=\"color:green\">groundstate</span></code> element specifies the amount of information which is printed to output files. The attribute <code><span style=\"color:mediumblue\">xctype</span></code> specifies the type of exchange-correlation functional to be used.\n",
    "\n",
    "\n",
    "The next step is writing the complete input as a string and saving it  as **input.xml**. While for storage or archiving purposes you may choose any name for the input file, running the **`exciting`** code requires that specifically the file **input.xml** is present."
   ]
  },
  {
   "cell_type": "code",
   "execution_count": 2,
   "metadata": {
    "tags": [
     "remove_cell"
    ]
   },
   "outputs": [],
   "source": [
    "import os\n",
    "from excitingjupyter.utilities import get_input_xml_from_notebook\n",
    "\n",
    "input_str = get_input_xml_from_notebook(\"tutorial_how_to_start_an_exciting_calculation\", \"DIAMOND_INPUT\")\n",
    "\n",
    "# Write out the input as an XML file:\n",
    "with open(os.path.join(os.getcwd(), 'run_tutorial_start_exciting_calculation/input.xml'), \"w\") as fid:\n",
    "    fid.write(input_str)"
   ]
  },
  {
   "cell_type": "markdown",
   "metadata": {},
   "source": [
    "Now you can define the attribute <code><span style=\"color:mediumblue\">speciespath</span></code> by moving into your running directory and running the following script."
   ]
  },
  {
   "cell_type": "code",
   "execution_count": 3,
   "metadata": {},
   "outputs": [],
   "source": [
    "%%bash\n",
    "cd run_tutorial_start_exciting_calculation\n",
    "python3 -m excitingscripts.setup.excitingroot\n",
    "cd .."
   ]
  },
  {
   "cell_type": "markdown",
   "metadata": {},
   "source": [
    "**<span style=\"color:#15317E\">ii) Visualization of Structures</span>**\n",
    "\n",
    "You are ready to start a calculation, but it makes sense to visualize the structure defined in the input before running the code. If [**XCrySDen**](http://www.xcrysden.org/) is pre-installed, it can be configured for viewing **`exciting`** input files. To this purpose, before running **XCrySDen**, follow the instructions in [**XCrySDen Setup for exciting**](https://www.exciting-code.org/xcrysden-setup-for-exciting). After configuring **XcrySDen**, try to visualize the prepared input file."
   ]
  },
  {
   "cell_type": "code",
   "execution_count": 1,
   "metadata": {},
   "outputs": [],
   "source": [
    "%%bash\n",
    "cd run_tutorial_start_exciting_calculation\n",
    "xcrysden --exciting input.xml >/dev/null 2>&1 &\n",
    "cd .."
   ]
  },
  {
   "cell_type": "markdown",
   "metadata": {},
   "source": [
    "If everything is set up properly, this command will open a window as shown below.\n",
    "<br></br>\n",
    "<div>\n",
    "<img src=\" data:image/png;base64,iVBORw0KGgoAAAANSUhEUgAAAxQAAALrCAYAAABnMMHpAAAACXBIWXMAAA7EAAAOxAGVKw4bAAAAJ3RFWHREZXNjcmlwdGlvbgBXaW5kb3cgQ2xhc3M6IHhjSW5pdC50Y2wgIzOzqPPJAAAAHnRFWHRUaXRsZQBYQ3J5U0RlbjogaW5wdXQueHNmIDwyPj8aBR1mAAAgAElEQVR4nOydd5gUVdaH3+owkWHIoclIzlnFBLrmNWJYdWVX/T5dc0REWQW/FbOuOWeFRUUQzCgYVyQnJTNDTkMcJnSq+v7oqZ7qnuru6p7umR7mvM9Tz3RX3XPurTt1u86vbiiFMG566Udt50F3+G5BEARBEARBEOo5LRpm8uINJyrGfcEvD7w/T7PZHPTs1Bq35iTDDhn2mi+kcAShxE6SepQo39KAGilQ1UxqtB5Slll0x7VUtTXmOO2u5SShJTFVijJPcRZ199yiZ5UWlVujVC1OGhQwDYog1F08fnCrkK14WblxG3ZN4/4rjlag4p70wPvztC6uxuTlN6ZzI5Wm2eCw1W6hhVAUJYXhQ4XvpOeQCr+J+DTUnSU7JQERYvL/SZu84klfzbQR01tNG+M6D30cUjtpa8x3ksuRaB5xoQWilbhiFq0ytSW7ePKIx3eC5Ui67wTTRk2vxRHamqSNmD4JaRNJH9EuEZuaystC+ip2cdjUhs9U+g3JI4W+hfjxqVBUCgUHbRzYt48tew7yz8uPVhwAdpuD3AYNGdLKj9NeO8+9/H5/yEWjKAp2u3SR6GiallpRIVSiafEHWonYJDEvjSiBfzzpEz2PZBFP/jHShpxjEtPWhG8ARf89jOFbRzHedC3mESsICPeStNt6vMG7wSbe9JZs0lBMxFOGWqGWxURSbGo6LyFu6pqYSGUsmy6+HTZo1QCa5KgsUPPx7joUsLn+xR+1o3t3YoDLQeu8yttHy1atqlW4XTt3Wkrn8/koKSmhrKyMzMxMHA4HXq8Xj8dDdnY2ubm5OByOapXlSCFlgiJVPRSp8B1vb0OYjWW7I62XIp58aruXIkpa0/S12FNRo/7jbP/x1lPKsPoUPYZ9WgiJVPqPp56q2eNQo70TMQLCetE7YdGmil2SgulU9iKkuoeirgiKVMay6ex7+yGVpTt8LPy9EMeeQ278QPNcazebrl27MnbsWL755hs+/PDDhE4AAheJx+Nh9549dOzYkUaNGlU5fuDAATYVFtKiRQsyMjLkCX2qqHhqGvUpd7pQU70HNdFzEMEuERvLdlbSJ6FHwzR9EtKaprfQQ4BuE+Opfzxpk+Y/Rh7hN2yrAiNaQJOoaA33YznveKjmsClLtukkJMLSx7SpS2IiBnVBTNQpmxom1WKiLpDKWLYu+G6eq6CisOuQGxtApl2xPGeiZcuWZGdnc8MNN9CgQQNrRiYnUl5ezs6dO+nZsyc5OTm43W7Ky8uDm8fjITc3l569erFjxw7Ky8vrjFJNFXXy/BMJDqy6rkG7RIKO+DJIzg2nLgci8QQJVdJrWnxPQi2kDblZWgxYrNpoYVswfRz5aJoW3OKxN8vfdDP4D9ks2ForRGWZjf6nz5hB3759aN2qpXV7q/kb6shyWeO1iVd4hKWPpw1HTZ8OYuIIGOqU0vtFkuws+ayD8UO6xzypjGXrim+nXSGrYqpEhaCInPGIESOYOHEiLpcLl8vFzp07WbRoEdOmTaNdu3Ycd9xxNGrUiObNmzNixIiYJwKBLpZt27bRvUd3VNWH212Ox+PG6/UEN4/Hjdtdjt/vo1v37mzbtg2fz2fJv5AAKQz8k04SbjqWA4l4bczcWE4YRyBiYmPJNl1EhdX0FgPzSOW49ZZbmPDAAyHp77//fm699VbQNGZM/4STR46kU8cOHDd8OB9+ODWy/yhB+/r16xk9+kp69OhOx44duOCC85k9e3Ywvat1K1ytW9GpYwdOOeVk3nvvXdN89ECe8C0GkYRAq5YtqvpK4k26VcsWEQpUNc9owsTIgw9O5J133mVP0d6I/qLZA8yaNYsRJ51Ih/bt+PPZZ7FyxYoqwiMqYXVlWahUQ3hYFUJGG6tpY6Y3252itImkj2ibQlFgamexLcZrU9VJ+t+J67JQSRapjGVr0ndx8SFT38XFhyz5zqgYERWzX2LYsGFccskljBo1inbt2lFaWkrXrl255ZZbOPHEEykoKKB3797cf//9TJ06lXPPPTeqP03T2LdvH3kNG6KpGmWl5Xg93ohbeVk5CpCTm8u+ffvSXrGmmpo4/6TnkAqxkojPmhIV8Qb5EWxTKiqqEZxEDH6iBDLVTh+PsDCkfezxx5k7dw5z5swB4LvvvuP77+fy2OOP88WXX/DYY4/xxJNPUrhpMx99/DG/zfstqv9I4uKaq6/i6KOPZsGCBRQUFjLu3vt49913Q2z2FO1lY0Ehjz32GK++8irvv/dezPOJKjIs/BbsKdobX+9DnBuRfJnkaQlNY+eOHQwcOBCf12sqHqxc25/NmsXrr7/Bho0FnHvueVz3j+sSFhFW21LcYiVO/8FdkWxqqf0l0lZNy2KBpImJFAmD6oiJVAToqQr6ayIKS/dYL5WxbCzfv6/8Pam+x91zD2PvHkt5WSAfj9vDv/7v/7jpxhvj8h1TUPz44488+OCDnH322UybNo1jjz2W5cuX8+6779KzZ08+/PBDysvLmT9/Pv/617/4+eefo/rz+/0cOHCAVs2bU1paitfrjbmVlpbSunVrDhw4gN/vj1XkI56UNbRUNmARFQmLipTlZzVQidd/lMAjnpt7MoRFZkYGr7z6GmPvHsPKlSu5Z+zdvPra62RkZPDySy/x+BNPMHjwYFRVpY3LxTPPPhvMo20bF6+99ipDhwymbRsXJ514AqqqBvNwezwMGTKYwoICtm3bxkWjLiIvryGgMGzYMCZPmRJSNo/HA8DgwUN48qmneOedt4N57d61i79ceikd2rfj+OOOY8GC+UE7V+tWPP30U3Tv3o2+ffvwxZdfBMvQulXLyGJD02jerGnQT+tWLXn6qafo3q0rffv05ssvvgg59tC//kXnTh05eeQINm7cGHLMiP7d+NdseNI994zlk2nTgt+nf/IJY+++GzSNGdOnc9zw4bRr24ahQwbzwfvvo2karVu3Cv5t3bqVpWB7186dvPzSS5xy8snBenn9jTfo0rUrdrudv155JTu2bw+a/emUU3jl5ZfZvWtX9USEVVGQiE08QkJPH74rzvS6TTxp4w2gqxPci5iIj1SJidBMUuM73cUEmMeyGzZuoLi4OCR+PXz4MBs2bIgrlo0WJ3/44VQuvPACXn/9tYTiZDPf/7z/AVauXME//zme8vJyHnroIb6f+z0PTZoUl++YgiIrK4u5c+cybdo0Vq5cyaBBg+jTpw9HHXUUTqeTPXv2UF5ezh9//MFHH33Evn37ovrTNI2ysjKw26p0sXi9HjZsWF9ln8fjxmZTKCsrqxMXWp0mFYF/Kn2nu6iIJyiojfyq+QQ0nrRRbcICLsvpI2AMDHv17Mn1N9zAOX/+M9ffcAM9e/YE4Pfff2fIkKGoqgqAqml4vd6Q/AoKCpgz93v2FO2lZcuWzJw5M5jHtGnTGD58OB07dWLM3Xdz8skj+dvo0Ux44AHmfPdd4Am7adVo9OvXj/Xr1wfzGjduHBddfBGFmzbx0KSHuOP220PO0e/zs3zFSh599LGQIVz6sCAtwqbnp/9u+ny+oJ8HHrg/JI+s7CzWrd/AmWeexfj77g2t4/D/j6YF895TtDfw2ZBG0zQeemgS//nPFH784Qd++eUXJk+ezKSHH0YD7r57DE//+99s3rKVmbM+Y/HixSHnE/QZnnfFVlJSwsfTpnHZZX9h5MgRrF+/nocfeSRYLz6fL3jOr7z8MmeddXbQ18OPPML69esYOXIEl19+GdOmTaOktNSyiDCr41g24f+jmDbGXZFsIrSZmEKimm2sOu0xHhujbRU7CzY1nV+8NlVs64iYqBGhUgcwi2XfevNNrrvuWg4ePIDX66Gk5DC33XYrzz33bFyxbKQ4eerU//DUU0/x6quv8c477/Dmm2/EHSeb+c7JzubTT2fyxx9/cOGFF/Dzzz8xY+ZMGjdqFJfvmIKiYcOG+P1+tm3bxvz582nTpg2XXnopmzdvZsuWLWzYsIEePXoEJ3jEwufz4fP58PtVPB5vle3773+gvNxdZb/fr+L1emUeRQUpFVYiKiLbGOws5xfhppxIfikVFuG7kuE/XmERxcY0IIsiRHT8qoq73I3NZsPj9qD6/cH0upiIxAMPTCAvLw93eTlj7h7Ls8/8G7Vive7XX3uV2267HU3TuP76G/h13m/89cq/0rx5cx58cCITJkxAM5bNGFyGlfeHH77nlptvpo3LxWV/+QsbN24MOddbb7sNp9PJ6WecwdatW4O+vB6PpTrQue3228nIyOCMM89k69atIXlce+112Gw2/nH99cybNy9UlECV794KwaQ/IQtPY7PZeOXV17jvvvu4795xvPLqq9hsgVvO5VdcwT/Hj+fecfewds0anv73vyvPB/B6PHg8HsyGO91yy80MHjSIWTM/5Yq/XsnK3//g6X//m2HDhoWerKYxZfJkZs78lH899FDQ17Bhw3jq6X+z8vc/uOKKvzJz5kyGDB7ErbfeEmIbSUREpToiwqStJ9I+ouZhxSZGmzX1HSnbOP1HtU1UEOi2FkhKfiImqpdHHREqZrHs//3rIfLyGnLzzTezZ08Rd9xxB263m6eeejquWNbM9/Tp03nuuef48KOPOPXUU/lk+gzeffdd3n///Wr7PnjwIG6Ph6FDh7Jt2zb69euPzaawf/+BuHxHFRSNGjUiPz+fnJwcGjduTE5ODqtXr+aaa65h06ZNFBcX06tXLy6++GI6depkabkqPU14L4S+3XjTjfj9vqrH3G4URZGlYw2IqDD3GVegX02BkNIg3yQ/3c4S8QqZJDztjBkEWRUKidhESL906VLeeedtvpszh7feepOly5ahAb1792b+b/Oi5pORkRESiDZv3pzPPv+cb7/9li5du9K5c2fQNPw+Hw0bNuS0007n5ltuYeasWbz//nvBsoaUWdNYvHgRXbp2rQxYNY0VK38PPpnfvacopBz6OuCKopgG2Ubf4XMcjOfmsNtB01Aq0hqP6UJL1bu0K44pioLf5wNNo7ysrIrP8ODbuO3Yvp0DB/azd+9eDh44ECzXxIkPBoYldenKk08+wT+uu66KYImMgqKAYrOBpuFxu/F5vWiqGqxLTdN4/fXXefnll/l42ifk5+cHrVVVxefz4Xa7UTUNxRa4r+hL+SYyZ6PGRESE9pZomzNNb+YqzvS6jWmZLJBIkJ5IGSPaplCAVMlPxERlHnVETIB5LFt86BAfTJ5Mfn4+l156CT6fj4+nfUJpaUlcsayZb4CpH35E+/btKSwsoEmTxsyY8SlOp7Pavj0eNxMeuJ+ffvqJ2d9+y9q1axhz11243eVx+Y4qKK666ioeffRRRo0axdy5c5k/fz6HDh3i6aef5swzz2TRokW8+OKLbNiwgXfffZebbropmjsA7HY7GZmZ7Nu3H7/fX2W+xJbNm6vsU1WVffv2kZGZKW/PDkNERVWfcftNgkBIWZAfJb9E7CzZJuGJabzpY5YtQXFxuLiYW2+5mWefe55OnTrxzDPPcsvNN3H48GFuuPEmxt17LwsWLMDr87Fp0ybuvOOOiPmoqspdY+7muWef4ZWXX+K2225HrQg+//a30fz3v79QVlrK/n37mPzBB7QyeTmo1+tlwYIF3DN2LFdddXWw3KeccgoTJ05g9+7dFBQUcN21/2setCdAeKBu9h3g1ddexe3x8PIrL3PMsccGj7Vp04YvvviCktJSXnjhhRC77OxsNm3ebCpuSkpLueGG63nhxReZ9PDDXHvttbjdbgDuuvMOAP5+1VVMmDiRb7+dHaHwWpXthRdeYPmKlZx77rm8/8H7DBo0kLvG3BXsVQF49tlneO+995g+YwZNmjQJEVe/zfuVMXfdxeBBA5k8+QPOO+88li1fwfMvvBhfD4SJgIhob2Jn9v+IaBN+yEpeEWysBt3R2lUsIZHUwN6iXdWd1oP7RPKrYmeRRO0s+xUxUSOYxbKHDxezeVMh738wmeHDj2Pqhx+xY/s2Dh06FFcsa+b7ytGjadeuLdu3bcPr9bJr507yG+Vz7XXXVdv3a6+9xsKFC/l05ixatGjBjE9nsnHjRp555pm4fBtef1f1n/nNN99w4MAB1q5dS4sWLVi+fDkXX3wxn3/+Oa1ateLKK6/kvffeY86cOTRo0IB169YRzR+AzaaQ1yCXRQsXcvzxx3Po4IGIhdPJyc9n7i/f039AoBsmyWFonUereIqYfJTAD4gSqPHk5hDqm2T51ypKGleZK8sSdGPJNtTO2nkolT/KYflFtjUmDLVN1M5oG7o7zJOlsiqhaauZvmrZIpQpql3gwPjx93Heeedz9NFHo/r9HDt8OGf/+c+Mv+9ennv+eTxuN2PH3k1BQQFt27bljjvujHrDHzZ0KI0aNSI3N5devXoGh0xddfXVPPH44yxZsgSn08nAgQN5/Y03Q26Sbdu4yMjI4KijuvCP62/giisuD05we/yJJ7jzjjsYPGggLVq04L77xoeUI/yGrvtt28bFtm3biUrItR3+21n53ePx0KtnDzp06MCbb70dPDbxwQe5e8wYPF4vN954Y4jdtddex8kjR1BWVsa27dtp43KxrWIC9Lhx9/D3v1/FiSeeCBps37ade8fdw5NPPsXAgQO54Pzz2LlzJx06dOTppwNDnoJCJ0pw4fX5sNttjBo1iosvvoTdu3fx0UcfM/6f4yuW6oXHHn0UgL59egftVq9ZS25uLuPH/5OLL7mEcffeS8uWLfH7fRU3Vk+kqomy21Iik93x2QUORT0YcWeUQ9VMH8MmDmdVBUiCdlV2Rhc+5juixxeJ2lVNmpw4xvx0UyFUku876LGOiQmIHMt6PR42rF/H2++8w9rVqykpORy0sRrLmvku2LChSrod27Ylxffw4cMZc/dYPOXl7Ny+jUaNG/PZZ5/z9ddf4fV4LPtWLnpktnbJST05sWOo6mjVunWVxKNHj6Zz58507NgRp9MJwNSpU/nss8+A0PHIO3fsMM0QoLi4mLVr12Kz22jduhUlh0sipm2Qm8uWrdtQFIVu3bqRl5cXMW19JyWiQokYaibVf9J9K1XC0NSUJdH6ScTO5P+bUtt4bSJcf0m1iXGNhx/NyMxE07TgeH8Ap9OJoih4PB4cDgcOhwObzRZM568YI5qdk0NZaWlInj6fj3vGjuX6G27gqKOOCu632+1BP1AxrKbiyQ6KQlZWVjCtpmkVY1grV8tQFAWHw4Hdbg8e14ceZWZl4S4vD6Y1fs/Mygo+9TcjMzMzeNz4Ofx72zYudu7aHczf6/UGb/I2mw2Hw4GiKPh8PhwOR9BOLzOA2+0O8elwONA0LXiedrs96MNutwe/xzrfcMJvZYqiBP3peRvrW0cfrpWZmYnf78dfMRfGzKd5xnEEpxZtk26XSBmTPGwpab0F1bGtgR6DRJ/aawnYpKoscflOlf86KCZ0UhnL1qTvJk2aUlZWRtGePcE0TZo0oWF+PkW7d8f0/dMmP1O/X2XsoYjNhg0bWL58OSNHjqRx48YANG/ePObExnCys7Np1aoVf/zxB2VlZXTpchSHDh4KmezhcDrJy2vI2rVrKS8ro1evXmRnZ8eVT31Db5hJFRbBJ9RKCnopKvynwrf+tDMeYWEoC1bLE1Y/KbUz2AR3GQ5HtY9iG9Eu3vxCeg5SZBN+8wm71sNvTR6TYFuf+EtFcBtpkllZaWlInu3bt8Nut/PUU0/RtUsXVENZ9ADVDEUzzD0wTaAEg3ivycpQ5WHBtfF7+LHw+jUG5uFBevh3n9drujKV6vfjMZyb31Bf4TZGn+G+jHZ+nw+/z2caQIafUyx0QWLMz6y+9bzKowiwCofRD8cuUM3apoFNRLtEhytZtK1iX5NCIhG7OjYcKaW+67CQ0EllLFuTvm02WxXfe/ftw+P1sXb9Bsu+Y67yZKSkpIQWLVpQUlISFBS//PJLPC6AwJOrli1b0qNHD9BgxoyZFB8qJi+vAfkNG5KX14CDBw/w6YwZ2G02evToQcuWLYMTE4XopKShxvMkLxHfWuVEyGT71idZxlMWKspSY3bxnH+EccyW7OMdx20hv4iBRHXGjEewqWIXwSaSbZVgIIp9uN2eor3s3LWbiy6+JPAQxczeYhlCyhPJTwy/plWY4BbxBXgp3qydlLX6iTuvGPVsyU+c9jHLYDwUyTaO661aNuF2ZsWPlVcUEsnP1D7BNhKSX6rt4khvlSrnn2RCzjXZvo8AMQGpjWXrou+4hjwB5OTk0Lt3b8rLy1m3bl3Ep0nRhjzp+Hw+Dh06xO7duzlUXMz2bdsoLy8nKysLV5s2NMzLo0WLFjRs2FDERIKkchhUytbbSqX/eIdCVWfIV6LnkaThUJbta9o20fyirVyRoF0y8o7LTxy+Evaf4jJYIkkBQ7W8VOfpeJy+LPlJtOci0bxT0AtRm7ZV7OO8xhINkBPNMxjsJ5lUBvqp9n+kCIlwUhnL1gXfCQ15AigtLWXBggXxmpnicDho3LgxDRs2xO1206ljR/x+P3a7nZycHDIrZpTLUrGJk5IJ2/qT+FQF/poW/xCiOHxrYF1YGJ84xnu+YfVk2TaRPI0/1PEOiQr/ka+wj9s2kWFOEfKzZGfVNopdMEnVFKF+It0ILfoJ8RfPTTVO/5YxKUOi7axGQ4TqBINJ8J9yAZLCoDzpeSYiAhKwD/FRQ2Kg2nmmUkik2n+qhMoRKiYgtbFsXfIdUVBY6WFIBvpkRIfDQU5OTsh+ITmkZG5FwHFq51ZA+ggLQ5kSFRYJnUsioqQ64iKCfcxgP9wuHluLdpZsK+xrQiBYFgcR/gcxzaz6jyP/aKT8dl/bvRbVDYAT8Fmdnofq2qdNT0IC9lV8iJCo+CK9EulKKmPZuuI7rcYRiYhILXW2twLSWlhYLpNJz0PKbZMpLgw+kikwqtjH0RNhmnec9iE+ot38EumNiOWzGv6toqTJDT1lpajlXgtLPmtLPFQ370QFQDJ81IaISNRWhIS5/zT57alpUhnLprPvtBIUQupJaW8FNSAsUpWHQVhY9l0bAqE6ttURB2Y+ojx5j0dgWLKvjkiIZG/BR4ifdO6NiNKe68QtvZqBR6p7LSznUQfERzLso/qoS0KgurZ1cOhRTeRRX4VEfaeKoGhp8nZXQRAEQRAEQRCObB5+eJKldFdfdXXId9Meik2FBdUvkSAIgiAIglBnmTxlCuPG3StxYT3jT6ecEvL92+++C9k3dNjR7Nq5MyRNXO+hEARBEARBEAShfjB02NGW0omgEARBEARBEATBlMsvu4xvv/suahrDkCeZRCMIgiAIgiAIQqB3IvJwt1DdIKs8CYIgCIIgCHExecqU2i6CUA0uv+yyuNNPnjKlyvwKHREUgiAIgiAIQtyMG3dvbRdBSJBYE+2j905UJSgoZNlgQRAEQRAEIR5kBai6hb5yVyLovRRDhx1dRTdID4UgCIIgCIIgCECgd8Lq+yh0RFAIgiAIgiAIggDAgvm/RZwrEQkRFIIgCIIgCEKdp2OnzrVdBAAKCzbWdhGqhdV3TxgRQSEIgiAIgiAcEahbZtVq/rZ259Rq/ski0tyYSHMwLAuKt95+J6ECXfX3vyVkVx2OO/4EXnrpRfr17Rvyua6TjHM5kuojmTw0aRIOu4OxY+8GQuupcNMmrrv2OrZt386YMXfxt9Gja7m0yWPTps0oikL79u1quyhCClmyZCndunUlNze3touSNtSH38L6cI6CYMaXc2tHVHw1d1Wt5JsOxNVDMWHixNAdYTO8FSV0xwMPTKBjp84p6fo57fTTWbt2Xci+mTM/pV/fvtxxx+20bdMm6XmmEv18FEUhNzeXLl26cN555zL6yiux2+0AdfK8UsFpp5/OunXr+fmnH2ljqI+LL76EBQsX8sXnn9GrV69q5WGs67fefIsTTjyB8ffdVy2fNckff6yitLSEQYMGYbPZkuZ337797Nixg5KSEgCys7Np1qwZrVq1RFGUpOWT7ixbtpyysjIA7HY7+fkN6dSpE06ns5ZLBosXL6F7924h4qFt27ZkZGTUYqkSw+12071Hz4jHn376KS44//waLFHNctrpp3P99deHnOOsWbN4+t/PMOe7b2uxZIIgCKHU6SFPjz/2GOeeW9m1pN8wR114YW0VqVo8+eQTnHfeeRwuLmbhokX86//+xcIFC3nhheeBunteqaBjx45Mnz6Dm266EYDNmzezY+fOpAV0xrreuWsXI0eOSIrfmsDtdnP48GEyMjLYv/8ATZs2SYrfXbt2s2XLZjp06Ejjxo1QFIXS0lJ27NhJs2ZN0yKYrkmOOuoomjVritvtZt269WzevJmjjjoqJI2maTUmtKLl1bx5sxopQ7LJzMxkzerKJ37HHDucp596kmOPPRag3l1zgiDEx9mjX62RfD5/99oaySedSd6jy1rA4XSQmZkZ3PSb6XHHn8DyFSuqpN+xcyfXXPM/9OnbjyFDh/H88y/UdJGjYrPZcNjtNGrUiD+dcgpvvvkGX371FcuWLwdCz+uRRx5l0KDB9O3XnxNPGsHSpUsBGDJ0GM8+9xwXX3wJp/zpVO64407cbrdpfo89/jjHHDucnr1686dTT+PHH38E4JVXX+Uf118fknbChIlMnPhgqk49bi644Hw+mT49+P2TT6ZzwfnnhwRUa9au5aKLL6ZX7z4cd/wJfPTRx8FjK1eu5IwzzqRf/wFcfc01HDp0KMS/Xtd33nkXP/zwA48++hjHHX8C99wzLu3rZs+eIvLzG9K8eTP27NkTcqykpITly1ewcOFCVq9eg9/vCx7bvn17lV6/wsJNFBZuQlVVtmzZTMeOnWjevBkOhwO73U5eXh7dunUNBnYej4c1a9awYMFCFi1azLZt24K+SkvL+P33P5g/fwFLliwNKduiRYvZtWsXS5cuY/78BWzatBmPx8MffwTSr1q1Cr/fn4rqShhFAUVRyMrKomnTJpSWBnosAue9nRUrVrJ8eXYKsKgAACAASURBVKC9xjr3bdu28fvvf7Bs2XLWr9+AqqrB49HqNDyvgoJCvF4vq1evqcinCAgMedJ7laL527x5MwsXLmLBgoUsWbKUw4cPp64CLWL8jQdwOJ3B7zabLWo7j3bMSKTf07qA1ftaPPcGQRCEeKnTgiIeVFXl6quvoVu3bixZvIjPP5vFJ9On88WXX9Z20SLSuXNnunXrxoL5C0L2L168mFmffca3385mxfJlTJ36H1q1ahU8vnLl7/znP1OY/c3XlJSW8syzz5r679unL199+QV//L6S66//BzfedDNlZWVccP75/PDDj8Eg2+f3M3PWLC5Mox6SLl26kJubw7JlywCYPmM6o0ZVls/n83HNNf/DiJNGsHLFcl588QUmTJzIwoWL8Pl8XHvdP7j44otZtnQJ1117LZ9+OtM0nyeffIITTjiBsWPv5peff+KOO25P+7opKiqiadOmNG3alIMHD+L1eoHAE+y1a9fSvHlzhgwZgsvVmqKivUG7pk2bcuDAgWDgrmkae/fupVmzppSUlOD3qzRp0jhq3qtXryE7O4chQwbTt28fioqK2LdvH5qmsWbNGho1ymfYsKF07dqVwsJNFBcXB2337dtPnz596N+/H3v27GHdunV06tSZwYMHoaoau3btTkFtVR+/38+BAwfJysoK7ispOUyfPr3p37+fpXMvKSmhV6+e9O/fD1X1hwT5kerULK9OnTridDrp0aM7AwcOMO2ZiOSvuPgwe/fuo3//fgwdOoTevXul/TCpWO080jEjsX5P05l472tW7w2CIAjxEp+g0LSQbcKEB0I2UMK21DJ+/HgGDhrMwEGDufjiS6KmXb58OVu2bOGuu+7E6XTSsmVLRo++ki++SF9BAdC0aRMOHjwYsi87O5uysjJWr16Dz+ejdatWITfAK6/8K3a7HZvNxt9Gj+azzz439X3mmWfQqFFg6MqoCy+kSZPGrFmzhhYtWjB06FA+/+ILAH744QeaNGlC3759UneiCXDhhRfyySfTWbBwIU2aNKVjx47BY4uXLKG0pIQbbrgem81G/379OP/885k5ayaLlyzB7XZz9dVXoSgKRx99NCeccIKlPNO9boqLi/F4PDRu3JisrCyys7ODouHw4cOoqkbr1oFrpWHDhuTn5wdtMzMzyc3NZd++/QAcOnQIm81GgwYN8Hp92O22kPkYq1evZtGixSxatJgDBw5w+PBh3G437dq1RVEUMjIyaNmyJXv37uPw4cP4/f7gnJcGDXJp1qwpe/dWChqXqzUOh53MzEzy8vJo2DCf7Ows7HY7TZo0obS0JOX1Fw8FBYUsWrSYhQsXoapqyMT2Vq1aBXvLrJx7y5aVc1BatWoV8j+LVKdmecUimj+73YaqqpSVlaFpGhkZGWkvKGK180jHjMT6Pa1tjPe5gYMGc49hdZV472tW7w2CUB9ZMiCwCYlhmEOhRU6VpowZM4bTTz8dAKcj+nSQHTt24vF4OPW004P7vF4vPXtGnvCXDuzdu49GjRqF7OvZsyd33XUnkx5+mIKCAkaOGMHEiRNo2rQpAM2bVT6VbNasGUVFRaa+J0+ezHvvf8D+/fux2+3s2rWLkpJSAC4aNYr3P/iAy/7yF6ZPn8GFF1yQojNMnHPPOYczzjyLktLSKvNLioqKaNW6dUgA3LZNG1asWEFRURFt27QJCcLatbO+ylE6101guFN+cCJ/06ZN2LNnD61bt8Lr9ZKZGRogZmVlhnzXA93mzZtRVLSXZhXXktPpwO9XUVU1WKddunRB0zRWrvwdVdXweDxomsbyiiF6AKqqkZubY5p3ZmYmhw9XigSns/K4zWYLGR9vs9lQ1fT6jWrfrh1NmjYJBmhGHI7Ksls7d2fIZ71XKVqdmuUVi2j+cnJyaNeuLZs2baa8vJxGjRrRsWOHtJ6nEKudRzpmJNbvaW1jvM8BfDv7W956+20g/vua1XuDINQ3jEJiyQAYsKTm5r/VXbSQv3V6UnZ+fj6tLT5Jat68OU2aNOG7b2fXmYuksLCQtWvXMnTY0CrHLr/sMi6/7DL279/PmDF38/zzL/DAA/cDsGXrVnr06AHA1q1bg0GhkbVr1/HoY4/zybSPgxNJR448Ga3iwjjttFMZ/89/smbtWubMmcO94+5J1WkmTNOmTenbtw+zZs3in+NDV2Bq1qwZO3fsCAmAt23fRrPmzQI3UsPTYYC9e4twtXZZyjdd60ZVVfbu3YumaSxatBgATVPx+fyUlpZWBKq+EBuv10tGRqWoaNKkSXD+wr59++jTpzcAubm52Gw29u/fHwy0HBUiXm9PTqcTh8NB//79q5StuLgYt9sTss/t9pCRkb7BaizsDrulYNvpdMY8d7fbTU5OTvCz7jdanSZCLH8tWrSgRYsW+Hw+NmzYyLZt2+nYsUNS8k4Fsdp5pGPhRPs9rW3C73ONGlX2KsZ7X7NybxCE+kZAQATawtKBRRV/lRpdVONIoN7MoRg0aCCN8vN5+ul/U15eDkBBQYHp5O3aQlVVfH4/Bw8eZM6cuVx19TWcecYZVdYQX7duHcuWL0dVVRo0aEB2Tk7IJM7XXn2NQ4cOUVxczAsvvsjZZ59VJa+SksNkZWXRtm1bAH76+WcKCguDx7OysjjzzDO49ZZb6d+/Py6XtWC7pnlw4kSm/mdKyNAdgEEDB5KVnc0rr7yKqqqsWLGSGTM+5ZxzzmHQwIGoqsrcud8DgRvrd9/NsZxnutbNvn37URSF/v37069fX/r160v//v3Jy8tjz54iGjRogKZpHDhwAAgErvv3Hwjx4XQ6adiwIRs2bCQrK5Ps7Gwg0EPQvn07CgoKKSoqwufzoaoqhw+X4PP5UBTIy8vD4XCwZcvW4PVYXl5OSUkJDRo0wG63sX37diAwZ0Cf63GkY+Xct2/fgc/nx+/3s23b9uCxaHUaCYfDQXm5+WTbaP7KysqCvSaVvS7p1SsUTqx2HumYkVi/p+lMvPc1K/cGQahPmIkJHV1UCNaI7z0UEyZEPf7AAw9UpywpxWaz8fbbbzFh4kSGDjsaVVXp3LkTd915Z20XLcidd97FnXfeFXgPxVFHMfrKv3KlyUvUSkpKuOeecWzZuhWbzcYxRx/NrRMq6/7MM8/gvPMvYPfu3Zx66p+49ZZbqvgYMGAAp59+GqedfjouVxu6d+tGt25dQ9KMGjWKqVM/5PHHHkv+ySaJtm3bBkWREYfDwZtvvM69943nueefJz8/n/Hj72PokCEAvPLKy9xzzzief+EFGuXnc/LJI+PKNx3rpqhoD82bN68yvKZVq5YUFm6ifft2dO/ejY0bA0+eHQ47jRs3quKnWbOmrF+/gfbt24fsb9myJU6nk+3bd7BxY+ANmtnZ2bRt2yY4LK9Hj+4UFm4K9pBkZWUFx+t3796dgoICtm7dhsPhoEOH9uTl5aWiKtIKK+fetGkTVq5cidfrpXHjxrRtW/l+lUh1GgmXy0VhYSEbN26kQ4f2tGjRIuR4JH8Oh4ONGwuCK/80bNgw5D0v6Uisdh7tmE6s39N0Jt77mpV7gyDUF6KJCR3pqbCOctEjs7VLTurJ8e0DldXa5Yr4uu2OnTonlEkqXmwnmDNk6DA++OB9unfrVm1fO3bsYOTJp7BwwXwaNGiQhNIdOUjdCMli0aLF9OzZk5yc7NouinAEk8x7g1B/mDxlCuPG3WsaF0Y7Vlt07NQZdcus4JuyI72HwoqYMBJrToX+Hoqv5q7iubd+Suu4N9b/zerxHRW97r9sVpn6w+r4eijSpYKiCZt0KWM8WBFqtXFeb771FmefdVZaBcxWRW2q6ysd62bevN+iHj/mmKNrqCRHNtHqWeo4+Rxpv/dWSdf7giDUdeIVE4F00lMRizo5KftI+xFNt/MpLS1l6LCjcblcvPXmG7VdnBBqu67SuW4kmK0ZpJ5rltpu87VFfT1vQUgliYgJHREV0amTgkKIzMIF86vtIycnh99Xps9k9XRC6kZINoMHD6rtIgj1gGTcGwShLlMdMaEjoiIyIigEQRAEQRCEIxb9PROJCgkjIirMqTfLxgqCIAiCIAj1i1S8/VqWlK2K9FAIgiAIgiAIRyQDlxIh+G8OWF/lyQzpqahEBIUgCIIgCIJwxGIW9GtafG+KF+EQHRnyJAiCIAiCIAhCwoigEARBEARBEAQhYSqGPMnEEkEQBEEQBEEQrBCqHaSHQhAEQRAEQRCEhDGdlD15ypSaLocgCIIgCIIgCHWQKoJCZrELgiAIgiAIAOPG3VvbRRDqALJsrCAIgiAIglCvSMZbs4VKgoJCXvgnCIIgCIIg1Aciv/BOsIJedXoNSg+FIAiCIAiCUO+QYf7JQ1Z5EgRBEARBEAQhYaSHQhAEQRAEQTji+Pzda2u7CPUG6aEQBEEQBEEQBCFhpIdCEARBEARBOGL4au6q2i5CvUMEhSAIgiAIgnBEYGt3Tm0XoV4igkIQBEEQBEFImI6dOtd2EdKKdKmPwoKNNZaXQVDIWryCIAiCIAhC/KhbZtVq/nrPhJQjtBypI1Q3SA+FIAiCIAiCUG2+nFs7QXT4nAkpR83PIZFVngRBEARBEARBSBjpoRAEQRAEQRCSxtmjX62RfGK9Z+LqMTPp3bcPbo+XRfN/o7y8vEqak//0J3KysigtL8ft8eLx+sjKyiQ/N4c1a9aybt3aKjYZGRmM+vvVXDG4Kw1atqfk0Oyo5UiX+kglIigEQRAEQRCEWkfTNBRFSZq/3n378PilZ7KocCeZ+U2YM2t68Fjbjp3oOexYzvzzeRwsPkSbA3s5yb0O1e/Dn92A37ufwE+rNzNky0Z++uZrthYWAGC327no7FGM6NCRpffeScZ1Y+jdI2lFBmDJABi4NLk+U40ICkEQBEEQBKFW0bTkLw7k9assKtzJwbcfZ8DZV+M5dxQ/z5zGg08/y6pVf3BhyVqY9Fe0zV6wwf2+wEyAh7NUyr0vcE73LJzH/5lGl1xO+3ZtGHfzDZx32WgG9etB9rNj2dG9NycOHAxlc5JWZk3TWDpQqXOiQgSFIAiCIAiCUGvoQfSAJckVFb/98jPOBvkMOPtqWn/+Jv1GXMr1r7zA1v/O4eYfp7G3HKZ1PIuel7vo3H8wrZu2AWBRwTJ+/vUw27/9kaunfMxVDWHuyMt4/KPPKFuzjL7PjCVvSC+ajH2bJ+8fx52jU7NMbF0SFQ4ATQtsgiAIgiAIglBT6GIiFXg8nsAwp3MuoHzEpfx93lQaL5nKsHJ4pdUJNLlmOI/8pREtcx8E3qk0PM7LRX+dwOodF/HWf47h148Wct7sKTz341z+5t9J3pBe7B/7DpPuuYtffvyBO0enZu7CgCXNWDKwKC1FRbhukFWeBEEQBEEQhBonlWLCyJxZ0xl4zHByMwLf9+dm0v6eSxl3zae0zB0H+AypHYATmECP1nfy6O1fctT488hsmMmLGTsB+PXsO7nnjtv45ccfUl72AUuasWRAyrOpNiIoBEEQBEEQhBqlpsQEwJOvvsG+ZfPIcMP+DBuFB9zMe/sXNh4YBAxixeZv+GnRT3z+zUw+f/VffPjxe/yyejUwiFJOZN2P+3AfcrPcDw19kL1mAZdfcUXKy710YBFQN0SFzKEQBEEQBEEQaoxoYsLK5Ox4VoJytW3H6qVrueq7KbzUtBetxz7Gkskf0PrbKbz491F06H8JhV/cyI9rt1KY3YJJJevJdcKrrv58Nvp/2LtpK+d+NInCHt2Yc+Z9dP/PGEZ9+TJv/O05XG3bsX3rFstlgcC8iAFLmkVJ0Tzk29KBRQxY0iythz+BCApBEARBEAShhogmJqz0WMQ7cfuks87mAv9q9pZD1pU3cddFZ7P8uGN44x97OHX+NDIWTmNIBigjR3HJn0dRsHE37f/4gn8s/4ZFz97MIBsoPbrS5KE3ePOEg/xfyf2sfvUmjt6/Ad+VV/LEw5MslyXRXpm6ICpEUAiCIAiCIAgppyaHOQE0btyYLTv30GD7tzyf14pJl14CQL/WTfnTkP70WPktjXPgl3wXA++5niuOeR5YzNzltzLheo0Xds6miQOmnXg+/3vCQ8BXHH/Jk5R/lEOHJdN5Mf847HZ73OXShzLFa5POokLmUAiCIAiCIAgppabFBMBxxx3HpVdexcqNJeSfehFHtWwKwPr9h5n/0w9sdAfExIrV2/nisTfYvF+jlDP44j97OWfTbJbnN2CZF/4753e2l2UGfPZ18VLbi1j2+yauue4fDBw4sMbOJ53nVBgEhVaxCYIgCIIgCEJyqA0xAXCwpJQOq+bS3wcjBvUP7l+7ejVbFyxkSaderLt/GhtGnEeXOVO4/e9NuO3Gxpz67iRKOvVi0Z0f8mvXYZQt+YqlS8cDkKG8w4iTWrF/H2zeuLXGz8nYu1G7oiJUN8iQJ0EQBEEQBCFl1IaYACgvd9Pdd4BHvHBR1x7B/QdWLeUKHxzq25sLTzuGDf3f4K5rvAz/9S2GNIDSzl0Z/vSbDB78JrPn9WfYf+eze+0CONYJfMVRRx3PBuBA6YFaOa9EhkylGhnyJAiCIAiCIKSE2nyKnuF0oPp9lGo2ir2ho3BaAodzGgU+t2xK846dGdIAGnlhXlY+jdpPJofd7M5vREvA6StHfw7v1TScNXsqpqTTPAoRFIIgCIIgCEJKib5UamrIzHCyqkEbbslQ8ReuCe7Pb9uW3zJg64plzFy1mYn33sdFM56n2OXik55DKJu3kAn/U8xLP13HngU/sESDnHY9gTL8nMDmjcUANGvctMbPSSfe1a5SjQgKQRAEQRAEISUYn6LXtKjIycpiQ5fhzPPBvP/+jKdif7u+Q1naozcj183n6asu5qS3J6F0a4Pj8U85583P2XfaeRy76C3ajLuGkevmM6/v8RzV9w8A3FzJz7/upHETcLVpXaPnozNgiRbXuzhqAhEUgiAIgiAIQsoYuDR0haKaYs2atWxa/QdDe+Vyxvfv8MfGzUBg2diWZ13OKi+8sH8+nlYN+P6a1zjr2CEMa9uCo/9xD906uhiybzt+FQae82d6tH4NgO/m7+N/N35Mxx7teeOVl1m4cGGNnQ+kp5gAmZQtCIIgCIIgpJiBS2GJ4V0KZhOLY4mNeCcjr1u3lhE79uIbfiYl0z/mjclTeW78GA4DW3bsoIcCrYBd5YfJfusevlw8BYA9y5bRqXA7NIRcP6yZv4CNBwbRNv8B1r6zkiFFpay6+FIG+fOYHVeJqke6igkQQSEIgiAIgiDUAFZERSziDai//OJDHFdezVUZHzPv07d5bcBAVv88l3M/eR61s4upx5zL77/+xIAly+m1cDmH/LAyG2Z27Y37jDNYuHgJfDeNMX+7ivxjPBz9zRPMa9sCW8eBfPLYhLjLb2Xug9mqWOksJsAgKLT0mtshCIIgCIIgHGFEFxV7kh40by0soEs7F3NHXsYFs6eQ+c/T6XNQZU9nF47HP+WaY4ewesdetq5fxS/rVgPQu2sPTu/Sk36tm9Jhx17uu/bvjF7yFu0K3sauaXx68qVMuvU6tNLiuMpi5dw0k4A8HcVEeDFlDoUgCIIgCIJQY9T0nIo7r72GnNOv4LnMVvT2q5RnwbTTbuesY4eQQWBOxVknHM/lV/8Pl1/9P5x1wvH0ax1Ywalz66b06NuP3g2gHxpvZrWm3dmXxy0mEiUdxYQZIigEQRAEQRCEGsUoKlLNhX+9iv1rlvE3/07+sx+yyqHDh48w5t77+GX1muDqT0Z2FZfyyS+LeOi6q7jwP5PAD3eqrWl6cAfL3/43p5x5dsrLXVfEBMgcCkEQBEEQBKEW0Ic/pYqMjAxG/f1qBnfpxKCXxpLVrxfLz7gd9/pF/OWLl1n68iQ8Mybxj17n0bN7N9p06AjAokWL+O/Pv3BH8RpGlsHc9m3I/MstnDDsJH557Wn6/TYD+0l/QTvnAn74YmZKyl6XxASIoBAEQRAEQRBqiYFLU/c27aHHHMtlx/THO/Z6sob3Yv/Yd5h8x21cfsUVTL3qCdoe3EX5D+9w/G+f4v8a9qoBu55ZcHrHLBr1G8pHnU6ldaejuOu229BKx3LKmWeTdfIVdPv8TXLP/jvKaWckvdx1TUxAiKCQWdmCIAiCIAhCzaKLimQH0R6vj/2/L6bk6CHk3/sck8bcxYp5vzBu3i+07dCRS/5yOa83OIY73rmLPfsOUVK0g3IV2rTvyHNTp+D2lNNXhcf+eV9wzsR3X36Ods4FZJz9d5pMf5uzbrobOJDUctcNMaHrhkBZpYdCEARBEARBqFWMb9ROFtu2bGZT47M40Ls5b954c8hL6LZuKuSpRyeRlZXFkwf3onndIbYbNmxg//79pu+Z+OGLmSinncH5N4yjSdvOwIKklbluiImqiKAQBEEQBEEQksbn715b20UA4LVJZwKbADil9yBgUBzWVtLurdiiky71kUpklSdBEARBEARBEBJGeigEQRAEQRCEavPV3FW1XQRAylEbiKAQBEEQBEEQqoWt3Tm1XQRAylFbiKAQBEEQBEEQEqawYGNtFwGAjp0613YRgPSpj5pEBIUgCIIgCIJwRKBumVWr+de3ngkdERSCIAiCIAjCEcOXc2tHVNSnORPhyCpPgiAIgiAIgiAkTLCHQpMXZQuCIAiCIAhHCGePfrVG8qkP75kIJ1w3SA+FIAiCIAiCIAgJI3MoBEEQBEEQhHqFFsfQHEVRUliSIwMRFIIgCIIgCEK9Y+lAa0JhyQAYuDTFhanjGASFTKIQBEEQBEEQBJ0BS5oFPihFtVuQtEML+StzKARBEARBEARBSBgRFIIgCIIgCIIgJIwICkEQBEEQBEEQEkYEhSAIgiAIgiAICSOCQhAEQRAEQRCEhBFBIQiCIAiCIAhCwsh7KARBEARBEIQjknheYBevH3nhXSUiKARBEARBEIQjEkVR0DTN8kvswlk6UH//RFV7eeFdJTLkSRAEQRAEQThiURSFAUuS/wJnEROViKAQBEEQBEEQjmiSISoGLGkWfHO2iIlQgkOekjTETBAEQRAEQRDSjuoMf9KFxNKBRSImMOiGir/SQyEIgiAIgiDUCxLpqRAxERsRFIIgCIIgCEK9IR5RIWLCGhWCQjNsgiAIgiAIgnDkYkVUiJiIRqhukB4KQRAEQRAEod4RTVSImIgPeQ+FIAj1mk8/deFwgN1O8K/dDja9/9Zwr9E0OPHE7bVTUEFIQ2bNcoW0HYcj0HYUJdBeNC3wGeCEE6TtCOmH2URtERPxI4JCEIR6w7RpLpzOysAnXECEb4oSugEsW+YK8en3w6BBEigJRzYffugiI6Nq29EFRKy2oyhV246mgdcLQ4dK+xFql3BRob/MTsSEdURQCIJwxDJjhqtKkKOLB11IRBIT0USF8TPA6tUuVDUQIPl80L+/BEhC3eaTT1whbUNRzNtNtPaj24S3HePf7GxYtcoV7M0oK4MhQ6T9CDWPUnFRLhkQ+C5iIj5EUAiCcEQxc6YrOFwJzAOdcCGhf9YDILOAKFxcQKio0IdGaRqsW+fC7we3W8SFULf47LPKXoTw9mBsK7GEuLG9ROqx0DEOK8zMhLVrA+2nZ09pO0LNI0IiMURQCIJQ59HHcRvRx24bgyKzYCjWE9ZoAZExKArP2+GAjIyAuFBV6N5dgiMhPfn8c5dpgF+d9hPebnSRb7X9aBps2BAQFl4v9O4t7UcQ0hkRFIIg1Gm++qoyGNIDEZ1YwVCsMd/ReijCA6Lw4Egvh90e+LxxowufD7p1k8BISA++/NIVvI6NPWw60Xr1YrWdeAS5mbDQ27IuzNevd+HxQK9e0n4EIR0RQSEIQp3k669dpoFI+JPWaAFPeNATqWciWkAULSiCSkGhqoHPBQUuvF4RFkLtoYvwWO0HzOdAhLefaOIiVtuJ1X50YWGzgdMZ6LVwu0VYCNb4/N1ra7sI9QYRFIIg1Cm++SZ0joTxyaqxp8JqEGM10IknXTh6QKSqIiyE2mX2bPPhTUaMbak67SeWsNB9GH2ZYWw/Nlug12LDBhclJdCvn7QfQUgHRFAIglAn+OqrwPsiwodoQGUApO8zjteO9DdS8BLNznjcLLAKT2sUOPp3m60yQLLbA0M5Skpk8raQWmbPDhXiULXdQGzBYExnRrR2ZZY2UpsMFz3Gshp7RNaudYkoF6rw1dxVtV2EeocICkEQ0p7vvqs6vMlMVBiDDrOgSP8ejtV9ZvutBEXGMhnLqSiBVW3sdgmMhNTw9deVQtxIpJ4JML/G9b+xxHh4eivE6ukzthu9nLqN3S69FUIotnbn1HYR6iUBQaGZ/7gIgiDUNnPmVBUT4ZOvjejDIiB6gG81OLJKpHzM0oWLCr3nYv16F126SFAkJAddiEcb4qRfi+FtKtr7I5LddnQiiQpjWzGeQ3j7EVEuFBZsrO0i1BuCAr/iu6GHQhSFIAjpw+zZgaVgwwMJs14Jsy3WsKVwH2aiJd6AKdqQELPvuvgxBkYbNrg4fFiGQAnVQxfi4UF4+OdwzNpO+HGztJF8xEu0oYNG9KGD4aJn3ToXXbtK2xGE1BP6Q2KLkEoQBKHWmDMnMExDD7bBekAElZOf9bdXm9lH6uWI1vuRKJHmXJi9NMzphLy8wNuDBSER5sxxhbQdMyL1TOgrkumbcX+4bSSfZjbVwUr7cTgCm9MZEBWCINQsModCEIS0Qg+GYmHWK2E8Fs0mms/w4SHhczLM0hixOr483I/ZOa9Z45IX4gmW+eYbF05n5PkS0a7/aCI7PE2kY9HaTqK9FrF6+qDqClCKEhg+WFwMAwdK+0k1k6dMqe0iCGmACApBENKG8Cer4b0LkQSEjnFstVnPhDFdtGFSZhNAw4/rRBtKFS2AijS/IlxYrF7tokcPCYqE6BjFRKxevUjXP0Rue0astB0zMRGtTVhpU0bC/YW3HU2DBg1g8WIXgwZJ+0kl48bdW9tFENIAERSCIKQFZWA91QAAIABJREFUsXomzEREpGDIeNz41+yYmb9IqzJFyicZ6AGRqlauXqNpgSEcq1a56NlTgiLBnK+/jiwm4hUSRuIZLmgmLCKJCj2/aCLCiggxa5N6O7LbA9/z8kRUpIrLL7uMTYUFtV0MIU2QORSCINQ6xmVhjUE8mA9nMtuMcybMnsyaBVGxhkyZpTPuB8XwN7CZpYs1lCR8AqreS2O3V86r+P13GRcuVMUoJsD8Oo3UZsLbjrH9WLmGI7Wd2O1G/xzefqrmGW4XCeO8CuP8Cocj0FOxaJG0H0FIJSIoBEGoVb77znyYk9lnq4GRlbTRBIYxb7MgKrQ8xqAIFKVSWEQ7H7PvRvQASRcVmZmwcqUERUIoZnMmwLqYMBMVRh/VaUdG4V21jYW2G6MojyQuIrUfs3kW4aIiNzd2XQqCkDgiKARBqDVmz676jgkdKwGRMQiK1DsR7SlquK/IAZJC4OdSQVEUbDY7imKvEA/hokIJptMDo+jBVmhgFN5boYsKmy0QPC5eLKJCCGD2ngmIX0xE6kmIJLQT8VXZfmwV7ccoHCKJCiXMR/T2Y8RMVEgvnyCkDhEUgiDUCl99FXlpS6tPVM2Cl/DlYs38Wc0jsFUWUFECQZHNZsdud2C3O3A6M3E4nMFjkTfzICiasDBu+rjwrKxEa1w4kvj2W3MxHkm4Wr3ew4V59dtOoHciICBsKIot2HbsdgcORyY2m4PobSd0KGGk8w0nXFQ4nbBihYgKQUgFIigEQagV9OUddeLpNYj1VDVSz0WsYMlKcBQQDjZDQJSB05mF05mFw5GJouhrXUQWFdHEhFlgBJWBkcMhQVF9J7xnL9b1rA9jitZ+9OPhbSe8/SQypLByyFNlD4XN5sDhcOJ0ZpGREdjs9kwqw5Lw4U+K6TmEn384ej0ZRcXSpdJ+BCHZyCpPgiDUOJGGOlXn6arRPtxGXznJGFxB5dt2zQIwu71qz0TgSavNEBQpOBwBYaFpKqqqoap+VNWLqvrQNJ/JOUZQDEQOkMJXsNGDogEDZOWa+kikYU6R2gxEFgJmL68zS2NcLCGWcAms1mYsYOUwQL392O127HYbdruzwrdaIVi8wQ3UED+B8pm3n0jNKtBmK8ult5///tfF8OHSfqzSsVPn2i5CjVJYsBGov+edCCIoBEGoUb75xvzpqvFzor0IRuJ9imomNPRAKDDEyVbRQ5CJw2GrEBP2CkHhBDRUFfx+DU3zoqoe/P7ApgdGledkXVTon8OHQDkc8OuvLo49VoKi+kSk3gn9s1kbstKroKMo1gWEmZCo3K8E/9rtDmw2paLNZGKzKdjttqAYt9vtFWIcVDWjQlC48fs9qKouyvVCKhHbT7Qei/DhTzk5cVd9vUfdMqu2i1Aj2NqdE/K9vp53vIigEAShRrE6Cdv42SyAMQtojL6N+8LTmPmrDIYUw9/Apg9x0gMih8OJw6GgKDkVIkMJBmKBd0l4UVVHxcRte4W48BrOUwG0qE9VIwklY1CUnR1HxQt1nq+/rhQTxifvZoG0lZ6J8GvM+N4Hq+0ntO0Y2w8E5kwQFOSBIYI5OBwKdrsTmy0Du13B6aRCjIOqqqiqB1UNtJ2AKHcbfGrEIyrCPxuHDi5c6GLIEBHk8fDl3CM7uP5q7irT/fX1vONBBIUgCDXG11+Hjl2O1jsRSVTogZBZoASha9Hr6YxBkLEnQic0INJCREUg+Ldhszmw2wOCIjBfwoaqNgo+eQWw2z3YbH78fgeqaqsY3hF4+goaPp+v4py0KucfqV4i7dNXf1qwwMXQoRIU1QfMXhqnE0uERxMT+hY+lMpMSIS3H73tVO3V0B1VzjnS5xs5HA4UJSsoyAPty4fN5kVVVfx+e0X70VdT0/D5vGia31QwhBNNkOvnovfyff+9ixEjpP0IQnVxQEDvR+uCFwRBqC7Gp6tQ9UYfLSCCyJOrzdLqwZH+tmljEBRtKIf5U1h97LeCw5GB3Z6J05mDzZaJojTEZnOiL4kJXhTFjcNx2CAoFPx+b4VQoSIwMq+D8H1m52U8Dz0o+uEHFyedJEHRkYzefszEBMQW4mZtx6wdGV8MZybEo/XwVU0TEOO6IHc4MivaTyaalgfkVQgKB+AHPNhsZSiKzSAoVBTFCYDPB36/P9iWwoklMozovXzyfgpBSIxw3SA9FIIg1AjhYsJsuIaVp6xWhYXdbh4EReuxCDxtVYJpQodBKcGVaQKrOeVjs+WjKJkEfkrtgAcoARzYbCUVgsKPomRAxRhwn8+PpvlDzt1YL+HfI4kK45hwWUr2yObbb13Baz2SqIgmruNpO35/pZiI1X7M506EC4zK1ZoC7ScDh6MBqtoQTWtUseCBg8A8Iw9QjKI4sNtLKq5xD4rirCibiqaplgVFpDrR0R86/PijixNPFEEuCNVBBIUgCClnzhwXXq95MBSrZyJSAGQWHOmEP1EN76GItNJTaAClz5+onEuhr1AT2DJQlFwgH3ASEBTuis8OwImieCveUeEEVHw+P4Fx5RqqqmJl6FO0gEjHbg/U8cknS1B0JKL/78PbT7xiPLy9mM2j0H1YaT9mbUdPY5yDVCnIbRUCwo7NlgXkAVlUhiIlBNpR4L0UNpu3ou04K4YNelEUW4WgqCywlfYTXk96ORUFMjIs/RsEQYiCvIdCEISUE+n9D8bAxuyJqdla+NGetOpEShvu09p6+5WiIrBcrD6Mw7hOfi7QDGhk2DKDW2AVKFvQh24f7Umx1ZV59KBIeimOTL7/3hXyHgn9b6RrJtp1E62dVbf9hKZRwvYF2kxl+9HbkAZkAI2BJoS2HyeQgaJkVCzLXCnwA20pejuJNMcqXHzovRTffy/vphCE6iCCQhCElPL994HeCZ1oN3wrL86KNmzDGBhZFRHmwZEx2A8NZIyCIIC/YvMREBaNgAboAVFAVGDwEdhiBX5WxISOHhTNni1B0ZGGz1f1uja2k2gCIZIoN7PX9+lE8mGt/Riv08r3t9hsSlj7UalsPwqVYiKDQPvJBDLC2o4uJszbUKy6CW8/uiB3OlP6bxSEIx4RFIIgpBSvN7poiNUDYVVM6Pv8fn35ydjBjvmmUbkmvjEA0SeXGgMiPRhSgdKKzUaomKi6DG3At4aqKiF1YFY3kYIhM1GRmVkD/1Chxvj556pi3KoQj9UbYeZLbzt+f2QhEU1kRDpmnJytaWbtpxwoq/gbGC5Y2YbUih4Pvf2E9h7G23YitSe7PTBXRRCExJA5FIIgpIxff3VRXBy6tGQ4ZoFytC1a0KDbmxFp2cvwchj2YLNp+HwqPp+K1+sPfnY6A6s+VQZEpVSO/dYqvuurP/mDQ0D8fl2o6EvTahXBVtVCh59PrIAI9DcUC0cK+rwjMLs+za+N8O/RRIixPRhFRaR3xViZP6Ffy36/3n60ivajBq//wFwKve3o7ce4sIGPgBg/CKiGfCrbj6pGfpeLcV+09mM8LwismCbEx88LNvLwc9+aHrvwrH5c85djarhENY/UQQBpPoIgpIzwp6vGv/rn8Bu+8XO0J42RhAXEnohthr4qjTGYCgRXuqDw4fX6KS8PvP3a6SyvWO3JR2VABIFgqBRVLcNmC/ReqKpSIUb8Jr0fWrCMZvUTXlfReisUJfCU9U9/ksnZRwKaFrgu9R4DM0GRqBiP1LYgdAlYiC3Gw5eMDfzVqrQft9uLprlxOr04nR7s9ixCxYRKYGGDUjStDEVR0duP1+vH79eCoiS8zJGW0g3/G60dRRJSQmSOG9KJ6W9cE7Jv/tJNPPP6j5x+Uo9aKlVVvvp+NW63j/NO75N033WlDlKNCApBEFJG4GlkYBy4/l0nlpBIVFToQYExwIklJnQqAwqtwoeG3x8QAzabH6/XB7gr3t5bisPhxOnUcDgyCAREgbX0Na0MVS0HSrHZ/Ph8/pCAyBgUhddHrM9m9WFMJ0HRkcF//+uitDTyU/VYYtzqHB0zMW4UD1bbT6WQMO7TKgRFoO2Ul3sIvDW+BL/fjsPhwOn0VbzLBQLtpwy/PzAEymYrQ9PA6/Xh8fgqxLhWRYzr5x3rc6w5FYoC33zj4rTTRJBbRVEUMpz24Pftuw7x7Bs/cvv/nkTb1o0A2LR1H8+/9TMbNxfRMC+Ly88fzKkndo957Iqb3+Py8wfz6dcr2Lu/hDNH9uK8M/rwxEtzWVuwh15dWzL+1tPIzoo9Aab4cDll5d6Y6RKhrtRBqhFBIQhCSvjtNxclJYGnq4BpAB0pKIo1/jlaQBQpMLJCeC+F368BgSEbiuKnrMyN36+gqiX4/eBw2PH7vTidmWRkKCiKiqa58XrdBMaEl+DxePB6AwGVUVCYPXE2Eulpa7R5Ffo5fPqpi/POk6CoLqNfh8b5DDqxxES8gtw47El/t4mxDFYI7dUIFCjQfgJi3G73Y7O5UdUM/H4bfr8DhwP8/gyczgycTg3w4feX4/W6sdkCvXxerwePR2874PMFRAURhjsZ6yj8e6TfDGN6EeSJ4/b4eOjZbzjr5F4MH9IJAJ9fZeJTX3P6iB48Nv4c1hUUce8jn9GmdT7dOreIeKxX11YAzFtUyNMTLqD4cDm3PTCdVet3cfv/nkTTxrk88MSXfP7dH/w/e2ceJkdV7v9vLd0zkwmExERhCEqQhCSQgJBAEraACAoiyKaJCkJQkR8IIngFWa6igIogyCJeFbheNiWAAiErAYksCYYraxKWgMGgNxEkyWzdtfz+OH26T585tfX0bJnv53nq6dq6uqq63jrv97zvOeeEo/bsy8uuYjDfA0VQxFgmIYRkRDoXaoNJIN4RUueTHCJdVKh0xzlQoxSinURYGq3XKtWwWggCG75vlRyiTvh+I4IgQD4PBEEBntcJy2pDZ2cBxaKYPM+H71fSnoRDlPzejYtQdG04LmCPNQMf2cGA+n8D2YREFkEukeuksMgiyPUohYhQiAhfoVAsXVd7KfLnwHU9+H4evu8iCELkcgE8rxNB0FESE8WS/RTLtuN5lRNKYT5d7ltU2pd6Dffe24ITTqAgz8p1v/4Tttu2CSefMLW8bvVr/4f2ziJOOnovWJaFcbuMwiEzxuLxp15HGCBym3Smjz9qTzQPyaN5SB6777YDPjJ6eLnWf/+pY7DmjQ2R5/PD6xfhhVXvAAAKBQ8hgHmPvgIAGDtmJC6/4Mit/h70LGHVZ1lQpDFMQghJi6kGsB5OUVKj7Ep0IbqRclQaRxjq36nUtFqWqEEVvUCJBqa5nAffb4DvdyAIAnieBcsqlqIUxdLUCc8rIgikoAir7kHae5nlHrGWdWDzl7+0YMuWynK9IxRxgkIdPC8r5u8I2ykWA4ShhyBoRRAEcN0QuVwBvt9QFumFggfLKsL3OxUxUYDveyX7CjKJcXlP9PumCnL9/QGwt7Ra+MOCF/DKq//A9d8/rjTWiOC9TW0YOby5VDkj+ODIoXht7cbYbZLhw5rK8/mcg+HDhpSXczkHRc+PPKezTz0QhaLY/vCSl9DR6eH4I/csf7fe9Ld7MO/Rl3HjbcsAAJPG74CrLjq6+xepoJsgU54IIXXn+edF705AVydD71VGndcL96wNslVRkeQQmcSG/p3qaIWIUoiGokX4/mb4fhGu21hK4cjBtj3YtocwDMoOkXCGfIiRsYNSD0/CKcqCfr9M9yBLbTLpv/iKf2Cyn1oFedouidW0p7R0FeOAfMaFGJf2YyEM2+F5RXheAblcA3zfQrHowLKKsO0Avu+V7UfYjo8wFIK8lsrPNILLFOkj6Xhx9Tv47dxncdVFR2ObodUjbA7fdgg2vteKMAzLTvOGf23BdsOaYrfVg223qZzLkKY8LMvCyBHNdTm2Tn+8B0ceOhFHHjqx28dJCzsZJITUHXXsCaBrgW7qsz5Nraq6rz6v7ud58WNRmCZ1fzkvPkWbB9n9peeJ2lbP89HR0Yb29s1ob29FW9vm0tSBLVva0N7egc7OIgoFrzyJrjOTx8qImvT7EHUPAGDuXPapP1DRnVpVYEc981mfn6jvdef5VL8v7AZV7YYqXTCLFKiOjs3o6NiE9vZ2tLa+j46OdrS2tqG1tR0dHR0oFFT78UudGcjj1e+6GeGrnXffa8OVNyzGqZ/bDx/ecTgKRb88eX6A3Xb9IBryLu59+K8IwxCvvbkRS598DQdN+2jstoEE74GAEQpCSN0xpRmoBbm6T5qa1TS1rOq8TNvwo6PhXTB1fSkiCXJgOlHLKka5DhEENiwrhOd58DwHjmPBdR0EgegqVowxEZRqVwOgKt+02mNM48CY7leUU5T2mKR/oj/Hcp0uGrNEKNKkPal2mzXaZerlSR1nRdqPiGSEsG2rNE6FB9ctwHEs2LYF3/dK1x2UI3sVm+kaPkj7nKvXF1WhoV7znXe2YPZstqNI4rGnX8O/32/HTbcvw023L6vaNm3vnXHJuYfjsvM+iRtufQJ3/2EltmluxOmzpmH3caJ9QNy2gQLvgYCCghDSI+jRCVNagSndorsOkel30yIdOL0dRRCEcBwLUlw4jl0auAslUeHDcSwUCig35K6ICOFMibQPAOU0kOrfzXI/o+4B0zYGPs8/L7qLBcy16kDtYjyNIK8WBF3tJ8pWpc10fZbDkrAAhBgXo1JbVljKMxf247oOwjCAbVsIw6BKhFfsp/Jg12I/UeLMtMxB7tJx3Kcm47hPTY7dZ8xOI/DTS4/JvO2On3+pavk//t/Hq5azpPSc+Om9Uu1XCwPlHvQ0NBlCSN3RHVq90Fb3qaczpNewxjkapuMLgdB1PzEqsHCMpGMn97VtqyQqwtI8yo4RlKhERVCYnaEkpyhOUJiEBRmYmASh6RnPIsbT2o56nKjnUY3k6W0mKrbS9VhCJFilgfqEQBftkiqivNKQNSz9fkVESPupxXb0+6rbjsmOKMoJyQYFBSGkrrzySnUPNToyClDrFOcY6ZicLvU8TPurDpG6XOmbPyhHLGQj7UrtbFjuKjMonVDXrjTjP6NIEhSm9Kdf/7oFc+YwbWMgoT6nUc9Eve0mSkxEOdhxtqNvV0V6GIawbR+2bZdEuVWyl4pgkKIcSiQvjZhIqjxQ75t6bVFtkQgh2aCgIITUFdWxNxX6eq0gkOwA1SIoZE9PpoiD6vzIdabz1a+jUtsalubDqsHwKlNQ+k7FYdKP312HKEpQqPfKqX/PiKSXMT0rcnyKWgWF/uxECQZTb0+67ejr9HldlIvfDOA4oi2SKkIsS6ZGhSWxLue7nld37Ee/D1ENuQkh6aGgIITUlbiCWI7/EASWUqiHNTlCaQQFkNz9peoA6dEIk0NUibCE5fXVYkJ1eEJt2Sx0TM6QKmL0z6haVt1BYsPsgYnJYZao9gOY7cckxrMICvV3TfasrjOJCV2gy3nVhqRtyOdUrg+CSsQiSjhErddFkX6eJmER1+MTISQ9HCmbENIjmHt9MTUerhYXWZwhk0OkOwJJNbe64FBTskyOUnUKR7SYiBMSWdOd1OswXROdoq2D119vwaZN5m2WJbtjtbT/v9ILWXfFeJSokNui7EKf18W8tBM9UqEKCZMtyWPF2ZB+niZMYjzKdlQbuvnmFnz960wZJMRM9QuDEQpCSI/R1QGQJb/4jItOxDUcjaph1UVFVK53nOjQG2brYiLKIVKdqLROUdQ5RqVpqddmEhTV42ewcfZAJNpRljYjRUQ2AZHWrtTny5TapNtPnMiQy3FiIkmUy/sQZ1Nx99BkN/Izqg0S054IyU5ZUNBwCCH1wuwk22UnwHGcknMhekcKSy8gUbiHqZwjk2MkjyHX6Q2sTc6O7gypTk8aMaE7ROr1p41QRN03NVqinnPlXkU7RFJUkIGJ/tyIcRtko2W7bCfSfuR4D3J9PUSFxGQ7cn2c7WQVE7o4TxIXpvulLseJCV2M63ZD2yEknvJ7ovTJCAUhpK6YCn7hDAmHyHFsWJYQFL4fAgiAcn/zQZVDlMUZinOSkoirZU0rJkypG/p9iKpdjUvfiBIT+rVKZ0gfQZgMHOT/21VM2BBdrsrBE4UtFYsBUBpsURUTWcS4/gypNpPGhqJEuNxmEuSqnagiQhcYWdMFoyKS+rnKeUYosjN/6St9fQp9wmC97ixQUBBCehThBAhnSHS16iAIHPh+CN8PANgQzlCgNdg2C4ss8yomJylNhEI6OiaHKMkZSkp16m4eeJRDxFrWgUvX50XYThBYcBwHluXAsix4nrQdQIqJILCUZyI6UpEkKKIa9CfZjm5HJttJshs15TBJjHfHfqIiFKr9UFBUY+90dF+fQp8wWK87KxQUhJC6Y4pOiJQMt+QQ2RDjNFgAxKi4Ii9c5IaLwrySJ14PQSGJywuPS3VSHaQ4EZE2bSPuU8dUy2pyBk0TGTjoz6y0nzBUxYRT2k/aDkpi3CqJiuToQ5p9kpxpk7BIaztRIiJNlMI0r37G3VOTINJtR2+HRARvrn2jr0+hTxis110LFBSEkLoSVUufy7mlyIQD121EoRDCdQO0txdRLPqwrACAD88rKtGJrk5SmtpV035RU9RAdiYnqCdSnpIcIiCboJBpT3IiAwe9Qb/JfoAc8nkXxWKAQiEAUIBtB7DtAGFYhO/7RttJ0wZJ/QSS7UbfJ03bo7Q9PGURFXI5Cmk/6qd+/bQfQroHBQUhpK50dQbEiNKuKxyiXC6PXG4IXDdAR4cHzwMAG5YVwPOCsjMkIxWmQbzixIPuFJlIKypM41LoYiKtU6TeG31eLsehOkNJNax0iAYmZtsBXFdEJoT9NAEQgiIMCygWQ1hWgDD0SpNVeibCLu0BsgjxKJKERZyoUO0kTQ9P9RDj6nnr52+K7qm2UyzW9DcSMiihoCCE1BWTI+C6DlzXQRi6yOebkMs1oVAI4PsdcN0AYWjD8wqoTnuy4Pvx41LE1bJG1bQGQVcBIc9b3TdJTJiERFyXsd11iPTr0Cc1VYOCYmAin5/q58iC47iwbReW1YB8vhGWlUN7exGFQohcLgTgo1Dwy/ZjEhNZUqFUMZ5kO3FCwhSRiIpSpBERtYpx07WYrlm3IQoKQtJDQUEIqSumGlbHceC6LhynEQ0NTcjnmxCGBeRyAfL5EJ7XCdGtrF1yiKoblabN+TbVsqo1o6YaVUlc3rcqGuS8dK5UMaHXuHa9H5V1pk/TvVTPMU5QqI6QnBfRHzJQMDnXjmPDdR3Ytot8XthPGLrwPAu5XAjXDVEsBrAsG7btIAh8yM4N4uwojRg32Y7+3AFme5H7SjsxRSl6Mt1Jtx31PE22YxLjFBSEpKckKMLSRAgh3UN3BkTvTjZs20Iu58J1HeRyLhoagGIxLOWC+3DdAK7rAyiWnKJqhyhLY2x9XZrxKNT9osRFXHQizjFS74s+L5dN91Gem3qeaQQFIxQDEz0yIaITNmzbRi7nIpdz4TgObDuPhoYQxWKIzk4fuZwPzwtgWV6VINfTndLOq3ZkSgc0nbdqL0BXm9GXswiKuOiePq8ud1dQUJATEke1gTFCQQipK13TfkSFhRyUSwqMhoZ8ySHykMu58H0fHR0yShFAtqEQ3cjW3rhUrTWNm/T9TDWqphrWqOhEWocoyhmSpBUUemTC81jDOtAYPXo9Vq1qKT0nYelZk/ZTsZ18Pg/PC1EoBMjni/A8H67rQ/SeBsh2FKrdZBHiaTs0MIl2KThUwaDbUlSvTllTBuWySi32owoK1XZ+8IP1df1/Cdma4UjZhJC6YkrbAELI/vRtW6Zw2CgUfORyObiuB8vyIPrVt7vUrKoNs+vdW40uIHQnKcopUh2getSySkzr1FrfOIcoCCoOkecBhUJ9/1vS8+jPTBiGsCwhKETnBjYaGnIoFgPkcl4pcuGjvb2Iiv0EkVGHNOIiq6AwRQDjohN6uqBJlJvuRVYxDqQTFHrbCWk/hJBoyuVSaZkRCkJIXXFdc5RCpj+5rl3KC88jl/ORyxXhOKJaU3QXG3ZxAtJEJ/T9sogJk2OkCwndKbIss2OURkx0V1AAZidQd4ja27v9d5JeRrY30G3HsgDHEREKEaXIIZ8vwnVdAIXSsyCEu6CSKpimp7QoQQHUJiqSInuq7aQVE1FRColpnTz/qOvQe3jyPLafSMudd93V16dAusnsWbPqdiwKCkJIXfnwh9W0DbUGUkQnhMMTAggRBB58v4ggEClOgKyJrS7o4xqNxjlDunOjTxLTvmkH5dKXuxOhqMUh0gWFGqG45hqmbAw0zGLcKkX47NIzJwaD9H0fvl9EGAYAAqCUWqgOCCkHvEsrJvT1QPcEuSnCp4uIKBsCotfLbSpJYtx0LXp0jxGKbFx44UV9fQqkG7z15tq6HYuCghBSdyrpQMIZCsMAQeCjWCzAsjph2znYNuB5HjzPQxj6JaeoktpRGdxOHDOugWmckyS/GyUq1B5o0giJegoKuWyal+iOkDpvqmFlDzUDG8cxpT0J+ykUhO2EoVv6n4tlcSGjE8J21ChddKcGtfSSljRFCQk9mqfaTZwNAekERVoxrs7rlRaqoKD9pKeeTinpHe686666i0EKCkJI3dFrWT3PQxB48LwCLMstTUHJIfJLEYoAsptZ4WSEQCmSYYo+JKVqmJycNJPawLSvBYV0gOS8ySEKQ3P/+Ww/MTDZeef1eOWVFsWGQvi+sJ9iUQgK37cBuCW7CjQxXv0cxYmIuHn1u0B6G9JtRW+LlFVQxEX2kiIUpuiE/NTTI1Xb8Tygra27/yQhgwsKCkJI3XEcVDlElgX4vo8wLCIMOxEENizLh+eFJYdIRiiC8qfJgUnbS43uGAEVZyOtQ6Q7R7rQ6AlBEUUah0hvkN3Z2d1/kfQVFfsRUQff9+B5RQAWLKuz9AzlEAQ+wtCH73sQwtsvCXNAFeO1CApVTADpBEUWMa7O69EL+XtxNqR+xqGLcsBsO2r7o0IBuPFGpgsSkgUKCkJI3cnngY6O6j7rRS2rDd+34HmAbfsIAhe+X0RcGMdNAAAgAElEQVSxWEAQeBDjT/hlISIdIkkWQWFK20hyilSHyCQg9BpXkzOUNmUjS7qGPm9yiFRBUSwCP/85HaKBit4oOwj8sqAIww5YVgDL8uH7ATyvCM+TY7fISF9oPG6UnUTZElB5/oF4+1HtRRfh+qfJbmRaot7tbBoxkcV+TNetpzsxukdIdigoCCF1Z/To9Vi9ukWpZRX53iKlSYgK2xYio1gUDpHve1XRiahayKhUpziBoTv2WR0i3QnSoxKqMxQnJtRl07Wp66LERJRDqNewkoGL7ClNfZ48r1iKVgC2HZbWBSgWCyWxLqIVleet8tDIZ0oXC1G2o9tYGkGhb9MjEaYohUmMS1tKsiH1U79O1V7UZd3edfuRYpz2Q0h2FEFhrtEghJBaULuEFI5EUHJ4PPh+ANuW+coiZcP39eiE2XEwCQG9tlF3uqVDIZ0S2xZpJWkdoqQoRZQzFOcIpalhlddrunY6RFsvO++8Hi+/XD3AXRD4APzyfw2EKBTCUnTCK6UUBqX9w0RBDphr6k2f8jiqCFDtxxTZ09tNmKIUSRE+9XejxESc7chrVD+TxHixCGzZUsOfRsigo1o3MEJBCOkRcrlKLriMVMha1GLRg21bKBRCFIuBUsMqGpcCFUdKd7ylExKX9mTarn5fd6jUnp5MDpGpVjUp1SlNZCJOVMSla+jXqztEra3d//9I36JHKcJQCArfDxEEwpaEoPBLYlzYTpRoleuArs9QGFbGqjCJCvX7eo9oJtvR55NsRy6r553WhvRrk9enott7lKAoFkXbo9/+lumChGSFgoIQ0iNU91YjeqDx/QBh6JVyljvQ2RnC8yyg1IAU5UG8wkhnQneK1CmNU2RyiLKkPaURFfr5RjlFcjmOqBpWVTipDlFHBx2irQHX1QU5Su0kQhSLPnzfQqEABIEFQKYKShsKjc+fHnWLEuNxgjwq5Smt7ejbskT3ao1OyPk4Ma4KCkJIdoSgCKsNjxBC6oFeywoEEI2vAc+zEIY2AKv0/gmVqVIbmsYpSlPTaqrl152huChFVK1qnCOUJnVDokZOdOLSNfR0JzpEWwe77CLSntR2SLKL5SCw4PsWADmFVVOaqJmeEpgkKOQzqKcKZrUddV6NXiQJcnWdnFeJsp+o6J5JjBcKwG23UYwTkgbd3mzzboQQ0n0aGqpTnoTTUalJBQLlU853rWGNEha6QyRRHSN9UtOD5KTWUqrLas8v+jbTsj7px1d/07Qt7vum70oRIadCgdGJrQk1QiFSgir2Ie1FDmwnl1XbSep9LEpcSztR7UUXrybbibIBk12ltYOo7Vm+l8Z2KMa3HvY/4EA8/8ILvf7dwQ5TngghPcaHPyzSnorFro20hVMjHaKutatp2icA8WkNesqTnm4Rl7ah54CbIhKm5bga1awpG+r1maIu0tHj2BNbJw0N4j9VRYUqGISQAPTInsl+9NQj3X70KF5chE8V82pEQk5JDbP1NKeoSJ96Pfq8XI4jKjqhpztJccHB7Gqns7MTu42fELn92muvwWePPbYXzyiZadNn4Je/vAWTJ00qrzvvvG9i9I479uFZDVwoKAghPUo+L2rO9QbaqqjQnSFTdMIkMKQjYopSANUpUGput+rc6JPqJKkOUFRj0ihxUQ8xoV6HKdddFRSFArB5c3f+KdLfkL09iXFbuooClMdpCWNtJG4ZiE61M4lyVQTobZCiRHmUcFDToNR1QLZ0pzji0rpUQdHRAdx3H6N7tdLQ0IDVq14pL0+bPgPXXvNTTJ8+HQCQy+Wq9vd8H67j9Oo5puH4447r61MYsFBQEEJ6lI9+dD1eeqkSpag4NNU90qjbopygpDYVUaiOkfqbMh88rpbV9GlyzpLaUsjfNH3qREVdTNEJtTH2Qw/RIdraaGhAle3ogtz0LCaJCF2cAOkifar9mMS4KUKhi4k4m9HtC6hNVGRtjF0osGe0etDQ0FC17OZyVeumTN0Xp516KubPn4/2jg4sWrgAP/7JT3Dffffj/fffx4477ohLL7kYBx10UHn/OXNOw+LFS7BhwwZMnjwZP7v2GriucF2vuupH+N3vfoei52H48OG4/rqfYa+99qo6h6jjX3zJJdiwYQNOP/0ryOVyOO+8b+L4447D/gcciJtvvgmTJ03C6jVr8N3vfhcvv/wKhg8fjnPPOQcnnnhCqnOT/Pp736/7fe4ucy67tEeOS0FBCOlx1CiFGJirq3MTF53QRYU+xdW2mhwKVYRENSiNExOmmtWkCchWy5qUrqHmsxcKwKZN9fu/SP9BCnK9PYVJGGQRGbr9qWmBOuozB1RsJ6pxdlx0L0qQR9mT/L20Ylw9Z/XcTW1E1OjEww9TjPcGf33+edx331w4pejEpD0m4atf+QqGDRuG++6/H//vrLOx/Jmn0dTUBAB4+eVX8Lt77gYAHHf8Cbj//gdw4oknYOXKlXjwoYewePEijBgxAu/84x8wPRJRx//B5Zdj8eIlXVKeJJ7nYc6c0/H5z30Ov7vnHrzw4ouYPfsLGDNmDKZM2Sf23HSOnzmzDneuPuw5cybeKqdK1he7R45KCCEKY8eur+oG03G6Njg1OUtJkYsoURKXAiVr95MahpoaZCc18oxrmG1qEBq1zfQ7cn+9IWmhIByixYvpEG2tNDTE24xJXETZT5QYV532KNTa/aTnNapTg6TG2fWcpI1ENcIuFEQbFQ5k13t8+ZST4bourNLD9qlPfRLbbbcdLMvC8ccdhxEjhmP16tXl/U85+WQ4jgPHcXDAAfvj5ZdfBgA0NTWhvb0dq1athud52GH77bH99tt3+b2k40ex8rnn0NbaijPP/Dps28aekyfj2GOPxR8f/GPiuQ1WOFI2IaRXkKkbcU5RnICIc4r0mlGTYyTFhV4Tm1TDGpUDbnLGstSwSuLSnuLSnRidGDzsuut6vPBCS032k1aMx9kO0FWk67X+UZG+pHYUWaJ76qckzfnqkT09VXDJEorx3mLEBz5QtXznnXfit/9zB9577z04joN//vOfaG2ttI7fZtttyvONjY14771/AwAmTJiA88//Fq648kqsXbsWh8ycie997z/xgYzHj2Ljxo3YfocdYNuVevfRO+6IF5QeoKLObfBQrRuY8kQI6RXGjVuP55+Pd4rial7jnKI4R0TF5BCZUpuifrtWpwgwO0RJzpCcV503tSG2dIieeIIO0dbOpEnrsXKlaKAtoxUyfTDOZuLEeJK4ALpG+nRhofb6pKc5maIlcXYjfbckG9LndZLEeBBUIhQLFtB2+oo1a17Fj378E9w391589KMfBQAccsihCFNWcM+eNQuzZ83Ce++9hwsu+DZuuOFGXKa0D0g6flxAbuTIkfjHO+8gCIKyqPj7+r9j5KiRNVzp4ICCghDSa0yevB5/+UvXXmvi0jeiUjjSTibHSO8SU26XUYbuOEVJ4iaqplUlTXRC9pu/dCkdosFCLmdqoJ1dmJsERNxzDUQ/j3p0To9M6Lajixx1UiMktQoKk+2o56x2E9vR0XP/FUmmtXULGhsbMXr0aADAE8uWYe2bb6b67quvvoq29nZM2mMPDB06FE1DhiCQL/uUxx+23XZYt26dsQ3F3h/7GBqbmnDLLb/E1772Vbz00st44IE/4NZbf1PbxQJo7ejA92+9FY8/9xy2bW7GVz7zGZx4yCE173/2tdfiib/+tbw8tKkJy26+uebz6y4UFISQXkVNfYqqZY1zmLI68qoDo6dp6CJD3S+LUwRkj1BERVDkZ1x3lzIHnP3mDy4mTeoqyE02FBWZiHLk42zGJMx129FFQVQlQJYIn35cSZL9mFIZ9cbYUowzste37LXXXjjiiMNx+BFHoKVlR+w2bhzGjRub6rutra34zncuxLq334Zt25i233445z8vy3T8r59xBi677D/xne9ciIsuuhCzPv/58jbXdfGbX/8KF333Yvz8hhswbNgwXHzxdzF1ypSar/end92FzW1tWHLddXjrn//EV370I3x0xx2x97hxNe9/6amn4qgZMwAAlskoehEXEFlQpp4dCCGk3uyxx3o8+2x86kaUiEiTrpFU+2pyjgBzTWvcZ1pRIdebPnXiBIXeTWxnJ/DMM3SIBhv77LMezzzTUtXwP4swTxPRMEUsooQFUP1c67YWZZtpBI1+bPXTRFzPaPqYLYVCff8XUs1zK//SZd2zK5ZXLVuWhe9/73uRx9D3P/uss8rze+21F+bPf8T4vT8ve6I8H3f8Y475DI455jOR3x0/fjzum3tv5nMz4fk+Hnn6adzy7W+juakJE3feGUdNn44Hly0zCoq0+7uOgwZtjI/eQtcNjFAQQnqdKVMqTlFcTWsWp8iUchFV02rb1bnfQMUBkd9Rt5uEhknQRNWsRjlD6nJSdELvN59iYvCSyyGxLUWS3UQ9v1FCPSq6oLexUNOW4mwnSVQA6e1HtR35aeomVvYwVSgAK1bQfkjvsX7jRrR3dmK3nXYqr9vtwx/GH554olv733jffbj+97/H6A9+EKcffTQOmDy5Zy4gBRQUhJA+Yb/91uPPfzbXtDqOebC5Wqc4saGKCsA8rwqLrLWrJmcoKl1DfkY5RNIpWr6cztBgZu+912P58pYqu1GFhbSfKBuKEuRRtpNGkANdayx14ZFGyADJYjyt/ahpgp4n1hWLFBOk92nr6IBlWWjI58vrhjQ2ojWiIU+a/WcddhhGbrcdmvJ5PPbcc/jm9dfj9u9+FxPHjOm5C4mBgoIQ0mfk813HbcgiJkwRCFNKksk50p0dHb1thb5cTzGh/maUQyRFBSEAsO++6/Hkk5XUwTRCImvKUz0EubpPT/aMJn/P1G5CTXuimCB9wZDGRoRhiM5CoSwS2jo60NzYWPP+M5TG5F/65CfxlzVrsPjZZ/tMUNh98quEEAJg6tTKgHfqwHdpxURc+kaU6Ij6norJqdd7iZECSO85Rh9ISx/ETh9cyzTJAbcKherBwAA6RKTCjBnrkctls580+8TZUpLtAMmiWLUd00B5+qCPaexHtosoFCrLxWL179F2SF/RMnIkGvN5vPb3v5fXrVm3Dh/dcce67A8AOceBr/V01ZtQUBBC+hSTU6SOChw1QnAW8WFyhpKcIhU9Txyodob01AqTmNDFhu4g6Q6RWqsqf5sOEdE58MCK/STZSpLN1EuQ6+i2o4pz3XZMgjxuZHnddqQIV+0zDGk7pG9xHQefmjYNt/zhD2jv7MSrb7+NeU89haMPOKC8z32PP44/lwbOS9q/vbMTi1aswLubNmFLezse/POf8dhzz+Ggvfbqk+sDqgRFWJoIIaR3OfDA9cjnhaBw3WjRkFVEpBEVkiSnyISpBtbU7iFNDat0rvTaXQkdIhLFzJlCVOiCPEpgpIlGpBXk3UHtfUnv0jmL7UgBYerdCaDtDEaWL1+OY479LMaO2w0Td98Dxxz7WTz99NPl7dOmz8DzyqjXvcH5s2ejMZ/Hod/4Br5+9dX4xoknVvXYtPjZZ/HcmjWp9g/DEP+zYAE+/e1v4+CzzsJt8+bh+6efjn12260XryiEqh3YhoIQ0i84+OD1ePTRli7pEPokhUWtjbb1dhS2Xd3DUy1daOvf0XufMe2TdAx1mQ4RSeLjH1+PhQvN9qO3TarVfky2o/fqVAsm+8liO/o+tJ3BTWtbG06bczrOPvss3PE/v4Vl21i5ciVyuXzyl3uQ5sZG/PjMMyO33/Stb6Xef0hjI26/+OK6nl93YcoTIaTfcOihoqZVr22NilLE1b7GtauI2g/ofq0rYE6RqhU6RCQthx9esZ8oOzHZU3cjf5J62A5A2yHdY93f/oYtW7bgtFNPxdChQ9E8ZAgOPOAA7LPP3gCAiy+5BBs2bMDpp38F+x9wIObedx8A4J1//ANz5pyOPSZNxpSp++KGG24sH3PK1H1x/c9/jhNPPAkfP+wTOO+8b6Gzs7O8/ZFH5uOPf3ywdy+0n0FBQQjpV3ziEyL9KSqFI60TVEsbi/4GHSKSlU9+spL+lMV+6pFOCPQfO6LtDF4+8pGP4AMf+AC+df75eGLZMvz73/+u2v6Dyy/HqFGj8Ktf/Rf+vOwJHH/ccQiCAKedNgfjxo3Dcyv/gocfehD33X8/5j1SGTzvxRdfwt1334VFCxegta0N111/fXnbE8uW4dGlj/baNfZHyoKinjVqhBDSHQ4/fD2amhDbWFt1jOIao2Z1lPoLdIhIrRx5ZHWbpCg76SlR0dfQdgY3TU1NuG/uXAxtHoqLL74Ye+8zBV/44hfx9ttvR37n+eefx7p163D++d9CLpfDhz70IZx88pcwb15FUHzpS1+E4ziwbRunnHwyHnro4fK2K374A/zs2mt79Lr6G7puYBsKQki/5BOfEE7Bffe1GBs/y8lxKo0w1XndUZIDa9l29bxc1gfG6ivoDJF68OlPr8eDD8bbjj5mg2orpjYWUXbkOJXf7euxUmg/BAA+8pEP44orfggA2LBhA751/gX41vkX4J677zLu/847/0ChUMAnDj+ivK5YLGLChAnl5VEjR5bnR44ciY0bN6Y6lz1nzqzhCgYeFBSEkH7Nccetx9y5LVXOj2kAuCzCQnWE9GPJKEVfdOdNZ4jUk6OPFs/T737XEju2islm9Ebcqn3o4kK3H7WHpd6CtkOiGDVqFL4wexb+4zsXltfpwbRRo0ZhxIgRWLJ4EayIUNu6t9/G+PHjAQBvv/02RioCI4o5l12Kt8K+GxuiN+lHAX5CCDFz/PHrMXt2JY1DT+FQB/Uy5YpHpUqZUj1MI/b2NCtWrKdDRHqMk05aj4aG6hRC1Y6S7CcujbCvbQegmCDVrFu3DjfddDPeeutv8DwPb771Fv7nf+7ApD32KO8zbLvtsG7duvLy3nt/DNsNG4Zrr/0ZOjo6AABr166t6lr2v375X9i0aRM2b96MG2+6CUcddWR5GxtlU1AQQgYQX/hCxTGSTlGcY2RyhKKERV85RnSGSG9w0knrcfLJwn5U20kSFnGNunXbcZyuttOT9kMhTkwMHToUq9esxuc//3nsNn4CjjnmWGy77ba4+uqflPf5+hln4LLL/hOTJu+Ju+6+G7Zt47bbbsWaV9dg6r77Yfc9JuEb55yD9959t/ydT33qkzjm2M9i2vQZ2Gmn0TjnG98ob2OjbKY8EUIGGF/4gnAgfvObFgDm9CfTvCldQ/++KQUKqH18ijjoCJG+4OST1+OOO1rQ1pbOZkxpTyZbkcuqbQE9l/pE+yFRDB8+HNf97Gex+xxzzGdwzDGfqVq3/fbb4xc33xz5nRn7749TTz3VuO2KH/4g+4luZSiCgl08EUIGDqedJhyKX/zCLCxMDa1N61THSK6XqLnm9YKOEOlrVFHe3h5tJ3oHBWpbiyjbkeul7cj19YL2Q0h/odqwGaEghAxozjhDOBg//3lLl/QKk0hQt5l6dopypKKOkxY6QqS/IUX5LbcIYQGYowsmMa7vo+6nIpe728kB7YeQ/g0FBSFkq+Dss4XD8bOfVZwjE2m7hbWsSheY3elKlo4Q6e987WuVZ/Tqq1ugDAAcKdLj5lW6040sbYf0F55dsbyvT6HfQ0FBCNmqOPfcihNyxRUt6OgwN7RWHaWoeZ2oWlodOkJkoHL++ZVn9/LLhbjQ7aZYrOwfZ0dyUoW5JMp+aDuEDEwoKAghWy0XXVTtnHznOy0oFKp7ptGdJbnOtgHPq+4pyjQORhDQCSJbJ5dcUv1cX3BBC4rFavvxvHS2E2U/y5fTdgjZGqCgIIQMGq66yuy8fO1rwlHyPFH7WiyKWtVcTnzKBqbz59P5IYOXn/yk6/P/9a+3lO1GtR/XFTaj2s+CBbQfQrZWyoKit0e1JISQ/sItt9DRIaQWbr6ZtkPIYKSsG0qfHNiOEEIIIYQQUjMUFIQQQgghhJCaoaAghBBCCCGE1EypDUUIjpRNCCGEEEIISaZaNzBCQQghhBBCCKkZCgpCCCGEEEJIzVBQEEIIIYQQQmqGgoIQQgghhBBSMxQUhBBCCCGEkJopC4ow5GjZhBBCCCGk52htbcVZZ38DEybujmnTZ+COO+7o1v6nzZmDncfsUp4mTd6zJ0+flJC6QUoHt0/PhhBCCCGEDBouv/wH2LRpE1YsfwZr176JWbNnY+y4cdh36tSa97/yyitw3Gc/CwCwLKtXroNUw5QnQgghhBDS43iehz8++CC+ee45GDp0KCZN2gPHHnsM5s6d2639c66LhoYGNDQ0IJ/P98alEA0KCkIIIYQQ0uO8/fbbaGtrw4QJE8rrJk6ciDVrXu3W/j/96TWYuu9+OOHEE/HYY4/1yLmTeJSUJzagIIQQQgghPUNrayssy0JjY2N5XfOQZrS2bql5/y+fcgpGjRqFpiFDsHjRYnzlq1/D3Ln3YvKkST13IQS6bmAbCkIIIYQQ0uM0NzcjDEN0dHSURUJrWyuam4fWvP9BBx1Unj/99Dl4ZvlyPPLIIxQUvQxTngghhBBCSI8zevRoNDU1YfWaNeV1q1atwrhxY+uyPyDaU/ieX7+TJqmgoCCEEEIIIT2O67r4zGeOxvXXXY+2tjasWr0aDzzwBxx//PHlfe6+5x48/vjjqfZva2vDw/Pm4V//+hc2b96Muffdh0WLF+Owwz7eJ9c3mKGgIIQQQgghvcKll1yCpqYmTJm6L04++RT8x7cvqOoCdt68R7Di2WdT7R8C+M1vbsVBBx+Mj+29N2655RZc/ZOfYN999+3tyxr0sA0FIYQQQgjpFZqbm3HDDT+P3P7ft9+Wev/mIUMw997f1/P0SI0wQkEIIYQQQgipGRGhKA2fTQghhBBCCCFx6LqBEQpCCCGEEEJIzVBQEEIIIYQQQmqGI2UTQgghhJBuceddd/X1KZAEZs+aVcejcaRsQgghhBBSZw77ePT4D1P33a8Xz6TCiuXP9Mnv9jem7rsf3npzbY8dnylPhBBCCCFkq+PKK6/o61MYNDBCQQghhBBCeoWsteR33nUXLrzwopq+R3oPRigIIYQQQgghNUNBQQghhBBCCKkZCgpCCCGEEEJIzbiA6PiJI2UTQgghhBBCkuBI2YQQQgghhJC6wV6eCCGEEEJIr1Br70vstal/w5GyCSGEEEJIj1PruBAcT6I/ElZ9MkJBCCGEEEK6TdJo2BdeeFEvnQnpbSgoCCGEEEJIt5g9a1bmwefI1gMbZRNCCCGEEEJqhoKCEEIIIYQQUjMUFIQQQgghhJCaoaAghBBCCCGE1AwFBSGEEEIIqRutra046+xvYMLE3TFt+gzccccd3do/6/GyfqdYLOKii76L6TP2x65jx+Ljh30CDz38cNU+p82Zg53H7FKeJk3es67nkOY3arkPvUW5lyd9CG1CCCGEEEKycvnlP8CmTZuwYvkzWLv2TcyaPRtjx43DvlOn1rR/1uNl/U6hUEDz0Gbc+ptf44Mf+hAWLlyIc889F7uNG4exY8eW97vyyitw3Gc/CwCwLKvu9yHpN2o5Xk+h6wZGKAghhBBCSF3wPA9/fPBBfPPcczB06FBMmrQHjj32GMydO7em/bMer5bvNDc347sXXYTx48djxPDh+PznPocxY3bBCy++WLVfznXR0NCAhoYG5PP5ut6HpN+o9Xi9hSIoQnC0bEIIIYQQUitvv/022traMGHChPK6iRMnYs2aV2vaP+vxav2OyoYNG7Bu3TpMVL4PAD/96TWYuu9+OOHEE/HYY4/FHqPWc4j6je5eU/2p1g0c2I4QQgghhNSF1tZWWJaFxsbG8rrmIc1obd1S0/5Zj1frdyTFYhFnf+McnHTSiRg/fnx5/ZdPOQWjRo1C05AhWLxoMb7y1a9h7tx7MXnSpLqdQ9xvdOeaegMKCkIIIYQQUheam5sRhiE6OjrKzm9rWyuam4fWtH/W49X6HUCkFZ155v/DB0aMwGWXXlq17aCDDirPn376HDyzfDkeeeSRSEFRyznE/Uat19RbsA0FIYQQQgipC6NHj0ZTUxNWr1lTXrdq1SqMGze2pv2zHq/W73i+j7POPhthGOK6634Gx3FirzPnuvA9v67nEPcb9TheT0JBQQghhBBC6oLruvjMZ47G9dddj7a2NqxavRoPPPAHHH/88eV97r7nHjz++OOp9k9zvO6eg+/7OPfcb+L99zfh2muvge/76OzshO8LZ76trQ0Pz5uHf/3rX9i8eTPm3ncfFi1ejMMO+3jdziHpN2q5D70JBQUhhBBCCKkbl15yCZqamjBl6r44+eRT8B/fvqCqa9N58x7BimefTb1/0vbunsM777yDhx56CE899RQmTd4Tu42fgN3GT8Dtt98OQDQ9/s1vbsVBBx+Mj+29N2655RZc/ZOfYN99963bOaT5jVruQ2/BNhSEEEIIIaRuNDc344Ybfh65/b9vvy3T/knbu3sOo0ePxptr34g+1pAhmHvv7zP9ftZzSPMbtdyH3oIRCkIIIYQQQkjNUFAQQgghhBBCaqac8qQPoU0IIYQQQgghOmXdUPp0K0tUFIQQQgghhJAkqnUDU54IIYQQQgghNUNBQQghhBBCCKkZdhtLCCGEEEJq4s677urrUyD9AAoKQgghhBBSExdeeFFfnwLpB1BQEEIIIYSQTMyeNQtvvbm2r0+D9BPYhoIQQgghhBBSMxQUhBBCCCGEkJqhoCCEEEIIIYTUDAUFIYQQQgghpGbKjbLDkCNlE0IIIYQQQuKRukGqB/byRAghhBBCIuFYEyQJCgpCCCGEEBIJx5oYPFx55RU1fY+CghBCCCGERMLxJkgSFBSEEEIIISSSncfs0ten0Ku8ufYNAIP3umuBgoIQQgghhMQSrHuwr0+hV7B3OrpqebBed1YoKAghhBBCSCKPLN26nev5S18xrh+s150FjkNBCCGEEEIIqRkKCkIIIYQQQkjNUFAQQgghhBBCaoaCghBCCCGEEFIzFBSEEEIIIcYeuNcAACAASURBVISQmqGgIIQQQgghhNQMBQUhhBBCCCGkZigoCCGEEEJItznzwt/jqJN/iaNO/iVO+Oqt+P61C/Due22pvnvyOXfg1bUbun0O7R1FnHrenVj65GtV67587p1YtqL2kaDT0pv3oK+vVYWCghBCCCGE1IXzvjoTf7z1dNz4wxPw703t+NXdT/fI78x/bBX+sODFLuubGnM4+9SD8Ms7nsT7mzsAAL+5+xnsOmYkDpi6S4+ci05v3YP+cK0SjpRNCCGEEELqgm1bcBwbHxq1DWbsszOeWF6pKX/r7Xdxw63L8MbfNmLbbRox+9h98ImDdsNNty/De++34fvXLoDr2vjicVPw8QPGxf7O5i0daO8oGrftPWk0pu75Yfzit3/GkYdMwBPPvI6brzqxrtcZR2/dA6Dvr1VCQUEIIYQQQurKxndb8dTKNzF+1w8BADw/wPeuWYAjZo7Hjy8+Gq+u3YiLrnoIO+4wDGeecgCeXvkWLjn3cIwdM6ouv//VL0zHGd/5PZ578e+YM2sahg8bUpfjZqG37kF/uFYKCkIIIYQQUheu/sVSXP2LpQCASeN3wJxZ0wAAq1/7P7R3FnHS0XvBsiyM22UUDpkxFo8/9Tomjt0+1bF/eP0ivLDqHQBAoeAhBDDv0VcAAGPHjMTlFxxZ3ndocwM+Mno4Xn71n5gxZUwdrzCZnrwHJvryWiUUFIQQQgghpC6cf8YhmDl9LF5d+3+49Or5eP6V9ZgyeSe8t6kNI4c3w7Ks8r4fHDkUr63dmPrYZ596IApFHwDw8JKX0NHp4fgj9wQA5HJO1b5Ln3wV/9ywGR/bfUfces8zOOvUA+twdenoqXsw79GXceNtywAIoXLVRUcD6NtrlVBQEEIIIYSQumFZwLhdPohZx+yNW+95BvtM2gnDtx2Cje+1IgzDskO94V9bsN2wpvJ3kth2m8by/JCmPCzLwsgRzV32+/emdvzyjqdw4VmHYfQO2+HrF/4eh8wYi913qz0KkJWeuAdHHjoRRx46sWpdf7hWgL08EUIIIYSQHuCImePxr3dbseKvf8Nuu34QDXkX9z78V4RhiNfe3IilT76Gg6Z9FACwTXMD/rlhc11+9+b//jOm77MzJk9owYjthuC0z+2H63/zJxQ9vy7Hz0JP34P+cq0UFIQQQgghpO40Nrg46rDd8fsH/xeuY+Oy8z6Jp1e+hRO+eit+8LOFOH3WNOw+TtSkn/DpvXDzb/+Mk864DfMfW1Xzbz71lzfx8pp/YM7np5XXHTFzPEZsNwR3PbCy29eUlZ68B/3pWpnyRAghhBBCus1NV3btrvRLx08BjhfzY3YagZ9eeozxuzOn74qZ03dN/Vsnfnov4/rp++yM6fvs3GX9lRd+OvWxu0Nv3oO+vlYVRigIIYQQQgghNUNBQQghhBBCCKkZCgpCCCGEEEJIzVBQEEIIIYQQQmqGgoIQQgghhBBSMxQUhBBCCCGEkJqhoCCEEEIIIYTUDMehIIQQQgghicxf+kpfn0KfMFivOwsUFIQQQgghJBZ7p6P7+hT6hMF63VmhoCCEEEIIIZG8ufaNvj6FPmGwXnctsA0FIYQQQgghpGYYoSCEEEIIIZHsPGaXvj6FXkVGJgbrddcCBQUhhBBCCIklWPdgX59Cr6C3mRis150VCgpCCCGEEJLII0u3buc6qjenwXrdWWAbCkIIIYQQQkjNUFAQQgghhBBCaoaCghBCCCGEEFIzFBSEEEIIIYSQmqGgIIQQQgghhNQMe3kawMyd24J8HsjnAccBbFtMct5xAMsSE1A9HwRAsQjsv//6vrsAQvqQBx4Q9uO6Zvux7YrNqDYUhoDvA9Om0XbI4OTee1vQ0ADkcsJe1DLHZDt62eN5wIwZtB9CtiYoKAYQ99/fUn5hSyfIdbu+yNXJsqIdIwB46aUWAOIl7/vAXnvxJU+2PubONduO6gxF2U+UYyRtJwzF1NkJTJlC+yFbH/ff31IuZ3TbiSt79PIHMNuP7wN77knbIWQgQ0HRj3nggZaqKIN8Mau1QWkcIv0T6Bq1CEOxvHp1S9lB6ugAPvYxvuTJwOSPf2zpYjt6BC/JIUojyiUNDcJ+gkAI9N13p+2QgYle9kgbUO1Gn0+qzLJLCdZR9rNmjbCdMAQKBQqMgcqZF/4eb/39PQBAU2MOkye04KwvH4gRw4ckfvfkc+7AJecejrFjRnXrHP7zmvnYftQ2OONL+5fXvfDKevzw+kW46coTMWK75HPpDr15D/r6WlUoKPohDz/cUrWsvpx1h8iUppFUSxRV4ypFhZzP58VL3veBCRP4cif9nwcfbCk7LmFYbTdx9pNFkEelEUr7kZ+vvSZsp7MTmDyZ9kP6P2rZE4Zmm8hqP0nlj/wt9Xdl2RMEwPjxtJ2BxnlfnYmZ03fFxndb8aObluBXdz+Nb3/90Lr/zvzHVqGz08MxR+xRtf7sUw/EmRfdiwP3+yh2H7c9CgUP1/36Tzh99vRec7B76x70h2uVUFD0Ex5+uOIIAV2dk1rERFZBAVS/4MNQHDsMgddfFy/3tjbWHJH+xyOPVItwaTem2tUsYjyNDano9uO6wjmS4mK33Wg7pH8RVfYA1c9+lM3o7SaSUm7T2o/rikjfG28I2+noACZNov0MBGzbguPY+NCobTBjn53xxPI3ytveevtd3HDrMrzxt43YdptGzD52H3zioN1w0+3L8N77bfj+tQvguja+eNwUfPyAcbG/s3lLB9o7il3Wf2B4M+bMmobrfvU4bvjhCfjt3GfRsv0wHHZg/PHqSW/dg/5wrRIKij7mkUdayi9cVUTIZb2GNEuetyndI+6lrr/cJdI5CgLxkn/11RYKC9IvmD+/ktYkn1OJfJ7T1qKmsaGs9qML8zfeaIHnAePG0XZI3zJvnkhrUtHLHrXciSqDTGlRtQjyOPtxXdEA/LXXWtDeTmExUNj4biueWvkmxu/6IQCA5wf43jULcMTM8fjxxUfj1bUbcdFVD2HHHYbhzFMOwNMr36pLyhMAHH7Qbnji6dfxoxuX4IVV63HjFSd0+5i10Bv3oL9cKwVFHzF/fkVI6Ohh4DTOTlJkIotDFPVit+2KcyRf7m1tTOcgvc/ChS2pbEeuS2s/cUJctddaRbms0aWwIH3FI49U2kdI1LJGX05rP7UKcvV3o8oeQFRo2bYQF6+91oKODmCPPWg//ZGrf7EUV/9iKQBg0vgdMGfWNADA6tf+D+2dRZx09F6wLAvjdhmFQ2aMxeNPvY6JY7dPdewfXr8IL6x6BwBQKHgIAcx79BUAwNgxI3H5BUeW9/3GnINw+gV347TPTcOoEUPreIXJ9OQ9MNGX1yqhoOgDFi2qzvOWn2qUAuj6wjW9fKMcmKhtSS/1uBoj1SkKgkpvH2vWtNAxIr3CggXVzpCeGihJsht9m/q9OKGi7pPFMYqynddfFzWudIxIb2AqeyRJZU9SVCFqW9xxspQ9Upio9vPqqy0YO5a20984/4xDMHP6WLy69v9w6dXz8fwr6zFl8k54b1MbRg5vhqX8wR8cORSvrd2Y+thnn3ogCkUfAPDwkpfQ0enh+CP3BADkctUht1EfGIqmxjw+Mnp4Ha4qGz11D+Y9+jJuvG0ZACFUrrroaAB9e60SCopeZOHCrjVDQLSYkJ9xL2KVOHERt13/najjyXM0pWS9/rqIVjAUTXqKxYurc70lam2qXrOqzifZj0qczaRxiqJsR52X+zsOHSPSsyxY0ALXjY8ASEx2E7deJ419mfbPWvbIyMgbb4hoxcSJtJ/+hGUB43b5IGYdszduvecZ7DNpJwzfdgg2vteKMAzLDvWGf23BdsOayt9JYtttGsvzQ5rysCwLI0c098g1dJeeuAdHHjoRRx46sadPvSYMxTPpCZYsaSmPGRH1Ulcn2X2eJE1tj7pd/14W4kSMqccPxxENT4cOFY4RIfVk0aIWPPpoS1XahAndhqLEhbouTmSkEeL6vnG/EWU7riu6nH399Ra8+CLth9SXJUtakMuZyx5TlEKWPXHlT1qyfi9L2SPTn3I5YMgQkQZF+h9HzByPf73bihV//Rt22/WDaMi7uPfhvyIMQ7z25kYsffI1HDTtowCAbZob8M8Nm/v4jOvPYLkHFBQ9zMKF1c5QGvR81izfiwtj66SprU3zcpeOUS5X6dGGkHoghbjpOdWFg7peEuXo68QdJ86GVNKIiij7kb1BNTeLFEJC6kGasieLCFe3ZREXaW1IJa2wcN2K/bz+Om2nv9HY4OKow3bH7x/8X7iOjcvO+ySeXvkWTvjqrfjBzxbi9FnTsPs40XbghE/vhZt/+2ecdMZtmP/Yqj4+8/oxWO4BU556kMWLoxu/yXmTIyO3yUZoMsyrb9eXk17w+j5RjpdpWa7Tj6Gnckhef70FW7awJyhSO48+2tLFcYmzFz3Cp9uOKhD0yWRftUb3TPNyWT+uPEfdFtkuiXSHRYu6pjiZyh4TQSA+00TT47abnvc0ZC179PKH7ZL6lpuuPLHLui8dPwU4XsyP2WkEfnrpMcbvzpy+K2ZO3zX1b5346b0S97n7ppNTH69e9OY9UOmLa1VhhKKHePRRc3sJILo21JTyFFf7miRIstaw6tRS46qmcQwdCrz8MmuMSHaWLu1as5r22Y/bnsYW9N/JQtT+uv2o81EphEwfJLXw6KPp20uYohP6en1dHHHbs9hSlKhIU/7IFKhVq2g/hPQmFBQ9QFS+d9qXOVBd85/lRWwqBEyfaY8VR5TIkILCdYHGRuCVV/hiJ+lYuLAFS5e2VD1bKmnEuL5fWlERZztRIiPOhuOIc4zUFEKKCpKFNGVP3DNrspkke0sSH7WI8rjoubouSlTIdkkUFYT0HhQUdUa+0AGzKEiqVU27rpYXepoXfFbnyFTbKuddt1LbykgFSWLhQtF4VHUS4pz6JEEeRy22EyVY4n4jCT0KqIpytVtmQpKQKYJA+sh40vqsmGwkjd3ElTtxUb8kUZ7Ps0KLkN6CgqKO6C/0uJrROFGgN3qLeimneQHHiYqu811LoTQixJQrLoWF+mJ/6SW+2IkZU7eWUbWlSYJat52k76mktZ044sR8FLpDpDpGuRywejVth0SzZEmLsdyQn90pe5K+ox5Xn08S5GnKniyYhAUrtAjpHSgo6oT6QgfiazzjpiCoTGkdk6SaoLiCIAwtiJe5pbzY1eV0tUsSU42RKirYLSYxISMTkjiHJI3tqPaT9Nwm2U7c+aj2IifZt3hWUaGip3HkckzfIGaWLKlub2R6ftX1WcqeOOEdJ1jSfFbbTfVy1rInKVrBCi1Ceh4Kijqgv9BV0r7QTc5Qmu+lnQS606OfcNQLPrkmyoSpXUUuB6xcyRc7qaCLcUkWMaHaUZTzEye8k/YRSGen2i662peYV0dCTXK+ykcwpECpooI1rURl0aIWY7kDdM9+ksqfuG1xtqPaUNeyo/ayx2RHuqjI5YDnn6f9ENJTUFB0k4UL41/oaWuFTC/hqFqaWsREpSZHCgobtu3Cth1Ylg3L0h8FVXR0dZ6SHKPyUQwv9qamFDeWDAqkmNAxPWe1PvfdtR8xVYtxx3HhOMJ+bNspbZd0jVqo16Sfl369cb3Y5HLACy/QKSLA/PmVngS7K8b1qIT+3bhjRUU09O+pZY+wH7Xsibef7pQ9amPtfB5YsYL2Q0hPwHEouonjVOalMyDnszoz6n6AeAmq/elnmWQbDukMieWKcyNf6pYVll66DsIwAOAjCPyYKw4jX+Dy/HVMouLFF1vYT/ggZ/HibJEJ0zp9OyBsRh5T2o5cF+cUmRqBVxwhMW/bqv1Ypd+wS9/1SzYURF5zGGM86m9LokTFX//awjFeBjm5XGW+1rInCKqPoX6q5U6c/QDVx6kur7pGHNSyBwjhODkAPsLQRxAEAHQbCUvfra3skfdGlj1DhkQfgyQzf+krfX0KfcJgve4sUFB0A+kQqdTqDOkvQ3VwoTQOkamQ0IWIPAfblhEKG7Ztwbbt0ks9KL3UQwSBhzAsRlx59he7RB3dlE7R4MUU2TOJ6qyCQv1May9y3yi7qRy/EqGQTpFwiFw4jo0wDBAEAYLARxAU0VVYJDtG+np9WU3feOaZFuy3H+1nMJK27NGXk8oefTmNDSXto26XZY8U5JZlwXVzEDYRlMqeYl3LHrWjFFn2PP98CyZPpu1kxd7p6L4+hT5hsF53VigoaiQqd9X0Ilfndcc/yimSDo76Mk5Tywroo+9WwsZSQAiHyCm91J2SQ5QrRURC+D4QhkUEQRFBUEAQeF2uEVotUpwjJOfVWmNZ07piRQumTuWLfbBhKxl2qtMhl+WnahdxqRVxolweO85+TJFAtVZVpDaJaIWaJug4Qoy7bq4kxlESFRX7EVELeU0VUaFev47JsVPth6mDg5eoNNsoYR1XXkSVPaYyJ8p+oqLouv2Icgdl+3EckS7oujnYtl2yGyAIPKXsKXa5xixlj3pNaqRPtuXbe2+WPWl5c+0bfX0KfcJgve5aoKCogQUL4muH5GeWGiKTQ6SKBPWlri7Hv9QtyGYywhFy4TgWHMdBLtcA15WCwoHris8gCEvCIo8wLML3Hfh+oewYVa4pu1Mkz1vtGjOfT3/fydbBwoVdc5jjnCEgXkyo29TayCinyLTd5BCJ71ml49plUZHLNZVsR4oJC67rls9TCnLf70QQSPspKteaLCqilvWODv7ylxbssw+dosFET5U9JmEfZT8q0Sm5lQ4MRHsjC45jI5drLNmOVbIfEe0T0QkpyAvwfadsP6LsCUvnlb7siSp/LEtEKv70pxYcdBDth5B6QEFRA6buLfXlpJe66gTpjbLlCzouOqG/2E1iQnWKAOkQ2XDdPHK5IXBdG5bVCNvOl7p2teE4xZKg8BEEhXI0IwgceF4HRJ44AISJL3Z12fRylzWtzz7bgilT+FIfDOhi3OTEyM+kKSrCl+QU6fZjzhWv7s0JsEtOEeC6+dJkA9im9BxbsKwAYRiU7KcI23bg+w4sy4HvWyXHyGwvWZwieY0yfeOJJ1pw4IG0n8GAGp1IqsRJazd6z2imthhpUm4rYt0qi/RKmqBdqrhy4bqi7LHtPGy7sWw/juOVBHmAIHDL5Y6wnw74vkx3ylb26MuqIB86NNPtH9TsPGaXvj6FXkVGJgbrddcCBUVG5s+vfqGbXu4mJ8f0Ao+qdZUvY+k0dH1hx7/Q9X3kC106RY7TANdtgus6AIbCsoaUXv4OAA+OU4Btd5Ze5jYsy0UQWAB8eB7g+17J4ap+aycVcKZ9LEuEn5cta8EBB9Ap2tqJEhNZBUWcU6RGwcwOT7zd6fup7SZcV9hPLtcEx8khDIeV0znEfgW4bhFB0IEgsEv248CyRGNTkUoo56vvTVZBLq+RjUwHB6oYV8seuSw/05Q9cYJclj1ySmM/apSvMi9FeaXscd0GuG4DcrkcgCGwrKFVZY9tF2HbnfB9UfklBLkFyxIdhXhesSwmsgpyk6hwXeDpp1swbRrLnjQE6x7s61PoFfQ2E4P1urNCQZERmfutOkOSNLVDcS9zfb2aZw5kS9vQa5Qq7Siccg1rLteEIBgGISosADkAHoAiLGszHKe15BBZ8H2vtF0cq1gsJjpEpvug7qemPjU0ZP4ryABjwQJzqpP+mWRHaZwiU455XNoGoNqPpR1TdYryJYdoCCyrqSQo8uXtQBFAO2x7S6n3JxuiJzXR6QEAFAoiUpHkEKnXr8+r5+w4wFNPtWD6dDpFg4Fayh4g2W70ssRxzJVUcWlPpkhGJUrhlCqzGpDLNSIMhyEMty31nOZC2EcBQCscR7UfUfbI4xWLxfJ1qtdvuk9pRIXaWxZJ5pGlW7dzHdWb02C97ixQUGRg4cKWKofF5FDXwyHSX9pRQsKUtiHWicZvQWDBtuUgQjJ9Q6Y+ubDtZtj2sJKocCAeBx9Ae2k5B9t2YVk+LCtXcoosFIs+9N5qkhwi/b6oyPAzoxRbN/IZBcy2Iz/TTlGRPvlbadsfmWxOHMOqsqFKxwZOqdvLbRGG28KymiDEtgPhEG2GsKUcHOffsKxiWVAEQQjAKwmKyk1IYz/qslqDLO2HbL3IssckJoB05U5WQZ7FftQOQeS8HqkIQ5R6FHRh20MADEMYDoOwFdFjGtABYUsuLCsH1/03LCsPIdQBz/NhWTaCwK+6VhNRZY8uKmwbePLJFsyYwbKHkO5AQVEj9XSI9Hm9V404IaEjXuAhgsCq2l8NP8uuYoUocGDbDQDkiz2AcIiEoAA6YVkNcN0CLCuPYtFHpcY2hF7TmvaeqKjhZ7J1smhRC3zfHDkA6ucQSVSbSWs/phQpfZ1onC2ff6skFLYFMATCfqQYd0v7tMO2C7CsAsLQh3CMRNRCigqT/ajrku4NBfnWj22Lxv5AtrJHrjcJB5MdSfvMaj/mNnwVIV4pe+xymz5hB7Lskb1zyLLHhYiWN8BxCgBy8H1ZkSW+X2nP15W0ZY+8LgpyQroPXbiULFnSgmLRXDsEZHOI4pwinaQeNtQXvmm9Xksku7usjE5qQYgIH8A2qNS0OqX1OYiXfQOAzvJ3RC2R6Ds86txN9yZqAsRL/fHHW3DwwXSKtjZ0B9m0Lc4hMjlFUQ6RmmeeZD9RyN6dxDmozpG0HWk/NoTt2ACGQtiJjYq4ELZjWZ0Iw86SDVoIQzluRWi8J3H3Jmp/OkVbJ0uWtKBQqI8Yj7Md03FrtZ/q86iUGaK3QVPZ0wCgCZWyBwDeh7CfPCyrA9VtMsJEe0i6Fyq2zc4NCOkudvIuZNkyISbSvJzlctpuLk3fFd1Odj1eUi2TeX3XWqKKQyRf7H5pKkCIhiaIWldVTFQiHfJYops/Pd883fnpL3VZWDJKsfWxZElLVe1q1HMS9XybtkXZkO9XO0hJ9pPOhiu1orKWtWI/vjK1AwgBbAdhM7nSZx5CeFdsUPxGWLKjdE5gkv3YthDkZOtC2g6QTShkLX9k2RNlC6pN6OuibFSUD0llTwARjWiDsJdhELYj7cfuEmWvHDtde8Qo25GfjFIQ0n0oKFIgxQSQ3SGKc4ziXoS+X3m5699JO4ljhBCD1YVlB6b6pS5riAKIF3obhGPUCfWFLvK/rXIBUX1OXUWFXvhkcYpM4xSQgYus2UzryNfqEKmiQrefpKnatsLyJG1I2A9QSbeQDpG0nwIqttNa2ibFeFCymYrtqA5R10bg6e1H3legYj9k6+Hxx+PFeNZyRX/W05Q9JjuJO4/qqVL2iJ4Che0I+wlREePSdtpQaUeRh4yUq8JEjlfRE2XP0qUsewipFdYHpyAIKo3N1JcQYBYa+nItDhRQcQ6S0prMhKVzFy90zwvgeQEKBQ+Fgocw9JDPA7YtX+gdELVEspqmE+Ll7gDwIVObfD9QCgjpDKVrRxF3X9Tvs9eNrYdly1rQ2hpvPybnOMlGohwo+V01PSRu/JYkbLtiO8Wih0LBh+sWkM8HsG0pJtSODGTudxsqQt0vOznFol92tCpiIvqkTPdFvx8qlgXMm9eCI49k6sbWQFzZA0QLzO6UPybStD+qbBMH8f0QlhXC96vtx7I85HKA4wRAuWcnHxV3RIpz2UmIEORquSMrx7pb9piukxBSGxQUCTz5pHCITINvyXnTyxxIjljEvdT1xnAm1HzxKORLXbzQfRSLHjo6Okuj97bDdXNw3TxsW77AZa1rO8JQTLYtXujyGJUaXHm+5jd60v1KElJk4OP74v/0vK6FeBYxniatQc6bGpZmp+IUAWFZjAv7KcD3O+H7bSX7kSJCdmoguo71/Q7YdgcsK1DERFfbCYKu52i6T1H3Rr13lsXR57cWli9vwebN0Q2y48qeOJtJKn/0iqr4iqvq/dRPICwLcln2dHYWEASd8P2Oku3k4DiicxBZeQV0lMqejlLZI0RJoeBVRQvjBFDSeyau7HnooRZ8+tMU5IRkhYIiAekQFQpiWX2xRjlB+nLWF7s+YFHcyzzJ+bYslHrXCWDbPgoFH7YtHKIgaIXrOnBdIJdrQC6Xh6xxDcN2FIudJaHRCs/zUSz68LygKpUqroZInr8+b7on6nbLEgMIfvKTfKkPdEzpTnJZXa/Pp7WZqGdJkmQ/SQjbEU6RbQfo7CwiDG34fgeCwCk5RT5yuQY4jmxT0Vmyrw4ArbCszrJDJR0izwuM90U/d30+6V4AFORbC6XhFspiIqnsUedrLXtUpNBNaz8ySiHKrxCAVRLkARwnQKHglyqz8uWyJ5ezkcsVkMuJ1EAZ7fO8TliWSMENghCFgg/P85UUKkDvelknqezR074kFOTd48wLf4+3/v4eAKCpMYfJE1pw1pcPxIjhySNwnnzOHbjk3MMxdsyobp3DshVv4MqfLzZuO+7IyZjz+WndOn4SvXkP+vpaVSgoEjC9gNRt8jNtLUgah0iKCpnXqb/Qo7qVNZx96TgVh6hQEKWUGMnXKgkKH0HQgCBwkc+HAIrwvELZISoUCigWCygWvdILXYSwdecw7h6q83E1RBI6RQOfp55qQUdHpZMB3WlJ4xTV4hBJ+zHZThrUcxQpG0KQW5aPjo4CRFuitpL9WMjlGuD7DcjngVwuhO93wvMKANoRBG0l2ymWBYXnBWWHCIYRs+POJ+m+iHMGHn64BUcdRUE+kOnatqeyrdayJ8puTO/gLGJC/Y5yliUxFKJY9OE4HtrbZWWWKHtECm0evp9DPh/Ctn0Ui0KQ23YrisXOctkjbCcslT1h1X2II8v9AVj21IPzvjoTM6fvio3vtuJHNy3Br+5+Gt/++qF1/535j61CZ6eHY47Yo2r9/lPG4P5fz6lat/x/38J1v/oTjjh4fN3Pw0Rv3YP+cK0SCooYVqxoQVtb10ZpQPwLXZ2vNTqhOwgmqmuE4hAH8jxRwypSLloRBEEpOlGA7zfC90WDN9sO4PvCIerslGJCTFJMyILC75QaHAAAIABJREFU5BBFDbykfiY1lrMs4He/a8FJJ9EpGqjozlAtNaxZHCLTb8elC0Y5S2rKhkgBBIAAlmWho6OzdC0WfB9w3QC+3wnXbYDoBtaCEOSdEFG+Ytkpks5QkkOUZD9xYpxO0dbBypUt2LKla+NiSRb7SdsGSS97wjD7c6Tbm4xW2HaolD1Wqeyx4PtF+H4DfF90Q+44IYJApONWKrIKKBQ6S2WPX4p6VM5V/70o25HzcWWP5P77W/DZz7LsqRXbtuA4Nj40ahvM2GdnPLH8jfK2t95+Fzfcugxv/G0jtt2mEbOP3QefOGg33HT7Mrz3fhu+f+0CuK6NLx43BR8/YFzs72ze0oH2jmKX9ZZlIZ+rdNu1/p+bcP2v/4RvfuVgjN5hu/pdaAy9dQ/6w7VKKChiUF/i+uigQG0OUVJ0Qs9djXqp641OVaJrnEJYlggrh2FH6aXuw/cb4boFBEEIz3Ng2x5su1hyhoRD5HkexOikftkhiqodUgsm/bz08zP1xiFpaDAfnwwMVNsxCeUku5HrszTKlo6R/L0ohygugqHXsorjWeX2SEABQeDD9324bhGe14B8vh1BYKFQCGHbHsJQ2o4U4h6CICh9T4qJrgakvmdM99IkyPUKjyi7JAMHGdUDur5Pe0KMm8qeuIqquI5CqglRSX2S5U8ngsBHLufD9wvwvMZSKqAL2y7Csorwfa9sO55XhO+LjkEqZU9YOrb597MKcv29w+7L68PGd1vx1Mo3MX7XDwEAPD/A965ZgCNmjsePLz4ar67diIuuegg77jAMZ55yAJ5e+VZdUp5UOgsefnj9Qhx56ETMmDKmbsdNS2/eg7641vb2doiu0ikoYlFfSvqLUs8NV+e781JXj5e2G0hzrVDVlZTWy5dwADGWhHB0PK+IXK4dvp+D4wiHCED5pS6cIR9BEECMThr9Qld/P+1LPSqnlT1uDFz+939FDSuQLHjT2lCaVEHVMUqyHZNYjxLwQLXtAAGCoAOeV4TrNsL3bXheHrZdhOOgbFfSGRJiPCh9RtuOvF8mUaDfo7iaVssC7rmnBZ/7HGtZByJ62aMLbDmftexJU/5IksZlSLYdISaEkFAFhYUw9OD7rXDdIly3A77voli0YFnFUiN0D8WiEBZCTMjyR1Zk1WY/cn1UmaPfA1IbV/9iKa7+xVIAwKTx/5+9M4+Torr2+K+W7hlWAWcQRkRAlIggiKCiqKhR1CcuiE9Fo6IGXOMLZtNETYxboibPPcYYNai4bwlqVCQx4AL5qCCCCAqKGVBG4AGzdHct74/bt/vW7Xurqmd6lh7O9/OpT1dVV9fWde49v3vOvdUfF5zJ8vhXrv4GjakM/nvyaBiGgb2GVOOIg/fEP9/5DMP37Bdr3zfe+To++mQ9ALARKwG8/OYKAMCeg6vw6x8fH9j+jgffQq+eXXDO1HElurp4tOY90NHW19rY2Ihly5bBGtQbAAkKLR9/XIOtW9m8XEDJI26oCqMoxyduP4oo5EJcV6jnnZi8Y+R5rHO1adbDcWw4TgKm6cGyTLiukxUPXtYhYmKCF+RhYivqfFX3IqqDIFFeyDbCnaCo1MFSOETyvouhUAznd8KGd2VigtmZD9d1s8IhiXS6EbbNHChmPz583821rrLfM/vj0YlibUe+V3J0QnQ2afjl8kV8dsV5OQoVVu/ErW+aW/fIyIOJBB1//swzG2KptT4cpwG2bcFxkrAsD7Zt5kQE4GcbstjE9wMhzbY5dY98H1URPmrMahk/uugITBy/J1at+QbX3vYqlq6oxdh9d8PmrQ2o6t0NhnCD+1Z1x+o1dbH3ffn0Q5HOsOdh7ryP0ZRycOrxowAAiURQBb/494+wYtUG3Hn9FJhm2/6prXUPXn5zOe55eAEAJlRuuXoygPa51i5dumDkyJFYna4EQIJCi8Ma6QOFDhB8i7X4vTjfXIdIriya0ylOTOMQC3X26QXWW5afi4KwUWjSsG0rtx37nZctzPNRifwoHnniFsBRhbp8/bNn1+B736NW1nJDrJjF/zvMIdKtLybliT/78tCxcZGHvmT79XPzbBQaZB0iA6bJts1kHNi2Bcsy4XkODMPIiQg2cdtRq5y4jQe6e6NqaSWnqDxZtoxF90S74Z+lFOM6O+KI9hQH0WaCjVw++HuM2IvtXJimCdP0skNKu7CsTLbu4aID2brHAxPwfvYYPkpR9+jKFXGbJ56owRlnUN3TXAwD2GtIX5x50hg89OR72H/kbujdsyvqNtfD9/2cQ73x2+3otVOX3G+i6NmjMjfftUsShmGgqk+3gu2WrVyP2c/+G7dcPRk9ulcWfN8WtMY9OP7I4Tj+yOGBde15rWLqLnXd0yAXrKqWDF0rR9QkOwBh88Xun7/hVHzTKZ8XO4UyAeFm51lnt1Qqg8bGFFIp9vK7VCqDdNrJ/s7P5rlC+Cw8Rkvug6qQp1zW8kTn/Ib997pnXfVd2HwpbYdPedvxBbtxkcnkbSmVSqOxsSk7n0EqlRGGWubDxfpK+2nppHMSifJD7D+hs52wZ1snJFQ2EVbnxLGduG+l56ObBW1GrHucbN2TQTrtCnWPJ9iM2nZKZUfy9dPABqVh0sTv4NtN9Vi85EsMG9oXFUkbz8xdAt/3sXptHea/vRqHHbQHAKBHtwp8vXFbi4+5aXMDbr77DUw//UAM3LU30hk3Nzmu1+L9F0tr3oP2vFae8pRONQGgCIUWsTKWO5XyT7lFo9gWIt28eBy+Pk4+uLidKm+dfcfCyKwllbWwsvCYn+20zZZ93xf2lb8ZfF7VKTxuK6uqlUhXwVEra/mxcmU+XVCmWHtpjg1xey217bDt2EhOLEJhZt/vYmRth7c4+YEyI28/vtJW4tqP7r6FOZVE50H1/8vLpa57wp5JlW0FbSU/sUgli3J7HmBZRtZuINiOqu4BEOgD2Hp1j0pYEC2nssLGf313Hzz91w9xwOiBuG7Wsbj7oX/hiRffR49ulbjwzIOwz16s78DUE0bjvtkLceef38L5ZxyEYyc2b9jTf7y7Glv+rxH3PrIA9z6yIPDdQWMG4Zr/OabF11UMrXkP2vNaKeWpCKIKlJY6Q3KhJjsB3ClRjZAjn4eqH4V4HHGZFe5eNmWDOUNcbPACXh6Slhfs4rJcmBdTqMuCiQr1zgPvPwHoBwzQOTJR9hJlQ3w/4jMp/15E5RTJv+G2w7fjjpFpsrQnz2NDyvJ0DJ4Gxfelsp2wTx2q+6SyH/Fe/PnPNTj/fErbKCfC6gC+TheJaE7doyprxePq7EffaBVl9x58Py8o5LpHTPXV2U+YMA+7r1F1j64uJuJz782nFaz73qljgVPZ/ODd+uD2a09S/nbi+KGYOH5o7GOddsJo5fopx+2LKcftG3s/paYt70F7X6uY8kSCIiZyAaZqCdQ5QMUKCjkawgt1WTSIDk+c7cXCnh1TdIpQUKDLBXccMaEr1MV7JJ+/SlBQoV6+cGdARH4u4jpEYSkcOkEhD6KgilDobIevC3OIgvaTd4jY7/wCQaOzl2IEhWw3fD4sbYW1BOv3SZQfvGwOE+NxbEZnQ6q6R2c/uvpFnufLom0FBXmw7lHZTKntJ6zuUYkngiAKoVGeYrBqVQ22haSw5QshI7ecn/zQgj1KUACFDlmcXE6xEJcdIrmA55VEvvLIF+Sq1tVihIWM7NyFVYK6tCeivJFbEVnOsxH4f/PPgV9gM3GdIZ0TELVetp0wh4jbSH5dXkDwT5WNRNlU2H0T75F8PWERPrKd8kR8joDCspz9v4bCToK2E1X/yPNAYd0jRijkc1TZj/gb8dxVNsTWF4oI1STuqxj7KbbuEScAuPfeGlxyCUX4CEIFpTzFQCwMVYUVFxOyE1OsiNAV6uI5qJwr1RSWtqESE6oCXuUUhQkJ+f7ECTmL1yTfM3KKOhdhttPcSJ5qnepZ0T03YTbDvxfTA6NsR7ShOA6RzqZ090u+Hl25oHOKVNEiouPy2WfB/keqyJ5OjBdrN7INccT9qvpI6GxHPGd+3ip7kaN9Yv1TTN0j3p/m1j2y7cj3JGq/BLGjU1lZCaTZPAkKDXJFn5+M3CcP1wJ+tkDywVqO/NAW1DBRIU9hqJwoPsmh6jCHSCUkxPSouBGLsHsY5RDx+6AaveOOO2pwxRXUSlSO6GzHCDw0fi4yEWYXcYU5ELQDlR3JNiY7SvKzK0fuwsSE6BzJ90C3rLpv4vF1n+K160a7IcoL+XnIP1dGtm+bke28DMFu1HVPMWJcVfeo6iLd9nx/PA1QtCmdCA9ryIpT96jul7xOZz9y+SHWOfwzqg4mCCIPCQoFYiESdBSM3GTb+VGSXNcHGy/bQFBctFxUiOckF/RhHbHlTtlxW1dVBbx8H1TL4v2Kuq86h0gu1MkhKk90zwp3iCzLgGFYuf89k/EA4QVYrNNmy+yGr4/qd8SRU5y4DYQ5QqKNiCJC5RyF3Rf53qmIcuhkESEOrUmUH4WONe/EbMCyTLD3nADcXnjdw56H4kSF7nsVKttRfaeaL8aG4tQ7pah7dLZDKbcEUTwkKEJQO0S8QLdgGAZcl720h7/Sg7/Eyvd5WFovLKLmechVVahFdZSLKtBVrURhLUXifdC1roa1GDXHIaJCvfyRHSI2RLEFwzDBXqjIbYcPKekL6YSFUYsoRyis5TUK2T74OlFgyIJbXFalbQTvgXqZr1PN83OQ53XXLI/RT7ZTXsj/F38WWDQ8WPd4HnsvQ/63XsB+VP2Riql/+PnEsR9dfRNHTERFKfh9aK26R1X/UGMWQRQPCQoFqkLLNE14nik4ROzWudkXh/C3gar6AMSZD3OGxPPQFYii0xNWoPN96VqJZIEh3g9d62qYMySiK9jlCAUV6uWPSoz7vgHLsrIOkQnH4Q+El3OAwgSB7judGFc5QWEOhez46ASGTkjoHKIwYaH61KFy8nQOkSgqiPKBP0NAUEywYVZNsLqHCwoPABPk+fejGAEhEVeM6wSF6vzCbEcW36Id8WuKW/+I27e07uHnLl+Dqu4RRTkJcoKIDwmKEOTCjBV0NjzPgudZ2QKepWt4ngPfz+eGc3Eh57UW4wzxCAVHLJh158u30zlGYuGtCzmrHCP5fojL4rHleX4+8nIch0iciPKh8HkRIxPMdoAEDIPbjgvfd7O2YsBxnOxzkW9pLVaIRzkDolgXzznKdlQRijAhEdchKqaFVTxP+ZpFZ4hsp/xQPTM8OmHbFjyP1T++z6N6HlzXAeuX5GWfTTf7PDS/7ilGUEQNHytuG1bXxEm3bY6okO1HVfeE1UFEkFfnr2jvU2gXdtTrLgYSFAoKC3Weu2oBYAW6ZVXC901kMj4aGzNwXV6ge8hkvJyQkAuqsMJM9QmoC0HVpGsZkr+XHaE4LaxhhXmcVqJiCnVZTGQyJf+LiVZE9+wkElyM20gkuiCT8ZFOe/C8FAD21mkmzN3sc+FrbSdKiKscKJ0TJEcnAL0d8W2bIyZa0soaZj+yQ0RivHyRW/LzzrYJ07SzDVmV8H0btu3BMBywvnweTNOD46TB0m2DdY/OHsJsBwi3G933uvpItJ0oIVEqMc7PUXe+4n1Q2Y/jtPw/7UyYu01u71NoF3bU6y4WEhQKdAUaT9fw/QQqKrrA80xYlgvHYQUPL9AB3n+C57kWX6CLhbqKMCdJ5xjF6RgnF/Kq+yGvk+9d2Dnrzl12iMSCnQRFeaES5KZp5lpYLasSiUQX2LYPII10mqdtiGIi+DxEidBibCjMSYoS56LjIwvy1hLj/Lx05x+WtkGCorzQNWYlEizN1vdtJJOVABJIp124bgqZjA/DyNc97LkwcpG9qNQm3ToVYXVOmO1wO+HXGFX/lFKM8/MTzxMovG6V7aTTzfkXOydr13ze3qfQLuyo190cSFAokB0EVhCasCwbhsFaV5NJ1krk+ykkEj4yGQgFuiEV6PloRVwhIW4LFDoQcihZ3IYX2LLjo3KEdE6RXMgD4QU7J6xQF8+Rz6sKdbmFlVqJyotChwiwbQu2bQNIIJnsgmSyK5qaHGQyQCLhw3UzAFxw++GdS1XDyersRrVetAWd7eicIUBtT6LthAnywnsRXMfnxfsWRpggpxbWzoGq7vE8Zj+mycR4MtkFhpGA76eRSPhIJADXzdc93G543aMbcTBOf4q4thO3MUtlQ1GiHFAvi5/yvApdXUr2QxClgQSFgmDhxlqIbNuCZVlIJCqQSFQimayA65pIpz0kkx5SKQ+W5cKyLJimBc9zkX8BkT4HPG7qhqqDm+ycW1ahAxQWnRALdzEcHaeFKOwzDJ1TFFag/+pX9A6KckLVymrbNmzbyorxCiSTFfA8A8mkh3SapQlalpVNKzThefkRa6LeURFmQ/x8dLajEuPycpwohewEisculaCQz1ue5MgeRSjKD1UZzGzHhm0nkExWIpGogO/byGT8bN3jZm3HhmW58DwnV/fI/Y+KEeOep26c0tmOru6RIxaqyERU/QO0jqCQ6x+KjhNE8yFBocA09YVb/l0UJmw7iUzGRybjI5Fw4Lo2HMeDYWQgh5xbIiiA8FYhfs58nejQyI6PqkBvTh8K/tkch0h1PTpBQQ5R+aFysGX7sSwLFRXJXD+KdNqFbbuwLBcs/ckXHKLwl0VG2ZDcqup5THyL6EZCk4V4VB8K1Tr5nvBl8VOe16ETE9TC2jnYbbdarFhRU/C8AH62HwV/D1ISjsPqnlTKhet6cBxuO4X996LsRmc7QKFA4GU4RyUidIJcZSPF9qEI+4xCZzuiIHecvO2QoCCI+JCgUDBwoFio+2AvEfIBeBBfbJdIcIfIRSKRyIoJB6yFVT2Wvq4QDxMUcSdVSywvjFUtRjoHqCVRiihUgkIOO/PCnAr08kQW5ACzHVFQ2DYbAjOT8dHU5CCRsLMOUQaGYYKN/FToMJfChlRRCpX9yOtle4kjJkoZnVCds0pQcNsh+ylPRCeb4YEJivzgIFyMJxIeEokMMhkXpunAMJigyNuLvv4ppm+FbDtAuIhQ2Q7/5KK8mIasUtQ94jlHiXFuOzffTNHxMB6fM6e9T4FoIdPOPLNk+yJBoUF2inyfCQs+BCYv1NNpD4mEg2Qyg1SKiQmAlXC6giusVaglgkKV3xrVQqQKNevyv3UFuzwfRpSgkFtXqYW1/LCswueIO0TcdlhqoI1EwkUymYBtZ5C3HaPgORY7ZhcrKIB49iM6QjpnSHR+RHuKcoz4fShsedbbDt+nSJSgEG3HdYGmppL9rUQbIQ+Iweoe/qzxxiwbFRUeUikmxi1LrHt4hCJ8lMHmCIo4tqPqQ6ES5XHTbMNEOV9WEdd+ZEEhCnIimquuurq9T4FoAV+sXVOyfZGg0BAs1H2w6ARbb1kmbNvMdjS1wMbY94HsuOC+74FFNbxAgSWPVlNMgQ40T1REOUXyslgBsGsvrqVVhK8XC3X5esRrFPNXqYW1fLHtQkcByDtE3H4Mw86++Zd9z98yz+yosMKPspvmOkOirbDziLadKFHeHoJCTNngtvOb31ALa7lRaDuiGDcD9Q+LWgD8xaq+z6LowWfDgOvq35qtsqFi6x5ZjOvsRY7iyXVRqQRFnLpHvgdyYxbVPfEppVNKtA2Pz5lTcjFIgkJDYUHGSyYfvu/CcTJIpZrgOBk4TiabouFBTO2QC/U4o23oCnRAP3xmmKiIEhRxCnj1/Qgv1MVlVaGuqtzklA0atq88GTCgFp98UqN0CFhnaxeZTAamaebsx/ddICvIufMkd8aOk86kaokF4gkM1bCWoj2FpTtFOUZ8v3EFhcp+dA4e9Z/oXBSmDHLyL7JLp9NwXReO48B1HQBcjAPs5arxUm2johacqLonbPjYuI1ZpRIUceoeILoxi+yHIIqDBIUGXqiLBbvnuXBdF+l0CoaRhOeZ2co7A89jrUO+n891BcQCLNw5CivQ4zjk8hRWmIcJCM8Lig2dQ8SXObpCXXXuqutQtbA6DtDYWJK/k2hj8s8OSxX0PCf7Rt901n4SMAwfruuAjYjGI3vMIeL9lsTnJa7tqFpXgfiCXLYVPi9GIprjGAFq+ynWIRLnqYW182Hbcvnr5+yH247vW3BdE66bge978DzWmMXFOBCse4B4aU064S3aQhzb6QiCopi6R5UumEqV/K8liE4NCQoNySQrUPKpT8z5cRz+VuwUHMeH79twXRe+z5yifOHGm3d8QEjhKKZznLhObi0Nm7jjIxfi8nrZSSpsTY4u2DmqVlYR2blTFehyoZ5OA3ffTSkb5UhQjPvwPA+uyzpdAykAFgDWwsqjezxXHLnUQTbPHSLxWdE5Qyr74b+N4xSpbEclwGW7KaWgUKGyH/E+iNE90X6I8mPgQBbhE58v13Wy4jsNw0hl66AEXNdBPs2W/Z5FyvPEFRFhdY9YB8WxHdlO5M/mCgpVnVPquieTYbbz+99T3UMQxUCCQsOAAbVYuTI40pPnsVQnVoA1wTBcsEgFi1zw1iL2tl8Ppunnhj2NIyh0BT0QjFaEFexhhTr/XWsU6vI8R2wlEpd1DpFcqBPlCe9HIbey+n4GnsdGQQNcuK6ZtZ9M9ntmP8zmANULIYu1ISAvxvm8bpJFBLcVfh3ichxhDrRMkIv2E+UQcfvJZNhUX1+yv5NoY/jABrzuYelNGbDIdyq7ntkLb+hiwjxf90BqzCqm/lHVPVGCQv5erl/kz6gGrSi7aUndI14jj1yK6U5U93Q+DplwKO67717sO3Jke59Kp4UERQiyQ8RyVdPZFqNGmKYHw/DhOA4cJx1I38gXgPm0DV7o6QpwXSEP5Athvp+2LtT5ceO0sOZbyoLrdQ4R/5RHd6KQc/kyaBAbelluZTUME65rwHWZTfm+BcfJIJPJ5CJ9+dQnv2C/qiiESmSo+lGonr8oMS4LDNWyzo6A5okJfgwRWVioBLkc3bv/fmphLVeCKbcsYscbs5jteDBN9kJIVvfk+/FxMa56jlpS93BRzp9z/iJV2XZkES6Lc9l2wuofIL6oEJfj1D2qxiwSFK3HMZMm4dNPVwEAunXrhvEHHYQbb7wBu+yyS+RvDxp/MP74x/tjiwHV9rNm/RADdt21eSdPxIIERQiFrayA5zkwDAuel87mqnpwHD+bCsXTN9xAoQ4ECz5dga5zinjBzvcjFsK6Ql1cVhXqciFeTKEuXk+cVlZ+zeKn7vrFEWqohbW8say8QwSwvkaGYWZFBRcZ+Y7ZXIwDfsHzJiK3nkbZjuhcxLEdlUOkEuAqe9GlCfJjq+b5sg6dIIoSFET5kkgUDh/rumwgA5b2ZMA0gUzGy4rxwrqH2xH/PRBd96gEhtggJooLvj9xncqOZDGuqmviRvjEayl13SP2PaLhlluH22+/DSeddBLW19bi8h9cgRtvugl33nFHmxz71ClTSr7POU88gabGRkyfPr3k+y5HzOhNdlwGD64NRChM088V2q7rIJNJIZVKIZ1uyhXqrBWWezB+gePACWsl0X3KncbC1om51PK2Ub+RR7qIu1/VtuI+xE/VlMnkP9Np4JFHqIW1nBEdhHxLqws2ylMajpNGKsVsh3c6ZYIdWaeo0CHiqOwnju2EPZ9R9hL1vBe7ncreomxH3lZlQ5QuWP4MHFibE+Smyeoebjss9TaFVKoJ6XQq25jlZiN8hXWP7HjronOizcgiNc4zWowt6OoPedI98yqbiFv3hNkNt50//YnqntbANE3YloXddtsNkyYdgzVr1uS+W/npp5h62mkYvs8IHDLhUDz99DMAgF9ccw02btyICy/8Pg6ZcCiefe45AMBvb70VB40/GHsP3wffPfoYvPXWW6HbHzLhUCz96KPQYwHA2HEH4L4//AGnTj0Nhx0+EZdd/gM4miG/tmzegm83bSpY//rrr2PsuANy0z4jRuDkU6ZEHjvqvGbPfhRHHHkUhu8zAjfceCPWr1+P/z79DHxn7+E46+yzUd/OrbAUoYjAssR8VoCNqMFaUl2X5a+mUh7YON+sdZUV5nmHSNcyqUrNULWwitvIaRc8DK1qXZWjEnIeuNjiFNXCqmtl5cRpIeLzuhZWXthTC1HnoKKCpa1ZFuA4+VxwwMkOyegjnWYTH+WJ247KIRKX5WcoKtonPoO6gQ3kCJ9sP3lhFIz0iet1aRrNjU4A8VpYRUcqlQIeeIAconInH+HjzwgXFT4chwmLVMqH4/ARBvP2oxMTYjkv1y2uGx7lU9U9su3o+u+pouFxUm2johTyvIyu7lE15LkuExOUatv6rN+wAa+99jr2228/AIDjOLjgggtxxumn46knn8RHy5Zh2rSzMHjwYNzw61/jjTfmFaQwjRwxEjO+/33stNNOeO7553HpZZdj0XvvarfnhB1r7Nj9AQDLl6/AU08+AQCYcupUPP/8CzjttKmxr+/oo4/G0UcfDQDYvn07Tjr5FJw29dTQY48ePSryvF57/XW8+MLz2LJlC0486WS8//4HuO3W32KXfv1w3rnnYfajj+KimTOb96eUABIUESQSrJBhThEvCF14Hm9RN+C6BgADgFioRxeUqgIurGAXC0cxXSPKIRKPVUyhDsR3ivg6jniu4rJOUPACnbcQ/fnP5BCVO7vtxgY2yGREAevB952sgHSRyQC+b2ZbVkVBHm0/YWIiLG3Q8wrtR5cuqEsZVM23xCmSl6PsR5XuxFtaySHqHMiC3DSNbCTCy/7XjlD3cLvhD7of6qwDalEeV5Bz+1EJCZXt6FJsVfUPEN+GRMTrElHVPToxTqm2rcsPfzgLP/zhLADAgQceiJ9fzV6s9v4HH6Chvh6XXHIxTNPEqH33xcknn4yX/vpSzpmWOe64Y3Pzp06ZgjvvvBMrV67E6NGjQ88hzrHOPeccWJYFAJgw4RAsX7489/uLLr4Y7723CADQ1NQE3/fx2GOPAwBGjhyJvzzycG5b3/fxw1lXYuzY/XHWWWdh0eLF2mN7vhcDj4NxAAAgAElEQVR5XjNnzkDPnj3Rs2dPjBs3DsOG7YUhQ4bk7seSpUvj/RGtBAmKCIYMqcXy5TW50DMrDN2sg8ILcxPIDW/Jp2iHSNfaoyrYxQlAIDIhTrpCPaqliK/jI+GUqpWo2BYicog6F2I/JJa6AWQyLgAj+2yobKewlVV8PsXccpVd6PLC+Tbc7qJsR5wPExLN6VDa0hZW8fpkh6ihoWX/GdExGDgwP7ABTxlkKbe83mF1DxsJLS/I49Q7qroHKHy2VH0p+LxsN1G2I9uKKNJbIsabW/eoGrNSKWDOHGrMai1+//vf4eSTTsLSpUtx3vTz8c4772DixImoq6tDv/79YXIHBMCAXXfFR9kUJRWPP/44Zj/6GDZv3gzLsvD111+jvj668ItzrB49e+TmKysrsXnzltzyTTfdhFTWSZk9ezYaGxoxY+YMAEBFMhk41h133omNGzfinrvvijx2nPOqrq7OzVdUVBQsp9s515UERQzE0DMv2NnLtwDmAHnZgkp0iIJOkPipK9gBvdMgOkQcnRBRpUCFtRSJ5yYX7kDLHKKoc1W1sNLL7DoPe+xRi48/rpGefW4fBiC9r4Uvq+xHtQ4IF+Xic8a31Ql5ne3oRAU/D1mQx7EblWOkI050Qkx3evJJcog6C0FBXpgCxeyF21G+Mauw/1LzGrTkuifKbnQdssNsSHeOQOnqHkAfiaHGrLbFMAyMGjUKP7j8Mtxyy29w+OGHo6qqChvWr4fneTmH+j+1/0FVdRX7jbSPTz9dhd/89lY89+wz2GOPPQAARxxxJHzemBty/KhjRdGnd+/cfI/uPWCaJvr361ew3Rvz5uHxx+fgpRdfQDIrNMKO3dLz6ghQp+wYVFTk+1KIrUV8Ep0hXctqVOEuigqO2IKich7COrHpOqKpfhu3g6ruO925hB2Dd4CTO5I2NQFPP00OUWdC5RQByNkOz//ODxdb3AToW1FVnUxFARtlO1GdSXXPeFhH1jBbjGM78gAGsv0QnYc996zVNGixqTmpgir7AQrrIJXjrbKdqMEGVM9+XDuJsqnm1j1yPcT7TlB0ou04/fTTseHrr/Hm/PkYs99+qOzSBfff/0d4noePPlqGF154EZMnTwYA7NSrF9atW5f7bX39dlRWVmLAgAEAgH8tWIA1a9fmvpe3F4k6Vin4/PPP8eMf/wR3330X+gliI+zYbXFerQ0JihgMGlQL2w4KimBLkQcmJvQCIm7nM9Eh4ohpDXFG0YgzuoXqN8Us60bq0J2LWIirhEU6TQ5RZ2XYsFqNIOeigglxla2I6+LkhKsIc4iKFQdhQqS5Aj+O/YTZjuOQGO/M8LonaD984kK8ePuR+zmo7EdsxIr7bOqc/uYKcl09VEzdI9c/ohAnMd4+dO3aFd87+2zcd999sG0bf37wT3j9jTcwYuS+mDFzJn7xi59j3NixAICLL7oI1133S4zcdxTmPPEERo8ejUmTjsExkybhzGlnYd4b87DXXnvm9i1vLxJ1rFIw9+WXsX37dvzgB1fgoPEH46DxB+PCC78feuy2OK/Wxph6y+v+lEOGYkRPliO276j92vmUOiaff16DbdtYocOdXz6JBZNcgMmFmbheLPj4etHpUU1i51KxUlCFxeV5VZQkjtDRpWo0J11Dl//Nw83PPUcOUWdkxYoaNDTkbSaVylfkOvvR2U2UM6OyH8cp7Eehsx+d7RRjN1GpT+JnGGGpXPxa+X1pbAReeonspzOydGlNZN0Tp96JsqGW1D3yOpWQCUtfbKu6R+47wQX5M8+Q7ejwfR9frF1TsP7xOXNw1VVXK78jOjZh/13U/8q//2jphwCAZVt74bmFq6kPRVyGDGG54HKUQpffqmsJEj/lHFK+TtfSCuQLQ45pqkfcEPNVxWOF5bHGLdSLcYjEc9YV6rySoxaizst//gNUV7P/WueAqFpQi430AWonnCOLCm4/UbajsqEwp0j8nh+rWIdIdS2y7XheXoyTmOi8qCLkUXVQ2Lxue7FuUeG6+XnVseV6SKxrZBtS2Upr1D1RfY+o3x5BlAYSFEWwzz61+OCDaFERFRnQtebIwkJEToHin3yKKtBFAaFyiMJajYDStbCGOUS33grcfHMNRo0ix6gz8cYbNQCCTpHKhqJaOHUiRJ50TpGcTiiK3CjbiRrZqZiRavh8HOI6RCTGOzfDh9diyZKagCAPE+I6+9FFCMQ6QUdYx+w4thMmyItp0BI/w4gapEGMTsydS3UOQbQUEhRFYtusENI5RMU4RboIhaq1lc9zmlOgh7USyVNUC6v4qSPO6DQ8OtHQwO4pACxZQqKis8DFhGEA33wD9O6dj1JYFnsG4grtqGdW/q1KWIj2JEfN4tiOSnAX4wy1xCFSdZLlYvzvfyd76eyo+lJECXHdsxtVb+katFQOumg/YXYUJiZU9gSUTlCI5yqnCpIYJ4jSQIKiSEaOZFEKLipEpyisQA9rYQ1ziuTCXVVI8tZVw8iv17VORQ3VF+UMiQV5HEER5hDxAj2VAn7/e7ZsZ59IEhXljygmuIBIJtl/Hhbl09mI7jvZVlTPb5QYL8Z22qKFVU7Xkh0iUYxv317CP43osOyzTy0+/DC87tHZi/xMq+qbKNtRleV8PW+EUonwOI1ZumOr1vH1YYRFUeR+e/PmUT1DEKWABEUzqKiIdoqiCvkoAaFzSDiyqODfy4W3rjIp1ikCiivUwwp0sXU1nQZuuSWYm0uiovxRiQnLArZtY6JCF+VTOfI6gd4ch14nyAF9WlNcp0jnBLVUUKiie6IYX7iQbGRHYfToWixeHEy71QkLnZiIa0thjVriwABi3SPbhq7ua05jFp8XP1Xo6h4xOsHrHnoJZNsydtwBeOyxRzFsr73a+1Q6NDfedBNsy8ZPf/qT9j6VoiBB0QyGD6/F++8XthSpUjiiWl3jTKqCXXY2RIdJbPHRVSzFtrAC8Qv1OAW6GG52nMJ9kKgoX3RigqdsAMG+FLLthDk/xQh4lVDnn6KDzltgRbtpqVPE91es/YTlqcv9jtJp4F//ItvY0bDt0jVoRdmLvK1qcA3+HMsRPFWjlizKW6vu4fPy+cp1z7vvkv2UEweNPxh//OP92HfkyNB1RPtAgqKZjBlTi0WLapT54HEL9WIcIbkCkEWEmBohVwI656g1CnT5fOTWVTFdI5UCbriBFe4qSFSUH1Figs2bALzcMK9xbEf1LBcz6ZwkINj6Kn4X1tparKjg8+KnirD0ErHfEbcfYsdjv/1YlEK0nSgbUtU3KvvQ2Y0oDkwz2HAlphPq7Ka59sv3qfpUEVb3yJFxEhMEUVrM9j6BcuaAA9gL78Q3AYeNYqMr6FWFt65g1xX+ImGdOKNelqV6eZbuUzXWuTwWOh8rXR4/vakJ+NnPgmOpq15wxJ3RJUtq2udPJmITV0zYtoHu3RNIJILfyTZTbAtsHEHSXNvhLZthL5dT2U1c29F9L7/4kb+/I5UCFi8mh2hHZdy4fN1TjJ3oGrR0EYsowRFmPzya1l51j2w/qVR+IjHRfry9cCGOOPIojBi5L2bNuhIpoWVkj6F7YuPGjbnl66//NW67/XYAwC+uuQYbN27EhRd+H4dMOBTPPvecch0ArPz0U0w97TQM32cEDplwKJ5++pncPseOOwD3/eEPOHXqaTjs8Im47PIfwBHSJG655TcYM2Z/jNx3FA47fCI+/PBD5XWMHXcAZs9+FEcceRSG7zMCN9x4I9avX4//Pv0MfGfv4Tjr7LNRX1+f2z7snJYtW4Zjjz0O+44ajfMvuABbt24NHGv9hg244IILMWLkvhg77gDcffc9ue9eeeVVvPTSX4v6D1oLilC0kGSy8AVAqnHto1qLdJEIVeuQPAyfYQRbiUTEFhu+HLeVCFC3FHFULUWqTqRipeL7+YhEOh3vHlOkouNTjJhgnyb69avEV181BfpTiC2uOhsKixaErZc7XIu2IOeI82uRUwpLkSooz8vHDWsQ8H3mMJGYICor8466qpN23Kh5nEm2RTm9SVf/iGlRzal7VJ/yPEeX6iQKG8fRnyvRNrz699fw4gvPwzAMnH/+Bbjjzjvxkx//OPJ3N/z613jjjXmB9KZTp0wpWOc4Di644EKccfrpeOrJJ/HRsmWYNu0sDB48GGPH7g8AWL58BZ56kr1Be8qpU/H88y/gtNOm4v3338df//Y3vPHG6+jTpw/Wb9iAkIAYXnv9dbz4wvPYsmULTjzpZLz//ge47dbfYpd+/XDeuedh9qOP4qKZM0PPafToUZgx8yJccP75OP/86Vi0aBHOPW86pp93HgDA8zycf/4FmHj44fjDH+7Dpk2bcOa0szBkjyE4/rjj8K8FC9DQUI8TT5zc/D+lRJCgaCFjx9binXfijbwhFvSyc1NsoS6LCp1TxOGd53SpUWKhbZr5ef4ZR0zw46ocInEeAC6+WJ/qpIJERcelOWKCzw8d2g0rV9YXpG+ECXKdMNcJctnW5Pxu/r0svMV5/ryLYkN0jsR1zRET4r5VqRqiPZGYIACW+vTeezWB1EFuO3xS2VKceqcYQR5mO3w5bt0T1qDFaU7dw4UFQPbT3sycMQM9e/YEAFx22aW45trrYgmKuLz/wQdoqK/HJZdcDNM0MWrffXHyySfjpb++lBMU555zDqxsh74JEw7B8uXLAQBdunRBY2MjPvlkJQ44YBz69+sXfi0z2bX07NkT48aNw7Bhe2HIkCEAgOOOOxZLli6NPCfP95BKpXD++dNhGAYOPPBAHHroobljLF26FOvWrcOPfnQlLMvCLrvsgnPO+R5efvkVHH/ccbjpxhtKdu9aCgmKEjB+fC0WLKjJtYTwSEUpWobiiApeYMYp2OV5sfLgcPER5hTpkDvsccTls8+OH50QIVHR8WiJmLBtA4bBWlq5UyS2xkcJ8lLYDhe4qihfXCeJC3CR5tiPyiESoyQAOUNEkAMPrMXChTWB6HjcBi2VcChWkIu/L7bukQU5RycmirEfsXFNrHvIftqf/v3zTnq//v1RV1dX0v3X1dWhX//+MIWCecCuu+Kjjz7KLffo2SM3X1lZic2btwAA9t57b/zoR1fipptvxpo1a3DExIn41a9+iZ133ll5rOrq6tx8RUVFwXI66+iEnVNdXR0G7LorDOEB32233XLz69dvQDqdxtHHTMqty2Qy2HvvvePflDaCBEWJmDChFv/8JyvYbTvoHIlTMY6R3GKjc4xUBXpcxN+HEVawy6kaMuK6E09sWWdSEhUdh1KICdf1seuuXfDll405IaFqaVXZT6kFebGIDowuBSOOqBD3o/sOIGeIUHPIIbV4661gg5YoykVbimsbxQry5sCjBipBLlKquofsp2OwYcPXOWd4w/r1qKqqyn2XSCRyTjgAbN22DV27dc0tq9wUeV1VVRU2rF8Pz/NyDvx/av+Dquqqwh8rmHbmmZh25pnYvHkzfvzjn+Duu+/BddddG+/iNISdU1VVFeq+/Taw/bff1qGmP6tfq6ur0adPH8x74/WA6OiIRJgyUQyHH16LZBIFHbVlERHl9Khaifh63TynOc+bnKutaikV+4jInef4el65yL/nTJwY7BiXSuU7m8odt6mjdsemVGLC83y4rod+/ZKorESgo3aU/UTZUlw7KiYCp0KVXiGnL+lsR4zMyHZDYoKIy2GHsbqH26Bok8XWP1E2Ja8D4jVK6Qire7joaGndQ/bTcfjjAw9g27Zt2L59O+659z78138dn/tu7733xoIFCwEAtbW1mDdvXuC3O/XqhXXr1oWuG7Pffqjs0gX33/9HeJ6Hjz5ahhdeeBGTJ0f3MVi1ahWWLF0Kz/PQvXt3dOnaFV5LVHOMcxqz337wPA/z5/8DAPDVV19h3rw3878dsx967bQTfv/7/0VT9rXua9aswdJsxKUjdcomQVFijjiiNucUySPYFOMMFVu4l8Ix4ugK5bi/VTFmTKGYIFFRnpRaTPD5vn0tVFbmbacl9qOyjTDHqLVspxQdQMkZIuIwcWKwQUu2ndasfzjtaT+6bcl+OhbHHP1dnHTyKTjwoPGoqemPK37wg9x31117Df74wAOYfOKJ+OWvrsdhhx0a+O3FF12E6677JUbuOwpznnhCuc62bfz5wT/h9TfewIiR+2LGzJn4xS9+jnFjx0aeW319PX76k59i5L6jMGb/sWhqbMQVV/wg8ndRhJ2Tbdu4//4/4NbbbsOpU0/Dddf9EkceeUTut6Zp4uGHH8Knqz7FuAMOxD4jRuIHV1yBzZs2AQD+tWAB3pz/pu7QbYox9ZbX/SmHDMWIniyHbN9R+7XzKXUO/v73moDDLA6hqhoCL2zYSVWrjG5ebKnpKAwdyt4uHjUlk2xKJPLzfFkWaXyeXz+lP7UNrSUm8vMevvkGqK/PC05x6MeW2k+Y7fBRlICOYz/kDBHF8tprNcrGGtWwqlF1Df9OZzfishyZ6wiQ/ZQG3/fxxdo1BesfnzMHV111tfI7omMT9t9F/a/8+4+WsiF1l23thecWrqYIRWsxaVJtzhluTmtRc1uQOlqK3a675sfNj5ooUtGxaQsx4ThAjx7AzjvnhaQ4pKx4rCj7aY4NdSTIGSKawzHH1KKiorARRrQJ1XyYvejSbcXfdLS6h+yHINoW6pTdihx7bC3+/vcaZY6o3NnUsvLrxcJaXmea+ZFlVPOqEZbag549WUUmvC+m1aCO2q1PW4kJsSW1e/fC/GpxKMwo++HnydfxbcJsRx4hpr0gZ4hoCcccw56f55+vKbAV2Y5Eu5EHCuE2wyfZdsR1QOnS/FoK2Q9BtD0kKFqZSZNYwfbMM4UFu66Q1wkLuWBXOUgi7eUYJRLFvWOiFJCoaD1UYkJu9Sy1mODLth0UyfL7GYq1H3mdLCg47SnKyRkiSsUpp9Ti2WdrAnbi+0G7ku1GJ85VtiTWRRwxdbCtIdshiPaDBEUbMXVqLZ55hjlmYQ6R3Joap1CXBYdubPC2oGtXoKGhbY/JIVFRetpTTPAplQKamtj7KqIEeTHCXCfWxQEO2tJ+yBkiWoNTT63Fc8/p6x6d3ajmVXbDhYU4BHl71D1kPwTRvpCgaEOmTmUF3qOP1miHZxXndQ6PrlBXCQtOaxfu++zDOtLW17NlEhXlT0cRE42N7HmqqwMGDGDnprKJMGGhi1CobIc7Rpy2cIzIGSJakylT2PP12GM1SttR2Y0qVTDMbvi8PIRsa9sP2Q5BdAxIULQDZ59di8ceq8m14oQJi6hW1qhlkdYq2I84Ii8kREhUlC8dTUw0NLD5JUuAbdsAPgKgaCMqu9E5T2G2w9M35JTB1rAfcoaItuSss2oxZ04+WiFHLOLYT5iwENeLtFbdQ/bT8Rg0eEh7nwKhYO2az1v9GCQo2omzzmIF4UMP6YWFbtK1DKmWWzMX/KqrWKtxXZ1+GxIV5UdHFRMNDUxM1NUBjz4KvP56LR54IOgc8XldBDDMdvhvVfsrNeQIEe3FmWeyZ+/hhwvrHiCeGNfZjizIW6sfH9lPx+b+++9v71MgBGbOnNkmxyFB0c5Mn84Kxj/8QV+4q5Z187ITZBjBgr0UzhEvzKdMQS43NwwSFeVDOYiJujomJgDg+99nn3ffnX8Ow5wgeRvdvBylULW6NgdyhIiOwnnnsWfxj3+sKUhRijOJ26rmxf2VqmGL7Kd8mDFjRnufAgFg/fr1JCh2NC66iBWU99xTg8ZGfafQOE6RaruWdpLTFeRTptSSqOgklJuYELnsMrbuf/836ByJhIkL1by8riU2RI4Q0VGZMYM9m/feG6x7ZIqxHVXDVmvUPwRBdBxIUHQwLr00X3DecktN4IVBYS8OilNYN6eVNU5BTqKi/ClnMSHyP//Dvv/d7/LOkWg/codRkTDbcN2ibyk5QURZcckl+ef1N7+pKbAXcVm2IZXt8O2aO4ws2Q9BlBckKDowP/tZvkC9/voaNDXlC2kuNKIm8S2mvHDnqFqcgOYV5C0RFa3Vx0OERIWeziImRGbNCm577bU1SKXUNsKvPY5dyamDsv2QE0R0Bn760/xz/OtfM3EuviW7ObYjRilKWfcQBNExIEFRJlx7bWFB+z//U4N0mjlk3PFzHFaw80/XZZNlsU/HCRbmCxeWrgCnSEX50RnFhIrrrw/+/kc/YgJDPCfRbrjtiHbjusGhNYHS2g9BdESuuabwGf/hD1ndY1nMfmTbkesfPomdvcl2iLZg0KBBeOaZZzCWDw1ItBokKMqY//3fjlcgk6goH3YUMaHittt27P+eIFrC739P9kO0PyNGjMDHH38MwzDQo0cP7L333pg2bRouvfRSWNmRNa6//nrsvvvubXZOAwYMwAsvvLBDChgSFETJIVHR8dmRxQRBEATROXjkkUcwbdo0bN26FQsXLsSsWbOwYMECPPXUUwCAc845p2THchwHtk1usw6zvU+A6JxMmVKLqiqgqgro1Qvo1q1w6to16Gg6TnCeO51RUzqNXOoXn+fL4n556orj5B3oJUuihU9ng8QEQRAE0RkwTRO2baNPnz6YPHky/va3v+HZZ5/F4sWLAbCUp3//+98AgJ/+9Keorq5Gr169sMcee+C9994DAHzxxReYPHkyevbsid69e+Pcc8/N7b9fv364+eabMW7cOIwaNQoA8NVXX2Hy5MnYaaed0K9fP9x4440AgEsuuQQbNmzAiSeeiEGDBuEvf/lL6PadDZJaRKtBkYqOB4kJgiAIorMybNgwjBgxAv/6178wbty43Pp33nkHTz75JJYvX47q6mp89dVXMAwDruvi+OOPx6RJk/DUU0/Btu2cAOEsXrwYb7/9Nmzbhud5OOGEE3Dsscfi2WefRV1dHY488kgMGzYM9957L1566aVAylPY9lOnTm3Te9PakKAgWpUdVVQ8/3wNksmgw84deN5xUTUqiojnMWf8oINKc14kJgiCIIjOTnV1NTZv3hxY17VrVzQ0NOCjjz7CoYceigEDBgAA3n77bWzYsAG//e1vc+lM48ePD/z28ssvRyKRAAAsWrQIa9aswY033gjLslBTU4NLL70UzzzzjFIgLF68uKjtyxkSFESr09lFxTPP1MC28yKBO+p8XhYT4nC+uqEWgfznihU1udFR0mlgzJjiz5HEBEEQBLEjsHHjRvTp0yewbtSoUbjhhhvw4x//GKtWrcJxxx2Hu+66C+vXr8fAgQND+0ZUV1fn5r/66iukUinss88+uXXpdDqXDiVT7PblDAkKok0QRUXYC/rKRVS88EINsoNIKEWCSkioJnH8dtX47jIVFcDKlTXwfeawjxgRfa4kJgiCIIgdgVWrVmHZsmU49NBDC76bMWMGZsyYgW+//RbTp0/HjTfeiDPOOAPr1q2D67q5kaHC6NevH6qqqrBixQoYikpaXhe1fWeCOmUTbQbvqL3zzkDv3uXZUXvu3BrMnVuDREItIFTOuvx9HLEh7kucEgkgmWTComtXYNWqGqxcWYMPP1SfM4kJgiAIorPC6iAHmzdvxty5c3HCCSfg1FNPLRi2dfny5Vi8eDE8z0OPHj3QrVs3eJ6HAw88ELvssguuuuoqNDU1IZPJ4J133tEeb/z48ejTpw+uu+46NDY2AgA+/fTTXL+LPn36YM2aNbG370yQoCDalHIVFa++WoNXX60JpC2JkQSVsJAjFarIRNxJFix84uJip52A1atr8PHH+fMmMUEQBEF0Zs4991wkEgnsvvvu+NWvfoVLLrkEjz/+eMF227ZtwwUXXIBevXqhb9++aGhowLXXXgvTNDF37lx8/PHHqK6uRt++fXH//fdrj2eaJl555RV8/PHH6N+/P3r27Ilp06ahrq4OABtJ6vLLL0evXr3wwAMPRG7fmaCUJ6LN4elPUdG/jpD+tGFDXjj4fn4b8dxlgSDPqyb5+7Bt5Q7bhhE8F/7mWS4YVq9mb4Fev57EBEEQBNE5WbZsWeQ2a9euzc0vXbpUuc2gQYMwd+5c5XcbNmwoWLfrrrvi2WefVW4/bdo0TJs2Lfb2nQkSFES7UC4dtfv1A775JvidLDB0nanDBIT8na4PhW7fphkUFfx8PI+JhUQCGDyYOfGbNpGYIAiCIAii9SBBQbQb5SIq+vZlokKODJjZhME4EQXVfBhRIz+phpn1/fw5iqlSFRVMVJCYIAiCIAiiNSBBQbQrU6bU4vnny0dUcFRRhLD1IlEjOcnHiPodFxH8k4seMfJRXc0ce88jMUEQBEEQRGkhQUG0O6ecUj6igqdT8iiASByRoEMlHvinLuKhW8cFhUpYZDIegASJCYIgCIIgSgYJCqJDUC6iol+/fGdnQB+hCINHEYoVHlGiQvxOFBP8WHzKZDKw7UoSEwRBEESrsH79+vY+BaKNIUFBdBjKRVT0789EheexZTFSIaYcqZCFhJiqFEdghPXHEDuLyxELuQN5Ot2ELVuA/v27kZggCIIgSsbMmTMxc+bM9j4Noo0hQUF0KMpFVHheoZAQ4U68PLyrSkyEoRInuqhE2PdAYYpWt27Axo316NWrC4kJgiAIosWsXfN5e58C0U6QoCA6HOUgKnbfHVi3LjwawZFTnMRleV41JG1zUUU+eF8KkS1bGtG1a5LEBEEQBEEQzYIEBdEhKQdRIXd+Fj9VEQr+nZyaJG4XV0jE3U7sT8HFhOexecti3yWTQH19GsmkRWKCIAiCaDaDBg9p71MgFLRF5IgEBdFh6eiiYvBg4Isv2LwoCFTvh4iKSug+gxjwswdSiZKoIWhVwkIUFamUC9MsFA8kJgiCIIi4eOv+2t6nQAiYu01uk+OQoCA6NB1ZVKxblx9FqZhJJwZUn0BeJbAO1fll3/cV28eLWuT3FxQVTU0kJgiCIIiW8cp8EhUdgVfnr2izY5GgIDo8HVlUyOlKurQn1cS3y4sCUTwYAHzpWIZGLPja/hdyypUsPFSiIpUiMUEQBEEQRHxIUPMdV08AACAASURBVBBlQUcUFXIKk0osxBEUeaHAFAFz8i2YpgHD8LPf+fB9L7sNT3sypPMpTIcSz1Velz9WPg3KsoCuXYHt2wvFhCgiSEwQBEEQBMEhQUGUDR1NVIjvoRCFAh9SNr6gEB19LipMWJYFw/BhmiYMwwTgwvc9eJ4DOXrBlpnY0I08FVdU2Daw884spYvEBEEQBEEQUZjRmxBEx+GUU2pRVQVUVQG9e7N3KchT167BlB3HCc5zJzlqSqfZlMnk5/lyJlMoIorpR8HFiNhHwveN7DITEKZpwrJs2HYSyWQlEolKJBJdkEh0g2VVgJmvUTBFCRgZOQXKNIFEAqipITFBEARBtC3TZz2OVWs2FsyHcdbls/HFV5ta+9QKeHDOu3joqUXa71tyXmHXHnXc9oAiFETZ0ZxIha7VvrnU1+cdcFEk6FKggiKCRzCM7MQjEiZM04Bt27mohGVZsG0blpWAYfjwPMB1Ac9Lw/czcN00PC+juE59pIJvF4yMMLig4KJi4EDggw9ITBAEQRClY+HiNXj25SVYs24TTAP4ztBdcMaJ+2Hk3sG6/ewpY9G3qkc7nSVRDCQoiLKkvdOfuHCQRYROVOjSoMQUJ9O0YVkGLKsCiUQCtm3CMCpgWYBtGzBNE64LmKYBz0vA89IwDAuua2UFhgtA3K8vLAeR18kjRHFhUVlJYoIgCIIoHa/OX4E/P/keLj7nEIwbNRCGYeCDj7/CP9/9rEBQHDVhr3Y6S6JYSFAQZcspp9TiuedKIyqKiWAkEuwzTFTIFIoJIycyeJqTadrZCEUSiUQX2LYJoDtM08pFDUwzA88DPC8B17WyQsSC65pwnCZ4nsuvKJtCFd6nQo5SyOlPlgUcdhjw/PMkJgiCIIiWkU47WTExAUccPDS3fsK4IThkbOFL8abPehxXX3409hxcjW/qtuO+vyzAR5+sh2kaOGjMIMyaMbHgNys/+wY33fU6rrjwcIwZMaDg+0eeXoR5C1Zhe30Kfau6Y8ZZB2PMSLbdWZfPximTRuLdD77A5v9rxF6Dq3HlRUfAtlgPgc/W1uF3D/wDG7/djuF79UPvnbqiZ4/K0Gtesepr3Hz3G/i6bjsO2m/3wP6++GoT7n5oAT7/sg49e1Ri2sn74+jDhhXsoznHbWtIUBBlzZQppRMVcejenaUcialBsoiISnvKf2/kPgEDhmFk+0xUIJHoCsuy4Ps9YZpJmKYBwAKQgWlmYJoNMAwLhmHB8ywYhgeAiQnHcQCE95tQrdelP9k2cOyxwH33kZggCIIgms+qtXVobMrgkHGDC74Le4eS5/m47vZXMGbkAFx12XdhWiZWK/oXLFlei9vvn4+fXXYUhu/ZT7mvoYOqMeX4UejetQJvLvwUt9zzBmbfeTYqkswl/uzLb/Hbn58IALjy+hcxf+EqHH3YMDiuh1/f8RpOnjQSJ00aiWUr1+Pa217BiceMCL3mhYvX4NZfnAjX8/HTG/8a2N+vfvd3TJr4Hfz2F5Oxak0drr7lb9i1/06Bc2/ucdsaEhRE2dOWokIUBSKqCIUsLHhEwvMM4XsjKyhMAKwTtmUlYdsVMM1u8P2dYBhdst/bADIAmgAkYFn12TQoH0AaXFC4rg/Pc5SRB/la+GfYCFA89YnEBEEQBNEStm1vQpfKBJIJq6jfrfzsG2ze0oDzTz8QVrZ1/ztDdwls8+77X+CVN1fgulmTsMfuVdp9iWLmqAl7Yc4L72Ptuk0YtkdfAMDko/fJNuIB+43YFZ9/+S07h9XfIJNxcdKkkTAMYOR3+isjIDKnTR6NHt1ZNGH8/oMC+2tMZfDfk0fDMAzsNaQaRxy8J/75zmcBQdHc47Y1JCiITkFbiIqBA4ORCFE4qESEnPrExIQugpEXFqZpZtOcugDoCaA7mKkmwATF9tyyYfiwrEz2Oxee52e3McHeWxHdhyJqJCie+vTznwOvv17cPSMIgiAITo/ulWhsyiCdcYsSFZu2NKB65+45MaHipdeW4dADhwTExMtvLsc9Dy8AwBzxW66ejFfmr8DcecuxdVsTLMvAps0NaGzKD27SrUsyN59MWNi6rQkAsHlrA/pWdQ80KParzncYVx0LAHYSUpMqK2xsr0/l9lfVu1vgnVJ9q7pj9Zq6wHVFHbejQIKC6BS88UYNspk+kTRHVIwYkXe6VZEHsT9FGFxUAFyIGDBNQ9i3Jbx3gg8FmwTQK/uZAjNbGywFqh6GkYRtJ+D7DtLpDHifDNZ/wleO5iQSNbws709RUVH0bSMIgiCIHHsOqkKXygTe/vcaTBw/NPAdr19V7Ny7KzZuqofn+bnogcxPLjkK9z6yAE//7UOcdsJoAMDxRw7H8UcOz23zxX824+GnFuH2a0/CgP69AADf/8mTsc69d8+u2LK1MbBuy9ZGVO3cXXmsOPur21wP3/dzomLjt9vRa6cuRR23o0DvoSA6BdwB7taNvZQt7nsq5PdT8M90GmhqYu9h2H9/ZDtCFx5TFBWqSfxOHZXIj8rEIxRMTPDJAEtlcgFUgAkLPiWy6yoAJCC+x4JFKIzI92NEfc/hUYp586KjQARBEAShIpm0Mf30A3HvIwvwj3dWo74hjfqGNBYuXoN7H1mg/d2wPfqi905d8PBTi5DOuHBcD5+s/jqwTa+elbj5qhPw2lsr8dwrS5X7aWzMIJm0ckPRfrDsK9Ru+L9Y5z5saF/4HrB4yZcAgK/rtmHRh1/G+q1ufxVJG8/MXQLf97F6bR3mv70ahx20R6set7WgCAVR9rz5Zg2amvItG127xvtdnEjFcccFnW4ejeB9C2SRoes3EYxe+GCdsPm+DeQ7ZpvZiIWZbbHwkRcUDWAmWwmW1pQAi1okAXiBtCn2Rm0/u64wPKHqXxElLChKQRAEQbSU447YGz26V+DZuUtxx4NvBd5DocMwDPzyymNx3yMLMe3Sv+RGeZL7UfTp1RU3/+wE/Oymv8K2zIKOy8P26IuD9x+MS656GtU7d8fuA/pg9117xzpv2zLx8yuOxp0PvoUnX/oAPbpVYNzogcXfAGF/1806Fnc/9C888eL76NGtEheeeRD22atfwXalPG5rQYKCKHvETtLc+e3ShUUqoggTFVOnqlvwxRQnMxvji5vyJMJeVOfDdT24rg/H8bK/51EGA4CXnRzkBYUJ1gmbCwove2wDnmcEoiLsnqhFBfsuOK+KTgTPGXj55Rocfzx1ziYIgiCax4RxQzBhXOEwsQDw0O+mKed3qeqBX155rPI3j931vdx8VZ9u+NNtZyi3Mwzg4nMO0Z6XuB8AOOOkMYHlPQdX464bTtX+vtj9Dd6tD26/9iTlb8VrL/a47QEJCqKseeedGmzfno8WiI5wZWXzRMX55xemLEX1MShGSGT3ABaR8GEYTExYlod02kFTUxqJRAaJhAvLEqMTFpjJetnlhux+vNy5ZTJudpQn3ncivpjgn2HXS1EKgiAIgiBkSFAQZY3jFKYZcXyfvYSuGFFxySWFKU6ykw0UjuzUPHx4ngHXBRzHg2m6yGQcNDWl4LppuG4DbDsB27aywsIGExAsWuE4KZhmPUzThecZSKdduC4b6YlNBnzfywkKOYoj3if5MyxaYVLPK4IgCIIgBEhQEGUNd+pFx1/E91ln4jBRcd554R2VVS32onNefHQiD3uHhJ8TFOm0CyAN103BdU3YdgKJhIdEIolEgkcn0nDdJnheCkA9fL8R6bSDTMaB6/rZ9Kn8CE/ivVDNi8u6jubytc+dW4P/+i9KeyIIgiAIggQFUcYsWlSDhgb25mrR8eeIzrFhMFGx885qpzlqBCR537wfRVjH7GihwYaK4ylPhmGgqSkFz/PgefVwXR+2bWajFUm4romKCh+el4HjpOD7jfC8JmQy6ezk5PpiMKGi7wuh+i4s7UmOVFjFvZOIIAiCIIhODAkKomyR05HynZALP+OMZFRMdELVMVumcHQnFX7u0zA8pFKZbLpSPVwXSCQ8uG4FHKciu96EaXJB0YRMJpMTFI7jwHU9OI6XjU74wv41R9f0owib+D0gCIIgCBWvzl/R3qdAtDEkKIiyRYw+iClIKgEhf1eMsAhLedKJCdHhlp1vdd8EH6YJOI4P1gm7Ca7rwnUzsO00bLsRnmcikzFgGGkALhwnkxUUKbiuC9934XksOhEWmZDPRbUcR1g9/XQNTjuN0p4IgiCIPOZuk9v7FIh2gAQFUbboWstVkQpVK3sxkQlxn3yK6pys266wdd/PrvfAhor1AXjwvAxc14FlpZBI2HDdJEzTgWUBnufCdR04TiY774K9e8IFEIxOxIkmqKI6qg7pYupXIhG9X4IgCGLHYe2az9v7FIh2ggQFUZZ88EFNYLhXuXN2SyIUuuiEvO/mUCgwfLC3ZHMB4AWiBCxq0QDHsZHJpGBZPOXKyaY1ebnoRH4fhalOcUWFfK9Ub/4WI0MEQRAEQRAkKIiyRM79l51fcZuwCEUxHbLFeVXH6zjvoxCd8Pzx+DsjvMA5mCZ7R4VpGshkUrBtM9tJ282+TdtDflhYtZgIS71S3U+VoAhLeyIIgiAIzqDB6pfVEe1LW0SOSFAQZUmYoFAJCXm5JdEJOYIgCouoNCixr4e4bV5YeADYeyRM04Bp5vuIuK6LdBowTRMsrcnLfsf7TDABIh4nbD7qfqrSnuT78PDDNTjvPOpHQRAEQTC8dX9t71MgBNqqTwsJCqJTwJ3uYtObWhKdAPLrwoREMOqgFhN8PR+dyTQByzJyQ9OyN2pzQeDl5tkyFxF6MRHVSVx3vqKQUKU+2VSCEARBEBKvzCdR0RFoy9G2yB0gyhJdyo3K2S+loBCPrRtdSj432YGX31gtDz/LjuXB8wxYlgHP8wMCQjxufjkoJnSfqvNRRSfy51EY/RHnqR8FQRAEQRAkKIiy45NParB9e35ZdrCB/Mvu4gqHYgQFP44oCFSIUQl5WVzP05r4NjwqkY9WGIEIhVpQBM9Ftz4KVVqXLkIhv+yPIAiCIIgdExIURNnhuuHfM6fXKBiViS37sYRFVP8JOUqhikyI28lpTnLnbP6dLAJ4GpQqQlGsmIgSFfL1yfdDJSZIUBAEQRAEEdGFlCA6HmEt78zZNQpEgGpZlcYTtk41uW7hsjjJ28jrw77T7VM1qc5Fda7yb1TXEbUf+T4RBEEQRKmYPutxrFqzsWA+jLMun40vvtrU2qdWwINz3sVDTy1q1m/L6TrjQBEKomwpbJE3ciMjsWFV2fsdmPPrZ6MTRnZeLTLiRilU/Q7irBPTn1SpUGJ/CjH9iV+nOOpTVOqTuCzfM3FZjrqoUp74PVCJIIIgCIIohoWL1+DZl5dgzbpNMA3gO0N3wRkn7oeRe9cEtjt7ylj0rerRTmfZdnSG6yRBQZQdcgdjPpmmAc9jgsK27VyKk+f5QPb9DMw59polKlTLqjQiOb1JXCf3o5Dn8/0n8tfFh6cVxUYcIVHM0LE6UaGK6MjCgiAIgiDi8ur8Ffjzk+/h4nMOwbhRA2EYBj74+Cv8893PCgTFURP2aqezbFs6w3WSoCDKkkInmkcnDAAWDMOCYQCO4wHgXq+RFRMsLYr3TygmMiH3IQjrPyETFqEQO2qLwkIlFkSxESYk4kQo5POTP1URCllcEARBEEQc0mknKyYm4IiDh+bWTxg3BIeMLXwp3vRZj+Pqy4/GnoOr8U3ddtz3lwX46JP1ME0DB40ZhFkzJhb8ZuVn3+Cmu17HFRcejjEjBhR8/8jTizBvwSpsr0+hb1V3zDjrYIwZybY76/LZOGXSSLz7wRfY/H+N2GtwNa686AjYFquwP1tbh9898A9s/HY7hu/VD7136oqePSq11xv3nFvjOtsaEhREWSNGJ3zfgGVxMWHBD3j5fnYo1sJ3KYSJiDiCgkcRgMKWfTmaERahkMWELmIhp0GFCYm4HbN16VqqCIUsKgiCIAgiDqvW1qGxKYNDxg0u+C6swcvzfFx3+ysYM3IArrrsuzAtE6sVfQ6WLK/F7ffPx88uOwrD9+yn3NfQQdWYcvwodO9agTcXfopb7nkDs+88GxVJ5hJ/9uW3+O3PTwQAXHn9i5i/cBWOPmwYHNfDr+94DSdPGomTJo3EspXrce1tr+DEY0a06Jxb6zrbGhIURNlROMqRkY1QmDAMC55nwTAqYFk+TNMD4ML3HbA+FSYcJ4P8aE+sT0UxIkL8nheAqhQneVkUEapUJ1U/ClVEQhQYqvshruPz4qcOXbqTeM2qDuUEQRAEEYdt25vQpTKBZMIq6ncrP/sGm7c04PzTD4SVjRZ8Z+gugW3eff8LvPLmClw3axL22L1Kuy9RzBw1YS/MeeF9rF23CcP26AsAmHz0PtlsB2C/Ebvi8y+/Zeew+htkMi5OmjQShgGM/E7/0MhAnHNuzetsa0hQEGWHbujURMKG79vwPAvJZCUcB8hkPHheCr5vwDT9rLBwBEfZL4hYxBUUnheMOshiAchvJ797QiUkxG11QqIlKU8tERRilEIcKcpxSve/EgRBEJ2bHt0r0diUQTrjFiUqNm1pQPXO3XNOtoqXXluGQw8cEnCyX35zOe55eAEAJgBuuXoyXpm/AnPnLcfWbU2wLAObNjegsSmT+023LsncfDJhYeu2JgDA5q0N6FvVPVCX9qvOd6SWjzX56BGR51yq6+wIkKAgyg6VmDBNA7ZtwfdtWFYlkskucF2goSGDRMKH55k5McH6UvgBB1nXIq8SGrLgkNGJC/E7Oc1JTm9S9aWQhUSYiFBFJaIEBT8/8Tzl61cNP0sQBEEQcdhzUBW6VCbw9r/XYOL4oYHvxMi7zM69u2Ljpnp4np+LHsj85JKjcO8jC/D03z7EaSeMBgAcf+RwHH/k8Nw2X/xnMx5+ahFuv/YkDOjfCwDw/Z88Gevce/fsii1bGwPrtmxtRNXO3ZXH+mT115HnXKrr7AjQeyiIskOV8mTbFmzbRjKZQJculejSpRIVFZVIJBJIJBKwLAu+bwBgE39XRTHvnJBFha7FPs57I+R3R8ipRKr3Vag6RIdtG/e7qONFbUcQBEEQcUgmbUw//UDc+8gC/OOd1ahvSKO+IY2Fi9fg3kcWaH83bI++6L1TFzz81CKkMy4c18Mnq78ObNOrZyVuvuoEvPbWSjz3ylLlfhobM0gmrdwQrR8s+wq1G/4v1rkPG9oXvgcsXvIlAODrum1Y9OGXLTrn1rrO9oAiFETZUdh/ArAsG7ZtIZGoQCKRRCKRhGH4SCY9JJM+0mkPtu3Btl0YhpPtoG0IzrmvjFBERSnEdCZVPwm5xV+X8qTrNyFHJVRRCvme8GXVp+peqvp7qCadwCAIgiCIuBx3xN7o0b0Cz85dijsefCvwHgodhmHgl1cei/seWYhpl/4lN/qR3L+gT6+uuPlnJ+BnN/0VtmUWdJgetkdfHLz/YFxy1dOo3rk7dh/QB7vv2jvWeduWiZ9fcTTufPAtPPnSB+jRrQLjRg9s8Tm3xnW2ByQoiLJDne7jA/DAh4+1bROmaSGTYWIikXDguh4yGQeAieBL7+KJiKgO2nJHbY7vA5ZVuE1U6lNcQaETEmHpTqpzFOd1/Se4oOCRGOpDQRAEQRTLhHFDMGFc4TCxAPDQ76Yp53ep6oFfXnms8jeP3fW93HxVn274021nKLczDODicw7Rnpe4HwA446QxgeU9B1fjrhtO1f5eJuycW/M62wMSFETZkUgATU2FgkJ8F4VlWUgkkkinfSQSDmzbhm27YFl+ZjY6kY9KiP0o4gwpK34C+g7ZOtGgGuFJ/BQ7Z4vvo4jbj0L1yVFFK4oRFKKYyGQK90UQBEEQxI4FCQqi7Bg4sBYrVtRknWgmJFh0AjkxwfpUJJFMukgmbSQSNpqaMtnIRLxO2FGRClV0QjepUqFUQkKMUOjSnprbKZvTEkEh9hUhQUEQBEEQBECCgihTTFNuufeF6IQJyzJh22buO9/34Pv8rdl+zqkWhULYaE9RaU6q3+pSoXSCQicixGhFXDHRXEHBz02cl99BwcWE6wKpVKn+UYIgCIIgyhUSFERZIjvNzAn24XkuHCeDdDoFzzPgug5cNwPfd7OiIi88HCd+dCJKUADxohTi+cpCQhQRclSiOVEK8V6p5jlR0YmwCMWtt9aW6i8lCIIgCKJMIUFBlCXB/gU+fN+F6zpwnAyAFEwzAcfx4TguXNeF5zExwdOiDMNQioFiXnAnCwpxP1GRCvGTz+teaidGLloqKFTL4j1QXYNqmFrHAdLpkv2dBEEQRCfi1fkr2vsUiDaGBAVRlth2MO2JRSeYoPA8E4ANw3DhumY2OsEmwM+mQLkwDB+An10XLijCxEQxgkIcZpaLCMsqjEQUm/JUTKdsvk48b37u8jXI790QO2SToCAIgiBkzN0mt/cpEO0ACQqiLBk0qBaffFITcKZd14XvZ7LOsgnAgWEk4bouHMeB6zrZtCc325kbEMUEUJyg4PNAYR8JLgLE4WLld1aIIoILBllwRIkKIFpYyPMysiASr0GOUHBBkcmQoCAIgiCCrF3zeXufAtFOkKAgypZ8hIKJA8dx4HlpGIYB122CafoAPDhOBo6TzgoK1pciLC1IHhJWflu2LlIhCgoxAiCnOoniQk574ssqAaFax889Kkqhuk5+bvK8Lt2JpzxlMmzavr1ZfxtBEATRiXh8zpz2PgWiFSj2fyVBQZQt8khPgJdNa3LhOD5ME/A8B5mMl02FYv0p+BCzyI72JDvZoljgy6oX4MnbyX0h5NZ+vk6OQsiCgn+vExXNSXcKi1DwcxQ/5eiE7xf2n3joIeqQTRAEsaNz1VVXt/cpECVm8aL38N2jjirqNyQoiLIlmWTDlopRCtd1YZouHMfNRi0MZDJ+drQnF57nCmLCVzrc3HFX9X9QpQKJokKMMvCJCx9d2hNfJ4qHMFERlfYkXk9U2hM/7/PPBx58ML9Ole7EBQWlOxEEQRDTzjwTX6xd096nQXQQSFAQZcvAgawfRfB9FC48z8k6wT4yGSCV8uF5LP2Jd8KO45SrUpv4+yZ0nbT5fsS+E7o+FFFpTrLgKKbvRFhkYvp01qldvE4AuOAC4P77wwUFT3fatq3EfyZBEARBEGULCQqirLFt5ryLLfye52bFhAPHMQEwz9n3mZiQRYXorMsOva6Dtq5PBZD/rWUFow9ylCJ4zoURCXm+uVEKAJg6ld2rRIKlLPF7J14rAMycCXzzDfDkk/roRCoFzJlD6U4EQRAEQTBIUBBlzdChtfj445pA2pPnOWAiwgDrV2FmHWb+puz8tqpJJypUnZVVfSmAYLqTHKGQ1/FjqiIS4vfFCAk+f8IJTDhwESGjEhV9+wKnnw7Mnh0UFI7DBEVTU0n/QoIgCIIgyhwSFETZY1mFUYq8U81Tnfg885rDWvtlB17V+VolKvh38jZyhEJer0p5koWEGKHIv3sjPNVp0iS9kBDRiYrvfY/1qxA7Y6dSwOOPU3SCIAiCIIg8JCiIskfsnC0PJZvvJ6DuOxF847Y+CsARoxB8mferkIeHVfWZ0I34pOuErRIScvoTUDh/1FHxxARHJyouuAC45558uhNFJwiCIAiCkDHb+wQIoqUMGVKr7EvBJhahEAWGTjzI6+V+DvLQquInb8UXW/N1k/g9n9f9Js4+xe9dFzj44OD3mYz6d/J6sQ8Ip29f4NJL2ahOqRTw9NMUnSAIgiAIIghFKIhOQUUFc5CDosIvEAaqDtji+qghWnWigs+7LpvXdewWz0NcFlOc4nbGNs3gsQBgwoTiIhMyukjFj34EXHNN8/dLEARBEETnhQQF0SlYswbo169QPKj6VehSnWSBodoHd/hViC+F48j7kIWF3JdCTH2KEjj/z96Zx8lRlXv/V1svM5OVBMKQkAQhJCEhrJF9VRBZwktAZBFE0Cu+bALqZRO9qIgXlO2K4IIIEfCVNSggm7ILroAsYQkYGOCCCElmprvqnKr3j9On+/TpU0v39Kw838+nPlVdXd11ulJP5vc7z3NOqWYDAHbeOb5tzRBnKs47D7j99oF/P0EQBDH6oSdkj34OP+ywtn0XGQpi1HPPPd0A4rIUZpPQSoZCFfpxmAZvmzIU+oxPrWQo1EWaiSTD0wxxpuLvf+/GokVU9kQQBEHQU7JHO+18MCEZCmJUI81EFAEvvwxssIEo+ZGmwnFEGZLJXLSaoVBNgcQ0ZaxqLPRB16bsRNbMRFwplmwPmQqCIAhiqKCnZY8+fnn99W03g2QoiFGLaibkLEQvvQTMmlUzFdJM6ObCZBKayVDosyzJdpgWiWkmp7iMSdbMhGUBe+zRmJ0gU0EQBEEQxFBBhoIYlZjMhJytyPMaS5+SlqQMRZK50Bc9Y6E/v0IfIxFnLpKyFPJ75PLJT9oIgrDhOwEyFQRBEARBDA1kKIhRR5KZCALgL38BFiyomQo1M+E4jbMtxWUrksqfTBkE3VioZUhA42DqpLEcadkS+X2eZwMAmQqCIAiCIIYNMhTEqCLNTDAmnpnwxz8CW28tjtFNRZaMhSlDEZe5MGUWVMOhP0Vb3a9/zvTdSaYil7Or14ZMBUEQBEEQwwEZCmLUkNVMBIFYFwq1h73FjaFIMxNxWQnTfn2wtXq8PmhbohuPOBOh7wOAE0/shO/zumtEpoIgCIIgiKGGDAUxKmjWTAQBcMcdwF57ifdcN3uGwmQmsiymGZyiqNFQSOT4Cn1wd9YB2bLcSYdMBUEQBEEQQ4lZkRDECKIVMyHXt9wC5HK1sie5qEZAfZ11IHdSeZLpPdUwyN+ibodhbeG89vs4ry1yn/zduZwNz7ORyzmVtXjteXZ1QLi6Vrfl96nX0vQ6br9aviWRpoIgCIIgiA8XZCiIEc1AzIRc33ijmPnJdcUijYPJXMQZhjiTYMpqxB2vEzfNrPogPM4bjYb83bbNyFQQBEEQBDHskKEgRiztMBNyufbaWqZCNRUMcwAAIABJREFUmgp9MZkLuS9t1qckUwHEm4o05G/XTYEoZ+JkKgiCIAhCY8eddsZTTz893M34UEGGghiRtNNMyON/8hNhKmSmYrDKoEzjMCStmAqg3gjI62JZjEwFQRAEMeLYa++9MWv2Rpg1eyNstmAhjjvu83j77bczfXa77XdoygyYjj/11C9j+gYbNNVmYmCQoSBGHINhJuT2//xPfflTUlZCNxXNPCjPlLFQnx8xEGRJlG0zMhUEQRDEiOSiiy7ESy+9iLvu/C3e/de/8O3vfGfIzr30oIMwefLkITsfQbM8ESOMwTQTcrn4YuCkk2pCWj7sTl2SHoCXZRGCv367HTMsqZxyCnDxxazaTgDI5eJDmmZ/IgiCIIYK27bhOg5mzJiBvffeC7/97W+r772wYgXOOussPPvsc5g0aRJOOflkHHLIwTj7nHPwzjvv4LjjPg/P83DqqV/G0oMOwvf++79x88234IMPPsAGG2yAr59zNnbZZZfY43fcaWdcccUPsfnChbHnAoBttl2MY4/9HO699z6888472HzzzXHxD74P102Wxz/95n8N6rVrN8ee+/VBPwcZCmLEMBRmQs6YdOGFwGmnNRqJ+jEKjcYiq9EwGQr5HAzTFLKtQqaCIAiCGMm8+dZb+N3v7sGWW24JAGCM4dhjj8OnDz0Uv7rxRjz9zDM4/PAjMHv2bHzrvPNw77334aqrrsTmCxdWv2PhgoX4wuc/jwkTJuDmW27B/z3hRDzxx8djj5cknWubbbYGADz77HP41Y03AAAOWnowbrnl1qrhSGLpbru14eoMPot22w2vRW3u0TRAJU/EiGAozYRczj8fKBbTx1Xo5U6tjqlQy6DaySmnUPkTQRAEMbL48pdPxazZG2H77XdALpfDWWeeCQD4y1//ir7eXnzpS8fDtm0s2nxzHHjggbh9+e2x37XPPp/AxIkTYVlWpZxpEl544YXUNmQ519FHHQXHceA4DnbaaUc8++yzA//xH0LIUBDDznCYCbl885vAd79bbyqyGIu4MRXNmI92QqaCIAiCGEn84Affx8pXXsZtt96CFStW4LHHHgMAvPvuu5i2/vqwlT+E0zfYAO++827sd/3yl7/EPp/cF9ttvwN23GlnvPFGD3p7+1LbkOVc48aPq24XCgWUfb+p30kIyFAQw8pwmgm5RBFwwQVAoSAGbMupZU3mIs5YNDNTVNKzKQYCmQqCIAhiJGFZFhYtWoSTTjwB3/3uBYiiCFOmTMFbb76JUKmzfaPnDUyZOkV8RvuOFStexAXf+29cftmlePyxR/HIww9hxvTpiBAZj1dJOxfRPshQEMPGSDETku9+F7jkEiCfrzcUWYyFnqEwmYk4U9FOY0GmgiAIghhpHHrooXjr7bdx/wMPYKstt0ShWMSVV16FMAzx9NPP4NZbb8P+++8PAJgwcSJWrVpV/Wxv71oUCgVMnz4dAPDQww9j5auvVt/Xj1dJO1c7WPa73+HQr38dWx97LL51zTUN7/eWSvjaFVdguy98AXt9+cv4fw880LZzjyTIUBDDwkgzEyqXXAJ0dJjHVshtdcrZOBOhm484UwGQqSAIgiDGLh0dHfjMkUfiiiuugOu6+NlPf4J77r0XCxZuji/8x3/g7LPPwrbbbAMAOP6LX8S5534DCzdfhOtvuAFbbLEF9t57L+y199447PAjcN+992HOnE2q360fr5J2rnaw3uTJ+NJBB2HvxYuN7190/fVY09eH+y65BBeffDIu/tWv8JcVK9p2/pECzfJEDDkj2UxIfvAD4Mkne/Dzn3ejv7/27AfZbnUx7YsiYR5Mx6j7VSHfTnbcsQePPNJNsz8RBEEQQ87v7r67Yd9pp51a3Z47dy5uvunXxs8uWXIAliw5oG7ff33zm7HnMh3/yMMPZTrXn558ou71iSecEHueOD5WMSePPv00uPYHk3GOOx9/HFd+9avoLBYxf9Ys7Lv99lj+8MPYas6cps81kiFDQQwpqpmI69kebjMBCDMBAJ/9rFhfdVV3gyCWvyPOWKiv9fccR+yT//e0y1jIdgNkKgiCIAhiOOl59130l8vYdMaM6r5NN9wQtz30UMKnRidkKIghY7SZCZUvfKG278ILu6uiWP++pNdx5zZ9T7OY2gyQqSAIgiCI4aKvVIJlWcjnctV9HYUCekulYWzV4ECGghgSRrOZ0Dn9dHHM977XjVKp8dkSpvEQpnOrg7I5F/vkOgtZ2gqQqSAIgiCI4aCjUEAURSj7ftVU9JVK6CwUhrll7YcMBTHojCUzofLVr9Yff9ZZ3fD9msHQZ3OK228anG0ap9Fs+1TIVBAEQRDE0NI9ZQoKuRxeeuMNbDZ7NgBgxapV+MgGGwxzy9oPGQpiUBmrZsLEt7/d+B0nntiNcrnWTscRv0HO+CTbyFjtNQD84Q/tF9VkKgiCIAiivXDOwcIQYWUpBwFc24bjOHAdB/tstx2uvO02XHD88Xj9nXfw28cewyWnnDLczW47ZCiIQePDZCbiuOyykSWMh9tU6OVgZCoIgiCIOJ544gl8+zvn49lnn4Xnedhkk01wxn9+Ddtttx0AYLvtd8BVV12JzRcuHLY2XnHrrfjJ8uXV1zf/4Q84Zt99cfIhhwAATj/8cHzzZz/DHiedhM5iEScdcsiYm+EJIENBDBJkJkYuw20qdMhUEARBEDq9fX343LHH4cQTT8Cy666FZdv4y1/+As/LpX94CDlh6VKcsHRp7PudhQK+96UvDWGLhgd6sB3RdshMjHx23LFn2B5+Z9pHD78jCIIgVFb9859Yu3YtPnfMMejq6kJnRwd23mknbL31VgCAs885B++88w6OO+7z2HGnnXHTzTcDAN586y0ce+xxWLBwc2yz7WJcfvn/VL9zm20X49LLLsMhh3wKe37s4zj11NNQLper79955124/fblIJqHMhRjiNtv7254srMqrHffffAFNJmJ0QNlKuq5447uuieh688cGYr4IQiCIAQzZ87EOuusg9NOPx2HHHIIFi5YgIkTJ1bf/9Z55+Hee++rK3kKwxCf+9yx2G3XXfGjH12B9957D4cdfgQ2+shG+OQ++wAAnnnmH7jhhuthWRaO/9L/xSWXXoqvfuUrAICHHn4YfX29OOCA/Yf+B49yyFCMQm66qRuehzrz4LpC2MnFcepnFAKAv/61u6GGXQr/bbcduFgiMzH6+LCZihtv7EY+3xg7jlMfP3JRZ+H6298asyVhKO7Lj36U7imCIIh2UiwWcfNNN+HKK6/E2WefjVWrXsf222+HC777XUyfPt34maeeegqrVq3C6aefBsdxsN566+Gooz6D3/72zqqh+MxnjoRTebrs0Ucdhf8844yqofjOt781ND9uDEKGYhRwyy3dDYJHZiD0bZMgMk1TCtSvn3++u1rG4vvAVls1J5BUMyHLX8hMjA7Gsqm46abuBrOtxowaQ2mGQl4bNW5kG597rhY/pVJ7DDpBEMSHnZkzN8R3vvNtAMA777yD007/Ck47/Su48Ybrjce/+eZb8H0fH99r7+q+IAgwb9686uupU6ZUt6dMmYJ33323pbYt2m23lj43ViFDMUK5/fbuBjETJ4pM75kMRZKxkMItioBCAVixQgikchmpIk43E2qNPJmJ0cFYMxXLl4t7Uo8dy8pmJHRDkfTsEBU1fjgH5s2je44gCKIdTJ06FUccfhi+9p9nVPfp/w1PnToVkydPxn333gPL9J80gFWvv465c+cCAF5//XVMUQxGVo499+t4LWrDH7sxBBmKEcTy5SITIZFCSjUEqghSxVBaD2ucIDIJI9Vc5HLAiy8Kobnppo3iiMzE2GG0m4rf/KZW0qcO8tZNedb40eNGjyH1+1XU+Hn55e5qXGy2Gd2DBEEQWVm1ahWWL78D++67LzbYoBuvv/EGrrtuGRYuWFA9ZsLEiVi1alV1DMVWW22JiRMm4Ac/uBhf+tLxKBQKWLlyJdasXVs95sdX/RgfXbwYlmXhf374Q+y77yer33fnnXchCAIaQ9ECNMvTCOA3v+nGXXd1I5eLF/56eVOcANIXXRxlWWR9uVxyOSCfB155pRsvvlirIyczMfYYjbM/3XWXiB8ZE7ro102EKX7iYkePId2YmEoR1djxPBE7nZ3CXDz/PM1aRRAEkYWuri68sOIFfPrTn8amc+dhyZIDMX78eFx44X9Xjzn+i1/Eued+Aws3X4Trb7gBtm3j5z+/GiteXIFtF38Umy1YiJNOPhn/fu+96mf22ecTWHLg/8F22++AGTOm4+STTqq+99DDD+P+B+4f0t85VqAMxTBy553ddYOmJXG9rCbhk2QYTOIoLUsRV8YBCIHoOMDKld146aXae2QmxhajJVNx993mSQb02ZmyxE+WuEkqe0oqgZJradZfeaUbvg/MnUv3JkEQRByTJk3CJRdfnHjMkiUHYMmSA+r2TZs2DT+64orYz+yw44445phjjO/RoOzWIUMxTNxzT2N5hgnTAGq5bmVRRREQP9BURwqiMASefba2j8zE2GQkm4q//72WDQDqRbvJnJuEf9Yly2fUY+S2ilq6qBuLUgmYP5/uU4IgCGJ0Q4ZiiLnnnu6qQNMx9aqq23FiJo64zIf+Oq2nVe3xfeaZWlvJTIxtRqKp+Mc/xFpHz0yoMRYXM3HxYzIHpmOzGAq100Btm7xGjgO89FI3Nt6Y7leCIAhi9EKGYgi57z5ziYaOaUBpWllSK/tNx8WJIssC/va3WvvITHw4GCmm4uWXayVJKur9IEW7NBbNlifpZDEc+nFx76lmx9RGKoMiCIIYfP705BPD3YQxCxmKIUAaCVVo6MJYiiG1JxNIzyqkZSuShFPc50y9s3/9a62dZCY+XAy3qXjzTdTNfgY0xon+XpLgl+tmsn1pJBkJvU3STOgdB5StIAiCIEYrNMvTIHP//d0N4xYkSQLZZCrSRE9StiPpM3FlTnJNZoIYjtmf3n1XLLroN2UlTAuQrcQpzpxkued00rIa+qLOrOY4Ylaol16imaAIgiCI0QVlKAYRaSZ00gSRab9aMhH3OZNhUUsr9GP07zWJITIThGQoMxW+L8R1XFYvixmX5kUfvC23k+LGtL9Z4sxMUrZC8vLL3ejrAxYupPuaIAiCGPmQoRgEfve77gYxBJgFjYk4k6F/RxLtFERkJgjJUJgKz6vNRpZEXIwA4rvjsoJpZiTOdJvKl+RrlbR2x72vdz50dgLPP99N4yoIgiCIEQ+VPLUZ1UxkKXNKKtVIMhxp3xW3L01QmT5HZoJQaVf5k1zU8qdisXFqY8CcudOJi5+kY5OMu/55k7HPco+mjW/Sy6DUh+N5HvDcc1QCRRAEQYxsyFC0kbvvrjcTQLwYSTISaZ/X9yeZiDgjkWZsAFHuRGaCMNEOU6GaC86ByZOTxwtluWezxk8cWQx5XHvi2pt0nF4WpT9ITz6p/tlnyVQQBEEQIxcyFG1CNRNAfA9n0qIOXNVLLLJ8Xj1W/5z++dprSxFjFoCawiEzQSTRTlMxbVq9GYgzw2nxE2ew0z6bxUiYzbmlrMWSFPtxmKaelabCcYSp+Mc/yFQQBEEQIxMyFG3CNGYCaE7MmExFFsGTJF7S1oKaEFJfk5kg0miHqZg+vX7MRFwWoF3xkyWu1HMnvS9NuYo05kkmP+517TtqM0A5Ts1UPPUUmQqCIAhi5EGGog2YnjMBJGcImuktNX1W3x8notTzA1ZV7FiWDcuyoWYk1F5WwCIzQWRiIKZi+vTk6VzluhlDbhLwaaY8yYiIY2txYVkWbNupxI96nvr4UTN+cYZGb6fpeRZyXIU0FU8+SaaCIAiCGFmQoRgg997b+PRroFE8yBltmhFFcRmHuB7XOFEkekutiigSJsKybDiOB8dxYdsuHMdTDIZYdt7ZJjNBZKJVU+E48Zm9ZjISaYa62ffqxX5jWZNlOXAcF47jwnVzcBwXuqFoXNLvc91Y6OVPrgt0dDT7r0MQBEEQgwsZigFwzz31ZiJNpKSZCvV7TEIpqZQjyyKR2QnbdqqCKJcrIpcrwPPysG1PHklmgshMs6Zio43SZ3Jq5r6W2/osUgOJmfo21TJ7wpDXDIXnFeF5BThODrX/VuNNRdw51LWONBWeBzz9NGUpCIIgiJEDGYoWuesu8xOw04RJksDRzYNJEJkzEEnnlbXcsq67vuRJCCKvIooKlaUDrtsB2/bITBBNkdVUbLhhaMxMtGIA0uIkyZQDabEj4keWN8ltYchFZk8Y8kLFkBfheZ1wnAIsy4FqJPRB21lMhVyrs19JU/G3v5GpIAiCIEYGZChaRD59F0jr1WzOTKg14HGCSe+Bjf/e+npu2aMqSp3yFUEkelhllsLzOipLJ1y3Ewcf3EVmgmiKNFMxebKfKTNh2pdkrpNiISl+ko6X8SOzeWIpwHE82LZTiR0PnpevmAkROyJ+OmDbOagZChmTzZgKua2XQLku8MgjZCoIgiCI4YcMRQv87ne1Uif9j36cSGjVTCQJqOTeWilapJixqwbCcXJV4+A44+E44+G6xUp2ogjX7YDrdlbWRTITRNMkmYqkMRPqdjNmQv28JEt2zxQ7YVgbcyQWG4Ba4lTL4jnORDhOF1xXGgoRP+J9+boIy3I1o5Be/mQyFkD9DFA0noIgCKI9XH311fjkvvth4002wZlnnd3wfm9vL0448STMm78Zttt+ByxbtmwYWjlyIUPRJHff3dgjGNe7mCZk4ko15FgLYGC9sLX3hCCqlTjl6wyFbU+GbU+GZU2G44yr9rS6rhBHxx8/zWgm1FmgyEwQOiZTYVlr6o7JYh7SzIT+1O0kIx8XP/X7ImW7ll2wbTGBgSgPFFkI255UjR/bngjX7ayaDWnIxZKDbTtIy1CYjIV6rVRkluKJJyhLQRAEMVCmTVsfp576Zey3337G988771tYvXo1nnzij/jxVVfh/O9egCeefHKIWzlycYe7AaMRU3ZCEtfTmF38i8+FYa0XUjUY8qFf6j6JbTeeQ+4TNeB2VRC5bh6u6wEYD6ADtg2I24HBsgI4Th9s2wbnNizLMZoJ3UiQmSB0dtyxB4880o0wBMrlUkOpk7yf1X1JPfZZJylQe/GzxI8eO/Xnr405qsWOKGeKovGwbRdy9jQggG37sO21sCwbYWjDsixYFgMgTsoYi80+qNdBvx768Wrp0wMPdGP33SluCIIgWmWffT4BAHjwwQfBGK97jzGG25cvx7LrrkVXVxcWLlyAAw9cgptuugmLt912OJo74qAMRROoszqliaC0zETSMbKnNSmDkXTO2vu1QaXqYGzHyVWE0bhqhgKYUlmmAlgHwERY1vhK76qHc8+dTmaCaIlapqK2zySYk7IHSTOe6WMiGGstftSSp8ZjRCzVSgYLcJwJcJwJlfhZByJ2pgCYCECWQhUrkx7UFsBOzExkeTAfUP+MimJxqP41CYIgPny8/vrr6Ovrw7x586r75s+fjxUrXhzGVo0syFA0SVL2IU0MZRVF+vtx78V/txVjLORYCtnj6sG2O+E4EyEE0TpQBZFYOisGxMMFF0wbVDNxySWD829GDD/lcm07Ln6aMc1JMSe/u9n4aTyPPpbCqszuJNd5OM44WJaMG7nU4seycnCcXHU2KPU5MGmmKe46mXBd8UwcgiAIov309vbCsiwUCoXqvs6OTvT2rh3GVo0syFBk5P77u8GVDFiaGMqaRdC3VcFgElcmEdQojqK64+tFiJzyUpRA1aa07IAQQ5NRE0QTAHgAcrBt8fCuCy9cZ1DMxFVX1c+cRYwt1PsVaN2MpxluSZw5ifvOZIOhzpZmV8sHa/HjQMTKVNSb8QKAPCwrp2Qm6j+flKlIylbI3wjUMhWUpSAIghgcOjs7EUURSqVSdV9vXy86O7uGsVUjCzIUGVEHe5r+4KcN9MySoTD1QqYZlbTyDT1D0WgmLAC8soQA8qgJImEmxL5cVVhddFFHW83Ez35Wq3l/6CHqZR1rPPhgNxirvU6LkTSRnRR3JlNhip/0OFKzfHqGTzfjMn4iiDFJEwGMQ338qPEmtpP+70jab8pUyNIn06QRBEEQxMCYPn06isUiXlixorrv+eefx5w5mwxjq0YWZCgy8Ic/dCMIaq/j/uA3U7OdZCykGE/qmc3aw6qLIpmhqAkboCaISgD6IIxFEfWCiFe+S3zusssKbTET11xT25aiiBhb+H5yXGQ1yWmfU+MnLSbiTIaa5Ws0+XK2tJopqBlxDhE7fRAxU28moiiCLKECbCWTaMXGdLOmwrYpS0EQBNEqjHOUy2VwHiKsbLNKaYrrujjggP1x6SWXoq+vD8+/8AJuvfU2LF26dJhbPXIgQ5EBzlGZBSlbdiGtZzXts7qpSOplTVvE90RgLKwunEeQU8kKMaQKon4AvQDer7yfhxRN9eInwg9/6AzITPziF+ae1vvvp17WsUQY1sdP3D2flm1LMuHqa92Qx31X/BJV15xDiR0OzqXRUA0Fh4ibfogYWg1hzj2IcigOOdBbfD6qmglp0rP+/5FmLEzP+CAIgiDSufjii7Hp3HlYtmwZbrjxRmw6dx4uuvCi6vtfP+ccFItFbLPtYhx11NH42le/QjM8KdC0sRmQgkif416i/2GX67Se1iRTYVm18g2TSJAlQmqJh9aqSm21EC9SEAUBQ7kcIIrK8DwG1w1g29JMOBC3RAiZrYiiAJYVVnpYgSCoiaowBK68UvS+Hn101JKZMIkim2zumOHBB7tRKtXfz+q/tRoz+naWrIXeky8/r8ZMXPzEx07tGM4jWFYEzkP4PkMQMJRKZXieD8/z4boFAAwiflwIk8EA9COK+mFZwrCHoVUx9qopkW2PGtqYdI1McSPXti1mo/v4x2m2NIIgiGY4/bTTcPppp8W+39nZicsvv2wIWzS6IEORwsMPC0EUJ35NQkjdTstgmEobVOR7OlKAJJsKQBiLCJYVIghC+D5HqVRGGPrgvBeu68DzHHgeh7gdIsgeV87LAPpg237VTAQBq/awijZHiKIIV18NHHFE62ZC/e2WBSxf3o399ydRNNqRZtz3a69VTMI4aUkqH5RrGRthmGwcHCfZkAOomIkIjEWwLA7fZ7AsH5z74LwPruvB8wDHyUFmIwAfUSTix7Z7YdscnIcIAgbOo+oS93+Kem307bjroEKGnCAIghhqyFCkIAWK7HlXBYhJBOmvmxVEOvo+04O54sscIliW6BkFQtg2r/Sw+uC8DM5tuK5bETh5eJ4HxwkBMHBeAmNCEIVhP4KAwfdrgoixEOoThQHguuvqxc2RR9a35tpr06+F/D25XPy/CTE6eOKJbqxdW7tX1SwCkG7G00oJTVk++XnVVMQhZ0dKQsSOyCxYloVSya9kG/rAuQXXdcB5AM/LI5ezILJ7ZTBWRhSVAPQiCEoIAlY14zKG9N8t22TqVFC3k64LIAzFrbd248ADyZATBEEQQwMZigT+/GchiFQzoZcYxImiLOMq4gSR/K70siZB0jGWJb9UmIBSKUAUReC8D2EYVQUR53lw7iCfFz2xjJURhiWEYT9830cQ+NUe1to4jPpzyR5h2f5f/KL+96i/UR8HYhJFxOhGTrOsjmeQpJmJrIY8rqdejnuKK3eKovqxUSq6wLesCEEgxhlJQxGGvRVDEVViJ48wjJDLReA8AGM+LKsXvl+uxI6PIAjBmGrGhVlRz2l6cKb6OoshB8iQEwRBEEMLGYoEpCBKy0TEbbciiNTeVV1kSOJEUhKydCMIGMR4iF6EYQTPk4KoUBF+NmybIYp8hKEqhnwwxhCGYoBqGAoxFGnKx/Q0ZP11lh5oALjppm4sXUq9rKMVXeTqMWLal3WJG4Ok3n+qwVVRywXl503vS7EvxkVEsO0Ivh8gDMNqpsF1WSXbl6vEhgXbZghDkaXw/QBBUAZjAcKQVwd4q9fEfO7Ga2e6RnGGnAZnEwRBEEMJGYoE9D/QccK3WUGUZYYo1VSk9dbrxzT2WEaV3yBMgBhPwSq9rAFctwDGyuDcAmM2LCuAbYdgLEAQBAgCH2HIK0sIzsO6363SjKFI62n2vOTfTYxcnnqqG2vWmN/TB2fHGfU0420akK2Oo5AZviRM8dVo4GX8hJDmAvDBOYPn+RUz7oBzF7bNYdsBokjEj+/74FyaEBlD9dmJuHM3Y8iTxlQQBEEMBb+8/vrhbgKRwuGHHTZo302GIgHdTKj700SQui9JDCWZiixiSLZPpf51BPkArpqhEOsw5JWxEgFc1wPnOdg2h+MAUcTBOQPnXBFCwlCI7zQLIvX8JmGjXh/TgHQSRWMDxurNsSl+4rYHasblkvZMk7gYa+zdjyq/ScaOcEQiS9ELxwnAmIsgcGDbDI5jV2JHLDJuwpBDz+iZaLbsyVQ+aFnAr3/djYMPpgwfQRBDx8f23HO4mxDLtos/OiznffKJPw7LeXW2XfxRvPbqykH7fjIUMTz9tBg/of4Rl2t9LEUzoiip5Emf6clUimEaK5HWwwrI8Q5hXTtt24ZtozKdrCjNcF2rMpCbwbIiRFFYFUS1XtV6M9FMeYXJUKhiKK58hRhdmGZzAmrjKdR9cWYyyTSkGQtTG7KgmgzxPTVDHkVRZQpleVxUiZ9+MObCcQDPc6rmW3xGN+KoxFXz8RNnKOKuAY1DIgiCGF7OP/87I9pktRMyFDHI8RNA/R/prIKo1Z5WfepLuQ/INiuNPE5tl9iWMzKF1e90nKj6nZYVgTEG13UQRRy2bVeONRmJxnnzmxFFWQSjPGbZsm4ccQT1so5GdGGvP6hRHtNMHKXFjSqm1djJiqnUUA6gtm1LOZ94LQd+MyYyE3J6XJGVEfHTaMIHHj9JnRRkyAmCIOJptpf+l9dfjzPOOLOlz32YIEOREbUXPUkEmfa1Iojk9wD1szhlrQnXeyjFvqi6iHINC44jB5wCqEyPadviCcCiR7azZQ4NAAAgAElEQVRWKlU5Q+xDw7IImDhDoZdu1ExP+ncSIw+lA776Wp3paTDNOFAbkJ1lljS1jabYqbUzqhpsx7Er328phpxXXluIolDpAEiPn4EaCn1R44wgCIIgBhsyFDHof5BN2YGBiqEkQSTPKfdlMRLqcaa2qj2uth3Cti2EoRBFnEeVp4HLB+FZiplQhVGjCGpGFKUZirhZa4jRw3PPiXJBHf3+SMtOJfXAZx2QHDfTk0qzsSMf7ChKBmumW42X2nfVx48pVlqJnyRDoV6Tn/ykG8cdRxk+giAIYnAhQzEA0gaFNmMo9F5FVWToM7+Yen/1WZ5kT6sulqJIGhUxDabjWAjDqGpe1BIoIYZMxqK+Xa0KIvUaxvWyEqMPNSNgukcGGjNZDIV+n5oMC5A9dtRt8X3SlNcbETUromYokuIla/wkma04Q04ZPoIgCGIoIEMRgy5m9T/6oh5clAu1KoTihJE+K44qiEzTw9YPIq0dn3RsTSRFlTINdTyFWQzFmYksZU+qEFLbY+plVV+TqRh9pP2b1f59LahPW2/FiJve0+MnLrsXZyaA+JnT5PfXSgilIRcxJONKfibOSDRryPW4Ua+jHi9kKAiCIIihhgyFgRUraiUbpj/yNTEERJGliZ9GgZRVDKn15bog0vdJ9J5UeXyaIKrfZzYTjeYieduELu5MvaxJPaxkKEYvcfeGjB9xv5vjp1UzLr9fJeleMsWPvi1f15uJmqkQ+6LqvW4yDmn7kq5hnBmXv1WPITLkBEEQxFBDhiIB8x98XQA1J3yy9LCaBETcg+viel/1Mg9VBKkZDFUkyd8pt9OMhJ6daLxW9WTtZQ3D2oxAzc7SQ4wsGkv2rIZ7HmjeQCQZCnVtuh/jTIRc6yVO6nfVm4n6eMpqxpvN7untU9dpsUPxQxAEUU+rsy992GZtahYyFDGYhLKolxZTRTqOnM1F/EFnrDY/PSB6LtNMQ9r7unjQ0Xtd1c/J9qr7Tb2s+rZeLpW1d9UkhuqFZONaX3QhJF9fckk3Tj6ZBpaOJszxY1Xjx3Xt6j3PeQRUBvyLWIgS4yJL3KhxoMeJPI+6OI6430wlT3o8mQy5uqiGXB6f9jrp+sWZCf0a6PFDhoIgCKKe88//zpB+7sMEGQoD8g92Y0+jXRVEgFM1FEEQApCpggjiqbitl22o27qwMPWuyvf0ko20XlaTmdB7XPXrYLouKs32sqq/lXpYxwZx94l8kKKYctWuzipWMxSy3ClKjJkscWOKESB5v3hCfKMRUeMkLW7ishWm66FeK/3a6Zg6DoD4QdmU4SMIYjgYrqdRZ+WMM84c7iaMWchQpFATAFZlmlWrIohcWBbAmOxZFYJITCmpjrGImjYR6rb47vR26iJKNxK6ENJLn5LEUNbe1aQeV5Mg0q9JnCDK8vuJkYs0E1FkVZ5x4sCyHIhnoYQAQgBWxYjLgc4idlqNm2bG4aixomfoTPGUFjdJGYq0cqcssSPXpt/MeS121IdwEgRBDDaHH3ZY0w9/I8YOZCgMmP7Yi6fkWnAcIYYsy0HtCdIAECpmovlMRFKGIq6X1tQTa3qt133rAkg3EUljKEyCKEkM6aQJIirZGBvUi2jLED82wrCmlOUT3OWsSc1mIkxGImlwdlzsxJUJ6hmKJBMRZ8rV6yK3Tesk4n4DZSgIgiCI4YQMhYG4HnrLsuB5DsLQAZCD59lw3RCOE6JUCmBZISwrRBgGDQIprufUJIbUtVp6kfRwO10AqeJHXZsyE7ow0gWR6Zqo++R2VpJ+vyqI5BIELf0zEsNEXPy4rgvbFvFj2/lq7AAMAIfIVIRgzK/cD3IAt3nmp6TMRFxmy5S1MMWObiB0Q55UNpi0qNdHbqvrNPT2q9dAz0zI+CEIgiCIwYYMhQGTkZBmAnARhg48r4AochAEIaLIB2OAZYWIIlZZamJIzVik9azqIkk1FHE9k44TL4ZM5U9JPaxJwki/NvK1utavozynStzv0EURGYrRSVz8OI4wE5aVg+cV4fshHIeD8zIAG7YdgnMftamY4zN+aUY8LRsB1F43Gzutmom0GNKvodpOfTvOVKlxQ4aCIAiCGCrIUBhI6mEVYyfyyOWKABz09zP4PsAYAHD4Poc6NWZaCVSckVC346aM1cVO3LY0CvK7VCEUl6UYSHbCJJBMPcImgaiLIsbIUIw2zLFjw3FcRJEDzyvC84pwXWHGPS9CFDFwHlRiR2b1atm9LIbCtE+/F+PMhfq+auL17bi40csEWzXjcZmKpPgxTWqgxg9BEARBDDYJRTQfXkziwHWdyuKio6OAjo4i8vkCPM+D53lwHBeABUDMYCMf3CXWVoO5MJkN07apxzFpYaxxn6kMIm7Rj8nyGfWcrbQ5rR0kikYXjdkJYcY9z0GhUECxWEBHRwc8L1eNH8tyAFiwLLtiKKzY+GhmSYuNuHvPFDP6Pdnq/dzuJS1mCYIghpurr74an9x3P2y8ySY486yzG95/6aWX8KlPHYo5m87FFltuhW9845tgyh//3t5enHDiSZg3fzNst/0OWLZs2aC1dSjPBYyua5MEZSgM1BuKWrmG49hVAeR5LlzXRRBEyOcjlMscrhvC8zjKZQdhyCvCpLGHNevgUlOvrD5GQmLKWOhlG6ZeVr1cI658A4jflq/VtQm9XCNLhoJz4Lzz6BkUown93nEcMTOabdvI5bzqwjkQBBFyuRBBwMG5C8ZCAAGiiCumonGQdjMZPzU7p99zQP1rNSOhT2KgZyNaKXuS18e01rdV0jJ8SSaKIAhiuJk2bX2ceuqXcccddxjfP/mUL2PBgs1wzTU/x9tvv40jjvwMZs6aiWM++1kAwHnnfQurV6/Gk0/8EStXvorDDj8cm8yZg8Xbbtv2tg7luYDRdW2SIENhwHFMpT8RgKj6cC7HseE4OQRBBN8P4XkBOBfCyLKCyh96C2odeJqh0LfVgaVxJVBAbRxFnDCyrNrn4mZ6avaJv6a1vq3TjKFgrLYQo4vGWcJE7Ij7TBh017WRz4v4EWacwXVDWBarZPhC1KaNrc381KyhkOskI24agG0qczLFkilm9IdCZi0XTIod2Va5TjIUMntC8UMQxEhhn30+AQB48MEHwVhj6vTVV1fi3K+fg2KxiFmzZmHnnXbCa6++BgBgjOH25cux7Lpr0dXVhYULF+DAA5fgpptuartoHspzSUbLtUmDSp4MTJ/eo4iiqCIaQgAiYyENRT6fQz6fQy7nIpfz4LouxCVVS57q/+irJRWtlG3E7RtIyUUz5Rh6KUhcSUir55EiSG7T+InRh2na4XozLjJ+InY85HIuPE/MAFWLn8Zyp1Zix3TPJcVPlthSTW+z93gz8dJq/Khr3x+++4AgCCIre+65J266+Wb09/fj1VdfxSOPPordd98NAPD666+jr68P8+bNqx4/f/58rFjxYtvbMZTnyspIuTZpUIYiBl0URVFU6ZW0YNs2XNepiCFeKYEKAMi/3hHEU7SFCdF7EJN6Vk0ZiqyLqVxDz0aYyjRkj2szJRt6yZPcn0ZS+3WxRj2soxPXrb+fRI99LUPhOA5c14aYepnB81w4jlP9fKSmEFC7J0xxkyV21CxF7Rz1++JiR80+6GVQpiyffC2/M0uWQr7OQlJ2T8aPGjulUlP/dARBEMPCWWeeicMOPwLz5m8GADj6qKOw6667AhBjBCzLQqFQqB7f2dGJ3t61bW/HUJ4rKyPl2qRBGYoY6kueZMlGrVxDZi1ESRMH56zyOqyYD6EQan/wrYYe1rgeV32/FNvN9mLGZROa7Rlt15I0kFV9T81SUIZi9LHhhj1GIa2WCwIirqIoBOe8GjdRFBpip9GUx8WKKaayxE9aZiJLpkN/L+79VuNPjYu4/Xp278ILafwRQRBDy7JlyzBr9kaYNXsjHPrpw1KPZ4zh8COOxNKDDsILzz+Hxx59BE8/8wwuu/xyAEBnZyeiKEJJ6SHp7etFZ2dX29s+lOfKwki6NmmQoYjBVAcuRA+H75fh+2WUSv3gPADnAcKQA6iZCdl7WRM1UWZRpJd6tCqKsgr7gQicdpsK3ViUy8N8IxAtURtjUCsZDEMOxgL4fhlBUAZjQV38iIxezbibMhGtGPIkcd+OOEj7zrjvbSZ+9LiI29YXgiCIoeaII47AqytfwasrX8GNN1yfevxrr72Gl19+Gccc81nk83msv/76WLLkANx//wMAgOnTp6NYLOKFFSuqn3n++ecxZ84mbW/7UJ4rCyPp2qRBhiIGWbahZinCkIExVhFEPsrlfjAm9gnBFFYElGUsYdAHHmfNTjQjinSREic+BiKQBmo+TG3UB5IGgVi+/33qYR2N6IZczHpWMxTlcgmlkogfMQA7BBBWxijVD+YWZr41I6F/rlmjq/f8p30mLoswkMXUBlPM6O/R+AmCIEYKjHOUy2VwHiKsbDPOAQDT1l8fnZ0d+MW114Ixhv/93//F8uXLsfHGHwEgph0/4ID9cekll6Kvrw/Pv/ACbr31NixdurTt7RzKc0lGy7VJgwxFDDNn9jSIIs45OPcRBH41Q8GYnOKSV7IUMpMRVkulpCCKy1AkLXovZyuCPk3gtFsAJZkF03txCwmi0YtqxkUMhOCcgbEAQSBiR48faSrkWhI3m1GWeFJjphlTkWYw4t6T59Xv5SxGpNXYjVsou0cQxEjh4osvxqZz52HZsmW44cYbsencebjowosAAJ0dHfjRj36E229fjvmbLcAee34M605dF2eccUb1818/R8xytM22i3HUUUfja1/9yqDNYjSU5wJG17VJggZlJ6CXbUhBBFiIon5YFodl1YQSY0Glt1UYC5mlUKeqjBuIrYqkuMGm6gDqMGycKla+p76Omz5Wn+pS7s8yEDtp2lj1tTq2Vt+Oq49XzQcZitFLLicEbc1UAGHIEEUBOLfAGGBZHFHkVLJ8ATjnCENRGiWzgqYB2nrcxA3SDiuexDS4Wt7vMobUONFjJG5tihv1NZAcT5Jm4ifu/xHVLMnYufRSyu4RBDEyOP2003D6aafFvr/zTjth59+Yn8MAiLECl19+2WA0bVjPBYyua5MEGYoEpKGoPSwuBGMBLMsG52VYVgTbjhAEvGImWLWnVZoQ0TtbLxp0waP3upqEkooqbKQgMpkJdZ78OEGVxVTI9qeZibiZakzCKK42nvNauVN/f1P/XMQIYsaMHjz/fHedIWdMPGPCqtwowhjbYMyvGApWMeNhwyxIkrRZnUwxpN5/uqkGGmNHjxmTmY8zEepreb60GNK3Tb9ZX8fFjowfMuMEQRDEUEKGIgHZy6rXglsWB+dRRYSEYCyqCiI5Y43sYTUJI90omMo4TD2tQKMgiqL6B9bF9bCaelWzmAp5zrhtda1vm4yQXMfN3qP2sP74x9TDOpqRD4isGVkOgFdKnMRYI1GeIw05r2YndCOu31dphiLOkKumWo2fuCyfnpEw7TO9ltnBtLiJy07I36lvx/12U4aCIAiCIIYKMhQJbLhhrZfVtqM6URSGYeUPOIPvR2BMNRNRnbgwCQtdGGQRRmmfjxNEcp9qFOKEkS6G2tHDCsT3rppKNoKA6r/HAuaJDTgAhiAQ+0Q2KqyYcTl+Iqoer4tu9R7VsxCcJ5sK9b7VywWTsnyqyc6SpVDbGRdDcltdx5Gl3Ek145TdIwiCIIYaMhQpOE5NKMgHdIkeVtmzasH3I4ShBTGQVAgiuZjEhBRZjJlFTVpPq0kQqaYhS9lTUpYizkTECSOJKRNj2k4rd2KMBNFYYPbsHjz3XDeCQBpyC1HEEUVW5d87gu9HlWeNRJDxo5uJOEObxZSbxiHpn9djR31tGnOUZCpM8ZLFkOuvm83u6Wb8mmsou0cQBEEMHWQoUsjn1cGlcnA2V/6IW4giG6jO5iSNhDlLYcoGqIIHiC+B0gW64yQbCdPTsE29qklCKE0UyX1J6D2sJkOhC6JrryVBNBZoNORi0LXoTecIQxuAVbk3pBEXpN2PJiOelOlTv1eWOiWVC2bJ8DVryNV9anvi0GM+qdxJZicou0cQBEEMNWQoUthwQ9HLKuvBRWaBAxAP3xJItRLVbcvjs4iiuIGm+n69pzLJSJiyFNI8qCUcae0E0ss20ogr15Br9cnYJIjGDtKQOw7AWK1s0LLkjNUhxOzVMnbqM3tZ4yctU6HGjulzSVkKNXb00ic9M6EPxh6oGQcaY16PHX3sxC9+QWacIAiCGFrIUGRA1oILUaQPWhaCSPyhrxdD6pIkjEy9kHLbVPJkEkFJWYq4WvA0YwFk7101CSNT2UZcuZP6QLs1awb270WMHGbO7MGzz3bX3aPiHooqhlw8twWGMsEs8QPE9+LrZUHyfd0g6LFjOiYphkxxlBZD6lrfVn+L6XeZshPSjJdKA/83IwiCaIZfXp/+NGxi7EOGIgObbNKDZ57RRZE6PqI+KxEngtJMhSkDEUW1wab6+830tOrlTXGiqN0DsnVRlJSdYEwIottvpx7WsUQuJ3rOTfEjqD1votn4kfesHh8SU6ZPzTDExY5p/ISpRDDJXKi/x7StruNoJjsRBEBv74D+qQiCIJrmjDPOHO4mECMAMhQZcV2RoXAc8Qe8URTV98Cq4iduW76WS+VJ60ZUUSTRP582sFQ1E1l6V5OMhdzOQlJJinyCsSzXoOzE2GPjjYUhl9m9+hioGYnG99LjRzflJvQSKHl8XIbPFDt63MTFjB5b8re1YiZk2+U6KTtBZpwgiKHm8MMOw2uvrhzuZhAjBDIUGZk7twdPP20WRXFCSBUeabXgem+rCVVMSDEiS7GSelhNZkIfnB3XHmBggki2O04QSVEkyzXuvJME0VgklxP/xnKQtjTkjaVQ5rjJYtbj7kf93pPIz+uTG5hiJ4shT4oleT65zho7sv16qaDMXKrZibVrW/u3IQiCIIiBQoaiCdR59dOWOFEUl1XQe0F1TOMn1NdpPaxqj2pcaVOcOALisxRZMJVqSEGkZidWr27934YY2cyZ04OnnupOvfeT4seU2TMZAd3AqpjGScj4SYqduAHZWTJ77czumcqd5EQGd99NZpwgCIIYHshQNMG8eT34+9/rsxSmHtYspiIpQyHFhmnchLofqH+YV1wPq3w/rmxDXdJ6WAdTED3wAAmisYyapVAzFVkzFKZsoOlzzZjypEkMdJMRl6HIugADix99kDllJwiCIIiRAhmKJsnnG0s3knpbm8lQmBZdGJnGI+i9rfpAbD370aooApoTRLoZMgmiIBDZCepdHfvMnVtvyNXxSFkzffq2yUjr96yKHjfSkMv4SYqdJBOTZMAHGj9xY4/UUsHf/57ihyAIghg+yFA0ydy5Pfjb34QoUgdpJxkF03ut9G6qmGrC9QGkzfTsyn1A+w2FScSpvas01eWHh0WLevDnPzeORcpiyrNk+ZKyFUllgzI7Z8rgJZnyrFk9PY7T4icudtT4kWb8vvvITBAEQRDDCxmKFthiix786U/1okjvbdVFki7kk3pi48yJPm5CHYsgBYoqjpoRRepngIEbijgxZCp1eughEkQfJtQZ05IyFaYYaibLFzcFsp4tU9/XB1ur2Qr9/AMZO5EUP6aZnfTJDIJALH19g/NvRBAEQRDNQIaiRfR68CyCKKmHVS+zMImVOHOhGgFdEKnGIUv5RlzvqnxtWqvEiSFT7bfvAw8/TGbiw8aiRTVDLmMnrfwpKduWlnUzmQyg/r5U72k185CU8cuSJZHfmbRW0csETWZCNeOPP07xQxAEQQw/ZChaZPPNhSiSve1JPa1pS5z4MfWUqq9lNsKy6kWIuk/dThqMre8DmjcT8vxybSrVkLM6cS4EEfHhZJttevD447X4iYubuGxEnFlIylLE7TeJeD2GTLGTZiqA9mYn9FJBMhMEQRDESIEMxQCQoiiup1Wf3z6ulzUuKxFnJExTv0ohAjRu6wImTgjJ/UC6KFJRe3zlOkkQyZKNJ58kQfRhplCoCeRmDHlcliKL4Ugz5CrSBKtxEff8iVbNhCl25DpuIDZj5lmsCIIgRgKzZm80rOd/deUr1A5DOwYbMhQDZLvtevDII/U9rdJI6D2mcQYj62Ka2jJOFMVtA9lndwKSzYT+OkvttxRGZCaILbbowRNPdFczVqohV2PIlHkwxU9cuZ/puKyGHGgskzJ9f7NmIi525LZpVjQZO1FE8UMQxMgmXLV8WM5rz9if2pHQjsGEDEUbKBRQJ4rSellNT+Zt1VSoQsbUywo0zgYlj8tS5pRFDOnn0o2E2gYSQ4TK4sU9ePTR7rrs1UDiIyluTFm+JEOulkPpmQS9BEpiiid1rW+rxBlxWXIlY4nihyCI0cCdDwytiL7rgeeoHRnaMViQoWgDW2/dWA8uexNbFUBxJUkmUwE0n6UA0ufsb6b2W55DXfT9AIkhopEddujBQw91N2QphtuQJ8WPep/btvl3tSt+pBEHKH4Ighg7LPnc9dh03g7YcoslKBQK1f2O68BxxH+srucYPxsEZdx2ywX48fm7DLgdB31+GTaesxO23+FQ5PN5OE7Kf9aD1I7/8/ll2GTOjvjYTp9BIZ+H54l2OK4Lx05uk+8HuPaGc/HDb+804Ha0ChmKNiFLn6SRUHta00o30ko5kkqe5HZcdiINvQe2VeT5k0o5SAwRcey8cw9+//tuY9lgs/FjMuVxcaRm75KyfHHIcRbtiB/Td1D8EAQxFvncV+/HR3c6DFOnboiZsxbWveflHNiWB8cT/wE6jgfbrjcWnV2TcPOvvz3gdhzzlfux1eJDsc6U6Zg5a3MAgG1b8DxFHtsAjOPWXHR2jW9LOz731fvx0R2OwLpTZuEjGy6G7dX+IBRyNnIFC3aMqbAtD51d43D1sjMH3I6BQIaijey4Y62nVR1EGTdQ29TTmjauIs5UmMoymkH/jCpumvm+uGNJDBFp7LZbD+67rzsxw5cWP3FxlDSxgYwftcypWeLipx2xA1D8EAQxNjjkP27E3IX7YJvtPo3AL6Gv9330fiAeqGO5gOva8MuA7ThwXQ8A4OUYpJ9wHCFbA7+EkAcDasemC/bG1os/hf6+D7B29b/Q19dbfd9xbDiODdu2YNt2g5iPohCWZSMIcgNqx8H/cSPmL9gLWy/+FBgro7f0AVaX+4A+hnXX/BXT9tgDK556HwXfgW3bcF27mr0BAM5DOI4N13MRhqzldrSDmGQ90So779yDfF48vEsuUvzIB3nJ13HlHK2WSEkG2lsKmEsvWoXEEJGVPffsQS5Xix0ZN/qD8JLipNnJDuLGPQyEdsUOQPFDEMTY4JRvP4ddP/ZFrN+9MXy/H32lfpR9hjDiCCMOHnAwJlIBIecIQ4YwZAh8DhZwAADnAxfNp3zneeyy539gvfVmobf3fZTKa+EHAcplhnKZgXMO3w/g+wxBwMGYWFQsa+Dy+ZTviOux3vqbgLEyGPMRRRb6vAkoPvj/sNFvvo5J6xdRKkcolbi4DiwE57V0iWouhhvKUAwCu+3Wgwce6DaWbKhL1tmg9EXWbZu2OU9v31BCYoholo9/vAd3350cP2qcNBM/SbHTThPQLih+CIIYzex39NVYd72Z2GzhJzB3/u4ol/tQLolMQBQG4AACvyZcAp/Dy4l0hDQXuXyEMKz19MgsRTPs/9mrMXXdmZi32d7YdN5uKPWvge+XEQQl+H4Az7VRLnM4TgTGRKYEADjncBwxpiMMI7iuE1t6lKkdx1yNqVNnYt78j2PuvD1QLq8FY/0IEYExBl7IwVu5Ers/+D3kt5qBVSUX5f4yXFtka6IwAst5KOTCEWUmADIUg8buuwshcPvt2YVRu0TRSJmjnsQQ0Sp7792Du+5KN+UyVuR9r8aPvi+roRgppoLihyCI0c78BXtgo40/CsbKKJV7wQPxRNveIETIIkR2BJ8DuWIRuUIOAJDPe7DEJrxKrZPNyyiXAriuB84ZOOMAsgv7eZvtgdkbfxQsKKFv7fvwgxI4Z2AsQBQxBAzwfb9qJABhaHRjUS0xatFYzJu/OzbaeHsErITe3vfAGEMUCUNV8gNwJ8SuN56HLX8B/OvFdbAyPxV8Ui+scZXSK4sD/WvR3xfAyzkNJVDDCRmKQeaAA3pw223Jwkifcz5JFMl9SaIIGNhA7XZAYogYKJ/4hLiHbropW/zExYtuPNIMBcUOQRBEexg/YT0wVkY5KMH3RbkS5xwh52Ccw7E9BP/qx1FLObb65HSsfpkjLEew80KshyxAseDgBbYhblz2Ijo7GVgA8NBvqh3jJkwDC0oo9feC8aBqJjjnCPwAth2BswiccTiuVWcm4oyF5zmImuzBHT9hPZTLa+GX+sAjDs5CRFEIFkV4185j/0cewu77/wE4Egh2ehWznzgBXf5afGAB/wZDOLUL848/HQ8/tLrue60mzNVgQYZiCFiyRJiKuIdVqa+TTIQ6TWWcQNIfLjcckCAi2snSpT349a+7Yx+UqMeVHkNq/KS9Hu74odghCGKswbh4UFcQRnDBwHgExjn8IEDojUf3049j662+j85JwBvnAf+8HSgCkEOdJ9g2+O//gYADLGCwbRfMB4Ds/0lzHsIvlxrMBAsC+EEAx7VQCiPYIUcYOvA7x8G2HdhwMT4H5INeMBbAdV0AHJxzcB6iWGxuTAfjHCET54yiEIwHADjej1ys9/q/cNakh4EbAP4WgFXvY9Nf/xCzGVDmQNQB/PU2IOg9CaVyBHXqqSBofWB4uyBDMUQsWSKEwvXX1xsLXSQl9baaDIZJEMnZagYy61MrkBgiBouDD+7BzTebY0c3FK0aC3nscMQOQPFDEMTYgzEfQcDRH4SwIg5fMRMA4EcRQuYizIvjeYdYq/I4GifqnxgPAVhgLABjZTRT8sRYGYwzMFYG56FYswhBUAILSmDw8AGKgA10Bqux7TO/wy7P3osXZ8zBY+P2wjszN0Z+HQddYW8oWckAACAASURBVICgXILn2AA4yuXmB4n7rGYmGCujFNpY28dx6aqHse5Tovzp3zsDUQ5wthXmqlj57Kz3gTdKQrrLgeoA4PsRomEudydDMcQcdlgPbryx2yiIkkSRvqQJJCmMJIMtjEgMEYPNQQeJe+y667ozxU4rGQqnMjWhPhZpMOOHYocgiLEKDwHGA4RMWATVTJTK/SjZAQLmVY93UBPPKoHlIvTLKPc7cLwQXmeEkDenoBlj9WaCc/RGNvq8PIpRhOkrH8filfdhl9cewsYhB4rAdk8/iUMfXYbHfrUJHvzjPujZdDcEUzdAGcB4lBGEzWUGQhaABUHVTHDGsCa0ccTrL+AT17wJbAYEXwOil8Txb24ClPqANyLgDQBvhcB2v7LRVwrRkasZChY0VwI2GJChGAYOPVQIiJ//vBtAvRAyLSZhpAog02spjFRjMRiiiMQQMdQceaS4537608aMhW4s4haTkTAdB9Qyfu2OH4odgiDGOj5j6IAwEjwMxZSsnKOfhShzCz4LESBCVMlQFApAhy3GK3hhiMC24UVC0PSFHiwewYMDr9TclJYsKIN7QsQHvig5WrtmNTrefh2L/FexC0Js/tytmAYAtoMeAOgHipcC+Y8Diw9/EeHRL+LPD12K1+118d5m+yDYfA9g9maVzEk2QliIorAysJwhYBwIGE4JXwBeFmbC/57S7pcABqAM4F0AvR5gFTjKpQCO8jep5IeIhnPwH8hQDCuf/awQFFddVTMWEpOwiduf9XU7ITFEDDfHHtuDa67prjPMphiIW/TjpKmQ+4H67Ee7oNghCOLDRNn368zE2r4+HLjbVjjp5MOwmnXC+tkdeO8OwNsWiF4ACgjhSo1eSRXPmVXAWWcsQp73o2hHeOBPEcqsCSHPSwgqZoJzhn6/H3tt9RGcu+d+yPWXga4JePvBh/HWjb/C5JCjD4APYJ0/AuFrwAu/8DD3wouxyVQX5f73YVsMKwIby1/tb+pacMbAchE4Y+ChmCp2bQSc587CD7/xLJyEz3pA9QF/UTkCc1hlLxAGEUIyFMQXviAExuWXd8OvZK2aEUdq76r+WcuqlW60QxiRGCJGEkcfXTPl+tgH3RwkGQqJXvokkTFE8UMQBJGd/gDwOK+aCR4Ck7mPfa76ForXfAtdS/JAMcDqPwEv7QDkAXRVPivtAlvbi39vNhfO2l70h8CT2y/F33f+WlPtCFgEJxBmIggC8HKAF9dwXPKvDvwv78Ccf6/Boj/9GWreY/wsC7PvFv/pr3g0wM9XzUJQ3BT5oA9510LpgzJYeW1T7YgiDlSeaB2GIaKQoyvw8dNJ07Bn+W0sLf0LsnhJjs4oAyhBjCsJKw30Qwa7OobCg18Y3qdkA2QoRhQnnCDExqWX1osjiUksSZKEjmouWhFEJIKIkY405QBw0UXdmZ92rZuJuGMGUvJE8UMQxIeViJfgB0X0BxxW6MOHizW5TpwyY1d87p+P4wur12DqDeLYvuuAfx9lw1NGF9sAEALOmn68bdm4b9dT8cbiA+AByCvPjEiDsRBBUEIQBAgrgv5vTz2DR554GjN638T06C28AWFm5KiILf6n9vncdOD5G2/Hezvth47yarieg0I+h0mT12ntukQcdsQRhQx2xJHjHCePn4ntSv/CZAgDYcJ2gE7PRc52kXccIARylgMndGBn/cM3SJChGIGcdFJNgJx/fjdKpfqZZ+R2lntHPZbzxl7bJEgIEaOR006r3bfnnSeyfqb4SUOPHSB7poJihyAIQuDzipngAOclROU+/DPox9njPoK77nwblzhvY6tfheg4EujYJ0TfHgCeEj30Mltx9YSN8JNFn0HfhGnoeOpJFLxikyVPPoLARZmL7ATnwjZsufY17Iz3AABvQWRIAGDDDYF1PxkhLAN2HoimAOFbj+GVNQvRxdYAAGzbQa73HZSi5qU0DyOElgPLdhFaIcaFDG86Lr48YWNc84EYkW13duDlOQvx6HOvoy/v4l3G8G8vh39c9RBeec2H54awHAuOZaPQMRF94fBKejIUI5wzzujRXguBJAeVyqlkpfCR2+paPyaunpxEEDHWOOecHmVbmHM1bvR4McWOaiziBnsDFD8EQRA6pSBEwQMCDvCgD6X+fvj9q4HSB0DpAzy24EAcYK+Lsw6+Gccf8RxwHdDxd1QfRPFGaOOEWfvi1skLgPffR+6dNwEATn4cgs5ZmdvBGIftMPBygDAMsNYvYyOrH6dsOgmrSh3wIwtdsOBbIfzIwtuw8NP5AC9FcAoWeCnClA0jrPznP1BQlLNbGIew2J25HZblALYL13HhVx7Ol3dsWA6wTmjh3s0Pwc2v3IP93vgTSlsvxB/PWYYzzrkZ63ZVZsLyy+B/fhWuVT+rk5ufALtzZuZ2DAZkKEYZ55/fKFpOOEGYDMaAIBALY0I4cV5bPE8IonvvJeFDfPg47zzzfX/88d3VmDHFjuuKuJEZPoofgiCIbERhgCDw0d+3Gn7/apT9teB+Cay3B1Pn74vxG83B+ww4dcqx+P1v/4wfzPs1uq8Q2YMbOufjtPn7oMcbj/HBWriWDXidCDmD7YRwx2+YuR2c+ShFDjgPwFkZpbVrsfURB+Kon1yQ+Tue/+c7WHbwhShYtcyI5XhwJm+c/YJUsB0LNrdh2Q6iSgnWtNlbgnfPwWXj10H3G3/CrLX/xgTej/WsEtaxRc9VmIsQeXkAefBAydB4LrDOpqiNvBh6yFCMAS6/nAQOQbTKFVdQ/BAEQQwG5XI/SmUmzETpA4RBCVHwNibM2h7rLtgVIStjIkJM7Ipw5y474u89c3DmwXfg4Zkb45rZ26Ij9DGdlcAtDxDPtwMPXMBy4E6egf2O/j7uuOaY1HYEjMO1AgRBGQAwYVwX7lh+L+bv8UV4G2wBVJ6TEYW1etYw5BCjOELYtgPLtjBhfBciVq4eY9kOcoWZ2P+z52P5z9Pb4bguPNsBtxy4ToTQDeGzMsZPX4jJG20NFpTx/jrTcNXCw/CFNQ8gKpUwrqOIfKE2UwhnlRrcvBgbUmktclNnYv9jzsbyq9PbMRiQoSAIgiAIgiDaTrn0ARDlUC59AFb6AFb4PjrWmYuP7HIEAIAFERxPiOLpQRm9s6biKzM/BwCY4feJDne3AEBMuRpFEbjL4TgOQruA3MTpmdoRRoH0DHBdG3YYwR6/LoKujRF8sBac+Qi1J29HytNNOQvhuDY81wacQt1xbr6A/IRs7bARwfU8OEzIb9vvx+R1Z2DS/O0BAIETYArvx2uLPoYfvjoBa3/zLCZNKMB1haFgjMN1aw8CzANglR/m5sajc+LwlT2RoSAIgiAIgiDaTrlvNULGEbI+WNEaOMVuzN//JLjFieD+ajiODV55MFzkcRQAcM4RhiFQzAHIgQeyjCcPn4VwKwLa9oroXG/TTO3gnMF2vaqZ8MZNxPhFH4eTyyNiDGHooTZRLRDWZSpC2LaNiHNElgVLm5XDynWhc/35mdoh2uDCdTyErISOCVMxZcEesL08wqAMp5AHD0PkIwer5+6EkPnoGld7djjjSruYuC7SbLj5AiZM3yJTOwaD7HNuEQRBEARBEERGWGkNQl4GwhIiaxy2+tRpmDhtfeRyDIWOInLFAopdHcgVcvAKebieh3yhgGJHB3L5AjzPQ6GjCC+fg+O5KBZz4nOFPHJ5G+O7F2C/o69ObYfjuHC9PBzLglfswpSt9kXXpIlwXQdeIY9cMYdcsYBcsQAvn0e+WIBXEEu+kIeX85ArVrbztcXxcvByDiZMX4D9P5veDtdx4Lo5WJaNXH4cpm+xO7omTUQh76CjqwO5fA7FYgH5nIV8zkKxmEdHZxGFQh6FQh7FYg7FYg6e5yBfzCNfzKNQzCFfcJHPA+tNX4D9j0lvx2BAGQqCIAiCIAii/VgOwHsBAJsv+RImz5iL0pr3YMGCZVuwc6Jf2/OEHA2jqDpGIOQcURQhDEO4lSxGNZsRcli2A2e9mch1TczUFNv2YFs21t32EyiuvyFCvw9WZQ7xSMk6qKVOaqZCtkklikJYto0J02bD65yU7ZoAyHke1pm/GF1Tu8H9foS2KGPK5z2UywFcr16ec8arbWSM1a6XvC5hCMe2MWn9jVHonJy5He2EDAVBEARBEATRfiIOywrwkd2ORveCXVDu6zUfVxH2tiVMRoQIVuQhrDzkzmQyACDfNRnFyenjF1w3D9viWHfRrpg0ezNwFoB7rpgdCbWyJrktztX4nAtpNqS4l2uvYwo61sk4noMFmPSRheiaOgMhK8GyLTjK+I2Ojnx1cHgojU7eA2chGOeJZqOrOBnjp2Sf/aqdkKEgCIIgCIIgBoXpWy3FnN0+g6C0Bo5jA04x/UMALEeMDYg4h+U4iJTsgMxUeIUJmNg9N/W7cl4e6y7aFVO33B1h4MOxASdXGdxseD5ehAxP/+URwki0KTduHUzcIL0dADB51mYYN1uMuQidjCMPZBtt1LU3jMK6rEmuOAnrzsg2nqPdkKEgCIIgCIIg2k7n5A0wacON8fYLj4odUYxQtyzzfon8nOE4t9CZ2g4rV0CU9/DuS3+Kb8MAsN6yUciNA1KMSD8vYbW/Gmte+nPqsS22BLlCEUaXNMiQoSAIgiAIgiDazq++vz2A/x3ks6T38v/o6x8B8OYgtyOdbx8/CcCLw92MQYFmeSIIgiAIgiAIomUoQ0EQBEEQBEG0lbseeG64mwCA2jFUkKEgCIIgCIIg2oY9Y//hbgIAasdQQoaCIAiCIAiCaAuvrnxluJsAgNox1NAYCoIgCIIgCIIgWoYyFARBEARBEERbmDV7o2E9v8wIUDvq2zHYkKEgCIIgCIIg2ka4avmwnFcfq0DtGLqxG2QoCIIgCIIgiLZy5wNDK6LjZlGidgwNNIaCIAiCIAiCIIiWoQwFQRAEQRAEQSicdfnrYK4Pu1jb57EA/3XspsPXqBEMGQqCIAji/7N35+FRVecDx7/33pk7M5nJzGRPCEsCSMImCLKjgoC7UhHrrq21trXutu51q/vPXVu1arG2at2t2rqhuACCCigIhD1sIetsmclsd/n9MVmIQEhCQlDP53nyJDO5M/fckwNz3vueRRAEQWj05V8/Ytni8/A/ESe6FhSXjBSJ4Joxg4Muu4ynbpzS00U84IiAQhAEQRAEQRAajU9sAG5i01NQvRTUxuf7BIMkZDFbYHdEQCEIgiAIgiAIjcLJ1HdLGjhJTTg2ANNqJZZI9GDJDlwioBAEQRAEQRB+8q7/5yb8tTJ/zUwDGkh3gA5YgSQg2e2MOvZY/vC3b3FbLHz1+ee8PedX+3zeky75D6YkoRgahm4iKxIWRQFAUSSsktz8syynvlSrlcdvnb7P5+4qIqAQBEEQBEEQftJeu+xVvvrtxYT7WKn5v2/ZUNiAXgGext8nAOXzz3lj5kwyZ8xgTl0dN50/aJ/Pe84V7zLh+KuocWcRVVMzwDPTbOS67eSkO8ly28j2OMlKt5PldpDjTiMr3UGvLAdV27bwwB23MntKz3fne74EgiAIgiAIwo/eyrI8nr7vHh58+hcAXPFQBVLpYYSsVhRTIsOpkpPuIMeTRna6g2yPgyy3g+z0NAoy0iEZ4fEH7uG8E9xdXrZ3/T4eu+s2Lr4GMjZC/WMQuiSVnYBUhsK6ZAkVS5ZwKXDmcxd2yXn7lxyGt96Po3YbIacHnzcPHNkYSYl41CBuSRC36MTkBDE5SVTWaJAShGSNkv59+fszz1BVvYNrrrmBnx9p3fsJu4mYWSIIgiAIgiB0u2F9CnhASt3LPuF3LzOg9zD6h+ooCodItzmwZ+Zjy87D7s3ClZ2LJyef7Lx88nv1IrdXAWPHjeSll15k+JRr+ef/Ql1atqefu5CS5y7kuHtg01GQfjEU1oGnX2oehReYC4yn64KJM654j/TepYRlHd2i4I4EKdq+Fsfa5UjhEF6HHadqIU1RcCgyNkXGClgwMXWd+voYAHm5BTw75+8cccoD3Pv3NV1Sto4SGQpBEARBEAShy51z+ascc/yJRGNx6k2TG36ex0hD54/n/g3PhFNpcDghEsQV9pEWqiNS7SR/3Hj6OjPwWCxkypBmgCWhY0ajBGrA6nXSp08xL774Itu3b2XUqDHMuW9mh8t2+mXvkH/4uYQahxkppoEzTcX89f1cHbJy5cQXmPDXRdguBumPsOaSP5KceTL31vu568F7ue6Cfd+PovCQ6SSsFoykBWwWrBYNSdPQaioZVzqcIwcNxTR1bDYLVpuJarWiWmUsOljiCjHTpDbegKqquN0WnGlOZFnZ53J1hggoBEEQBEEQhC7Xp08fnik5iG1PPoXscmL+YTGRZJzbgdqMPFbZbWQmVZIWC0YshiOR4MR+pWTnpKNYZKxWGZsNLLIVWwK0iIRPb8Bmt+D12tiyZSv19Z3LVJSWTCZfUfGjUOPJRXO5yfKkke1SkTxunjYPY8eD/2LU5vdY+eQ9mDOPZoxdYoBH4Xczj2PpkiVcftVVnQ4sZv/xQ4accAkNDWFkqwXZNDBkK5pp4MzJY9jQQ4nGksiyDoApSUASSVYBCVnRkWUFRTHQZQ2w8O57H7BwwQL4xcBOlWlfiCFPgiAIgiAIQreoLFvLlq2bqVq9iviWckAmB/jzh69C3CBoTyOhWggqMkMPHo3dmU4gEqc+GqUhodGQ0IgnNBKaiaZrJJOgyKn74RdddAmvPnlOh8t0+mXv4O49mEgyij1QSZ/Ny8nf9C1S9TYS0RDWSB02NchXp57P6396k7qxo7DV7iDpq6PWVw/AqNGj+eyTTyg8+CIeeX4zJ/7ymQ6VIfvQE0hYFJIWmaTVimZR0RSFMCYjSkfiUG00xDSSmk7SNEigkpQtJA0TzZQwdAPD0NE0CcWSqo9rr72W1586r8P10RVEQCEIgiAIgiB0CwMVA5CxomBBRiaJzLDDKrl0w/uE7E4isoLd7WVE8XDCkQaSSRNNM9A0DU0z0TQdTQMtaaDrBi6Xwptv/I87rjy0U2XqPWIGcauVmMVCzJFGUrXhaKiH75YxLT2TUwYO4bjsvkxPS2e8w8kQXaYAB05DhaiMzxcjEkltVnHwwSO44YbrO3T+2X/8kLTig4lrELeqxC1W4laZiEUmzZPJ8L5DaIhH0VBIpGUT9WRjhmPom0PE9Cw0NQNdtqNpOrpuku6y8Pob/+Wuq8Z0qj66gggoBEEQBEEQhG5h7w3pvcA+HOQcCKNgfRZ4EXbY3cQVhZDFZHifEtIUJ9FEgmTSQNMgqRloSRNdN0gmNTTNQJYV4nG46aaOdeKbzL7qXZzFw4mhE7dYSFqtJFUVn2Iht08/hvYrwSOrOGQrVklGkSQUQ0Y2ZIykSTKuE4umvpKNe9xddNHvO7QfReaYE5ExMM3UUCVDUUlaHIQkmRF9SnG5cog7ctAVC9Zl8ym69deMP2EwEz4eSOHXx6J//BLxkIaS5cWe6SKhw6233NCp+ugqYg6FIAiCIAiC0OUMzaDXXQq97gLQiT5lUPMPA/k8g/9OK+WJXtNR9QhOm4sx+QOJxhNIhokia2iaBSVpoCkGmiYhyxqapuB0pvHq629x99XjOlWmnDHHkbBaICGBasXQdWTdIG5VGH1w6j1DDXFUVcZMKsiKlHphAkBBsZgohoGhS1hVePPNt7nn6ontPv/sP35I0anXokdjjc+Yqbc3DFx2Dwdn9mP7gv+hfPUOed++T7YWIQOIA0YCCia+j/nv9/n096CNPZIRl17Jd9EId/2hc/XRVUSGQhAEQRAEQehyG8s3cengN/hLf7hzoMGSOZPoe6NBzY0yN2qnYfGYGMkYY3KKyVDTSCTjJJNSaohT0kDTTJKaRjIBmgY0ZifuvPOmTpUnlZ0YQQydhFVFVywkVBshySQnp5D+2cXURxrQdRNdNzF0SCb0xscGJia6ZqBrJharHYDrr7223ec/4fw5ZI45EaAxO9EipicZm9uPIrfOYQdVMuPcCQy75JdEgEoUNmKheo2V6ldg40tDmTTn3xx6zkx6OWJ8+va/OlUfXUlkKARBEARBEIQu9/LjZ7Z6XG07l4Z/TOPG8pPYfHA+6Uk/dquD8bn9iRkJTNPA0HWSmoxF0VA0GYsmoSlJFM1Kmt3F2/95nfuu7Xx2AsnE1JLoMuiyjGmaxC0KY/oNAyCR1EECRYFkUkdWFLSkgaJIJBIGEhKy1cDllHnhxTe4/8bJ7T6/PbeYjJLxJMO+xmckwCRhGHisdsbk9CYop2OO+COJHRtJPHE6FiCKhA0Y9aGMnAZfvx8lMuk0+hbBxx8u4rTZBZ2qj64kMhSCIAiCIAhCtyt7/x88+04Orx90KNlpKoYsM6FXCTlpHgzJgtVqwyIrYKiYWJFMC6apImFBtTjRNJMHHrq5U+duyk4k47FWz8fNJL28OZRm9iLSEG2cDJ7Kjui62fjdINk4IVzTQUYlHDG4/dYbO1QGLeyj7pu5IMlYnR4kJbVnRExPMi6vH16bnUjSZNXLc/jsnBLKVi+jEliPRtYVGnJaHAB/aCOV85cSqICbrvptp+qjq4kMhSAIgiAIgtDtRk6RYMpx/IMNnPXghxQechRjcwcQNTRMjKYb9qAnSSYtjVkKhaRmgiTz3/+9zgM3tn++QpMTzp9Dn6POB8lE0pPNz5umiW6YTM4bhCzJJLUEJGUsFhldM9EtBromkZQkFMVsHPqk43Km8fobL3coOwHw5mOzAJj5uxvIGnMc3tJJmKqDLIeLwwpLMK0OLLWbcX9yL7HcDNIdbjRJJhk12bgcas+CpGESioYosRrM/fgD7r++Z+dONBEBhSAIgiAIgrBfPX9Ff2A9p104nriWbPU7ExMTGblxwjKARbXy6hNndepcjtx+uAdPIFFf1+r5Bj1BH1cWQzJ7EdWTmGYqgEitJiWhaKlAwpR1rLpEMinhcKhEG3TuuecWHr7psE6V5z+PnwqkAgvPoccyfeyJkIhRWx8kvzCLM778GsOa1hxfAegx0BMSkgyH2zQ2b47y8Fm/576rR3aqDF1NBBSCIAiCIAhCj3jpb50LEjpCiwTxffcZ7v4jkFQ7eiKG0bjma1N2wjBSQY1hGGjJVMddlkCSJByKQkLTkSUJh8PDf95+qdPBxM6aAguYB8yjsPHR/Lfa9/oDJZgAMYdCEARBEARB+BF749GTeeosCxufvw3/6i+QFQs4nAzI6sfIgkFY7Sp2uwuHIx273YVFcaBanFhVJw7VjsWShs3qJM3lQUvCo4/d3tOXdMARGQpBEARBEAThR++Nx04B4OSLb8N96FEceegsfL6tNCTjuxyrKApWu4LdKmO1KlhtMh53OkuWzuuS7MSPjQgoBEEQBEEQhJ+MpsACPuzYCyMwvqTLi/OjIIY8CYIgCIIgCILQaSKgEARBEARBEASh00RAIQiCIAiCIAhCp4k5FIIgCIIgCEKXem/e6p4uAiDKsb+IgEIQBEEQBEHoMnKfE3u6CIAox/4kAgpBEARBEAShS5Rv2tjTRQBEOfY3MYdCEARBEARBEIROEwGFIAiCIAiCIAidJgIKQRAEQRAEQRA6TcyhEARBEARBEPbohRdf7OkiCAc4EVAIgiAIgiAIe3Tdddf3dBGE/eSuu+7s1OtEQCEIgiAIgiDs0ebyTT1dBOEAJ+ZQCIIgCIIgCILQaSJDIQiCIAiCIHSImFfxw3fmGWd02XuJgEIQBEEQBEHoMDG34oetK4eyiYBCEARBEARB6BQxv+KH54UXX+zyYFDMoRAEQRAEQRAEodNEhkIQBEEQBEEQBADGjB3X4deIDIUgCIIgCIIgCAB89eViIDWc7ftfe9qnQgQUgiAIgiAIwg/epMmHsXzFinYde+iYsaxZu7bb3v/HoF9R8S7PTZ82bbfHioBCEARBEARB+EE46uijeePNN3f7uyuvvILehYVdcp7xEybuEjx05fsf6JqyFDtra6lgMYdCEARBEARB+ME7ZdasH/T7H4j6FRU3r+S1p+wEiAyFIAiCIAiC8COw85Ck5StWcPTRx3DwiJGc/6tfcc2113LPPfe2On7JkiVMn3EUpYOHcPEll6JpGgA3/ulP1NTUcMEFv2bS5MN47fXXd3n/Q8eM5fEnnuCU2ady+BFTWr2+Ped/9933eOutt7u1PvbVzlmKvW1kKAIKQRAEQRAE4UdD0zR+c+FvOPOsM1n+7Tf8/qLf8/bb7+xy3LvvvscrL7/Egvmfs2rVKt54IzWU6vY//5mcnByefvopFsz/fI+ZiVWrVvPyS/9m3scfsXXr1ubXt+f8n8+fz8fzPu7iK+8eL7z4YpvZCRBDngRBEARBEIQfkaVLl2KYJuedey4Ao0ePYsoRR+xy3EW/+y0ZGRkAHH30UaxatapD5znv3HNRFAWAyZMnNb++Pee/847bO3ZRPWR3cyl2RwQUgiAIgiAIwo9GbV0debm5rZ7LLyjY5bjMrKzmn9PS0ggGQx06T7o7vflnu92O3x/o0PkPVN/fh6I9+1JIs+/+0Jw1aSDD3KlKGH7wyG4pnCAIgiAIgiAIP3wrln8DwHchL68vWL/7DMWeNq0QBEH4sbnuuuubV7CAlnW3d36uqLj/fi/Xgax808bmn0V9CR0l2k/H7Fxf+9sLL764y/+RgvDCiy9ywvHHtXpuj0Oerr/+hm4vkCAIQk8xTXOPN0/uuutOzjzjjFbPlZY+uT+KtUdlZb8BUuXuSZIk7fLc7urryezs/VWk3fpNbS1w4NTXgVKOA6Ud72y3/96eLN1fRdqtst+UAQfO300QDnRtzqEwth7Yy1n9mMh9TgREnXfWT7X+fqrXva+a6q2jdtcZ2h+ee87k3HNbzt1TnYw777yjQ8c3der3N/Phh/nNZZc1Pz5Q6kuSe6gcd7QuR+/eFzJ3rsT06eZ+/f79drw3TZ36/e2wisNanftAaT89SWSNhJ3trm3udVL2Q3+5agAAIABJREFUu/NER6W7vTdvdavHos475qdafz/V695X36+37uDsNYzM0mlIFoW67z4gUvFdt5/zp8DlshAOa3s/8CckPSOdeDROIpZo92t6IpiYPn3/3el3OGSiUWO/ne+n4kC5cfVju5H2Q7uePd2QE6s8CYIgdKHMwUdRdMxNOHuV0GtANjXr1rPkyV8S3Di/p4v2gyeCiRa9+vQiURInf3wh3ho3y55fRiQcaddreyKYmDtX4txz909QIYKJ7tPTN65+bDfSfmjX09YNORFQCIIgdBHF7iFnxOlo8SgNNVsI2+JIrgIGTj2FTYGF+HzGbo4/hsyBM8Cm4lv5X6qXvo2RbOiS8rhcMuPHp+F2G2zfrlFba1JVpQMQDv8wOl1ZWTL9+1tIT5eprzfYuFGjrq5nyl5YaCE/XyYYhPXr258R6GquoS5yz8plq2s9ZfIKBuSXcMIvjueNp99sV6aiu4KGjz9Ofc/MlJk+3cTn238ZCodDprBQoajISn5+aohSIGBSXp5kwwZ9vwcZWVkyI0bYsNutLF4c7rE2Kwj7iwgoBEEQuojF4Sa7MBOzfjWB7WnUyCOx2ys4ceRHeIZlEg5bqKhoYMeOJJWVUJf1azJG/RrF5qDvgAL0qbNYPOcGtn788D6XxeWSOe88J1dc4WLJEp1QKLX5UjCYJBo1qaxMsGOH3hxo+P0GPp++z+ftKkceaWfmTBdDhqrk5Zo07j1FNAqLFyd54okQCxZ0f6d+9GiVkhIVr1cmK8vKuHGpgGLDBoOysjiffhpj+/b9kzlR7Sruyek0TIyx3LocKoEMia3SFgY7SrBarCTYe510ZybiuusU7rrL4LbbFG66ySQS6d4MRU6OzAknpHHkkWnk5Sn06iVht5u43anfx+MSW7ZovP12jGeeCVNT0z0de5dL4aCDFEaPtjN8uEqvXlby8lKBTTDoYs0anbKyKEuW6KxbFyMcPnD+rQlCVxABhSAIQhex4eO40ucYV7qW+14/i6ArF4ME3yQvJ1PdiIfXGTDgW0qHuwhbh/P+9p8TqN4CwHYSeDO95Aw9gR1f/BMt6ut0OVwumQsvdHLRRS6WLZNYtEhh69Y4DrtMdo6VrCwoLrYxeDDYbCaYOvF4qoPz8bwor7/eNRmSzsjKkrn++kyOOEIl0jiCJ5GQ8PtTQYXHA7Nm2Zg1K4dHHw1z++2RbhsKNW2ak9NPTycQ0FP1BOi6gs2mM2SIzCmnOPm//3Pz8MNh7r23YxtidZRqV8k7Po+GI/zEgg3IS0GLZmBx+IkNifK59WOi6VEI7/29uiuYuOwyhbvu0ikrk7jpJpNbblG45RaTefO6J0Mxa1Ya55/vIT9fwuczsdslYjGA1He73cRmg6FDrRx6qJXf/97FTTeFmDOnHZXUAYMHq9x2W1ZzAAEQi5nEYiYZGRIOB+TnKxxxhAu/3yQe93DHHXUsWhTv0nIIQk8SAYUgCEIXcDolrrpc4bQp8/noq4FE4h70eBTFppBwTSCeO43V+gQ21HyGbo4EWz8UJYiHr6mr0wjEQ4Qq3BjxfeuYulwy11yTzhlnpDHvY52lywySSStffBEiGEzdnfV4ZDIyrHi9Cvn5Kl6vwtFH2zjiCHB7ZD74INYjQ6JcLgsPPeRl8GCVigqzsaytV9hJJFqGa111lYuMDCu/+U3XryZ12GEO8vIkXOkmy5bFCQQMXnghzOjRKtOm2fnLXyKMH29n4kQ7N9yQTjgMf/1r9wUV7snpNBzhJyhHkPIHoh1yLOQdj7Z8EfKq5/F712EcA9a3rCTrkm2+V3cEE9XVEg8/bFJfL1FaarJggcQtt5hMmiQDXZ+huPZaN7Nnu/D5TCorTVQVFEWjqVuTCiZSbSeRMEgkwGaDJ57wMGyYhauuCnRJOXYOJoLB1HNNwafdLuF0algsFuLxlvJ5PPDoo1mce24tq1f33NA5QehKIqAQBEHoBEfOQeQcciKu3iNJhCo4cfhbnHXmeuYtLuAfC88j6Z1IIlCJRgKMOIqRR8zoQ9h+NA1bNhGLfMy4vl9x4QWf8NSL/Xjvi8HYs/oQ2VHW6exEUzDxi184ee9djVtu9XHIIWnk51ux2yW2b091xMNho9UwnTPPdHHIIRbWrpVYuEDukvrpjGuvdbcKJhIJSCTB2fh7RfHgdmeg63XEYvVUVhqcfbaNlSvTeeSR+i4rx7RpTkpKFAIBg88/i/LpJ0lWroridKaGjc2cmY3LZcXhkPF4TLZt07jySifV1Qavvtq1d78B1GE2fEf4kGUwcsdjHP4oZJSAxQmjZmCUz4JNz2F3P8io7DGU/b0MX92e21BXBREffZT6Hg5L5OaaXHKJwqOPmqxdKzFpksmf/qTw5z8bXT6H4tpr3Zx9tqu5nTSJRBRAw27fc9cmGDS4+OJUi9rXoGLwYJV7783GZjMJBlsCiSaxWMtjmw00DYqKQNcTgMpzz2Vz4YVBli1r32R6QTiQiYBCEAShg2wZfRhw0t2kF48hp3ceDreKT5vFs0veZcnmYaj9R5BGA5U1m4gEakjEoiSSFkw9QbRqLTF/JaX533HJzHcA2FFTQsy/g8iOlTRUL+1UmTIzFW671cvMn9n4z5tx7ro7yPbtGoMHG9hsEg6HBdj1zvW4cSpXXeUkkYBPPjGp3cvd7e4yaZLKYYfZWwUT0SioqolqlQAJh6M/TucUNG0xodBCAHw+gwsucPHaaw1s377v49IHDlQ5//w0Vq5L8te/hhg4UGXy5DQys+CkkzxEo0mWLYvicFiZM6cOgE8+sXHaaS4uvtjFqlVxVq3qujrM6Z2L5zQv67PXQtaEVDCRM6r1QUVDwXka2o638NXXoDja/mjvqmBi2jSTK65QePBBk0svVXjkEZ0//EHhvvuahjvpLFjQtXMozj7byezZrlbtJDXMCVQVdN3SONwJFMVJeroT0IhG65rfY+tWg1/9ysmyZUn+9a/OdeaHDMnmoYesQKoc3w8mvk/TNFwuC1arBKjNc4L+9jcPF16YZNkykakQfth67lbUD1BFVYiLrn+VU3/zLG9/uLKni9Nhv7zyBdZtqunpYvwk/ZDrfueyn3XJP9m8rfNj+3f2zIuLmPPyl11Srv0ta+ix2LKKiNdtoaG2Cj0SYdP2PBZtO5n6qJvghsVsX/4FyUiAhqoNWNO82NyZSIqKt3gEh0wby6XnLMdq1fnH3KPZnvYbhpREMX2fkqyv7HB5MjMVrr8+g5k/s7FwocZf/jUQis8lY+jxhBOp2alpabv+dz9kiMqdd3rweGSeeUajrg4cdhlV3T8beTlRKMVGKTaOPdZFItmYlUhAIADxOASDEAyaRCJQVxckkSgnEqknGgW/P/Vlt8PRR6d1+PwuZPqjMBwbx5PO+WRy9kgXdqfC8rcSZGWmOuaTJtkZMMDGk0/6uOeeANdcU000mmTVqiSbNxt4vTKKorN2rcYJJzi6tI7MUp0KxzYUKQ1jxKW7BhNNckZB/5Mpr95EIOpv8z27IkMxbZrJH/6g8OCDOv36yTzyiM64cQr33aeTni5xyy068+enMhVdlaHIyZE5/XQ3Pt+uwUQslnoM0NAAsZgLt7s3LtcMnM7xOBxZxOMS8biEzSZRX29y+eUeCgo6fl/V5VJ46KFU1i8eb/m3srufIxFL81AoVU2QTLbUQ9OcoHvuycLlUjpcDuHA8kP4nO/OMnZrhuLaO99m45Y6nn/sHKyWln8s5172PH+6/CgOKs7pztPv1UXXvcKpJ45k6sSD2nX8Wx+sYNSw3lxw5vhuLlnHXXTdK2ze7keSwGFX6dPLy5QJAzlh+lDkxt1Zz551KLnZ6W2+z4Hyt+kpe2qzP1Zd1W5+atIy+qD7txKNhNDiUfzVmXhsdcwafD8xb5ytNjs7goX4zYPZGpaRjDhaPIpic2DLyCTmLmRp+BfEl8/j8y2nYVGgIH0jq6Rop8ozZIgFj8fKp58CWLj6yiTJdIWqxBTCO/qgbHub3NzW7bmw0MLNN3sZNMjCE09EmDMnzGmnZex75bRDb6zMIJ3B2MkAHJg4Fkr4DjFJRFOBRGynqkh1yEwSyU3U11cDoOstnbdEAoYOtQHtH/bkQuYoPHiRsCPhRCIHK0UxUCpg0mYXUyfAV84Yzz2X6hGuX58KMup8GmVlca68MgOnU2bDhjj33BPmpps8zR3cfZVXnEd4YD3xKXES9ihGn5OhcEbbL8oZjaJm0Luvm/V1G/Z4WFcsDet0ytx3n4HHI7N5s8HEiTILFxr87GcKb77ZPftQnHqqC1VtCRxiMTBNg1isqW2bqGrTOSJIkh3IRZJyUdW1gI943Gx8rUReHpx8clqH576MHasydqzMl18aQFOQYjYPfWoqSywGBQUQj0dJT59OerpGJPIBkuQBUkOf4nEVu11i2DALixb9OFd+avqc2dlDt5683/sZF133Clsq/Pz9/jPJzXY1P3/17W+xcm0lj95+Cv37ZnX6/ffXZ+Xu6nPMyL7ccuUxe33tzmXs6v5etwUUVbX1rNlQTXaWi8VLNzN57A9/2/ZaX4QxI/r2dDH26MoLpzBlwkAaYklWra3k6Re+YOXaSq67eDoA0yYP6uESHth+jG22PQ7EdqPrBopy4CZQo/4dqN7+1G8rI+avQHUXUJC1iIq1G/G6wgzO1RjT/1tQP6N+dA7vbDyYyoZUTyMtO408bwbzNp9LpGoikiNGWngxFr3zE4sDAZlvvpFIc9sxFC8Z9h3Y7W+Q75ZxZ4KcbaG0xMbIkdls3Bhjy5Ykp5/mYupUC/95U+Pxx8MkEvtn07HjcHEMbnbud0eR4H8m8mQLsT4G8ahBNAa6BtFY6k5uMAiJhEm0IYwjLRVMqNbUHAvVCi7X7s+3O5mNmZEBKNRhsJkEX9BAKTauz8/gnS/rKb3YgT7XZMB/Vd4hzM/O97B0aYI6n8bwUU7y861MnGjhssv8bN+uUVhooaEBevWSKCxMY/v2zq+UVXRQMX0v6MvX8hdE/BoYQDFgte35RVoEbeVrOLZGqa5se/Wgfc1QDB4ss3q10TisyWD6dJm5cw2uvVbh7rv15lWdunKnbIdDZsIEO9CSlTBNg0BA2ekYCIXA7QafD1S1mry8ZdjtCfz+IPG4SSyWWlYWUm1q6lQHc+aEO7RPxZQpXpJJs1VGAqC+PoHfn/obZWQ0BS5gt3vJzT0aVc0HoKFhMdEoxGIqiqLhcFgYNsz2o1716fILjuCICQObH/fUDbteeR7mLVzHaScdAkBldYhaXwSLZd8/b/bnZ+X367PpBuDedGcZuy2g+Hj+OkYOLaRkQC5z569t7pz99R/z8QcbuO3B97FYZM6edSjTJg9i8zYfj82Zz8YttbjT7Zz5s9HMOLwESA2zOPNno/nP+yuo80c4duoQZh4zjPsen8faTTUMOSiPGy87CofdCsCclxbzwWdr0HWDdJedq393JCUDcvda5rMu+ScnHz2cRcs24w9GGVScw1W/nYpFkXngb5+wZMU2vltTyb/fWsrtVx+Ppul7LHNPkGUJRZFJd9oYd0g/CvM9/PbaV1i7sYZB/XP45ZUvcP0lMzioOGe3dfTR/LW7/dv845Uv+Wj+OsKROLnZLi48ayKjhvfea50BVNeGefy5+awo24EsS4wfVcSVF04BUgHaX579nO/WVKKqCifNGNb8j7wn7KnNwt6vc92mGh586lNqfWGGDMonw5OGO93OL38+dpfzHGjX3ZF2A7B6XRV3PTaXqtow4w/p16oe2rq2DeW1PPDUJ9TUta6jJmdd8k9mHjWchV9vIp7QePyuU9tsez2pduXbqJ5iMJLUb/kOybqR73JySRb8BVtgHc6aVbiMMry2Sqx2jUjcSzxQiZGMUmXEiYYbiJsOJEcuLrcVd3gDjqSCK13F5+v4LW6/P0k8nsQi9eG7hl8TL19OusdCjjeM09iIR96Iy2GSny/Rr58Vt1tn0CA7CxcmuPsePz6fjsuV+hva7BIOR/cMeToOFyfjxg8kMFGRiAJNg4SUf0tIlxqEw5DUJKLRlk6ow57KXNhsNAc/TXerVRXC4dQqUXtbQtaFzCGkYQfWEWcDCVaQ6sjlDLAQWWzDVZDAUipTszTJCFnlHCOdb5YnmXpkGo6kRO4AhZdequerr6wcMsrB9u31nHZaamL46aenk5+vsX175+upfmCIr5WvaFiZxFahIhdKJPJXoNcug/zJu3/R8oXI85cyuc9ktuVtZ8WOFXt8/33JTJxyisJrrxksXpxaxenRRy1cconB1VengomFCyWmTu26DIXDIRONGgwYoNC/P1RU7JyRSH1vmvzs90vY7ZCa12BSXl5BOFyPqpokEhKG0dSupeagJC9PobBQYf369gcU48dDZaUNiGOzmc1DqTZtsuy0/0VqhTJNC5ObOxNV7UcisRmfz0I02rIalcWS+j58uNrhuvkhsVhkVGvPZ/2nTjqIjxe0BBQfLVjH1EkH8dp/v20+Zk+fOzuqQ1x+8xvcec3xDCjKxudv4Pc3vsr1F09n+OBeu3xWdqc91Wd7y/jhZ2t229/bpzLt06vb8NH8tZx58mhKBuTywptLCQSjeD0OLjpvMouWbm6VZtF0g1sfeJ+jp5Ry740nsm5TLdff/Q6FBR6GHJSK6BctKefBW06mPhzj8pvfYPX6Kq749RFkZTi5+b53+e9Hq5h9/AjK1lfx2eINPHH3z/Gk26n1RZA68Nm4YUsd995wEgBX3fYf5i1Yx4zDS7jywilEGhKMHdmXo6eUoukGF/7xpTbL3NN6F3gp6p3ByrU7GNS/pYHvqY5297cBGFiUw6zjRuBKs/HxgrXc/Ze5/PORs7GpqeazpzozDJOb73+XUcN7c93F05EVmfWNY/dM0+SWB95j9MF9uOHSowjVx7iusf4mj+mZzMCe2myTPV2nphvc/vAHzD5+JCfOGMrqdVXceO9/OWHGsF3OcSBe9/ftqd00WfDVJv7vxpPQDZNr7ni7uR7aurbxo4r488Mf8LOjhzPz6OF8t2YHN933Licd1bqO1m6s5r6bZqLIqc7t3tpeT4n7t7Lts/tJ730w+VkGaU4bDd5h1PjSSO93FkFAD23HDK7DrmuYaYXEA0tIRgIkIwGigRok2YLdncHBkw6hYsfxRKOLcXj+DXS8JxoMGsRjJs5EasjPph25ZNgPpt47ESNYTmbtkxyc9T9MM0Y8LmGYNr5drrP82wY2bEhNIA6HDcL1YGtjhZx9UYqNY3YKJlL9ORN7Y1CRk51Jqd6fb77dxoa8CpIBBZCIxlPHxRwS9pjZHFgA2GxJ4nErNhvs2CG1az+K6TjphcpzpIYMHIGTBiyMx05BVIU0KLGpfPBJPfEREr5FSXq7bVjSTRwjFd55rY5X3kvidCp8/nmU2bNdnHmmi2+/TVBWZhIIQGWlBdqxwdz3DTxkAAyFqsFVxMwYOVoWnmgGSi2s+XADpD8Hp+4moKicD6//EXnZBtZpJjvWV7R5ns5mJn75S4U5c3QiEYlx40wWL5a45BKT4cNl7r3XYMGC1nMmuiJD0ZQ5KCpK3TDcOSMBTfs9NH3Im0BqAr9p6jgcMrW1qX8TdntLR6ChoeW1Te+9fn37JtIXFFgoKGi5EdKUpQgGTRoaZEwzFfSmFhGI4/UOJSfnCKqrX6e6+j3i8QButwO7nebJ45qmMXiwlYICCzt27J9NEn+q+vTyYrdZWLuxmkH9c5m3YB23/eHYVgHFnj53CnLd/PK0cfzfEx/z8G2zePCpT5g+eRDDB/fqwStqrb1l3FN/b190y5iClWsrqfVFmu929u3l5ZMv1u/x+DXrq4nGk/z8xJFIksSg/jlMnXgQn37RMgb0lONH4ExTyc91M7SkgBFDetG7wIvDbmXSmGI2bUmt4GBTLcTjGuVbfWi6QXamk6wM555OvYsTZ6TGjsuyxCHDCtm4pW63x7WnzAcCj9tBONL6g62jdTRpTDHpThuSlEqXuV12yre2TMzdU52t2VCNP9DA+aeNQ1UtWBSZ0oF5AKzdWENVTT3nzR6DxSKTmZHGCdOHsODLTd1QC3vXnja7p+ssW1+FYZqcOGMoAIMPyuPQg3c/NO5Au+492V27aXLqiSNJd9nxuh1MGF3UXA9tXdua9dUkkzozjx6OJMHw0gJGDds103DSUcOwKHLzTYC9tb2elKyvxLf6Aw7uvYyxA78lQ/mOyI611G/+DknTkBy5yPmTqLcMJ9zYKYrVbaV+ywpCm78luGkJ4e1r2LhqI/XBBkLeWQw852X6HHlZh8sSDhtEYwaJSDXx6uVY0rwAmMkYsqeI2LDbqOl3JxkFvenXV6a4X5LqKoMMr8q4cSqFhZbmDEV3mUE6MVqCiZ2/ANzZuZTMmMKw9YOgyiQaB58fQkGTykqJYKBxEnZAorYm9XNlpbXxO6xZs/cOoQuZodj4hpYJGv1QKcHGUleUx4PVxH8RxoyafF0VxuwjET9SJXCkhHULzH8+jGJXW71fLC7Re4CLjz6KMG2ag5UrY50a7qQOs1E1u4qqwVVEjNTKQ5HiKDXxOnZ8VUVJbACutz+FV+6DDV9D1AfVm+CjZ+Duy5A+X45WbrD+s3VEwm2vXNSZpWG//FJizhydW2+14HSafPVVKqiYO1dixYrU0rBtBRNz53Yu6+VwpNplTo6MzWYhIyOz+XeBQGouRNMmci0/QyymEI0ahEKpYVAtx7R8NS0A0BHjxlnp0ydBeXnL8CSbzcTnS11fNGoSCKTmUvh8Ci5XbzZufJStW/9NLBbHZvOm5gjFUoFEU6bEbpcYPNjaqTr6IfjLs/M5/aLnOP2i57j69rd6tCzTJg/i4wXrWLm2Eo/bTq98T6vft/W5c8yUUnrlebjiljfxBRs499QxPXEJrerz9Iue48X/tKwO2FNl7JZbUR/NX8uo4b1xpqX+4z1s3ADmzl/Lz44Zvtvj/aEGsjOcSDulEnKzXazf1DKmOGOnO8WqVSHD07Kih9WqkNRSk5mK+2Zx7uwxPPPvRVRUBjl0RB9+e84kvO72rbzhdLR8WKhWhVD97ocftKfMB4JgKEq6s/W4247W0bvzVvPfj1YRqo+hKBI+fwPRWMuH957qzBdoICfLtdux8LW+CMmkzu+ue6X5uaSm79OEqH3Rnja7p+sMhKJkeVsHZNmZuw/QDrTr3pPdtZsmnp2GKdltFsKR1AdrW9fmDzWQm+1qlS3Mz9l18trO7w17b3sHgnA4QVamglv1EbIXkIzWE/HtwObOxumQqK9cTah6C1anF2QrsbotxPw7sDpTYyOq16cjKVbMrHRKx08gGM+jdsX/iNas61A5AoEEXq+DbHctsbzTMGWVZCSI1Qn5BxVQHTuHD8q95IRfYUDeBizKRopKrcw4ykM8JlFZpeNwqJSVma3u5naF3ljpg0qocYnNpv9Vm7IUCaC8sorP588jvqWWnAoLNUeYBIMS0Whqp+Fk0sTtkQiGwGGTUBuX6Uw03iFuz7KbxVjxYCWISQkO8rDxKQ3YkVkdTgUBS/xRZhS5OaXSSzTXpMzXQNWbMjMkF++bOuoEC+5MGQtWjjzWxTffhChbbTBtmpOkaWXt8o7fie9zSh/qxlcRiUWQV4FcJaP1M4j1byD3pCw8b2Xi21DLwH65rH/qLuI5j6MVpsZPpy1fQN/MYirCGQQ3tr26U5OOLg3785+nNqfr3Vvm5psNbr5Z4dZbTb7+umMZjs7YeW6D3e7E47ECmWza5GvOMDR10FNzJFJ3/e12E7s9lc3wenVCoV0/h0yzc5s3Nq3UFAyazdmIQMCksrL1MT6fhWDwM4qLNdLT7aQyKLHG1wIojZkKhR07wO8/cOeN7avzTh3DhNHFAM1DZHvK4eMHcPENrxGNJTly0q7DfPb2uXP0lFJue/B9Ljn/8B6bC7JzfQKkOVoHoz1Rxi4PKBIJjc8Xb8QwDM665J8AJJM6kYYEm7bUUdw3a5chSBnuNGr9EUzTbO6g19SFWw036Yhjpg7mmKmDqQ/HePCpT3nprWX85uyJ+3Rd39fVZe4OFZVByrf5GVqy6xCsPdXR9/82m7f7efblL7n/ppn0Lkjd9fz11S+16/xZGWnU+CIYhrnLhKEMrwN3up0n7v55h4akdYf2tNm2eN0O6gKt7wjW+iLk57l3OfZAuu49aavdtKWta1u5ppJAqPUKRoFQlOysPc+k3Ze2tz/V1mr06wuZ+VlUG6m5WvFAJZIRx2Z6CNdtJ1FfhdXhorjIxJG5Dhy9WF9bRLRuC8lICEW1kwgVYSgeNFNFTc/rcEARCplYFJmsTJltUZAVmah/B3qigUitlbjmIKxMIpg9lfSM14FrKC/X+OSTKEVF6eTnG0yYkJpnMW9e19bRwaSC09aBRGsVAT+1Xy/FDliqwVskUec0iTcuHxuNSgQiEl6nQQiwWiWSSROrFTZtjLNt296zAsOx8SlhRpJGJQkWEcSHznQycREljEH5ixINgw1yGlReXuRDUdOwegwSQSjCQllA48jDcqnaHuaLLxrYvj0BJDh4eD4hn8Sm8o5lJwaePQD/2CoarAmyI3BcHYxcbzKvRuKjqEn1obXIY1V8c/z4NvvJ7JeBFycWvZrtW7eT8Ks4Iw6iZe3fT6EjQcBNNyncdpvB7NkKr75qoGkSt95qctVVCvff37FhU/uyylNql/cIvXoNwGbTKC8PE4/Hd1o2VqJpZaWWoU+p8wUCSuPcihap41IdrabsQnssXpzE708t99q0olMsZuL1SlRWNp1PoqYmNY9jzRoZ07Th8aQmau/8uqbX+v0SVVUmW7Z0bpW3HwKX07bHG237m9ftYGBxNp8t2sCvz5zQ6nd7+9yJxpL87fkvOOqIUp5/4+vmbMb+1lZ9treMXd0H6fIw8Ysl5ciyxBN3/5zHbj+Fx24/hSfv+TlDS/L5aH7qAzLdaaOqpmV5v5KBudhUC6/+91tM02QyjOxuAAAUVklEQVR9eS3zFq7n8PEDOnz+Ldv9rN1Yg2maOOwqNpsF0+z61Uu6ssxdxTBMdN0gHInz1TdbuOWB95g0pniX8XFt1dH3/zbRaBJVVZqXGVv23TYqKoO0R8mAXDI8Dp59+UsSSR1NNyhbXwXA4IF5pLtsPP/61yQSqTGj2yuDPbKGc3vabFtKB+YhIfHO3NTeJGXrq1iyYutujz2QrrtJe9vN3rR1bSUDczEN+OrbLUBqRa0vv9nS5vvtS9vbnwKBVHbUQSU2u4pDNYj7thLcsgp/RTlp+YPIGDQZ1VtAcbGFg/uXU9w7RFr+YBTVSY7lOyaVfIlev5m6tV/hK5tPzL+5w+Woq0ug6QaqXonqsGG1mMTrNhOuWMP6pSuo2bCGaPUmrGaEjNx8FItCPGYyd26Yp5/eQUVFnKIiCPjjVFV1/fKVdkC22YiRWtUpAARoGfYUAEKYzV8Zn0PT0vzBIFRXm9RVmlRUQEUFbN5sUlcnUVYGX33dvnbhQWr8DmuIk8DEhUwZYcbjZTqZrN+Q5PW0CP1nKoxOc1B6kIJ3koMP+8UpGO8iy2tjw8YEW3YYbN/eQGamnaFDHCxfUc833wQ7NKneMlKmenQlddYwE9dJvPQvuG8+XL7ZYM4qg7/MNxn1XQPluRvIH5dPUkuydeU2Ni7ehP+bEJHvogTWBPh64dckYu0fu9PeIGDiRJnbbtORZZlXX9WZMkXGYjFxu2Xuv19n0aLuz1A02bgx2ThMqCVg2zmYiEZN/I0JmmAQqqrM5iFRqXktqa9YDAKBlmFPlZUmW7e2vyO/Y4fGmjVxsrNbz3XIzDQJBCQ2bWoKJsBiSbW31PmgvFyiOrXq8S5ZQL8/SV1d5zImQsf97txJ3H39ibi+19He2+fO3/61kIOKs7nsV4czdkRfHpvz+X4tdxNNM0gk9eYvTWtpO+0t4/f7e/uqyzMUc+evZcZhJeR8787jidOH8cS/FvDL08Yy+4SRPP7PBTzy9884//TxHDOllJuvPIbH5nzOv/+zlHSnnQvOGM/QQR2f3ByNJXnk759RVVOPLEsMKy3gjJ+N7qrLa2ZR5C4rc1d54G+f8MDfPsFht9Knl5fjpw3lhOlDdjmurTr6/t/m6CNKmTi6mIuue4WcLBf9emfSr7B9a9VLksQtVx3D4/9YwJm/f655lafSgXlIksRtfziWJ/65kLMv/ReGYVKY7+Hc2ft/PGJ72mxbLIrMjZfN4MGnPuW5V79iyKB8Jo/tj7KbZdwOpOtu0t52szdtXZtFkbnhshk88sxnvPTWMtKdNsaMbHsJ5pIBuZ1ue/uLbE1DKTqZhH0LmjUX2SLT4I+TqK8jHqwm5q/A6spBtdtx9jmYuGMwNKigJ0jLKSC3wMKNJ75LIhrn61ud1G7eQKx2FXH/7gPSPZEsadgOOhXNsR5TyUdRbUSDIZIRP7H6euzBSmRrGqaRJO4vpkwyyE9zQjCByyXTt6+F889Po7JS4sGHQoTDXd+xyc7OxZ6bxeJVq4k33jlu6sbZkHDsNBzKDth9JtnfSoSHmUSjEomE2fiVeo2qSgSDJmVlNe2ajA0QwsIRqPyDAHlY2UaCATjJw8SNyWfEqCXKypej2H8hM0J2sXFrgtreEjmFKpu3xymrDxHyGQwc6KSwMI3MTDvRaByfT+9QMFEwshfBk4KE7BEmrpN49GWTQ3b6s2dqcN5WiKyDpUOtmEMkrIutJEgQCUeIrOv8vKvddfabdrT+5pvUd59PYuFCk4svVnjsMYPDD5f55BODa65RuOceo1MTu/clQ7FmjU51tYbbXUF1tR3TTDWEpmCiKbhoCiqalhoOBlNZgSaBQGrSdtNwqfJyqKlpX3t3uRTCYZ3Fi5OMH29r3h3b75cIBsHrNalpvDfUFEwAVFeD15uarL1sWWrZ2n79oKCgZc7HhgNr+uWPXl52Onm72TOirc+dRUvL+XrFVv5656kAXHDmBC658TXmLVzP1IkDd3mv7vTQ05/y0NOfNj8u7pvFY7ef0qEy7q4vvi8sAF15A//Pfzxut88fNq4/h41LrWIzZcJApkxofWHFfTK5/6aZu33t84+e0+rxNb+f1urxcUcO4bgjUx2gkgG5/OWO2e0q61/vOrXN85w+s/WOpH+6/Kh2l3l/+/617M6cB85s/nlPdbS7v83vzp20x/fcW53lZadzy1W732wlK8PJDZfuZaOm/aA9bXZv1zmofy6P7/Q3uOORDxnQr2Wo1M51f6BcN3S83eytHtq6toOKc3j09lP2eJ7vv7cktd32di5XT/EOnIxz5BWsVmJkZGUTWLmWhupyJIsNPREhtiU1VyJnxDHYM/LRbUGUsBu5PoxV1RhUuJW8DB83Pgzb1qxEi1SgRTs+6dxbMhXnyEvZoIRxZ2XjX7mBhppNSIqVuL+CeE0DVqcH2Zoaklm9SSfXmhpz6/HIXHuth/x8mauvDjSv+tSVKomnNpVoFAVar7hvEqclsGjqltuXm3jyQcuXqKtMLRerqqngorY2RkVFqN3BBMAmovRCIohOAQ6Ow0YVcbYgUUaIAlSaZsF9+EoMm1fFWSiT6Y7jx0bcqXNQjgOKUnc18/IchELRDgcTql3FcVga/qxqcgJw51utg4mdnfwtvDk8wVJbPWle514nXLfHnjr9F1yg8PTTJrffbuHGG010XeKxx0zuuMPCDTe07DMxf37nVonaF9Gowbx5MU47zUI02tA4RwL8/lSHPBptWXHJ6zXZsSM1l8LhkBrnVbTMe9jZsmXt39QuHNYb6y/OZZelbkCtXk3zZnn5jfcT1+2U2LZaIZlMZUfsdrN5krjfn5pzkZ+fKvOWLR3bXO+HpD2fM/tDW+V48++/av65rc+d8aOKmn922K08fd/pzY/312dSW9cxflRRu8u4u/5e5zRm5AAUef9saCQIP1Zl66spzHeT7rLz7aoKlq7Yyi9PG9fTxRK6mad4AlrET0wHbDrJSIAC1zr6FqlskkNsWL4WnIcSC9QQr9uM3j8fq90JwQhed5Ihhat5/bUwc9+tJxZpe6nPtnj7jSYZCZEEsBkYyShFmSspKlJZJTewccUG5IyxKGoagU3fURnVGTYsgc1u5be/9TB1qpVnn43zwQddtM3z92xCZ5vfR21DuPm5aOOXAxqDCYg2BhaQCi4CmOiLJMKjYiQSKqFQnIaGGIFAokOBRJMy4kwljcOxEwAqgaVEcDWO/o0hk40DDzKeiI0nI9UMDqYxodaLUapTOMBBPAxV1QqxaJTycj/10RghX8cyOo5SJzX5lWiKzgkrYGQbCamCehi/Hr4t1Gga87+vdre/RGoVJpPXX7cwa5bGihUSw4ebWK0yN9xgcMYZLftMTJ7cuU3x9nWn7H/9q4EZM5w4HKnMhM1mNgYMqfdtaB4NlfpdavO4VOARbUyHORwt+5v4/bB6dcfnLaxbl2TRotTP8Z0i43g89f7hxmbucplUVUmEQibhMBQXS3i9LXWwdSt8/rmJ2y2xdeuPc5ds4cdPllL//6UCCsS4PUHYF+Vb6/jzQ++T1HTcLjuXnn84vXYzKVv4cZG1CImGEA212zHiIVR3DocOiDKu16swBOqOTLBp02Y2RIOs22pSp5Tit5WQtPuRPSNYW7Oad/6eIBLZt46WrEVIhKqJBSpJhPKRrQ6K+qgcXfoyxw6xUFUZp7xiGxuqBlDWECOwoZrEgHrS062ccorKihUaTzwR7JahTgB+DL4hwsg47LwQdxyJOKlAAiCTnTMXqed2hBIs+WT3y3d3lA+db4jTD5VFBHCgMhQHm4njbRwBXEoG5QRZSipTVBM2+SYco3pjHL8zhtdrIxCIE4l0vgOouaNE1QSqrjC8QsPdRhy3Ix2W5kiY2yFUG+j0OXfW1MmfP1/iyCNNTjoptYrTkiUSs2aZXHGFwoMPmixdKjFqlEkoJPHiiy2rPnV2H4t99f/t3WtsW+UZwPH/sWMf20kam5KGJE0vDARlLbAhVjapa0c77QvTJCoxPkzdPpFt0lTxgUmtCOtU2iKBkCohhDZNmxCi2jSkIXWiY+qVS2+iKyWlgYQ0aXBCEid27GOf49s5+3B8cikpTWs7dprn9yWK5eh9z4llv4+f932eoaEcr78e56mnGohG7XMITqbCCRgSCbuJHSgEg9N7ljhBhFMZSuHChfgNdch2jI2ZPP30KLt23c6aNXaWwh4Dzp2bqgIVjU6NB/Z2qKB9zpds1t5uFY3CyZPDk9kPIRaamsLZtBoAj2QohCiKUzVLLC5fdR5imafJPi8xNoDL6+W/nX18EdRoaVFpa/OwZg08EDjNW5d+QDjj56P8dlpWL6W5rZmLvb9iwv0v4P2i5jF4/j8sU1eTGbuCPnoFtxrg9OddjJw1WN7qZ3mbl3vuzLP+u92YP8kxOpInNuFlaEhhfBxefjlFOFzehlrvkOBOAoSwgwYnkIgAqcIHkp2pmPl51MXcSqHO1b9J8DghNtFAP1kUPKiFXt1X0BkhinNMcwX23unuQu4kmTRJJm+8x8TVlLEa1Eugh9IcWgE/r7czEbP5qAk+Un00uZuIU5oDlFu2WBw9ane03r3bTUeHyccfKzz0kP04WGzf7mb/fouODje7d998EFHKDAXAG28kWbnSw8aNfmIxZdq2Jot0GhKJqS1Iw8OgqlPdsR1eL/T3pxgY0GYZYW56erLs2hWZEVQMDMDoqIXHMzWWE1wAhMNZGhu9BIPWZDDR1TUiwYRY0DyK/fq1MxSKZCiEEOJGJQc7+Sr7J7xL7iaf1cmlRhmc6OXTbApI0NrqoanJw4pVFslv1ZFNjpMxc0QCfrRUGNPyU9tyHxO9xQUU+kgnI6dfwxdahScfIRbXCI/3cjGXoq5Oo6HBRWuryooVKm1tKq2tNfh8kM/lefXVJKdOFb9Ivp4oJn8jwpPcThC7qpMfcBcWenksEkBi2mMDjJOk9Iutd5ngZ4S4Ay/DWKTRGSJDphDMBGhgNQHymEQxSFDacp6ZLzIE65cQCNVyJDjO23dZ/Pp/X3/eqRb4w90QYjXNtS1cND4tyfjOIn/nTjcdHXnOnlV4+GGLrVvtTMXFiwr799tVnnbvNjl5svhgohQZCseePTHSaVi/XqWvz00slsfnc6GqFvX1ConE1FhOcOFQVYX+/hS9vcVne5ygYt8+O6g4c2aqnPFsAgEPly9DXR1omkJXl2QmxMLnck87Q+G5dXupCCFEWemj3dfsGREOZwmHs5z/BO59IosroGOMDZCJj+Jd0ojiqsEY/+byuXOex0gn+kjn1x7XNBNNMwmHc5w5k6SuzkVTk5vmZpVMxqKnxyjbVqerfUmWvzDMZkI0oTKMRQiLKMpkEAEQI0UCA23WjhXF0zB5myj34yOAj2b8hAiRKoxnFJ6TKkMwAZAxMsTOx9mwZQNJn8Y7+bN8p87kbsOu7jRUD58sgR33w3kNas9eofeLnpKNv2WLxYULCnv3Wmzd6gaswoFrc7K/xHvv2ZmKI0fsbVHVkqFwvPRSjMceC7BxY5CVK9309zOZpchklBmBhJOlSKcturtjjIyULoDu6cny3HNjPP74UhobFRob7apPYHfynh5cOMFGNAp9fVEJJsQtwTPjDIVkKIQQomzMbIqvzv2DxgeexIgNYmYyeOpuwxgfYKL35LzOxQkwylHNaS6imPyTMZbjoQm7nqcbBQ2LNLmyBhLTaZh8SApIcRtuQoXTGxOYpKEsgcR0GSPDqWOneGTTI5yuvY0nHkywJp7h+1GLM8vgbMiNnlexBnW03pvfmjMbZ5FvmgpvvWWxebOLF14wOXZsarsTlCaIKEeGwnHwYIrTpw3Wr/exalWQUMhpZqcQi00FFYlEnmg0SSSSuqkzE9dz6VKGPXuGaG6u4Y47VJYt87N0qZdQCC5ftoOIVCpLIqGj6yaRyK3bwE4sPk6piBoAlxzKFkKIshq/9C75dAo1tJx0LE5Oj5CO9pA3qq9Z33z4kixfThZpraxx8oxTfDnWG5XUkhw+eBivz8t9j66lr9kgonqIaynuC7USH4lzvvdcyce9uv8EWJw4obBpk8Wzz7p5/vk8hw+XNpgodYbCMTpqcvBgCr/fIBh0UV/vBUDXXaTTJomEUZYgYjZDQzmGhnJAkro6N6GQTwIIcctzK9O2PKmy5UkIIcpuovd9XJ4AZrb8ZxbEwpExMnSf+IyGUANL2logatGjfc5EtDzB5tWL/ePHFTZutHjmGTuY+OCD4qo5zVeGYjpdN9F1s7CgrzxNy6OVoGdItTl09FKlpzBDtc2nWAvxeryu6VuevqHK00K8uIVO7nlxFuv9W6zXPZ/KvSiaq77LvRUZ980DByoy7mKQ1JIktSSDAzffj2SuZlvsx+MKL75on53YsKH0wUS5MhRi/rjaflrpKcxQbfMp1kK8Hl3XcXntJqk1ADXXOEOxEC9uoZN7XpzFev8W63XPt23bKj0D20JZ2Fv791d6CgDs3bun0lMAYO+e6pjHtm1MLu6nFvkzfy/XzxuxYXDDDf9NOVTL66eSKvUlhqhObx44gK7rdHZ2cs+3HwQKAYWezaOqM59sWfJNghBCOLq62tm2rb3S00BRlOs/qQq0RyK0b99e6WlUzf2qlnlUy+v4errau+hq76r0NKrm/yZEtfH7/axbtw5DsTMUym9eOWL9+N5a7mq0DzKtu/9B9u3bW8k5CiHEvNmxY6e85wkhxDXIe6SYzeZHf4Tf7+ez4QxHuwvtSX//52PWL77XUOm5CSGEEEIIIaqQruv4/f7J7U5r167j7x+nebl9k+IC8NQoHO+RqiNCCCGEEEKImZwgwjAM/H4/a9eu48Mreep9dqnYyc2BHX89bhk5i/Wr/DQ31FAvtWSFEEIIIYQQgGEYZBUvg7EcJy/r1Ptc/PGXP1RgWkDh+O0rR6wRaQcvhBBCCCGEuMrttW5e+92jM2KI/wMEwHC+2A/JvQAAAABJRU5ErkJggg==\" width=\"500\" align=\"left\"/>\n",
    "</div>"
   ]
  },
  {
   "cell_type": "markdown",
   "metadata": {},
   "source": [
    "Now you can play a little bit with the visualization program to make sure that you see indeed the diamond structure. Remember that we have supplied the primitive unit cell and not the conventional unit cell. This explains why you do not see something similar to what is normally printed in textbooks for solid-state physics."
   ]
  },
  {
   "cell_type": "markdown",
   "metadata": {},
   "source": [
    "<a id=\"RunExciting\"></a>"
   ]
  },
  {
   "cell_type": "markdown",
   "metadata": {},
   "source": [
    "<hr style=\"border:1px solid #DDD\"> </hr>\n",
    "\n",
    "### <span style=\"color:#15317E\">2. Running Exciting</span>\n",
    "\n",
    "\n",
    "In order to run **`exciting`** from the terminal, you simply need to execute the **exciting_smp** binary in the running directory. After a few seconds, the calculation should be finished.\n",
    "    \n",
    "<div style=\"background-color: rgb(224, 224, 224);\">\n",
    "    \n",
    "```bash\n",
    "time exciting_smp\n",
    "```\n",
    "</div>  \n",
    "    \n",
    "Here we used the **time** command before **exciting_smp** in order to get, at the end of the run, the elapsed time explicitly written on the screen.\n"
   ]
  },
  {
   "cell_type": "code",
   "execution_count": 4,
   "metadata": {
    "pycharm": {
     "is_executing": true
    },
    "tags": [
     "remove_output"
    ]
   },
   "outputs": [
    {
     "name": "stdout",
     "output_type": "stream",
     "text": [
      " ### Using specified input file: input.xml\n"
     ]
    },
    {
     "name": "stderr",
     "output_type": "stream",
     "text": [
      "   Elapsed time = 0m9s\n"
     ]
    }
   ],
   "source": [
    "%%bash\n",
    "cd run_tutorial_start_exciting_calculation\n",
    "time $EXCITINGROOT/bin/exciting_smp input.xml\n",
    "cd .."
   ]
  },
  {
   "cell_type": "markdown",
   "metadata": {},
   "source": [
    "<a id=\"INFOOUT\"></a>"
   ]
  },
  {
   "cell_type": "markdown",
   "metadata": {},
   "source": [
    "<hr style=\"border:1px solid #DDD\"> </hr>\n",
    "\n",
    "### <span style=\"color:#15317E\">3. Reading INFO.OUT, the Main Output File</span>\n",
    "\n",
    "The execution of **`exciting`** will produce a number of output files. More details about these files will be given in the next section. Here, we will focus on the **<span style=\"color:firebrick\">main output file</span>**, named **INFO.OUT**. It contains basic information about the calculation. Below, this file is discussed for the diamond example and for the default value (**\"normal\"**) of the attribute <code><span style=\"color:mediumblue\">outputlevel</span></code> of the <code><span style=\"color:green\">groundstate</span></code> element.\n",
    "\n",
    " - The output file starts with a self-explanatory header."
   ]
  },
  {
   "cell_type": "code",
   "execution_count": 13,
   "metadata": {},
   "outputs": [
    {
     "name": "stdout",
     "output_type": "stream",
     "text": [
      "================================================================================\r\n",
      "| EXCITING NEON started                                                        =\r\n",
      "| version hash id: 7c1164da04131375a877877c93da528c90669794                    =\r\n",
      "|                                                                              =\r\n",
      "| compiler: ifort (IFORT) 2021.3.0 20210609                                    =\r\n",
      "|                                                                              =\r\n",
      "|                                                                              =\r\n",
      "| Date (DD-MM-YYYY) : 26-07-2023                                               =\r\n",
      "| Time (hh:mm:ss)   : 17:23:48                                                 =\r\n",
      "|                                                                              =\r\n",
      "| All units are atomic (Hartree, Bohr, etc.)                                   =\r\n",
      "================================================================================\r\n"
     ]
    }
   ],
   "source": [
    "!head -n 12 run_tutorial_start_exciting_calculation/INFO.OUT"
   ]
  },
  {
   "cell_type": "markdown",
   "metadata": {},
   "source": [
    "- The next lines give information on the initial density and tell us that the initialization has started."
   ]
  },
  {
   "cell_type": "code",
   "execution_count": 7,
   "metadata": {},
   "outputs": [
    {
     "name": "stdout",
     "output_type": "stream",
     "text": [
      "********************************************************************************\r\n",
      "* Ground-state run starting from atomic densities                              *\r\n",
      "********************************************************************************\r\n",
      " \r\n",
      "++++++++++++++++++++++++++++++++++++++++++++++++++++++++++++++++++++++++++++++++\r\n",
      "+ Starting initialization                                                      +\r\n",
      "++++++++++++++++++++++++++++++++++++++++++++++++++++++++++++++++++++++++++++++++\r\n"
     ]
    }
   ],
   "source": [
    "!head -n 20 run_tutorial_start_exciting_calculation/INFO.OUT | tail -n 7"
   ]
  },
  {
   "cell_type": "markdown",
   "metadata": {},
   "source": [
    "- The next section contains lattice parameters and derived quantities."
   ]
  },
  {
   "cell_type": "code",
   "execution_count": 8,
   "metadata": {},
   "outputs": [
    {
     "name": "stdout",
     "output_type": "stream",
     "text": [
      " Lattice vectors (cartesian) :\r\n",
      "      0.0000000000      3.3637000000      3.3637000000\r\n",
      "      3.3637000000      0.0000000000      3.3637000000\r\n",
      "      3.3637000000      3.3637000000      0.0000000000\r\n",
      " \r\n",
      " Reciprocal lattice vectors (cartesian) :\r\n",
      "     -0.9339693354      0.9339693354      0.9339693354\r\n",
      "      0.9339693354     -0.9339693354      0.9339693354\r\n",
      "      0.9339693354      0.9339693354     -0.9339693354\r\n",
      " \r\n",
      " Unit cell volume                           :      76.1170172117\r\n",
      " Brillouin zone volume                      :       3.2588010215\r\n"
     ]
    }
   ],
   "source": [
    "!head -n 33 run_tutorial_start_exciting_calculation/INFO.OUT | tail -n 12"
   ]
  },
  {
   "cell_type": "markdown",
   "metadata": {},
   "source": [
    "- The further bit contains the information about the chemical composition of the crystal."
   ]
  },
  {
   "cell_type": "code",
   "execution_count": 9,
   "metadata": {},
   "outputs": [
    {
     "name": "stdout",
     "output_type": "stream",
     "text": [
      " Species :    1 (C)\r\n",
      "     parameters loaded from                 :    C.xml\r\n",
      "     name                                   :    carbon\r\n",
      "     nuclear charge                         :      -6.00000000\r\n",
      "     electronic charge                      :       6.00000000\r\n",
      "     atomic mass                            :   21894.16673000\r\n",
      "     muffin-tin radius                      :       1.45000000\r\n",
      "     # of radial points in muffin-tin       :     250\r\n",
      " \r\n",
      "     atomic positions (lattice) :\r\n",
      "       1 :   0.00000000  0.00000000  0.00000000\r\n",
      "       2 :   0.25000000  0.25000000  0.25000000\r\n",
      " \r\n",
      " Total number of atoms per unit cell        :       2\r\n"
     ]
    }
   ],
   "source": [
    "!head -n 48 run_tutorial_start_exciting_calculation/INFO.OUT | tail -n 14"
   ]
  },
  {
   "cell_type": "markdown",
   "metadata": {},
   "source": [
    "- The next section tells whether the calculation is a spin-polarized one."
   ]
  },
  {
   "cell_type": "code",
   "execution_count": 10,
   "metadata": {},
   "outputs": [
    {
     "name": "stdout",
     "output_type": "stream",
     "text": [
      " Spin treatment                             :    spin-unpolarised\r\n"
     ]
    }
   ],
   "source": [
    "!head -n 50 run_tutorial_start_exciting_calculation/INFO.OUT | tail -n 1"
   ]
  },
  {
   "cell_type": "markdown",
   "metadata": {},
   "source": [
    "- The **`exciting`** code recognizes crystal symmetries automatically and reports what has been found."
   ]
  },
  {
   "cell_type": "code",
   "execution_count": 11,
   "metadata": {},
   "outputs": [
    {
     "name": "stdout",
     "output_type": "stream",
     "text": [
      " Number of Bravais lattice symmetries       :      48\r\n",
      " Number of crystal symmetries               :      48\r\n",
      " \r\n",
      " k-point grid                               :       4    4    4\r\n",
      " Total number of k-points                   :       8\r\n",
      " k-point set is reduced with crystal symmetries\r\n"
     ]
    }
   ],
   "source": [
    "!head -n 57 run_tutorial_start_exciting_calculation/INFO.OUT | tail -n 6"
   ]
  },
  {
   "cell_type": "markdown",
   "metadata": {},
   "source": [
    "- The basis set related information is printed in the next section. Note that **`exciting`** uses different basis sets for the Kohn-Sham orbitals and the effective potential."
   ]
  },
  {
   "cell_type": "code",
   "execution_count": 12,
   "metadata": {},
   "outputs": [
    {
     "name": "stdout",
     "output_type": "stream",
     "text": [
      " R^MT_min * |G+k|_max (rgkmax)              :       7.00000000\r\n",
      " Species with R^MT_min                      :       1 (C)\r\n",
      " Maximum |G+k| for APW functions            :       4.82758621\r\n",
      " Maximum |G| for potential and density      :      12.00000000\r\n",
      " \r\n",
      " G-vector grid sizes                        :      20    20    20\r\n",
      " Total number of G-vectors                  :    2229\r\n",
      " \r\n",
      " Maximum angular momentum used for\r\n",
      "     APW functions                          :       8\r\n",
      "     computing H and O matrix elements      :       8\r\n",
      "     potential and density                  :       8\r\n",
      "     inner part of muffin-tin               :       2\r\n"
     ]
    }
   ],
   "source": [
    "!head -n 71 run_tutorial_start_exciting_calculation/INFO.OUT | tail -n 13"
   ]
  },
  {
   "cell_type": "markdown",
   "metadata": {},
   "source": [
    "- Further computational details are printed below. The type of the exchange-correlation functional used in the calculation is among them."
   ]
  },
  {
   "cell_type": "code",
   "execution_count": 13,
   "metadata": {},
   "outputs": [
    {
     "name": "stdout",
     "output_type": "stream",
     "text": [
      " Total nuclear charge                       :     -12.00000000\r\n",
      " Total electronic charge                    :      12.00000000\r\n",
      " Total core charge                          :       4.00000000\r\n",
      " Total valence charge                       :       8.00000000\r\n",
      " \r\n",
      " Number of empty states                     :       5\r\n",
      " Total number of valence states             :      10\r\n",
      " \r\n",
      " Maximum Hamiltonian size                   :     158\r\n",
      " Maximum number of plane-waves              :     150\r\n",
      " Total number of local-orbitals             :       8\r\n",
      " \r\n",
      " Exchange-correlation type                  :      22\r\n",
      "     PBEsol, Phys. Rev. Lett. 100, 136406 (2008)\r\n",
      "     Generalised gradient approximation (GGA)\r\n",
      " \r\n",
      " Smearing scheme                            :    Gaussian\r\n",
      " Smearing width                             :       0.00100000\r\n",
      " \r\n",
      " Using multisecant Broyden potential mixing\r\n"
     ]
    }
   ],
   "source": [
    "!head -n 92 run_tutorial_start_exciting_calculation/INFO.OUT | tail -n 20"
   ]
  },
  {
   "cell_type": "markdown",
   "metadata": {},
   "source": [
    "- Further, intermediate results are printed after each iteration of the **SCF** (self-consistent field) loop."
   ]
  },
  {
   "cell_type": "code",
   "execution_count": 14,
   "metadata": {},
   "outputs": [
    {
     "name": "stdout",
     "output_type": "stream",
     "text": [
      "++++++++++++++++++++++++++++++++++++++++++++++++++++++++++++++++++++++++++++++++\r\n",
      "+ SCF iteration number :    1                                                  +\r\n",
      "++++++++++++++++++++++++++++++++++++++++++++++++++++++++++++++++++++++++++++++++\r\n",
      " Total energy                               :       -76.85604880\r\n",
      " _______________________________________________________________\r\n",
      " Fermi energy                               :         0.47006662\r\n",
      " Kinetic energy                             :        75.01766238\r\n",
      " Coulomb energy                             :      -141.28404834\r\n",
      " Exchange energy                            :       -10.09094085\r\n",
      " Correlation energy                         :        -0.49872199\r\n",
      " \r\n",
      " DOS at Fermi energy (states/Ha/cell)       :         0.00000000\r\n",
      " \r\n",
      " Electron charges :\r\n",
      "     core                                   :         4.00000000\r\n",
      "     core leakage                           :         0.00015896\r\n",
      "     valence                                :         8.00000000\r\n",
      "     interstitial                           :         2.95818803\r\n",
      "     charge in muffin-tin spheres :\r\n",
      "                  atom     1     C          :         4.52090598\r\n",
      "                  atom     2     C          :         4.52090598\r\n",
      "     total charge in muffin-tins            :         9.04181197\r\n",
      "     total charge                           :        12.00000000\r\n",
      " \r\n",
      " Estimated fundamental gap                  :         0.18549485\r\n",
      "        valence-band maximum at    1      0.0000  0.0000  0.0000\r\n",
      "     conduction-band minimum at    4      0.2500  0.2500  0.0000\r\n",
      " \r\n",
      " Wall time (seconds)                        :         1.10\r\n"
     ]
    }
   ],
   "source": [
    "!head -n 137 run_tutorial_start_exciting_calculation/INFO.OUT | tail -n 29"
   ]
  },
  {
   "cell_type": "markdown",
   "metadata": {},
   "source": [
    "- Actual values of the quantities which are relevant for self-consistency are displayed at each iteration (after the first one) and compared with convergence targets (shown in parentheses). If all self-consistency criteria are matched (values are smaller then targets) for the last 2 iterations the calculation has successfully ended."
   ]
  },
  {
   "cell_type": "code",
   "execution_count": 15,
   "metadata": {},
   "outputs": [
    {
     "name": "stdout",
     "output_type": "stream",
     "text": [
      " RMS change in effective potential (target) :   2.73381      ( 0.100000E-05)\r\n",
      " Absolute change in total energy   (target) :  0.329777      ( 0.100000E-05)\r\n",
      " Charge distance                   (target) :  0.752460E-02  ( 0.100000E-04)\r\n"
     ]
    }
   ],
   "source": [
    "!head -n 171 run_tutorial_start_exciting_calculation/INFO.OUT | tail -n 3"
   ]
  },
  {
   "cell_type": "markdown",
   "metadata": {},
   "source": [
    "- The final answer is reported at the last iteration."
   ]
  },
  {
   "cell_type": "code",
   "execution_count": 16,
   "metadata": {},
   "outputs": [
    {
     "name": "stdout",
     "output_type": "stream",
     "text": [
      "++++++++++++++++++++++++++++++++++++++++++++++++++++++++++++++++++++++++++++++++\r\n",
      "| Convergency criteria checked for the last 2 iterations                       +\r\n",
      "| Convergence targets achieved. Performing final SCF iteration                 +\r\n",
      "++++++++++++++++++++++++++++++++++++++++++++++++++++++++++++++++++++++++++++++++\r\n",
      " Total energy                               :       -75.88903685\r\n",
      " _______________________________________________________________\r\n",
      " Fermi energy                               :         0.50878170\r\n",
      " Kinetic energy                             :        75.54873162\r\n",
      " Coulomb energy                             :      -140.90113420\r\n",
      " Exchange energy                            :       -10.03412623\r\n",
      " Correlation energy                         :        -0.50250803\r\n",
      " \r\n",
      " DOS at Fermi energy (states/Ha/cell)       :         0.00000000\r\n",
      " \r\n",
      " Electron charges :\r\n",
      "     core                                   :         4.00000000\r\n",
      "     core leakage                           :         0.00016223\r\n",
      "     valence                                :         8.00000000\r\n",
      "     interstitial                           :         3.09358004\r\n",
      "     charge in muffin-tin spheres :\r\n",
      "                  atom     1     C          :         4.45320998\r\n",
      "                  atom     2     C          :         4.45320998\r\n",
      "     total charge in muffin-tins            :         8.90641996\r\n",
      "     total charge                           :        12.00000000\r\n",
      " \r\n",
      " Estimated fundamental gap                  :         0.15982903\r\n",
      "        valence-band maximum at    1      0.0000  0.0000  0.0000\r\n",
      "     conduction-band minimum at    4      0.2500  0.2500  0.0000\r\n"
     ]
    }
   ],
   "source": [
    "!tail -n 42 run_tutorial_start_exciting_calculation/INFO.OUT | head -n 28"
   ]
  },
  {
   "cell_type": "markdown",
   "metadata": {},
   "source": [
    "- The final lines of **INFO.OUT** tell how the execution has stopped and report the total time spent in the run."
   ]
  },
  {
   "cell_type": "code",
   "execution_count": 14,
   "metadata": {},
   "outputs": [
    {
     "name": "stdout",
     "output_type": "stream",
     "text": [
      "********************************************************************************\r\n",
      "* Groundstate module stopped                                                   *\r\n",
      "********************************************************************************\r\n",
      " \r\n",
      " Total time spent (seconds)                 :         9.16\r\n",
      "================================================================================\r\n",
      "| EXCITING NEON stopped                                                        =\r\n",
      "================================================================================\r\n"
     ]
    }
   ],
   "source": [
    "!tail -n 8 run_tutorial_start_exciting_calculation/INFO.OUT"
   ]
  },
  {
   "cell_type": "markdown",
   "metadata": {},
   "source": [
    "Notice, that if a **CAUTION** message is present, it is worth to have a look at the file **WARNING.OUT**. The **CAUTION** message could look like the following.\n",
    "\n",
    "```\n",
    "********************************************************************************\n",
    "* Groundstate module stopped                                                   *\n",
    "********************************************************************************\n",
    "\n",
    " Total time spent (seconds)                 :        11.29\n",
    "\n",
    "--------------------------------------------------------------------------------\n",
    "| CAUTION! Warnings have been written in file WARNING.OUT !                    -\n",
    "--------------------------------------------------------------------------------\n",
    "\n",
    "================================================================================\n",
    "| EXCITING NEON stopped                                                    =\n",
    "================================================================================\n",
    "```"
   ]
  },
  {
   "cell_type": "markdown",
   "metadata": {},
   "source": [
    "<hr style=\"border:1px solid #DDD\"> </hr>\n",
    "\n",
    "### <span style=\"color:#15317E\">4. Output Files of an exciting Calculation</span>\n",
    "\n",
    "\n",
    "- The main output file in **`exciting`** is **INFO.OUT**. A detailed description of the content of this file can be found in the previous section.\n",
    "\n",
    "filename|description\n",
    ":-----------|:--------------------------------\n",
    "**INFO.OUT**| Master output file containing the essential information on the material    system, parameters of the calculation, results (total energy, energy contributions, charge contributions, atomic forces, Fermi energy…) of each iteration, and more. The amount of information contained in this file can be triggered using the attribute <code><span style=\"color:mediumblue\">outputlevel</span></code> of the <code><span style=\"color:green\">groundstate</span></code> element.\n",
    "\n",
    "&nbsp;\n",
    "\n",
    "- Other relevant files which are updated or extended at each iteration contain information about the **SCF** calculation:\n",
    "\n",
    "filename|description\n",
    ":-----------|:--------------------------------\n",
    "**TOTENERGY.OUT**| Total energy in [Ha]; each line corresponds to one **SCF** iteration.\n",
    "**EFERMI.OUT**| Fermi energy in [Ha] at the last **SCF** iteration.\n",
    "**RMSDVEFF.OUT**| Root-mean-square deviation of the effective potential; each line corresponds to one **SCF** iteration, starting from the 2nd iteration and not considering the last **SCF** iteration.\n",
    "**DFSCFMAX.OUT**| Maximum variation of the non IBS part of the atomic forces; each line corresponds to one **SCF** iteration, starting from the 2nd iteration and not considering the last **SCF** iteration. Only written if forces are explicitly calculated (e.g., for atomic relaxation).\n",
    "**EIGVAL.OUT**| Eigenvalues (energies) of the valence bands, for each **k**-point and band.\n",
    "**EVALCORE.OUT**| Energy eigenvalues (energy levels) of the core states.\n",
    "**LINENGY.OUT**| Linearization energies as fixed in the species files (if <code><span style=\"color:mediumblue\">searchE</span></code> = **\"false\"** for the corresponding linearization energy in the **\"species\".xml** file) or determined by exciting (if <code><span style=\"color:mediumblue\">searchE</span></code> = **\"true\"** for the corresponding linearization energy in the **\"species\".xml** file).\n",
    "\n",
    "&nbsp;\n",
    "\n",
    "- Output files containing structural information, symmetries, *etc.*:\n",
    "\n",
    "filename|description\n",
    ":-----------|:--------------------------------\n",
    "**LATTICE.OUT**| Information on the lattice: Primitive lattice vectors, unit cell volume, reciprocal lattice vectors, *etc.*\n",
    "**SYMCRYS.OUT**| Information on the symmetry operations of the crystal; more symmetry information are found in the files **SYMT2.OUT**, **SYMSITE.OUT**, **SYMMULT.OUT**, **SYMLAT.OUT**, **SYMINV.OUT**, and **SYMGENR.OUT**.\n",
    "**KPOINTS.OUT**| List of **k**-points, their coordinates (in units of the reciprocal lattice vectors), weights, matrix size.\n",
    "**BONDLENGTH.OUT**| Interatomic distances; useful to check the correctness of an input file.\n",
    "**EQATOMS.OUT**| Information on equivalency of atoms due to the crystal symmetry.\n",
    "\n",
    "&nbsp;\n",
    "\n",
    "- Output files in **XML** format, useful for data storage, databases, *etc.*\n",
    "\n",
    "filename|description\n",
    ":-----------|:--------------------------------\n",
    "**atoms.xml**| The results of calculations performed for atoms in order to initialize the electron density.\n",
    "**info.xml**| The information contained in this file is similar to the one written in INFO.OUT, but displayed in the XML format.\n",
    "**geometry.xml**| Structural information on the system. This will often be identical to the element <code><span style=\"color:green\">structure</span></code> in your input file, but may differ for certain settings of the attributes in <code><span style=\"color:green\">structure</span></code>, *e.g*., if <code><span style=\"color:mediumblue\">primcell</span></code> = **\"true\"** or <code><span style=\"color:mediumblue\">tshift</span></code> = **\"true\"**\n",
    "\n",
    "&nbsp;\n",
    "\n",
    "- Some of the output files are not directly readable, because they are written as binary files. They are used by **`exciting`** for current storage of vectors and matrices. They are relevant when restarting or extending an existing calculation.\n",
    "\n",
    "\n",
    "filename|description\n",
    ":-----------|:--------------------------------\n",
    "**EVALFV.OUT**| First-variational eigenvalues.\n",
    "**EVALSV.OUT**| Second-variational eigenvalues.\n",
    "**EVECFV.OUT**| First-variational eigenvectors.\n",
    "**EVECSV.OUT**| Second-variational eigenvectors..\n",
    "**OCCSV.OUT** | Occupation of the second-variational states.\n",
    "**STATE.OUT**| Real-space distribution of the density and the potential"
   ]
  },
  {
   "cell_type": "markdown",
   "metadata": {},
   "source": [
    "- Both **<span style=\"color:firebrick\">initial</span>** (*e.g.*, **C.xml**) and **<span style=\"color:firebrick\">self-consistent</span>** (*e.g.*, **C_scf.xml**) **speciesfiles** are also saved, at the end of the run, in the working directory. These files specify which basis functions are used for each element in a calculation performed with **`exciting`**.\n",
    "\n",
    "<hr style=\"border:2px solid #DDD\"> </hr>"
   ]
  }
 ],
 "metadata": {
  "kernelspec": {
   "display_name": "excitingjupyter",
   "language": "python",
   "name": "excitingjupyter"
  },
  "language_info": {
   "codemirror_mode": {
    "name": "ipython",
    "version": 3
   },
   "file_extension": ".py",
   "mimetype": "text/x-python",
   "name": "python",
   "nbconvert_exporter": "python",
   "pygments_lexer": "ipython3",
   "version": "3.7.10"
  }
 },
 "nbformat": 4,
 "nbformat_minor": 1
}
