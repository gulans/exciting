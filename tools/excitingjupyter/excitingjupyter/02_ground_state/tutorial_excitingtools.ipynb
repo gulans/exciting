{
 "cells": [
  {
   "cell_type": "markdown",
   "id": "bb734538",
   "metadata": {},
   "source": [
    "# Basic usage of excitingtools\n",
    "**by <span style=\"color:darkgreen\">Fabian Peschel</span> for [<span style=\"color:darkgoldenrod\">exciting *neon*</span>](http://exciting.wikidot.com/neon)**\n",
    "\n",
    "<hr style=\"border:2px solid #DDD\"> </hr>"
   ]
  },
  {
   "cell_type": "markdown",
   "id": "8df1fb24",
   "metadata": {},
   "source": [
    "**<span style=\"color:firebrick\">Purpose</span>**: In this tutorial you will learn how to use the **`excitingtools`** Python library. This library allows you to interact with the **`exciting`** framework directly from Python. Prior basic knowledge of Python is essential for understanding. Unlike most other tutorials, this one explicitly makes more intensive use of Python in its code cells. While not mandatory, you should work through some other tutorials to grasp the input-output structure of **`exciting`** and how to use it in the terminal. \n",
    "\n",
    "In this tutorial we will use **`excitingtools`** to define an input file, start a calculation, and evaluate the results. These three steps are usually referred to as the workflow step. A workflow, for example the convergenc of a parameter in a DFT calculation, consist of multiple workflow steps.\n",
    "\n",
    "The capabilities of **`excitingtools`** make it possible to significantly reduce the dependence on the terminal. However, this tool was developed to be able to define larger workflows that require the automated definition of many individual calculations.\n",
    "\n",
    "**<span style=\"color:firebrick\">Disclaimer</span>**: The input files and **`exciting`** calculations shown in this tutorial are only intended to illustrate the various options available through the use of **`excitingtools`**. These examples may lack physical significance and are not converged. In addition, they often use hidden default settings that you want to change for your own calculations.\n",
    "<hr style=\"border:2px solid #DDD\"> </hr>"
   ]
  },
  {
   "cell_type": "markdown",
   "id": "8a2ac7c3",
   "metadata": {},
   "source": [
    "<div class=\"alert alert-block alert-warning\">\n",
    "\n",
    "**Table of Contents**\n",
    "\n",
    "[0. General Preparation](#0)\n",
    "\n",
    "[1. Defining input from scratch](#1)\n",
    "\n",
    "[2. Executing `exciting` and parsing output](#2)\n",
    "\n",
    "[3. How to use ASE atoms for input generation](#3)\n",
    "\n",
    "[4. How to use an old input file for input generation](#4)\n",
    "\n",
    "[5. The first workflow: A loop](#5)\n",
    "\n",
    "</div>"
   ]
  },
  {
   "cell_type": "markdown",
   "id": "75e40aac-8a9f-49fd-b749-e2a9672b7c7e",
   "metadata": {},
   "source": [
    "<a id='0'></a>\n",
    "<hr style=\"border:1px solid #DDD\"> </hr>\n",
    "\n",
    "### <span style=\"color:#15317E\">0. General Preparation</span>\n",
    "\n",
    "**<span style=\"color:firebrick\">Read the following paragraphs before starting with the rest of this tutorial!</span>**\n",
    "\n",
    "Before running any Jupyter tutorials, please refer to the **`00_before_starting.md`** document on how to correctly set up the environment. This only needs to be done once. After which, the **venv** can be (re)activated from **`exciting`**'s root directory:\n",
    "\n",
    "<div style=\"background-color: rgb(224, 224, 224);\">\n",
    "\n",
    "```bash\n",
    "source tools/excitingjupyter/venv/excitingvenv/bin/activate\n",
    "```\n",
    "\n",
    "</div>\n",
    "\n",
    "As a first step, you may set the **exciting_root** directory and create a running directory for the notebook."
   ]
  },
  {
   "cell_type": "code",
   "execution_count": 1,
   "id": "570e07ca",
   "metadata": {
    "tags": [
     "remove_output"
    ]
   },
   "outputs": [
    {
     "name": "stdout",
     "output_type": "stream",
     "text": [
      "/Users/fabianpeschel/code/development/exciting\n"
     ]
    }
   ],
   "source": [
    "from pathlib import Path\n",
    "from excitingjupyter.utilities import get_exciting_root, check_for_binary\n",
    "\n",
    "exciting_root = get_exciting_root()\n",
    "check_for_binary(exciting_root)\n",
    "species_path = (Path(exciting_root) / \"species\").as_posix()\n",
    "path_to_binary = (Path(exciting_root) / \"bin/exciting_smp\").as_posix()\n",
    "\n",
    "print(exciting_root)"
   ]
  },
  {
   "cell_type": "code",
   "execution_count": 2,
   "id": "e7565231",
   "metadata": {},
   "outputs": [],
   "source": [
    "tutorial_top_dir = Path(\"excitingtools_tutorial\")\n",
    "tutorial_top_dir.mkdir(exist_ok=True)"
   ]
  },
  {
   "cell_type": "markdown",
   "id": "3fc33a1f",
   "metadata": {},
   "source": [
    "<a id='1'></a>\n",
    "<hr style=\"border:1px solid #DDD\"> </hr>\n",
    "\n",
    "### <span style=\"color:#15317E\">1. Defining input from scratch</span>\n",
    "\n",
    "Let's assume we want to perform a ground-state calculation. Using the Python API, it is possible to define the <code><span style=\"color:green\">structure</span></code> and the <code><span style=\"color:green\">groundstate</span></code> element without having to understand the XML structure of the input file."
   ]
  },
  {
   "cell_type": "code",
   "execution_count": 3,
   "id": "eac0d969",
   "metadata": {},
   "outputs": [],
   "source": [
    "from excitingtools import ExcitingStructure, ExcitingGroundStateInput, ExcitingInputXML"
   ]
  },
  {
   "cell_type": "markdown",
   "id": "49dd3fb3",
   "metadata": {},
   "source": [
    "First, we focus on the definition of the physical structure, which will result in the xml <code><span style=\"color:green\">structure</span></code> element. This involves specifying three lattice vectors and the atoms contained in the unit cell, as well as any additional structural parameters."
   ]
  },
  {
   "cell_type": "code",
   "execution_count": 4,
   "id": "9296488f",
   "metadata": {},
   "outputs": [],
   "source": [
    "# three lattice vectors as list, in this example a simple cubic crystal\n",
    "lattice = [[1.0, 0.0, 0.0], [0.0, 1.0, 0.0], [0.0, 0.0, 1.0]]\n",
    "\n",
    "# atoms inside the unit cell: every atom own dictionary with species name \n",
    "# and position (fractional coordinates per default)\n",
    "atoms = [{'species': 'Li', 'position': [0, 0, 0]},\n",
    "         {'species': 'F', 'position': [0.5, 0.5, 0.5]}]\n",
    "\n",
    "# structure object: pass atoms, lattice, species_path and optional properties\n",
    "structure = ExcitingStructure(atoms, lattice, species_path,\n",
    "                              autormt=False, epslat=1e-6,\n",
    "                              crystal_properties={'scale': 3.808},\n",
    "                              species_properties={'Li': {'rmt': 1.1, \n",
    "                                                         'LDAplusU': {'J': 2, 'U': 3, 'l': 1}}})"
   ]
  },
  {
   "cell_type": "markdown",
   "id": "a15d3bb0",
   "metadata": {},
   "source": [
    "We can then proceed with the definition of the <code><span style=\"color:green\">groundstate</span></code> element. To construct the optional subtrees, we can use nested dictionaries."
   ]
  },
  {
   "cell_type": "code",
   "execution_count": 5,
   "id": "e7609323",
   "metadata": {},
   "outputs": [],
   "source": [
    "# groundstate object with groundstate attributes\n",
    "groundstate = ExcitingGroundStateInput(ngridk=[4, 4, 4], rgkmax=4.0, gmaxvr=16, nempty=5, do='fromscratch',\n",
    "                                       xctype='GGA_PBE_SOL', epschg=1e-4, epsengy=1e-4, epspot=1e-4,\n",
    "                                       spin={\"spinorb\": False})"
   ]
  },
  {
   "cell_type": "markdown",
   "id": "6209c96c",
   "metadata": {},
   "source": [
    "In these definitions we can include all supported attributes offered by **`exciting`**. During initialization, a validation check is performed to ensure that only valid keywords are used that match the **`exciting`** schema. The complete list of valid attributes can be found on the web page: **http://exciting.wikidot.com/ref:input**. If unrecognized keywords are detected, a `ValueError` is raised indicating the incorrect keywords in the error message. Similar to the standard input file, case sensitivity is crucial and must be respected.\n",
    "\n",
    "**<span style=\"color:firebrick\">Note</span>**: that no checks for the validity of *attribute values* are performed within **`excitingtools`**. All validity checks are performed internally within **`exciting`** itself.\n",
    "\n",
    "As can be seen in the following example, \"abc\" is not valid as a keyword and \"RGkmaX\" is rejected because of the incorrect spelling."
   ]
  },
  {
   "cell_type": "code",
   "execution_count": 6,
   "id": "aecf7d5f",
   "metadata": {},
   "outputs": [
    {
     "name": "stdout",
     "output_type": "stream",
     "text": [
      "groundstate keys are not valid: {'abc', 'RGkmaX'}\n"
     ]
    }
   ],
   "source": [
    "try:\n",
    "    ExcitingGroundStateInput(ngridk=[4, 4, 4], abc=1, RGkmaX=3)\n",
    "except ValueError as ve:\n",
    "    print(ve)"
   ]
  },
  {
   "cell_type": "markdown",
   "id": "0057db3c",
   "metadata": {},
   "source": [
    "Now, we can combine all components to define a complete **`exciting`** input. Mandatory are the <code><span style=\"color:green\">structure</span></code> element, the <code><span style=\"color:green\">groundstate</span></code> element, as well as a <code><span style=\"color:green\">title</span></code>. The <code><span style=\"color:green\">title</span></code> is provided as a string."
   ]
  },
  {
   "cell_type": "code",
   "execution_count": 7,
   "id": "6f6a281f",
   "metadata": {},
   "outputs": [],
   "source": [
    "input_xml = ExcitingInputXML(structure=structure, groundstate=groundstate, title=\"Ground-state calculation\")"
   ]
  },
  {
   "cell_type": "markdown",
   "id": "5f31813c",
   "metadata": {},
   "source": [
    "After the creation of the Python object one can export this information to a file in XML format.\n",
    "The conventional name of this file is `input.xml`. The file can then be read by the **`exciting`** software.\n",
    "\n",
    "To accomplish this, you can simply invoke the `write()` method of the input object. Optionally, a filename can be provided as an argument. If no filename is specified a file named `input.xml` will be created in the current directory."
   ]
  },
  {
   "cell_type": "code",
   "execution_count": 8,
   "id": "61d334e5",
   "metadata": {},
   "outputs": [],
   "source": [
    "groundstate_dir = tutorial_top_dir / \"groundState\"\n",
    "groundstate_dir.mkdir(exist_ok=True)\n",
    "input_file = groundstate_dir / \"input.xml\"\n",
    "input_xml.write(input_file)"
   ]
  },
  {
   "cell_type": "markdown",
   "id": "3f4e85e0",
   "metadata": {},
   "source": [
    "After the XML file is generated, there is the option to manually check the contents, ensuring that the data has been properly converted to XML format. Here we use Python directly to display the content:"
   ]
  },
  {
   "cell_type": "code",
   "execution_count": 9,
   "id": "339b3c8d",
   "metadata": {
    "scrolled": true
   },
   "outputs": [
    {
     "name": "stdout",
     "output_type": "stream",
     "text": [
      "<?xml version=\"1.0\" ?>\n",
      "<input>\n",
      "\t<title>Ground-state calculation</title>\n",
      "\t<structure\n",
      "\t   speciespath=\"/Users/fabianpeschel/code/development/exciting/species\"\n",
      "\t   autormt=\"false\"\n",
      "\t   epslat=\"1e-06\">\n",
      "\t\t<crystal scale=\"3.808\">\n",
      "\t\t\t<basevect>1.0 0.0 0.0</basevect>\n",
      "\t\t\t<basevect>0.0 1.0 0.0</basevect>\n",
      "\t\t\t<basevect>0.0 0.0 1.0</basevect>\n",
      "\t\t</crystal>\n",
      "\t\t<species speciesfile=\"F.xml\">\n",
      "\t\t\t<atom coord=\"0.5 0.5 0.5\"> </atom>\n",
      "\t\t</species>\n",
      "\t\t<species rmt=\"1.1\" speciesfile=\"Li.xml\">\n",
      "\t\t\t<LDAplusU\n",
      "\t\t\t   J=\"2\"\n",
      "\t\t\t   U=\"3\"\n",
      "\t\t\t   l=\"1\">\n",
      "\t\t\t</LDAplusU>\n",
      "\t\t\t<atom coord=\"0 0 0\"> </atom>\n",
      "\t\t</species>\n",
      "\t</structure>\n",
      "\t<groundstate\n",
      "\t   ngridk=\"4 4 4\"\n",
      "\t   rgkmax=\"4.0\"\n",
      "\t   gmaxvr=\"16\"\n",
      "\t   nempty=\"5\"\n",
      "\t   do=\"fromscratch\"\n",
      "\t   xctype=\"GGA_PBE_SOL\"\n",
      "\t   epschg=\"0.0001\"\n",
      "\t   epsengy=\"0.0001\"\n",
      "\t   epspot=\"0.0001\">\n",
      "\t\t<spin spinorb=\"false\"> </spin>\n",
      "\t</groundstate>\n",
      "</input>\n",
      "\n"
     ]
    }
   ],
   "source": [
    "print(input_file.read_text())"
   ]
  },
  {
   "cell_type": "markdown",
   "id": "e2f9a5e9",
   "metadata": {},
   "source": [
    "<a id='2'></a>\n",
    "<hr style=\"border:1px solid #DDD\"> </hr>\n",
    "\n",
    "### <span style=\"color:#15317E\">2. Executing exciting and parsing output</span>\n",
    "\n",
    "To execute the **`exciting`** binary within Python and overcome certain limitations, the `BinaryRunner` class is used. This class enables the execution of any binary, such as the **`exciting`** binary, from within Python. It requires several parameters, including the path to the binary (including the binary's name), a run command, the number of OpenMP (OMP) threads, a maximum time limit in seconds and an optional directory to run the binary in.\n",
    "\n",
    "**<span style=\"color:firebrick\">Note</span>**:\n",
    "\n",
    " - An empty run command (i. e. `\"\"`) is used for serial or OMP execution.\n",
    " - If you wish to use MPI, you have to use a run command like `\"mpirun -np 4\"`.\n",
    " - The `BinaryRunner` class allows capturing error messages that are printed to the terminal. This is necessary for automatic error handling."
   ]
  },
  {
   "cell_type": "code",
   "execution_count": 10,
   "id": "941ac0e1",
   "metadata": {},
   "outputs": [],
   "source": [
    "from excitingtools.runner.runner import BinaryRunner\n",
    "\n",
    "runner1 = BinaryRunner(path_to_binary, run_cmd=\"\", omp_num_threads=4, time_out=500, \n",
    "                       directory=groundstate_dir.as_posix())"
   ]
  },
  {
   "cell_type": "markdown",
   "id": "67196d97",
   "metadata": {},
   "source": [
    "To run the binary and check the results, the `run()` method is used. This method returns an object containing the output and error messages. This allows looking at any messages that would have been printed to the terminal and determine the run success from them."
   ]
  },
  {
   "cell_type": "code",
   "execution_count": 11,
   "id": "43d772b3",
   "metadata": {},
   "outputs": [
    {
     "data": {
      "text/plain": [
       "{'stdout': b'',\n",
       " 'stderr': b'',\n",
       " 'return_code': 0,\n",
       " 'success': True,\n",
       " 'process_time': 15.649731874465942}"
      ]
     },
     "execution_count": 11,
     "metadata": {},
     "output_type": "execute_result"
    }
   ],
   "source": [
    "run_results = runner1.run()\n",
    "vars(run_results)"
   ]
  },
  {
   "cell_type": "markdown",
   "id": "4c54d189",
   "metadata": {},
   "source": [
    "After the execution of **`exciting`** using the `BinaryRunner` class, inspection of the run directory is possible. This verifies that all output files have been generated successfully."
   ]
  },
  {
   "cell_type": "code",
   "execution_count": 12,
   "id": "f4c74bce",
   "metadata": {
    "scrolled": true
   },
   "outputs": [
    {
     "data": {
      "text/plain": [
       "['BONDLENGTH.OUT',\n",
       " 'EFERMI.OUT',\n",
       " 'EIGVAL.OUT',\n",
       " 'EQATOMS.OUT',\n",
       " 'EVALCORE.OUT',\n",
       " 'EVALFV.OUT',\n",
       " 'EVALSV.OUT',\n",
       " 'EVECFV.OUT',\n",
       " 'EVECSV.OUT',\n",
       " 'F_ini.xml',\n",
       " 'F_scf.xml',\n",
       " 'INFO.OUT',\n",
       " 'KPOINTS.OUT',\n",
       " 'LATTICE.OUT',\n",
       " 'LINENGY.OUT',\n",
       " 'Li_ini.xml',\n",
       " 'Li_scf.xml',\n",
       " 'MOMENT.OUT',\n",
       " 'OCCSV.OUT',\n",
       " 'RMSDVEFF.OUT',\n",
       " 'STATE.OUT',\n",
       " 'SYMCRYS.OUT',\n",
       " 'SYMGENR.OUT',\n",
       " 'SYMINV.OUT',\n",
       " 'SYMLAT.OUT',\n",
       " 'SYMMULT.OUT',\n",
       " 'SYMSITE.OUT',\n",
       " 'SYMT2.OUT',\n",
       " 'TOTENERGY.OUT',\n",
       " 'atoms.xml',\n",
       " 'eigval.xml',\n",
       " 'evalcore.xml',\n",
       " 'geometry.xml',\n",
       " 'info.xml',\n",
       " 'input.xml']"
      ]
     },
     "execution_count": 12,
     "metadata": {},
     "output_type": "execute_result"
    }
   ],
   "source": [
    "sorted(list(x.name for x in groundstate_dir.iterdir()))"
   ]
  },
  {
   "cell_type": "markdown",
   "id": "edc88a34",
   "metadata": {},
   "source": [
    "Now we will look at the output files of **`exciting`**.\n",
    "\n",
    "To extract data from output files generated by **`exciting`**, you can utilize the parsers provided by the **`excitingtools`** library. These parsers offer a common API and allow to retrieve information from specific output files. For instance, let's consider the eigenvalues stored in the `eigval.xml` file. By using the corresponding parser, you can obtain a dictionary that contains all the relevant information from the file. Navigation through this dictionary is possible, using standard Python indexing (`[]`) to extract the desired data."
   ]
  },
  {
   "cell_type": "code",
   "execution_count": 13,
   "id": "340dfac5",
   "metadata": {
    "scrolled": true
   },
   "outputs": [
    {
     "data": {
      "text/plain": [
       "{'kpt': {'1': {'ik': 1,\n",
       "   'vkl': '0.000000000000e0 0.000000000000e0 0.000000000000e0',\n",
       "   'state': {'1': {'ist': 1, 'eigenvalue': -1.309740537792, 'occupancy': 1.0},\n",
       "    '2': {'ist': 2, 'eigenvalue': -0.627684436542, 'occupancy': 1.0},\n",
       "    '3': {'ist': 3, 'eigenvalue': 0.2355068635954, 'occupancy': 1.0},\n",
       "    '4': {'ist': 4, 'eigenvalue': 0.2355068635954, 'occupancy': 1.0},\n",
       "    '5': {'ist': 5, 'eigenvalue': 0.2355068635954, 'occupancy': 1.0},\n",
       "    '6': {'ist': 6, 'eigenvalue': 0.9280823365065, 'occupancy': 0.0},\n",
       "    '7': {'ist': 7, 'eigenvalue': 1.129409101746, 'occupancy': 0.0},\n",
       "    '8': {'ist': 8, 'eigenvalue': 1.129409101746, 'occupancy': 0.0},\n",
       "    '9': {'ist': 9, 'eigenvalue': 1.432119587291, 'occupancy': 0.0},\n",
       "    '10': {'ist': 10, 'eigenvalue': 1.432119587291, 'occupancy': 0.0},\n",
       "    '11': {'ist': 11, 'eigenvalue': 1.432119587291, 'occupancy': 0.0},\n",
       "    '12': {'ist': 12, 'eigenvalue': -1.309740537792, 'occupancy': 1.0},\n",
       "    '13': {'ist': 13, 'eigenvalue': -0.627684436542, 'occupancy': 1.0},\n",
       "    '14': {'ist': 14, 'eigenvalue': 0.2355068635954, 'occupancy': 1.0},\n",
       "    '15': {'ist': 15, 'eigenvalue': 0.2355068635954, 'occupancy': 1.0},\n",
       "    '16': {'ist': 16, 'eigenvalue': 0.2355068635954, 'occupancy': 1.0},\n",
       "    '17': {'ist': 17, 'eigenvalue': 0.9280823365065, 'occupancy': 0.0},\n",
       "    '18': {'ist': 18, 'eigenvalue': 1.129409101746, 'occupancy': 0.0},\n",
       "    '19': {'ist': 19, 'eigenvalue': 1.129409101746, 'occupancy': 0.0},\n",
       "    '20': {'ist': 20, 'eigenvalue': 1.432119587291, 'occupancy': 0.0},\n",
       "    '21': {'ist': 21, 'eigenvalue': 1.432119587291, 'occupancy': 0.0},\n",
       "    '22': {'ist': 22, 'eigenvalue': 1.432119587291, 'occupancy': 0.0}}},\n",
       "  '2': {'ik': 2,\n",
       "   'vkl': '2.500000000000e-1 0.000000000000e0 0.000000000000e0',\n",
       "   'state': {'1': {'ist': 1, 'eigenvalue': -1.297702809177, 'occupancy': 1.0},\n",
       "    '2': {'ist': 2, 'eigenvalue': -0.6177445227338, 'occupancy': 1.0},\n",
       "    '3': {'ist': 3, 'eigenvalue': 0.09912937038729, 'occupancy': 1.0},\n",
       "    '4': {'ist': 4, 'eigenvalue': 0.2538392659835, 'occupancy': 1.0},\n",
       "    '5': {'ist': 5, 'eigenvalue': 0.2538392659835, 'occupancy': 1.0},\n",
       "    '6': {'ist': 6, 'eigenvalue': 0.8790376869416, 'occupancy': 0.0},\n",
       "    '7': {'ist': 7, 'eigenvalue': 1.155754542061, 'occupancy': 0.0},\n",
       "    '8': {'ist': 8, 'eigenvalue': 1.210382208382, 'occupancy': 0.0},\n",
       "    '9': {'ist': 9, 'eigenvalue': 1.369845027247, 'occupancy': 0.0},\n",
       "    '10': {'ist': 10, 'eigenvalue': 1.369845027247, 'occupancy': 0.0},\n",
       "    '11': {'ist': 11, 'eigenvalue': 1.748086738902, 'occupancy': 0.0},\n",
       "    '12': {'ist': 12, 'eigenvalue': -1.297702809177, 'occupancy': 1.0},\n",
       "    '13': {'ist': 13, 'eigenvalue': -0.6177445227338, 'occupancy': 1.0},\n",
       "    '14': {'ist': 14, 'eigenvalue': 0.09912937038729, 'occupancy': 1.0},\n",
       "    '15': {'ist': 15, 'eigenvalue': 0.2538392659835, 'occupancy': 1.0},\n",
       "    '16': {'ist': 16, 'eigenvalue': 0.2538392659835, 'occupancy': 1.0},\n",
       "    '17': {'ist': 17, 'eigenvalue': 0.8790376869416, 'occupancy': 0.0},\n",
       "    '18': {'ist': 18, 'eigenvalue': 1.155754542061, 'occupancy': 0.0},\n",
       "    '19': {'ist': 19, 'eigenvalue': 1.210382208382, 'occupancy': 0.0},\n",
       "    '20': {'ist': 20, 'eigenvalue': 1.369845027247, 'occupancy': 0.0},\n",
       "    '21': {'ist': 21, 'eigenvalue': 1.369845027247, 'occupancy': 0.0},\n",
       "    '22': {'ist': 22, 'eigenvalue': 1.748086738902, 'occupancy': 0.0}}},\n",
       "  '3': {'ik': 3,\n",
       "   'vkl': '5.000000000000e-1 0.000000000000e0 0.000000000000e0',\n",
       "   'state': {'1': {'ist': 1, 'eigenvalue': -1.285373929607, 'occupancy': 1.0},\n",
       "    '2': {'ist': 2, 'eigenvalue': -0.6059121411271, 'occupancy': 1.0},\n",
       "    '3': {'ist': 3, 'eigenvalue': -0.007145360126765, 'occupancy': 1.0},\n",
       "    '4': {'ist': 4, 'eigenvalue': 0.2753201824921, 'occupancy': 1.0},\n",
       "    '5': {'ist': 5, 'eigenvalue': 0.2753201824921, 'occupancy': 1.0},\n",
       "    '6': {'ist': 6, 'eigenvalue': 0.8110285412416, 'occupancy': 0.0},\n",
       "    '7': {'ist': 7, 'eigenvalue': 1.206420107304, 'occupancy': 0.0},\n",
       "    '8': {'ist': 8, 'eigenvalue': 1.295766792684, 'occupancy': 0.0},\n",
       "    '9': {'ist': 9, 'eigenvalue': 1.295766792684, 'occupancy': 0.0},\n",
       "    '10': {'ist': 10, 'eigenvalue': 1.41354189526, 'occupancy': 0.0},\n",
       "    '11': {'ist': 11, 'eigenvalue': 1.526207358598, 'occupancy': 0.0},\n",
       "    '12': {'ist': 12, 'eigenvalue': -1.285373929607, 'occupancy': 1.0},\n",
       "    '13': {'ist': 13, 'eigenvalue': -0.6059121411271, 'occupancy': 1.0},\n",
       "    '14': {'ist': 14, 'eigenvalue': -0.007145360126765, 'occupancy': 1.0},\n",
       "    '15': {'ist': 15, 'eigenvalue': 0.2753201824921, 'occupancy': 1.0},\n",
       "    '16': {'ist': 16, 'eigenvalue': 0.2753201824921, 'occupancy': 1.0},\n",
       "    '17': {'ist': 17, 'eigenvalue': 0.8110285412416, 'occupancy': 0.0},\n",
       "    '18': {'ist': 18, 'eigenvalue': 1.206420107304, 'occupancy': 0.0},\n",
       "    '19': {'ist': 19, 'eigenvalue': 1.295766792684, 'occupancy': 0.0},\n",
       "    '20': {'ist': 20, 'eigenvalue': 1.295766792684, 'occupancy': 0.0},\n",
       "    '21': {'ist': 21, 'eigenvalue': 1.41354189526, 'occupancy': 0.0},\n",
       "    '22': {'ist': 22, 'eigenvalue': 1.526207358598, 'occupancy': 0.0}}},\n",
       "  '4': {'ik': 4,\n",
       "   'vkl': '2.500000000000e-1 2.500000000000e-1 0.000000000000e0',\n",
       "   'state': {'1': {'ist': 1, 'eigenvalue': -1.289650523971, 'occupancy': 1.0},\n",
       "    '2': {'ist': 2, 'eigenvalue': -0.5948625494315, 'occupancy': 1.0},\n",
       "    '3': {'ist': 3, 'eigenvalue': 0.08658713709242, 'occupancy': 1.0},\n",
       "    '4': {'ist': 4, 'eigenvalue': 0.1276200059125, 'occupancy': 1.0},\n",
       "    '5': {'ist': 5, 'eigenvalue': 0.268424345113, 'occupancy': 1.0},\n",
       "    '6': {'ist': 6, 'eigenvalue': 0.9332604460109, 'occupancy': 0.0},\n",
       "    '7': {'ist': 7, 'eigenvalue': 1.08461106959, 'occupancy': 0.0},\n",
       "    '8': {'ist': 8, 'eigenvalue': 1.134401029575, 'occupancy': 0.0},\n",
       "    '9': {'ist': 9, 'eigenvalue': 1.381872815766, 'occupancy': 0.0},\n",
       "    '10': {'ist': 10, 'eigenvalue': 1.483711484553, 'occupancy': 0.0},\n",
       "    '11': {'ist': 11, 'eigenvalue': 1.853335399543, 'occupancy': 0.0},\n",
       "    '12': {'ist': 12, 'eigenvalue': -1.289650523971, 'occupancy': 1.0},\n",
       "    '13': {'ist': 13, 'eigenvalue': -0.5948625494315, 'occupancy': 1.0},\n",
       "    '14': {'ist': 14, 'eigenvalue': 0.08658713709242, 'occupancy': 1.0},\n",
       "    '15': {'ist': 15, 'eigenvalue': 0.1276200059125, 'occupancy': 1.0},\n",
       "    '16': {'ist': 16, 'eigenvalue': 0.268424345113, 'occupancy': 1.0},\n",
       "    '17': {'ist': 17, 'eigenvalue': 0.9332604460109, 'occupancy': 0.0},\n",
       "    '18': {'ist': 18, 'eigenvalue': 1.08461106959, 'occupancy': 0.0},\n",
       "    '19': {'ist': 19, 'eigenvalue': 1.134401029575, 'occupancy': 0.0},\n",
       "    '20': {'ist': 20, 'eigenvalue': 1.381872815766, 'occupancy': 0.0},\n",
       "    '21': {'ist': 21, 'eigenvalue': 1.483711484553, 'occupancy': 0.0},\n",
       "    '22': {'ist': 22, 'eigenvalue': 1.853335399543, 'occupancy': 0.0}}},\n",
       "  '5': {'ik': 5,\n",
       "   'vkl': '5.000000000000e-1 2.500000000000e-1 0.000000000000e0',\n",
       "   'state': {'1': {'ist': 1, 'eigenvalue': -1.279836254711, 'occupancy': 1.0},\n",
       "    '2': {'ist': 2, 'eigenvalue': -0.5663617378671, 'occupancy': 1.0},\n",
       "    '3': {'ist': 3, 'eigenvalue': -0.01178113489625, 'occupancy': 1.0},\n",
       "    '4': {'ist': 4, 'eigenvalue': 0.1180068948316, 'occupancy': 1.0},\n",
       "    '5': {'ist': 5, 'eigenvalue': 0.2848587821819, 'occupancy': 1.0},\n",
       "    '6': {'ist': 6, 'eigenvalue': 0.9241695701764, 'occupancy': 0.0},\n",
       "    '7': {'ist': 7, 'eigenvalue': 1.048601208032, 'occupancy': 0.0},\n",
       "    '8': {'ist': 8, 'eigenvalue': 1.12981057953, 'occupancy': 0.0},\n",
       "    '9': {'ist': 9, 'eigenvalue': 1.372066152136, 'occupancy': 0.0},\n",
       "    '10': {'ist': 10, 'eigenvalue': 1.445584844012, 'occupancy': 0.0},\n",
       "    '11': {'ist': 11, 'eigenvalue': 1.856714691698, 'occupancy': 0.0},\n",
       "    '12': {'ist': 12, 'eigenvalue': -1.279836254711, 'occupancy': 1.0},\n",
       "    '13': {'ist': 13, 'eigenvalue': -0.5663617378671, 'occupancy': 1.0},\n",
       "    '14': {'ist': 14, 'eigenvalue': -0.01178113489625, 'occupancy': 1.0},\n",
       "    '15': {'ist': 15, 'eigenvalue': 0.1180068948316, 'occupancy': 1.0},\n",
       "    '16': {'ist': 16, 'eigenvalue': 0.2848587821819, 'occupancy': 1.0},\n",
       "    '17': {'ist': 17, 'eigenvalue': 0.9241695701764, 'occupancy': 0.0},\n",
       "    '18': {'ist': 18, 'eigenvalue': 1.048601208032, 'occupancy': 0.0},\n",
       "    '19': {'ist': 19, 'eigenvalue': 1.12981057953, 'occupancy': 0.0},\n",
       "    '20': {'ist': 20, 'eigenvalue': 1.372066152136, 'occupancy': 0.0},\n",
       "    '21': {'ist': 21, 'eigenvalue': 1.445584844012, 'occupancy': 0.0},\n",
       "    '22': {'ist': 22, 'eigenvalue': 1.856714691698, 'occupancy': 0.0}}},\n",
       "  '6': {'ik': 6,\n",
       "   'vkl': '5.000000000000e-1 5.000000000000e-1 0.000000000000e0',\n",
       "   'state': {'1': {'ist': 1, 'eigenvalue': -1.272514018404, 'occupancy': 1.0},\n",
       "    '2': {'ist': 2, 'eigenvalue': -0.5143781831865, 'occupancy': 1.0},\n",
       "    '3': {'ist': 3, 'eigenvalue': -0.01811938309859, 'occupancy': 1.0},\n",
       "    '4': {'ist': 4, 'eigenvalue': -0.01811938309859, 'occupancy': 1.0},\n",
       "    '5': {'ist': 5, 'eigenvalue': 0.3002588791019, 'occupancy': 1.0},\n",
       "    '6': {'ist': 6, 'eigenvalue': 0.9639714943823, 'occupancy': 0.0},\n",
       "    '7': {'ist': 7, 'eigenvalue': 1.047485581592, 'occupancy': 0.0},\n",
       "    '8': {'ist': 8, 'eigenvalue': 1.047485581592, 'occupancy': 0.0},\n",
       "    '9': {'ist': 9, 'eigenvalue': 1.345992398879, 'occupancy': 0.0},\n",
       "    '10': {'ist': 10, 'eigenvalue': 1.554998490648, 'occupancy': 0.0},\n",
       "    '11': {'ist': 11, 'eigenvalue': 1.718735980674, 'occupancy': 0.0},\n",
       "    '12': {'ist': 12, 'eigenvalue': -1.272514018404, 'occupancy': 1.0},\n",
       "    '13': {'ist': 13, 'eigenvalue': -0.5143781831865, 'occupancy': 1.0},\n",
       "    '14': {'ist': 14, 'eigenvalue': -0.01811938309859, 'occupancy': 1.0},\n",
       "    '15': {'ist': 15, 'eigenvalue': -0.01811938309859, 'occupancy': 1.0},\n",
       "    '16': {'ist': 16, 'eigenvalue': 0.3002588791019, 'occupancy': 1.0},\n",
       "    '17': {'ist': 17, 'eigenvalue': 0.9639714943823, 'occupancy': 0.0},\n",
       "    '18': {'ist': 18, 'eigenvalue': 1.047485581592, 'occupancy': 0.0},\n",
       "    '19': {'ist': 19, 'eigenvalue': 1.047485581592, 'occupancy': 0.0},\n",
       "    '20': {'ist': 20, 'eigenvalue': 1.345992398879, 'occupancy': 0.0},\n",
       "    '21': {'ist': 21, 'eigenvalue': 1.554998490648, 'occupancy': 0.0},\n",
       "    '22': {'ist': 22, 'eigenvalue': 1.718735980674, 'occupancy': 0.0}}},\n",
       "  '7': {'ik': 7,\n",
       "   'vkl': '2.500000000000e-1 2.500000000000e-1 2.500000000000e-1',\n",
       "   'state': {'1': {'ist': 1, 'eigenvalue': -1.280745873025, 'occupancy': 1.0},\n",
       "    '2': {'ist': 2, 'eigenvalue': -0.5657032231801, 'occupancy': 1.0},\n",
       "    '3': {'ist': 3, 'eigenvalue': 0.1225416805207, 'occupancy': 1.0},\n",
       "    '4': {'ist': 4, 'eigenvalue': 0.1225416805207, 'occupancy': 1.0},\n",
       "    '5': {'ist': 5, 'eigenvalue': 0.1370042786032, 'occupancy': 1.0},\n",
       "    '6': {'ist': 6, 'eigenvalue': 0.9951711162094, 'occupancy': 0.0},\n",
       "    '7': {'ist': 7, 'eigenvalue': 0.9951711162094, 'occupancy': 0.0},\n",
       "    '8': {'ist': 8, 'eigenvalue': 0.9994440691809, 'occupancy': 0.0},\n",
       "    '9': {'ist': 9, 'eigenvalue': 1.43323744457, 'occupancy': 0.0},\n",
       "    '10': {'ist': 10, 'eigenvalue': 1.614405144354, 'occupancy': 0.0},\n",
       "    '11': {'ist': 11, 'eigenvalue': 1.614405144354, 'occupancy': 0.0},\n",
       "    '12': {'ist': 12, 'eigenvalue': -1.280745873025, 'occupancy': 1.0},\n",
       "    '13': {'ist': 13, 'eigenvalue': -0.5657032231801, 'occupancy': 1.0},\n",
       "    '14': {'ist': 14, 'eigenvalue': 0.1225416805207, 'occupancy': 1.0},\n",
       "    '15': {'ist': 15, 'eigenvalue': 0.1225416805207, 'occupancy': 1.0},\n",
       "    '16': {'ist': 16, 'eigenvalue': 0.1370042786032, 'occupancy': 1.0},\n",
       "    '17': {'ist': 17, 'eigenvalue': 0.9951711162094, 'occupancy': 0.0},\n",
       "    '18': {'ist': 18, 'eigenvalue': 0.9951711162094, 'occupancy': 0.0},\n",
       "    '19': {'ist': 19, 'eigenvalue': 0.9994440691809, 'occupancy': 0.0},\n",
       "    '20': {'ist': 20, 'eigenvalue': 1.43323744457, 'occupancy': 0.0},\n",
       "    '21': {'ist': 21, 'eigenvalue': 1.614405144354, 'occupancy': 0.0},\n",
       "    '22': {'ist': 22, 'eigenvalue': 1.614405144354, 'occupancy': 0.0}}},\n",
       "  '8': {'ik': 8,\n",
       "   'vkl': '5.000000000000e-1 2.500000000000e-1 2.500000000000e-1',\n",
       "   'state': {'1': {'ist': 1, 'eigenvalue': -1.270171898265, 'occupancy': 1.0},\n",
       "    '2': {'ist': 2, 'eigenvalue': -0.5290422871036, 'occupancy': 1.0},\n",
       "    '3': {'ist': 3, 'eigenvalue': 0.007546064466075, 'occupancy': 1.0},\n",
       "    '4': {'ist': 4, 'eigenvalue': 0.1358196972108, 'occupancy': 1.0},\n",
       "    '5': {'ist': 5, 'eigenvalue': 0.1688735293526, 'occupancy': 1.0},\n",
       "    '6': {'ist': 6, 'eigenvalue': 0.8912315298716, 'occupancy': 0.0},\n",
       "    '7': {'ist': 7, 'eigenvalue': 0.922964579198, 'occupancy': 0.0},\n",
       "    '8': {'ist': 8, 'eigenvalue': 1.009329598317, 'occupancy': 0.0},\n",
       "    '9': {'ist': 9, 'eigenvalue': 1.530229281657, 'occupancy': 0.0},\n",
       "    '10': {'ist': 10, 'eigenvalue': 1.571750984559, 'occupancy': 0.0},\n",
       "    '11': {'ist': 11, 'eigenvalue': 1.601588771584, 'occupancy': 0.0},\n",
       "    '12': {'ist': 12, 'eigenvalue': -1.270171898265, 'occupancy': 1.0},\n",
       "    '13': {'ist': 13, 'eigenvalue': -0.5290422871036, 'occupancy': 1.0},\n",
       "    '14': {'ist': 14, 'eigenvalue': 0.007546064466075, 'occupancy': 1.0},\n",
       "    '15': {'ist': 15, 'eigenvalue': 0.1358196972108, 'occupancy': 1.0},\n",
       "    '16': {'ist': 16, 'eigenvalue': 0.1688735293526, 'occupancy': 1.0},\n",
       "    '17': {'ist': 17, 'eigenvalue': 0.8912315298716, 'occupancy': 0.0},\n",
       "    '18': {'ist': 18, 'eigenvalue': 0.922964579198, 'occupancy': 0.0},\n",
       "    '19': {'ist': 19, 'eigenvalue': 1.009329598317, 'occupancy': 0.0},\n",
       "    '20': {'ist': 20, 'eigenvalue': 1.530229281657, 'occupancy': 0.0},\n",
       "    '21': {'ist': 21, 'eigenvalue': 1.571750984559, 'occupancy': 0.0},\n",
       "    '22': {'ist': 22, 'eigenvalue': 1.601588771584, 'occupancy': 0.0}}},\n",
       "  '9': {'ik': 9,\n",
       "   'vkl': '5.000000000000e-1 5.000000000000e-1 2.500000000000e-1',\n",
       "   'state': {'1': {'ist': 1, 'eigenvalue': -1.264620569601, 'occupancy': 1.0},\n",
       "    '2': {'ist': 2, 'eigenvalue': -0.4815350542096, 'occupancy': 1.0},\n",
       "    '3': {'ist': 3, 'eigenvalue': 0.02507259400164, 'occupancy': 1.0},\n",
       "    '4': {'ist': 4, 'eigenvalue': 0.02507259400164, 'occupancy': 1.0},\n",
       "    '5': {'ist': 5, 'eigenvalue': 0.1879032947287, 'occupancy': 1.0},\n",
       "    '6': {'ist': 6, 'eigenvalue': 0.8226696375604, 'occupancy': 0.0},\n",
       "    '7': {'ist': 7, 'eigenvalue': 0.876754411712, 'occupancy': 0.0},\n",
       "    '8': {'ist': 8, 'eigenvalue': 0.876754411712, 'occupancy': 0.0},\n",
       "    '9': {'ist': 9, 'eigenvalue': 1.527258976209, 'occupancy': 0.0},\n",
       "    '10': {'ist': 10, 'eigenvalue': 1.704828424007, 'occupancy': 0.0},\n",
       "    '11': {'ist': 11, 'eigenvalue': 1.704828424007, 'occupancy': 0.0},\n",
       "    '12': {'ist': 12, 'eigenvalue': -1.264620569601, 'occupancy': 1.0},\n",
       "    '13': {'ist': 13, 'eigenvalue': -0.4815350542096, 'occupancy': 1.0},\n",
       "    '14': {'ist': 14, 'eigenvalue': 0.02507259400164, 'occupancy': 1.0},\n",
       "    '15': {'ist': 15, 'eigenvalue': 0.02507259400164, 'occupancy': 1.0},\n",
       "    '16': {'ist': 16, 'eigenvalue': 0.1879032947287, 'occupancy': 1.0},\n",
       "    '17': {'ist': 17, 'eigenvalue': 0.8226696375604, 'occupancy': 0.0},\n",
       "    '18': {'ist': 18, 'eigenvalue': 0.876754411712, 'occupancy': 0.0},\n",
       "    '19': {'ist': 19, 'eigenvalue': 0.876754411712, 'occupancy': 0.0},\n",
       "    '20': {'ist': 20, 'eigenvalue': 1.527258976209, 'occupancy': 0.0},\n",
       "    '21': {'ist': 21, 'eigenvalue': 1.704828424007, 'occupancy': 0.0},\n",
       "    '22': {'ist': 22, 'eigenvalue': 1.704828424007, 'occupancy': 0.0}}},\n",
       "  '10': {'ik': 10,\n",
       "   'vkl': '5.000000000000e-1 5.000000000000e-1 5.000000000000e-1',\n",
       "   'state': {'1': {'ist': 1, 'eigenvalue': -1.262970560099, 'occupancy': 1.0},\n",
       "    '2': {'ist': 2, 'eigenvalue': -0.441194927778, 'occupancy': 1.0},\n",
       "    '3': {'ist': 3, 'eigenvalue': 0.07668632433245, 'occupancy': 1.0},\n",
       "    '4': {'ist': 4, 'eigenvalue': 0.07668632433245, 'occupancy': 1.0},\n",
       "    '5': {'ist': 5, 'eigenvalue': 0.07668632433245, 'occupancy': 1.0},\n",
       "    '6': {'ist': 6, 'eigenvalue': 0.7188037062442, 'occupancy': 0.0},\n",
       "    '7': {'ist': 7, 'eigenvalue': 0.7188037062442, 'occupancy': 0.0},\n",
       "    '8': {'ist': 8, 'eigenvalue': 0.7188037062442, 'occupancy': 0.0},\n",
       "    '9': {'ist': 9, 'eigenvalue': 1.708775811113, 'occupancy': 0.0},\n",
       "    '10': {'ist': 10, 'eigenvalue': 1.708775811113, 'occupancy': 0.0},\n",
       "    '11': {'ist': 11, 'eigenvalue': 1.708775811113, 'occupancy': 0.0},\n",
       "    '12': {'ist': 12, 'eigenvalue': -1.262970560099, 'occupancy': 1.0},\n",
       "    '13': {'ist': 13, 'eigenvalue': -0.441194927778, 'occupancy': 1.0},\n",
       "    '14': {'ist': 14, 'eigenvalue': 0.07668632433245, 'occupancy': 1.0},\n",
       "    '15': {'ist': 15, 'eigenvalue': 0.07668632433245, 'occupancy': 1.0},\n",
       "    '16': {'ist': 16, 'eigenvalue': 0.07668632433245, 'occupancy': 1.0},\n",
       "    '17': {'ist': 17, 'eigenvalue': 0.7188037062442, 'occupancy': 0.0},\n",
       "    '18': {'ist': 18, 'eigenvalue': 0.7188037062442, 'occupancy': 0.0},\n",
       "    '19': {'ist': 19, 'eigenvalue': 0.7188037062442, 'occupancy': 0.0},\n",
       "    '20': {'ist': 20, 'eigenvalue': 1.708775811113, 'occupancy': 0.0},\n",
       "    '21': {'ist': 21, 'eigenvalue': 1.708775811113, 'occupancy': 0.0},\n",
       "    '22': {'ist': 22, 'eigenvalue': 1.708775811113, 'occupancy': 0.0}}}}}"
      ]
     },
     "execution_count": 13,
     "metadata": {},
     "output_type": "execute_result"
    }
   ],
   "source": [
    "from excitingtools import parser_chooser\n",
    "\n",
    "eigval_dict = parser_chooser((groundstate_dir / \"eigval.xml\").as_posix())\n",
    "eigval_dict"
   ]
  },
  {
   "cell_type": "code",
   "execution_count": 14,
   "id": "870501b6",
   "metadata": {},
   "outputs": [
    {
     "data": {
      "text/plain": [
       "-0.627684436542"
      ]
     },
     "execution_count": 14,
     "metadata": {},
     "output_type": "execute_result"
    }
   ],
   "source": [
    "eigval_dict[\"kpt\"][\"1\"][\"state\"][\"2\"][\"eigenvalue\"]"
   ]
  },
  {
   "cell_type": "markdown",
   "id": "eade62d4",
   "metadata": {},
   "source": [
    "**<span style=\"color:firebrick\">Exercise</span>**: Try to parse the file `evalcore.xml` to get information about the core states and core state energies.\n",
    "\n",
    "**<span style=\"color:firebrick\">Exercise</span>**: Change the number of k-points used in the ground-state calculation and check if this actually changes the parsed result(s)."
   ]
  },
  {
   "cell_type": "markdown",
   "id": "38a6069b",
   "metadata": {},
   "source": [
    "<a id='3'></a>\n",
    "<hr style=\"border:1px solid #DDD\"> </hr>\n",
    "\n",
    "### <span style=\"color:#15317E\">3. How to use ASE atoms for input generation</span>\n",
    "\n",
    "The atoms object from ASE can be directly employed for <code><span style=\"color:green\">structure</span></code> definition. Here, the utilization of the `bulk()` function is demonstrated to generate a silicon crystal. This can be converted to an `ExcitingStructure` object and inserted into the full input class. To present the outcome, the final XML string is displayed (which would normally be written to the input file).\n",
    "\n",
    "**<span style=\"color:firebrick\">Note</span>**: As illustrated in this example, the <code><span style=\"color:green\">groundstate</span></code> can be specified as a dictionary. Both options, utilizing a dictionary or the corresponding Python class, are equally valid to define any input."
   ]
  },
  {
   "cell_type": "code",
   "execution_count": 15,
   "id": "4c16ccb5",
   "metadata": {
    "scrolled": true
   },
   "outputs": [
    {
     "name": "stdout",
     "output_type": "stream",
     "text": [
      "<?xml version=\"1.0\" ?>\n",
      "<input>\n",
      "\t<title>Use ASE</title>\n",
      "\t<structure speciespath=\"./\">\n",
      "\t\t<crystal>\n",
      "\t\t\t<basevect>0.0 5.130606428358965 5.130606428358965</basevect>\n",
      "\t\t\t<basevect>5.130606428358965 0.0 5.130606428358965</basevect>\n",
      "\t\t\t<basevect>5.130606428358965 5.130606428358965 0.0</basevect>\n",
      "\t\t</crystal>\n",
      "\t\t<species speciesfile=\"Si.xml\">\n",
      "\t\t\t<atom coord=\"0.0 0.0 0.0\"> </atom>\n",
      "\t\t\t<atom coord=\"0.25 0.25 0.25\"> </atom>\n",
      "\t\t</species>\n",
      "\t</structure>\n",
      "\t<groundstate ngridk=\"4 4 4\"> </groundstate>\n",
      "</input>\n",
      "\n"
     ]
    }
   ],
   "source": [
    "from ase.build import bulk\n",
    "\n",
    "si_ase_atoms = bulk(\"Si\")\n",
    "\n",
    "exciting_si = ExcitingStructure(si_ase_atoms)\n",
    "\n",
    "print(ExcitingInputXML(structure=exciting_si, groundstate={\"ngridk\": [4, 4, 4]}, title=\"Use ASE\").to_xml_str())"
   ]
  },
  {
   "cell_type": "markdown",
   "id": "7922bfb8",
   "metadata": {},
   "source": [
    "<a id='4'></a>\n",
    "<hr style=\"border:1px solid #DDD\"> </hr>\n",
    "\n",
    "### <span style=\"color:#15317E\">4. How to use an old input file for input generation</span>\n",
    "\n",
    "In this section, our goal is to reuse a previously created input file. It is very likely that you have used **`exciting`** without the assistance of **`excitingtools`** in the past. Now, you may find yourself in a situation where you wish to utilize this existing file and make only minor modifications. This can be achieved by leveraging the parsing capability of the `ExcitingInputXML` class. To accomplish this, invoke the `from_xml()` method and specify the path to the original file.\n",
    "\n",
    "In this tutorial, we will demonstrate the parsing process using the input file defined in the initial section of this tutorial:"
   ]
  },
  {
   "cell_type": "code",
   "execution_count": 16,
   "id": "eb1dab60",
   "metadata": {},
   "outputs": [],
   "source": [
    "new_input_xml = ExcitingInputXML.from_xml(input_file)"
   ]
  },
  {
   "cell_type": "markdown",
   "id": "2f0b670a",
   "metadata": {},
   "source": [
    "As an example, we can proceed modifying a few attributes and their corresponding values for educational purposes.\n",
    "\n",
    "Firstly, we set a new <code><span style=\"color:green\">title</span></code> by utilizing the `set_title()` method.\n",
    "\n",
    "Further adjustments can be made within the <code><span style=\"color:green\">structure</span></code> section. Here it is possible to modify the <code><span style=\"color:green\">structure</span></code> attributes or the muffin-tin radius for a particular species.\n",
    "\n",
    "In the <code><span style=\"color:green\">groundstate</span></code> section access to various attributes follows the hierarchical order observed in the XML file. In the provided example below, a new value is assigned to `ngridk`, while `spinorb` is set to `True`. Additionally, the value of `nempty` is increased by `1`, directly using the previously specified value. Notice that this last step will fail if no value was specified before.\n",
    "\n",
    "Moreover, defining new attributes, such as `lmaxapw`, is possible. Finally, attributes can be removed utilizing the `del` operator. In such cases, the default values defined within **`exciting`** will be utilized during execution, as for all attributes not explicitly specified.\n",
    "\n",
    "Subsequently, we can check the resulting modifications by printing the XML string representation of the input file."
   ]
  },
  {
   "cell_type": "code",
   "execution_count": 17,
   "id": "3b4c280a",
   "metadata": {
    "scrolled": true
   },
   "outputs": [
    {
     "name": "stdout",
     "output_type": "stream",
     "text": [
      "<?xml version=\"1.0\" ?>\n",
      "<input>\n",
      "\t<title>Few modifications</title>\n",
      "\t<structure\n",
      "\t   speciespath=\"/Users/fabianpeschel/code/development/exciting/species\"\n",
      "\t   autormt=\"false\"\n",
      "\t   epslat=\"1e-05\">\n",
      "\t\t<crystal scale=\"3.808\">\n",
      "\t\t\t<basevect>1.0 0.0 0.0</basevect>\n",
      "\t\t\t<basevect>0.0 1.0 0.0</basevect>\n",
      "\t\t\t<basevect>0.0 0.0 1.0</basevect>\n",
      "\t\t</crystal>\n",
      "\t\t<species speciesfile=\"F.xml\" rmt=\"1.5\">\n",
      "\t\t\t<atom coord=\"0.5 0.5 0.5\"> </atom>\n",
      "\t\t</species>\n",
      "\t\t<species rmt=\"1.1\" speciesfile=\"Li.xml\">\n",
      "\t\t\t<LDAplusU\n",
      "\t\t\t   J=\"2\"\n",
      "\t\t\t   U=\"3\"\n",
      "\t\t\t   l=\"1\">\n",
      "\t\t\t</LDAplusU>\n",
      "\t\t\t<atom coord=\"0 0 0\"> </atom>\n",
      "\t\t</species>\n",
      "\t</structure>\n",
      "\t<groundstate\n",
      "\t   ngridk=\"3 3 3\"\n",
      "\t   rgkmax=\"4.0\"\n",
      "\t   gmaxvr=\"16\"\n",
      "\t   nempty=\"6\"\n",
      "\t   do=\"fromscratch\"\n",
      "\t   xctype=\"GGA_PBE_SOL\"\n",
      "\t   epsengy=\"0.0001\"\n",
      "\t   epspot=\"0.0001\"\n",
      "\t   lmaxapw=\"8\">\n",
      "\t\t<spin spinorb=\"true\"> </spin>\n",
      "\t</groundstate>\n",
      "</input>\n",
      "\n"
     ]
    }
   ],
   "source": [
    "new_input_xml.set_title(\"Few modifications\")\n",
    "\n",
    "new_input_xml.structure.structure_attributes[\"epslat\"] = 1e-5\n",
    "new_input_xml.structure.species_properties[\"F\"].rmt = 1.5\n",
    "\n",
    "new_input_xml.groundstate.ngridk = [3, 3, 3]\n",
    "new_input_xml.groundstate.spin.spinorb = True\n",
    "new_input_xml.groundstate.nempty += 1\n",
    "\n",
    "new_input_xml.groundstate.lmaxapw = 8\n",
    "del new_input_xml.groundstate.epschg\n",
    "\n",
    "print(new_input_xml.to_xml_str())"
   ]
  },
  {
   "cell_type": "markdown",
   "id": "ed2ff31b",
   "metadata": {},
   "source": [
    "<a id='5'></a>\n",
    "<hr style=\"border:1px solid #DDD\"> </hr>\n",
    "\n",
    "### <span style=\"color:#15317E\">5. The first workflow: A loop</span>\n",
    "\n",
    "Up to this point, the tasks accomplished could have been performed with comparable effort directly within the terminal. However, we can use **`excitingtools`** to define workflows that are no longer manageable in the terminal.\n",
    "\n",
    "An example is the utilization of a loop. Considering a scenario where one desires testing various values for a specific parameter while keeping all other variables fixed. To initiate this process, we establish a directory to store our calculations. Then continue employing the input file defined at the beginning of this tutorial."
   ]
  },
  {
   "cell_type": "code",
   "execution_count": 18,
   "id": "57cb0bca",
   "metadata": {},
   "outputs": [],
   "source": [
    "test_dir = tutorial_top_dir / \"test_dir\"\n",
    "test_dir.mkdir(exist_ok=True)\n",
    "\n",
    "input_xml = ExcitingInputXML.from_xml(input_file)"
   ]
  },
  {
   "cell_type": "markdown",
   "id": "a82c4582-8e65-4547-a705-306c4487c021",
   "metadata": {},
   "source": [
    "Only for educational purposes and to keep the runtime reasonably low, the convergence thresholds are significantly decreased. Never do this in your real calculations!"
   ]
  },
  {
   "cell_type": "code",
   "execution_count": 19,
   "id": "1c5b39d2-b2c2-42a3-a6e2-3075255e1b3f",
   "metadata": {},
   "outputs": [],
   "source": [
    "input_xml.groundstate.epschg = 0.1\n",
    "input_xml.groundstate.epsengy = 0.1\n",
    "input_xml.groundstate.epspot = 0.1"
   ]
  },
  {
   "cell_type": "markdown",
   "id": "2bf5fa1f",
   "metadata": {},
   "source": [
    "Now it's about to establish the iterative loop, where we will vary the value of `rgkmax`. The loop will start at the value 3 and increment until reaching 7 in steps of 0.5. \n",
    "\n",
    "During each iteration, the following procedure will be executed:\n",
    " - A small print statement is displayed, providing the current iteration for visibility.\n",
    " - The run directory is defined and created, ensuring that existing files are not overwritten.\n",
    " - The <code><span style=\"color:green\">title</span></code> of the calculation is modified.\n",
    " - The specific value of `rgkmax` for the current iteration is set.\n",
    " - The updated input file is written.\n",
    " - The single calculation is executed, taking into account the appropriate run directory.\n",
    " - Finally, the result of the calculation, here only the total energy, is parsed and added to the results."
   ]
  },
  {
   "cell_type": "code",
   "execution_count": 20,
   "id": "40b40661",
   "metadata": {},
   "outputs": [
    {
     "name": "stdout",
     "output_type": "stream",
     "text": [
      "Now rgkmax = 3.0 ...\n",
      "Now rgkmax = 3.5 ...\n",
      "Now rgkmax = 4.0 ...\n",
      "Now rgkmax = 4.5 ...\n",
      "Now rgkmax = 5.0 ...\n",
      "Now rgkmax = 5.5 ...\n",
      "Now rgkmax = 6.0 ...\n",
      "Now rgkmax = 6.5 ...\n",
      "Now rgkmax = 7.0 ...\n"
     ]
    }
   ],
   "source": [
    "import numpy as np\n",
    "\n",
    "rgkmax_values = np.arange(3, 7.5, 0.5)\n",
    "total_energy = []\n",
    "for i in rgkmax_values:\n",
    "    print(f\"Now rgkmax = {i} ...\")\n",
    "    run_dir = test_dir / str(i)\n",
    "    run_dir.mkdir(exist_ok=True)\n",
    "    input_xml.set_title(f\"Test Case {i}\")\n",
    "    input_xml.groundstate.rgkmax = i\n",
    "    \n",
    "    input_xml.write(run_dir / \"input.xml\")\n",
    "    runner1.directory = run_dir\n",
    "    run_results = runner1.run()\n",
    "    \n",
    "    total_energy.append(np.genfromtxt(run_dir / \"TOTENERGY.OUT\")[-1])"
   ]
  },
  {
   "cell_type": "markdown",
   "id": "2f9c98f7",
   "metadata": {},
   "source": [
    "Visualization of the obtained results can be achieved employing common data visualization tools such as `matplotlib`."
   ]
  },
  {
   "cell_type": "code",
   "execution_count": 21,
   "id": "7315218f",
   "metadata": {
    "lines_to_next_cell": 2
   },
   "outputs": [
    {
     "data": {
      "image/png": "[encoded data removed]",
      "text/plain": [
       "<Figure size 700x500 with 1 Axes>"
      ]
     },
     "metadata": {},
     "output_type": "display_data"
    }
   ],
   "source": [
    "import matplotlib.pyplot as plt\n",
    "\n",
    "plt.figure(figsize=(7,5))\n",
    "plt.ylabel(\"TOTAL ENERGY [Ha]\", fontsize=16)\n",
    "plt.xlabel(\"RGKMAX\", fontsize=16)\n",
    "plt.xlim([2.9, 7.1])\n",
    "\n",
    "plt.xticks(fontsize=16)\n",
    "plt.yticks(fontsize=14)\n",
    "plt.tick_params(length=5,width=2)\n",
    "\n",
    "plt.rcParams[\"axes.linewidth\"] = 2\n",
    "\n",
    "plt.scatter(rgkmax_values, total_energy, s=150, marker=\"x\", linewidths=4)\n",
    "plt.plot(rgkmax_values, total_energy, linewidth=3, c=\"lightblue\", zorder=-1)\n",
    "\n",
    "plt.show()"
   ]
  },
  {
   "cell_type": "markdown",
   "id": "c7a95a7b",
   "metadata": {},
   "source": [
    "**<span style=\"color:firebrick\">Summary</span>**: With the assistance of **`excitingtools`**, we made a convergence analysis with alternating values for `rgkmax`. This is generally also possible for other parameters. Here the usage of **`excitingtools`** helps to prevent errors in advance, since there is no need to change input files manually. As a result, the productivity is enhanced by a significant margin, while the likelihood of errors is reduced.\n",
    "\n",
    "This procedure helps you in exploring and testing suitable parameter values for your seeked calculations. **`excitingtools`** makes it possible to define workflows and automatise your calculations. \n",
    "\n",
    "**<span style=\"color:firebrick\">Exercise</span>**: Perform a new convergence study on `rgkmax`. This time use a different value for `nempty`. Additionally, consider performing a convergence analysis on the values of `ngridk`.\n",
    "\n",
    "<hr style=\"border:2px solid #DDD\"> </hr>"
   ]
  }
 ],
 "metadata": {
  "jupytext": {
   "formats": "ipynb,md"
  },
  "jupytext_formats": "ipynb,md",
  "kernelspec": {
   "display_name": "excitingjupyter",
   "language": "python",
   "name": "excitingjupyter"
  },
  "language_info": {
   "codemirror_mode": {
    "name": "ipython",
    "version": 3
   },
   "file_extension": ".py",
   "mimetype": "text/x-python",
   "name": "python",
   "nbconvert_exporter": "python",
   "pygments_lexer": "ipython3",
   "version": "3.7.10"
  }
 },
 "nbformat": 4,
 "nbformat_minor": 5
}
